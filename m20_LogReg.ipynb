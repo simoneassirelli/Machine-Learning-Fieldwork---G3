{
 "cells": [
  {
   "cell_type": "markdown",
   "metadata": {},
   "source": [
    "# *Modeling Part: Logistic Regression*"
   ]
  },
  {
   "cell_type": "markdown",
   "metadata": {},
   "source": [
    "****************************************************************************************************************************************"
   ]
  },
  {
   "cell_type": "code",
   "execution_count": 8,
   "metadata": {},
   "outputs": [],
   "source": [
    "import pandas as pd\n",
    "import  numpy as np\n",
    "import seaborn as sns\n",
    "import matplotlib.pyplot as plt\n",
    "from sklearn.decomposition import PCA\n",
    "from sklearn.preprocessing import StandardScaler\n",
    "from sklearn.impute import SimpleImputer\n",
    "from sklearn.model_selection import train_test_split, GridSearchCV, StratifiedKFold\n",
    "from sklearn.metrics import classification_report, ConfusionMatrixDisplay\n",
    "from sklearn.svm import SVC\n",
    "from sklearn.linear_model import Perceptron\n",
    "from sklearn.neural_network import MLPClassifier\n",
    "from sklearn.tree import DecisionTreeClassifier\n",
    "from sklearn.naive_bayes import GaussianNB\n",
    "from sklearn.neighbors import KNeighborsClassifier\n",
    "from sklearn.ensemble import AdaBoostClassifier, RandomForestClassifier\n",
    "import xgboost as xgb\n",
    "from sklearn import metrics\n",
    "from sklearn.metrics import accuracy_score\n"
   ]
  },
  {
   "cell_type": "code",
   "execution_count": 9,
   "metadata": {},
   "outputs": [],
   "source": [
    "url_final = 'https://dl.dropboxusercontent.com/scl/fi/ep8vuirz46gkhw4a3yfw6/final_dataset.csv?rlkey=b9ji5utoaahhkmsoebup6q95q&dl=1'\n",
    "df_final = pd.read_csv(url_final)"
   ]
  },
  {
   "cell_type": "code",
   "execution_count": 10,
   "metadata": {},
   "outputs": [
    {
     "data": {
      "text/plain": [
       "(284700, 25)"
      ]
     },
     "execution_count": 10,
     "metadata": {},
     "output_type": "execute_result"
    }
   ],
   "source": [
    "df_final.shape"
   ]
  },
  {
   "cell_type": "code",
   "execution_count": 11,
   "metadata": {},
   "outputs": [
    {
     "data": {
      "text/html": [
       "<div>\n",
       "<style scoped>\n",
       "    .dataframe tbody tr th:only-of-type {\n",
       "        vertical-align: middle;\n",
       "    }\n",
       "\n",
       "    .dataframe tbody tr th {\n",
       "        vertical-align: top;\n",
       "    }\n",
       "\n",
       "    .dataframe thead th {\n",
       "        text-align: right;\n",
       "    }\n",
       "</style>\n",
       "<table border=\"1\" class=\"dataframe\">\n",
       "  <thead>\n",
       "    <tr style=\"text-align: right;\">\n",
       "      <th></th>\n",
       "      <th>COIL</th>\n",
       "      <th>MT_ADJUSTED</th>\n",
       "      <th>DATE</th>\n",
       "      <th>TIME_START_PROCESS</th>\n",
       "      <th>TEMP_Z1</th>\n",
       "      <th>PYRO_2_FRST_3_ZONE</th>\n",
       "      <th>SPEED_PROCESS</th>\n",
       "      <th>FILL_TIRO</th>\n",
       "      <th>LASER_FRN_1</th>\n",
       "      <th>ELET_FE2</th>\n",
       "      <th>...</th>\n",
       "      <th>LASER_FRN_9</th>\n",
       "      <th>DEC_FE2</th>\n",
       "      <th>DEC_FE3</th>\n",
       "      <th>LASER_FRN_8</th>\n",
       "      <th>SPZ1_R1_ASS</th>\n",
       "      <th>FRN_FURNACE_PRESSURE</th>\n",
       "      <th>AIR_CH4_1</th>\n",
       "      <th>FILL_FORZA</th>\n",
       "      <th>PRES_ZONA3_MEASURED</th>\n",
       "      <th>Has_Defect</th>\n",
       "    </tr>\n",
       "  </thead>\n",
       "  <tbody>\n",
       "    <tr>\n",
       "      <th>0</th>\n",
       "      <td>297712</td>\n",
       "      <td>0.0</td>\n",
       "      <td>2019-03-03</td>\n",
       "      <td>16:00:17.140</td>\n",
       "      <td>-0.626250</td>\n",
       "      <td>0.589075</td>\n",
       "      <td>-1.749652</td>\n",
       "      <td>-0.003943</td>\n",
       "      <td>1.130454</td>\n",
       "      <td>-0.024409</td>\n",
       "      <td>...</td>\n",
       "      <td>-0.921559</td>\n",
       "      <td>-0.019089</td>\n",
       "      <td>0.006705</td>\n",
       "      <td>-3.281993</td>\n",
       "      <td>-0.005561</td>\n",
       "      <td>3.480863</td>\n",
       "      <td>5.618876</td>\n",
       "      <td>-0.006274</td>\n",
       "      <td>-0.362265</td>\n",
       "      <td>0.0</td>\n",
       "    </tr>\n",
       "    <tr>\n",
       "      <th>1</th>\n",
       "      <td>297712</td>\n",
       "      <td>7.0</td>\n",
       "      <td>2019-03-03</td>\n",
       "      <td>16:01:02.140</td>\n",
       "      <td>-0.548642</td>\n",
       "      <td>0.310833</td>\n",
       "      <td>-1.423870</td>\n",
       "      <td>-0.003943</td>\n",
       "      <td>1.167358</td>\n",
       "      <td>-0.024409</td>\n",
       "      <td>...</td>\n",
       "      <td>-0.882066</td>\n",
       "      <td>-0.019089</td>\n",
       "      <td>0.006705</td>\n",
       "      <td>-3.286931</td>\n",
       "      <td>-0.005561</td>\n",
       "      <td>4.155847</td>\n",
       "      <td>5.606975</td>\n",
       "      <td>-0.006274</td>\n",
       "      <td>-3.121354</td>\n",
       "      <td>0.0</td>\n",
       "    </tr>\n",
       "    <tr>\n",
       "      <th>2</th>\n",
       "      <td>297712</td>\n",
       "      <td>14.0</td>\n",
       "      <td>2019-03-03</td>\n",
       "      <td>16:01:32.140</td>\n",
       "      <td>-0.489710</td>\n",
       "      <td>0.219359</td>\n",
       "      <td>-1.249998</td>\n",
       "      <td>-0.003943</td>\n",
       "      <td>1.169191</td>\n",
       "      <td>-0.024409</td>\n",
       "      <td>...</td>\n",
       "      <td>-0.895256</td>\n",
       "      <td>-0.019089</td>\n",
       "      <td>0.006705</td>\n",
       "      <td>-3.283506</td>\n",
       "      <td>-0.005561</td>\n",
       "      <td>3.724010</td>\n",
       "      <td>5.505825</td>\n",
       "      <td>-0.006274</td>\n",
       "      <td>-2.903597</td>\n",
       "      <td>0.0</td>\n",
       "    </tr>\n",
       "    <tr>\n",
       "      <th>3</th>\n",
       "      <td>297712</td>\n",
       "      <td>21.0</td>\n",
       "      <td>2019-03-03</td>\n",
       "      <td>16:01:47.080</td>\n",
       "      <td>-0.472777</td>\n",
       "      <td>0.560960</td>\n",
       "      <td>-1.250524</td>\n",
       "      <td>-2.503042</td>\n",
       "      <td>1.183099</td>\n",
       "      <td>-0.024409</td>\n",
       "      <td>...</td>\n",
       "      <td>-0.888345</td>\n",
       "      <td>-0.019089</td>\n",
       "      <td>0.006705</td>\n",
       "      <td>-3.239610</td>\n",
       "      <td>-0.005561</td>\n",
       "      <td>3.202527</td>\n",
       "      <td>5.599273</td>\n",
       "      <td>-1.168397</td>\n",
       "      <td>-2.357400</td>\n",
       "      <td>0.0</td>\n",
       "    </tr>\n",
       "    <tr>\n",
       "      <th>4</th>\n",
       "      <td>297712</td>\n",
       "      <td>28.0</td>\n",
       "      <td>2019-03-03</td>\n",
       "      <td>16:02:17.080</td>\n",
       "      <td>-0.457463</td>\n",
       "      <td>0.437551</td>\n",
       "      <td>-1.250053</td>\n",
       "      <td>-2.717672</td>\n",
       "      <td>1.189643</td>\n",
       "      <td>-2.331214</td>\n",
       "      <td>...</td>\n",
       "      <td>-0.887054</td>\n",
       "      <td>-2.294722</td>\n",
       "      <td>1.560311</td>\n",
       "      <td>-3.249343</td>\n",
       "      <td>-0.574788</td>\n",
       "      <td>2.952983</td>\n",
       "      <td>5.556279</td>\n",
       "      <td>-1.176393</td>\n",
       "      <td>-1.833425</td>\n",
       "      <td>0.0</td>\n",
       "    </tr>\n",
       "  </tbody>\n",
       "</table>\n",
       "<p>5 rows × 25 columns</p>\n",
       "</div>"
      ],
      "text/plain": [
       "     COIL  MT_ADJUSTED        DATE TIME_START_PROCESS   TEMP_Z1  \\\n",
       "0  297712          0.0  2019-03-03       16:00:17.140 -0.626250   \n",
       "1  297712          7.0  2019-03-03       16:01:02.140 -0.548642   \n",
       "2  297712         14.0  2019-03-03       16:01:32.140 -0.489710   \n",
       "3  297712         21.0  2019-03-03       16:01:47.080 -0.472777   \n",
       "4  297712         28.0  2019-03-03       16:02:17.080 -0.457463   \n",
       "\n",
       "   PYRO_2_FRST_3_ZONE  SPEED_PROCESS  FILL_TIRO  LASER_FRN_1  ELET_FE2  ...  \\\n",
       "0            0.589075      -1.749652  -0.003943     1.130454 -0.024409  ...   \n",
       "1            0.310833      -1.423870  -0.003943     1.167358 -0.024409  ...   \n",
       "2            0.219359      -1.249998  -0.003943     1.169191 -0.024409  ...   \n",
       "3            0.560960      -1.250524  -2.503042     1.183099 -0.024409  ...   \n",
       "4            0.437551      -1.250053  -2.717672     1.189643 -2.331214  ...   \n",
       "\n",
       "   LASER_FRN_9   DEC_FE2   DEC_FE3  LASER_FRN_8  SPZ1_R1_ASS  \\\n",
       "0    -0.921559 -0.019089  0.006705    -3.281993    -0.005561   \n",
       "1    -0.882066 -0.019089  0.006705    -3.286931    -0.005561   \n",
       "2    -0.895256 -0.019089  0.006705    -3.283506    -0.005561   \n",
       "3    -0.888345 -0.019089  0.006705    -3.239610    -0.005561   \n",
       "4    -0.887054 -2.294722  1.560311    -3.249343    -0.574788   \n",
       "\n",
       "   FRN_FURNACE_PRESSURE  AIR_CH4_1  FILL_FORZA  PRES_ZONA3_MEASURED  \\\n",
       "0              3.480863   5.618876   -0.006274            -0.362265   \n",
       "1              4.155847   5.606975   -0.006274            -3.121354   \n",
       "2              3.724010   5.505825   -0.006274            -2.903597   \n",
       "3              3.202527   5.599273   -1.168397            -2.357400   \n",
       "4              2.952983   5.556279   -1.176393            -1.833425   \n",
       "\n",
       "   Has_Defect  \n",
       "0         0.0  \n",
       "1         0.0  \n",
       "2         0.0  \n",
       "3         0.0  \n",
       "4         0.0  \n",
       "\n",
       "[5 rows x 25 columns]"
      ]
     },
     "execution_count": 11,
     "metadata": {},
     "output_type": "execute_result"
    }
   ],
   "source": [
    "df_final.head()"
   ]
  },
  {
   "cell_type": "markdown",
   "metadata": {},
   "source": [
    "**'df_final'** is now our final dataframe with the selected features and the target column of interest ('Has_Defect') at the end"
   ]
  },
  {
   "cell_type": "markdown",
   "metadata": {},
   "source": [
    "#### Splitting our data into Train, Validation and Test sets"
   ]
  },
  {
   "cell_type": "markdown",
   "metadata": {},
   "source": [
    "To ensure that the same coils are not split across both the training and testing sets, thereby preventing data leakage, we need to stratify the split based on the coil ID. This means we should split our dataset in such a way that all records belonging to a specific coil are either entirely in the training set or entirely in the testing set"
   ]
  },
  {
   "cell_type": "code",
   "execution_count": 12,
   "metadata": {},
   "outputs": [],
   "source": [
    "# Get unique coil IDs and split them\n",
    "unique_coils = df_final['COIL'].unique()\n",
    "train_coils, test_coils = train_test_split(unique_coils, test_size=0.2, random_state=42)\n",
    "train_coils, val_coils = train_test_split(train_coils, test_size=0.25, random_state=42)  # Splitting the remaining 80% into 60% train and 20% validation\n",
    "\n",
    "# Split the DataFrame into training, validation, and testing sets based on coil IDs\n",
    "train_df = df_final[df_final['COIL'].isin(train_coils)]\n",
    "val_df = df_final[df_final['COIL'].isin(val_coils)]\n",
    "test_df = df_final[df_final['COIL'].isin(test_coils)]\n"
   ]
  },
  {
   "cell_type": "code",
   "execution_count": 13,
   "metadata": {},
   "outputs": [],
   "source": [
    "target = \"Has_Defect\"\n",
    "\n",
    "# Prepare the data\n",
    "X_train = train_df.drop(['COIL', 'MT_ADJUSTED', 'DATE', 'TIME_START_PROCESS', target], axis=1)  \n",
    "y_train = train_df[target]    \n",
    "\n",
    "X_val = val_df.drop(['COIL', 'MT_ADJUSTED', 'DATE', 'TIME_START_PROCESS', target], axis=1)\n",
    "y_val = val_df[target]\n",
    "\n",
    "X_test = test_df.drop(['COIL', 'MT_ADJUSTED', 'DATE', 'TIME_START_PROCESS', target], axis=1)   \n",
    "y_test = test_df[target]     "
   ]
  },
  {
   "cell_type": "markdown",
   "metadata": {},
   "source": [
    "### Logistic Regression"
   ]
  },
  {
   "cell_type": "code",
   "execution_count": null,
   "metadata": {},
   "outputs": [
    {
     "name": "stdout",
     "output_type": "stream",
     "text": [
      "Accuracy of Logistic Regression on the validation set: 0.7355814033755566\n",
      "\n",
      "Accuracy of Logistic Regression on the test set: 0.6976437748149176\n",
      "TEMP_Z1: 0.8806440082108243\n",
      "PYRO_2_FRST_3_ZONE: -0.6610923521087577\n",
      "SPEED_PROCESS: 0.34227392455154976\n",
      "FILL_TIRO: 0.7323660631275436\n",
      "LASER_FRN_1: 0.1119597202706077\n",
      "ELET_FE2: -0.05755102228034631\n",
      "DEC_H2SO4: 0.2158941825914369\n",
      "ELET_H2SO4: -0.11317329380003767\n",
      "EXT_1: 0.08934589411432885\n",
      "LASER_FRN_2: -0.43216493512091275\n",
      "FILL_ALL: -0.5942018491843924\n",
      "LASER_FRN_9: 0.1558359718334832\n",
      "DEC_FE2: 0.04819598454619408\n",
      "DEC_FE3: 0.10267059457252463\n",
      "LASER_FRN_8: -0.14925389840999898\n",
      "SPZ1_R1_ASS: -0.05633243517268972\n",
      "FRN_FURNACE_PRESSURE: -0.17208117448661114\n",
      "AIR_CH4_1: 0.04007945896181402\n",
      "FILL_FORZA: 0.08246599189345737\n",
      "PRES_ZONA3_MEASURED: 0.2006982121115131\n"
     ]
    }
   ],
   "source": [
    "from sklearn.linear_model import LogisticRegression\n",
    "\n",
    "# Create the Logistic Regression model\n",
    "log_reg = LogisticRegression(max_iter=1000)\n",
    "\n",
    "# Fit the model on the training data\n",
    "log_reg.fit(X_train, y_train)\n",
    "\n",
    "# Predict on the validation set\n",
    "y_val_pred_log_reg = log_reg.predict(X_val)\n",
    "\n",
    "# Calculate and print the accuracy of the model on the validation set\n",
    "accuracy_val_log_reg = accuracy_score(y_val, y_val_pred_log_reg)\n",
    "print(\"Accuracy of Logistic Regression on the validation set:\", accuracy_val_log_reg)\n",
    "\n",
    "# Make predictions on the test set\n",
    "y_test_pred_log_reg = log_reg.predict(X_test)\n",
    "\n",
    "# Calculate and print the accuracy of the model on the test set\n",
    "accuracy_test_log_reg = accuracy_score(y_test, y_test_pred_log_reg)\n",
    "print(\"\\nAccuracy of Logistic Regression on the test set:\", accuracy_test_log_reg)\n",
    "\n",
    "# Print the model's coefficients\n",
    "coefs_log_reg = log_reg.coef_[0]\n",
    "for i in range(len(X_train.columns)):\n",
    "    print(f\"{X_train.columns[i]}: {coefs_log_reg[i]}\")\n",
    "\n"
   ]
  },
  {
   "cell_type": "code",
   "execution_count": null,
   "metadata": {},
   "outputs": [
    {
     "name": "stdout",
     "output_type": "stream",
     "text": [
      "\n",
      "Classification Report:\n",
      "               precision    recall  f1-score   support\n",
      "\n",
      "         0.0       0.79      0.76      0.78     39859\n",
      "         1.0       0.51      0.55      0.53     17818\n",
      "\n",
      "    accuracy                           0.70     57677\n",
      "   macro avg       0.65      0.66      0.65     57677\n",
      "weighted avg       0.70      0.70      0.70     57677\n",
      "\n"
     ]
    }
   ],
   "source": [
    "# Print out the classification report which provides a summary of the model's performance\n",
    "# on each class (classification report shows precision, recall, and F1-score)\n",
    "print(\"\\nClassification Report:\\n\", classification_report(y_test, y_test_pred_log_reg))\n",
    "\n",
    "# Create a confusion matrix to visualize the performance of the model\n",
    "cm_log_reg = metrics.confusion_matrix(y_test, y_test_pred_log_reg)"
   ]
  },
  {
   "cell_type": "code",
   "execution_count": null,
   "metadata": {},
   "outputs": [
    {
     "data": {
      "image/png": "[encoded data removed]",
      "text/plain": [
       "<Figure size 640x480 with 2 Axes>"
      ]
     },
     "metadata": {},
     "output_type": "display_data"
    }
   ],
   "source": [
    "# Display the confusion matrix\n",
    "disp = ConfusionMatrixDisplay(confusion_matrix=cm_log_reg)\n",
    "disp.plot()\n",
    "plt.title('Confusion Matrix - Logistic Regression')\n",
    "plt.xlabel('Predicted Classes')\n",
    "plt.ylabel('Actual Classes')\n",
    "plt.show()"
   ]
  },
  {
   "cell_type": "markdown",
   "metadata": {},
   "source": [
    "### Using several classifiers and tuning parameters - Parameters grid (Seba)"
   ]
  },
  {
   "cell_type": "code",
   "execution_count": null,
   "metadata": {},
   "outputs": [],
   "source": [
    "# model_lbls = ['dt' # decision tree\n",
    "#              ,'nb' # gaussian naive bayes\n",
    "#              ,'lp'   # linear perceptron\n",
    "#       #        ,'svc'  # support vector # deactivate if running time becomes too long\n",
    "#              ,'knn'  # k nearest neighbours\n",
    "#              ,'adb'  # adaboost\n",
    "#              ,'rf'   # random forest\n",
    "#             ]\n",
    "\n",
    "# # For each model we have to prepare the ranges of the hyperparameters that will be used\n",
    "# # and also a name of the model that will be put in output \n",
    "# models = {\n",
    "#     'dt': {'name': 'Decision Tree       ',\n",
    "#            'estimator': DecisionTreeClassifier(random_state=random_state), # We difine inside the estimator\n",
    "#            # the hyperparapeter that will not be subject to the parameter grid (GridSearchCV)\n",
    "#            'param': [{'max_depth': [*range(1,20)],'class_weight':[None,'balanced']}],  \n",
    "#                    # For max_depth we create                 #here we say if we want the dataset \n",
    "#                    # a list of numbers bw 1 and 19           # as it is or balanced                                                             \n",
    "#           },\n",
    "#     'nb': {'name': 'Gaussian Naive Bayes',\n",
    "#            'estimator': GaussianNB(),\n",
    "#            'param': [{'var_smoothing': [10**exp for exp in range(-3,-13,-1)]}]\n",
    "#            # the NB has only one parameter\n",
    "#           },\n",
    "#     'lp': {'name': 'Linear Perceptron   ',\n",
    "#            'estimator': Perceptron(random_state=random_state),\n",
    "#            'param': [{'early_stopping': [True,False],'class_weight':[None,'balanced']}],\n",
    "#           },\n",
    "#     'svc':{'name': 'Support Vector      ',\n",
    "#            'estimator': SVC(random_state=random_state), \n",
    "#            'param': [{'kernel': ['rbf'], # we have hyperparameters for each kernel\n",
    "#                     'gamma': [1e-3, 1e-4],\n",
    "#                     'C': [1, 10, 100],\n",
    "#                     },\n",
    "#                     {'kernel': ['linear'],\n",
    "#                      'C': [1, 10, 100],                     \n",
    "#              },\n",
    "#                    ]\n",
    "#           },\n",
    "#     'knn':{'name': 'K Nearest Neighbor ',\n",
    "#            'estimator': KNeighborsClassifier(),\n",
    "#            'param': [{'n_neighbors': list(range(1,7))}]\n",
    "#        },\n",
    "#     'adb':{'name': 'AdaBoost           ',\n",
    "#            'estimator': AdaBoostClassifier(random_state=random_state),\n",
    "#            'param': [{'n_estimators':[10,20,30,40,50]\n",
    "#                      ,'learning_rate':[0.2,0.5,0.75,1,1.25,1.5]}]\n",
    "#           },\n",
    "#     'rf': {'name': 'Random forest       ',\n",
    "#            'estimator': RandomForestClassifier(random_state=random_state),\n",
    "#            'param': [{'max_depth': [*range(4,10)]\n",
    "#                      ,'n_estimators':[*range(10,60,10)]}]\n",
    "#           }\n",
    "\n",
    "# }"
   ]
  },
  {
   "cell_type": "code",
   "execution_count": null,
   "metadata": {},
   "outputs": [],
   "source": [
    "# # model accuracy\n",
    "\n",
    "# for model_lbl in model_lbls:\n",
    "#     print(f\"Processing model: {models[model_lbl]['name']}\")\n",
    "#     model = models[model_lbl]['estimator']\n",
    "#     param = models[model_lbl]['param']\n",
    "#     grid = GridSearchCV(estimator=model, param_grid=param, cv=StratifiedKFold(n_splits=5, shuffle=True, random_state=random_state))\n",
    "#     grid.fit(Xtrain, ytrain)\n",
    "#     print(f\"Best parameters: {grid.best_params_}\")\n",
    "#     ytrain_pred = grid.predict(Xtrain)\n",
    "#     ytest_pred = grid.predict(Xtest)\n",
    "#     train_accuracy = accuracy_score(ytrain, ytrain_pred)\n",
    "#     test_accuracy = accuracy_score(ytest, ytest_pred)\n",
    "#     print(f\"Train accuracy: {train_accuracy}\")\n",
    "#     print(f\"Test accuracy: {test_accuracy}\")\n",
    "#     results[model_lbl] = {'train_accuracy': train_accuracy, 'test_accuracy': test_accuracy}\n",
    "#     results_df = results_df.append({'model': models[model_lbl]['name'], 'train_accuracy': train_accuracy, 'test_accuracy': test_accuracy}, ignore_index=True)\n",
    "\n",
    "# results_df\n",
    "\n",
    "# # Plot the results\n",
    "# plt.figure(figsize=(10, 6))\n",
    "# plt.plot(results_df['model'], results_df['train_accuracy'], label='Train Accuracy', marker='o')\n",
    "# plt.plot(results_df['model'], results_df['test_accuracy'], label='Test Accuracy', marker='o')\n",
    "# plt.xlabel('Model')\n",
    "# plt.ylabel('Accuracy')\n",
    "# plt.title('Model Accuracy')\n",
    "# plt.xticks(rotation=90)\n",
    "# plt.legend()\n",
    "# plt.show()"
   ]
  }
 ],
 "metadata": {
  "kernelspec": {
   "display_name": "base",
   "language": "python",
   "name": "python3"
  },
  "language_info": {
   "codemirror_mode": {
    "name": "ipython",
    "version": 3
   },
   "file_extension": ".py",
   "mimetype": "text/x-python",
   "name": "python",
   "nbconvert_exporter": "python",
   "pygments_lexer": "ipython3",
   "version": "3.11.8"
  }
 },
 "nbformat": 4,
 "nbformat_minor": 2
}
