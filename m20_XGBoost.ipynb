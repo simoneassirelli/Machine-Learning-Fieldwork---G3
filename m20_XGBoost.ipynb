{
 "cells": [
  {
   "cell_type": "markdown",
   "metadata": {},
   "source": [
    "# *Modeling Part: XGBoost*"
   ]
  },
  {
   "cell_type": "markdown",
   "metadata": {},
   "source": [
    "****************************************************************************************************************************************"
   ]
  },
  {
   "cell_type": "code",
   "execution_count": 1,
   "metadata": {},
   "outputs": [],
   "source": [
    "import pandas as pd\n",
    "import  numpy as np\n",
    "import seaborn as sns\n",
    "import matplotlib.pyplot as plt\n",
    "from sklearn.decomposition import PCA\n",
    "from sklearn.preprocessing import StandardScaler\n",
    "from sklearn.impute import SimpleImputer\n",
    "from sklearn.model_selection import train_test_split, GridSearchCV, StratifiedKFold\n",
    "from sklearn.metrics import classification_report, ConfusionMatrixDisplay\n",
    "from sklearn.svm import SVC\n",
    "from sklearn.linear_model import Perceptron\n",
    "from sklearn.neural_network import MLPClassifier\n",
    "from sklearn.tree import DecisionTreeClassifier\n",
    "from sklearn.naive_bayes import GaussianNB\n",
    "from sklearn.neighbors import KNeighborsClassifier\n",
    "from sklearn.ensemble import AdaBoostClassifier, RandomForestClassifier\n",
    "import xgboost as xgb\n",
    "from sklearn import metrics\n",
    "from sklearn.metrics import accuracy_score\n"
   ]
  },
  {
   "cell_type": "code",
   "execution_count": 2,
   "metadata": {},
   "outputs": [],
   "source": [
    "url_final = 'https://dl.dropboxusercontent.com/scl/fi/ep8vuirz46gkhw4a3yfw6/final_dataset.csv?rlkey=b9ji5utoaahhkmsoebup6q95q&dl=1'\n",
    "df_final = pd.read_csv(url_final)"
   ]
  },
  {
   "cell_type": "code",
   "execution_count": 3,
   "metadata": {},
   "outputs": [
    {
     "data": {
      "text/plain": [
       "(284700, 25)"
      ]
     },
     "execution_count": 3,
     "metadata": {},
     "output_type": "execute_result"
    }
   ],
   "source": [
    "df_final.shape"
   ]
  },
  {
   "cell_type": "code",
   "execution_count": 4,
   "metadata": {},
   "outputs": [
    {
     "data": {
      "text/html": [
       "<div>\n",
       "<style scoped>\n",
       "    .dataframe tbody tr th:only-of-type {\n",
       "        vertical-align: middle;\n",
       "    }\n",
       "\n",
       "    .dataframe tbody tr th {\n",
       "        vertical-align: top;\n",
       "    }\n",
       "\n",
       "    .dataframe thead th {\n",
       "        text-align: right;\n",
       "    }\n",
       "</style>\n",
       "<table border=\"1\" class=\"dataframe\">\n",
       "  <thead>\n",
       "    <tr style=\"text-align: right;\">\n",
       "      <th></th>\n",
       "      <th>COIL</th>\n",
       "      <th>MT_ADJUSTED</th>\n",
       "      <th>DATE</th>\n",
       "      <th>TIME_START_PROCESS</th>\n",
       "      <th>TEMP_Z1</th>\n",
       "      <th>PYRO_2_FRST_3_ZONE</th>\n",
       "      <th>SPEED_PROCESS</th>\n",
       "      <th>FILL_TIRO</th>\n",
       "      <th>LASER_FRN_1</th>\n",
       "      <th>ELET_FE2</th>\n",
       "      <th>...</th>\n",
       "      <th>LASER_FRN_9</th>\n",
       "      <th>DEC_FE2</th>\n",
       "      <th>DEC_FE3</th>\n",
       "      <th>LASER_FRN_8</th>\n",
       "      <th>SPZ1_R1_ASS</th>\n",
       "      <th>FRN_FURNACE_PRESSURE</th>\n",
       "      <th>AIR_CH4_1</th>\n",
       "      <th>FILL_FORZA</th>\n",
       "      <th>PRES_ZONA3_MEASURED</th>\n",
       "      <th>Has_Defect</th>\n",
       "    </tr>\n",
       "  </thead>\n",
       "  <tbody>\n",
       "    <tr>\n",
       "      <th>0</th>\n",
       "      <td>297712</td>\n",
       "      <td>0.0</td>\n",
       "      <td>2019-03-03</td>\n",
       "      <td>16:00:17.140</td>\n",
       "      <td>-0.626250</td>\n",
       "      <td>0.589075</td>\n",
       "      <td>-1.749652</td>\n",
       "      <td>-0.003943</td>\n",
       "      <td>1.130454</td>\n",
       "      <td>-0.024409</td>\n",
       "      <td>...</td>\n",
       "      <td>-0.921559</td>\n",
       "      <td>-0.019089</td>\n",
       "      <td>0.006705</td>\n",
       "      <td>-3.281993</td>\n",
       "      <td>-0.005561</td>\n",
       "      <td>3.480863</td>\n",
       "      <td>5.618876</td>\n",
       "      <td>-0.006274</td>\n",
       "      <td>-0.362265</td>\n",
       "      <td>0.0</td>\n",
       "    </tr>\n",
       "    <tr>\n",
       "      <th>1</th>\n",
       "      <td>297712</td>\n",
       "      <td>7.0</td>\n",
       "      <td>2019-03-03</td>\n",
       "      <td>16:01:02.140</td>\n",
       "      <td>-0.548642</td>\n",
       "      <td>0.310833</td>\n",
       "      <td>-1.423870</td>\n",
       "      <td>-0.003943</td>\n",
       "      <td>1.167358</td>\n",
       "      <td>-0.024409</td>\n",
       "      <td>...</td>\n",
       "      <td>-0.882066</td>\n",
       "      <td>-0.019089</td>\n",
       "      <td>0.006705</td>\n",
       "      <td>-3.286931</td>\n",
       "      <td>-0.005561</td>\n",
       "      <td>4.155847</td>\n",
       "      <td>5.606975</td>\n",
       "      <td>-0.006274</td>\n",
       "      <td>-3.121354</td>\n",
       "      <td>0.0</td>\n",
       "    </tr>\n",
       "    <tr>\n",
       "      <th>2</th>\n",
       "      <td>297712</td>\n",
       "      <td>14.0</td>\n",
       "      <td>2019-03-03</td>\n",
       "      <td>16:01:32.140</td>\n",
       "      <td>-0.489710</td>\n",
       "      <td>0.219359</td>\n",
       "      <td>-1.249998</td>\n",
       "      <td>-0.003943</td>\n",
       "      <td>1.169191</td>\n",
       "      <td>-0.024409</td>\n",
       "      <td>...</td>\n",
       "      <td>-0.895256</td>\n",
       "      <td>-0.019089</td>\n",
       "      <td>0.006705</td>\n",
       "      <td>-3.283506</td>\n",
       "      <td>-0.005561</td>\n",
       "      <td>3.724010</td>\n",
       "      <td>5.505825</td>\n",
       "      <td>-0.006274</td>\n",
       "      <td>-2.903597</td>\n",
       "      <td>0.0</td>\n",
       "    </tr>\n",
       "    <tr>\n",
       "      <th>3</th>\n",
       "      <td>297712</td>\n",
       "      <td>21.0</td>\n",
       "      <td>2019-03-03</td>\n",
       "      <td>16:01:47.080</td>\n",
       "      <td>-0.472777</td>\n",
       "      <td>0.560960</td>\n",
       "      <td>-1.250524</td>\n",
       "      <td>-2.503042</td>\n",
       "      <td>1.183099</td>\n",
       "      <td>-0.024409</td>\n",
       "      <td>...</td>\n",
       "      <td>-0.888345</td>\n",
       "      <td>-0.019089</td>\n",
       "      <td>0.006705</td>\n",
       "      <td>-3.239610</td>\n",
       "      <td>-0.005561</td>\n",
       "      <td>3.202527</td>\n",
       "      <td>5.599273</td>\n",
       "      <td>-1.168397</td>\n",
       "      <td>-2.357400</td>\n",
       "      <td>0.0</td>\n",
       "    </tr>\n",
       "    <tr>\n",
       "      <th>4</th>\n",
       "      <td>297712</td>\n",
       "      <td>28.0</td>\n",
       "      <td>2019-03-03</td>\n",
       "      <td>16:02:17.080</td>\n",
       "      <td>-0.457463</td>\n",
       "      <td>0.437551</td>\n",
       "      <td>-1.250053</td>\n",
       "      <td>-2.717672</td>\n",
       "      <td>1.189643</td>\n",
       "      <td>-2.331214</td>\n",
       "      <td>...</td>\n",
       "      <td>-0.887054</td>\n",
       "      <td>-2.294722</td>\n",
       "      <td>1.560311</td>\n",
       "      <td>-3.249343</td>\n",
       "      <td>-0.574788</td>\n",
       "      <td>2.952983</td>\n",
       "      <td>5.556279</td>\n",
       "      <td>-1.176393</td>\n",
       "      <td>-1.833425</td>\n",
       "      <td>0.0</td>\n",
       "    </tr>\n",
       "  </tbody>\n",
       "</table>\n",
       "<p>5 rows × 25 columns</p>\n",
       "</div>"
      ],
      "text/plain": [
       "     COIL  MT_ADJUSTED        DATE TIME_START_PROCESS   TEMP_Z1  \\\n",
       "0  297712          0.0  2019-03-03       16:00:17.140 -0.626250   \n",
       "1  297712          7.0  2019-03-03       16:01:02.140 -0.548642   \n",
       "2  297712         14.0  2019-03-03       16:01:32.140 -0.489710   \n",
       "3  297712         21.0  2019-03-03       16:01:47.080 -0.472777   \n",
       "4  297712         28.0  2019-03-03       16:02:17.080 -0.457463   \n",
       "\n",
       "   PYRO_2_FRST_3_ZONE  SPEED_PROCESS  FILL_TIRO  LASER_FRN_1  ELET_FE2  ...  \\\n",
       "0            0.589075      -1.749652  -0.003943     1.130454 -0.024409  ...   \n",
       "1            0.310833      -1.423870  -0.003943     1.167358 -0.024409  ...   \n",
       "2            0.219359      -1.249998  -0.003943     1.169191 -0.024409  ...   \n",
       "3            0.560960      -1.250524  -2.503042     1.183099 -0.024409  ...   \n",
       "4            0.437551      -1.250053  -2.717672     1.189643 -2.331214  ...   \n",
       "\n",
       "   LASER_FRN_9   DEC_FE2   DEC_FE3  LASER_FRN_8  SPZ1_R1_ASS  \\\n",
       "0    -0.921559 -0.019089  0.006705    -3.281993    -0.005561   \n",
       "1    -0.882066 -0.019089  0.006705    -3.286931    -0.005561   \n",
       "2    -0.895256 -0.019089  0.006705    -3.283506    -0.005561   \n",
       "3    -0.888345 -0.019089  0.006705    -3.239610    -0.005561   \n",
       "4    -0.887054 -2.294722  1.560311    -3.249343    -0.574788   \n",
       "\n",
       "   FRN_FURNACE_PRESSURE  AIR_CH4_1  FILL_FORZA  PRES_ZONA3_MEASURED  \\\n",
       "0              3.480863   5.618876   -0.006274            -0.362265   \n",
       "1              4.155847   5.606975   -0.006274            -3.121354   \n",
       "2              3.724010   5.505825   -0.006274            -2.903597   \n",
       "3              3.202527   5.599273   -1.168397            -2.357400   \n",
       "4              2.952983   5.556279   -1.176393            -1.833425   \n",
       "\n",
       "   Has_Defect  \n",
       "0         0.0  \n",
       "1         0.0  \n",
       "2         0.0  \n",
       "3         0.0  \n",
       "4         0.0  \n",
       "\n",
       "[5 rows x 25 columns]"
      ]
     },
     "execution_count": 4,
     "metadata": {},
     "output_type": "execute_result"
    }
   ],
   "source": [
    "df_final.head()"
   ]
  },
  {
   "cell_type": "markdown",
   "metadata": {},
   "source": [
    "**'df_final'** is now our final dataframe with the selected features and the target column of interest ('Has_Defect') at the end"
   ]
  },
  {
   "cell_type": "markdown",
   "metadata": {},
   "source": [
    "#### Splitting our data into Train, Validation and Test sets"
   ]
  },
  {
   "cell_type": "markdown",
   "metadata": {},
   "source": [
    "To ensure that the same coils are not split across both the training and testing sets, thereby preventing data leakage, we need to stratify the split based on the coil ID. This means we should split our dataset in such a way that all records belonging to a specific coil are either entirely in the training set or entirely in the testing set"
   ]
  },
  {
   "cell_type": "code",
   "execution_count": 5,
   "metadata": {},
   "outputs": [],
   "source": [
    "# Get unique coil IDs and split them\n",
    "unique_coils = df_final['COIL'].unique()\n",
    "train_coils, test_coils = train_test_split(unique_coils, test_size=0.2, random_state=42)\n",
    "train_coils, val_coils = train_test_split(train_coils, test_size=0.25, random_state=42)  # Splitting the remaining 80% into 60% train and 20% validation\n",
    "\n",
    "# Split the DataFrame into training, validation, and testing sets based on coil IDs\n",
    "train_df = df_final[df_final['COIL'].isin(train_coils)]\n",
    "val_df = df_final[df_final['COIL'].isin(val_coils)]\n",
    "test_df = df_final[df_final['COIL'].isin(test_coils)]\n"
   ]
  },
  {
   "cell_type": "code",
   "execution_count": 6,
   "metadata": {},
   "outputs": [],
   "source": [
    "target = \"Has_Defect\"\n",
    "\n",
    "# Prepare the data\n",
    "X_train = train_df.drop(['COIL', 'MT_ADJUSTED', 'DATE', 'TIME_START_PROCESS', target], axis=1)  \n",
    "y_train = train_df[target]    \n",
    "\n",
    "X_val = val_df.drop(['COIL', 'MT_ADJUSTED', 'DATE', 'TIME_START_PROCESS', target], axis=1)\n",
    "y_val = val_df[target]\n",
    "\n",
    "X_test = test_df.drop(['COIL', 'MT_ADJUSTED', 'DATE', 'TIME_START_PROCESS', target], axis=1)   \n",
    "y_test = test_df[target]     "
   ]
  },
  {
   "cell_type": "markdown",
   "metadata": {},
   "source": [
    "### XGBoost"
   ]
  },
  {
   "cell_type": "code",
   "execution_count": 7,
   "metadata": {},
   "outputs": [
    {
     "name": "stdout",
     "output_type": "stream",
     "text": [
      "Fitting 3 folds for each of 128 candidates, totalling 384 fits\n"
     ]
    },
    {
     "name": "stdout",
     "output_type": "stream",
     "text": [
      "Best parameters found: {'colsample_bytree': 1.0, 'gamma': 0, 'learning_rate': 0.05, 'max_depth': 3, 'min_child_weight': 2, 'n_estimators': 100, 'subsample': 0.8}\n"
     ]
    }
   ],
   "source": [
    "param_grid = {\n",
    "    'n_estimators': [100, 200],  # Number of gradient boosted trees.\n",
    "    'learning_rate': [0.05, 0.1],  # Step size shrinkage used to prevent overfitting.\n",
    "    'max_depth': [3, 5],  # Maximum tree depth for base learners.\n",
    "    'min_child_weight': [1, 2],  # Minimum sum of instance weight needed in a child.\n",
    "    'gamma': [0, 0.1],  # Minimum loss reduction required to make a further partition.\n",
    "    'subsample': [0.8, 1.0],  # Subsample ratio of the training instances.\n",
    "    'colsample_bytree': [0.8, 1.0],  # Subsample ratio of columns when constructing each tree.\n",
    "}\n",
    "\n",
    "\n",
    "# Create the XGBoost classifier instance\n",
    "xgb_clf = xgb.XGBClassifier(use_label_encoder=False, eval_metric='logloss')\n",
    "\n",
    "# Create GridSearchCV object\n",
    "grid_search = GridSearchCV(estimator=xgb_clf, param_grid=param_grid, \n",
    "                           scoring='accuracy', cv=3, n_jobs=-1, verbose=2)\n",
    "\n",
    "# Fit the grid search to the data\n",
    "grid_search.fit(X_train, y_train)\n",
    "\n",
    "# After grid search completes\n",
    "print(f\"Best parameters found: {grid_search.best_params_}\")\n",
    "best_xgb_clf = grid_search.best_estimator_"
   ]
  },
  {
   "cell_type": "code",
   "execution_count": 9,
   "metadata": {},
   "outputs": [
    {
     "name": "stdout",
     "output_type": "stream",
     "text": [
      "Validation Accuracy XGBoost: 0.7710627135609015\n",
      "\n",
      "**Classification report for XGBoost Classifier on the validation set:**\n",
      "\n",
      "              precision    recall  f1-score   support\n",
      "\n",
      "         0.0       0.81      0.84      0.83     37618\n",
      "         1.0       0.69      0.63      0.66     20328\n",
      "\n",
      "    accuracy                           0.77     57946\n",
      "   macro avg       0.75      0.74      0.74     57946\n",
      "weighted avg       0.77      0.77      0.77     57946\n",
      "\n",
      "Testing Accuracy XGBoost: 0.7605284602181112\n",
      "\n",
      "**Classification report for XGBoost Classifier on the test set:**\n",
      "\n",
      "              precision    recall  f1-score   support\n",
      "\n",
      "         0.0       0.84      0.81      0.82     39859\n",
      "         1.0       0.61      0.64      0.62     17818\n",
      "\n",
      "    accuracy                           0.76     57677\n",
      "   macro avg       0.72      0.73      0.72     57677\n",
      "weighted avg       0.76      0.76      0.76     57677\n",
      "\n"
     ]
    }
   ],
   "source": [
    "# Predict on the validation set\n",
    "y_val_pred_xgb = best_xgb_clf.predict(X_val)\n",
    "# Calculate the accuracy of the model on the validation set\n",
    "val_acc_xgb = accuracy_score(y_val, y_val_pred_xgb)\n",
    "print(f\"Validation Accuracy XGBoost: {val_acc_xgb}\\n\")\n",
    "# Print out the classification report which provides a summary of the model's performance\n",
    "print(\"**Classification report for XGBoost Classifier on the validation set:**\\n\")\n",
    "print(classification_report(y_val, y_val_pred_xgb))\n",
    "\n",
    "# Make predictions on the test set using the best model\n",
    "y_test_pred_xgb = best_xgb_clf.predict(X_test)\n",
    "# Calculate the accuracy of the model on the test set\n",
    "test_acc_xgb = accuracy_score(y_test, y_test_pred_xgb)\n",
    "print(f\"Testing Accuracy XGBoost: {test_acc_xgb}\\n\")\n",
    "# Print out the classification report which provides a summary of the model's performance\n",
    "print(\"**Classification report for XGBoost Classifier on the test set:**\\n\")\n",
    "print(classification_report(y_test, y_test_pred_xgb))"
   ]
  },
  {
   "cell_type": "code",
   "execution_count": 11,
   "metadata": {},
   "outputs": [
    {
     "name": "stderr",
     "output_type": "stream",
     "text": [
      "No artists with labels found to put in legend.  Note that artists whose label start with an underscore are ignored when legend() is called with no argument.\n"
     ]
    },
    {
     "data": {
      "image/png": "[encoded data removed]",
      "text/plain": [
       "<Figure size 640x480 with 1 Axes>"
      ]
     },
     "metadata": {},
     "output_type": "display_data"
    }
   ],
   "source": [
    "# Plot the ROC curve for XGBoost \n",
    "fpr_xgboost, tpr_xgboost, _ = metrics.roc_curve(y_test, y_test_pred_xgb)\n",
    "plt.plot([0, 1], [0, 1], 'k--')\n",
    "plt.plot(fpr_xgboost, tpr_xgboost)\n",
    "plt.title('ROC Curve for XGBoost')\n",
    "plt.legend()\n",
    "plt.show()"
   ]
  },
  {
   "cell_type": "code",
   "execution_count": 15,
   "metadata": {},
   "outputs": [
    {
     "name": "stdout",
     "output_type": "stream",
     "text": [
      "Summary of feature importance:\n",
      "                 Feature  Importance\n",
      "1     PYRO_2_FRST_3_ZONE    0.200912\n",
      "0                TEMP_Z1    0.130596\n",
      "3              FILL_TIRO    0.075202\n",
      "18            FILL_FORZA    0.073146\n",
      "9            LASER_FRN_2    0.058435\n",
      "10              FILL_ALL    0.050662\n",
      "13               DEC_FE3    0.047217\n",
      "7             ELET_H2SO4    0.037822\n",
      "8                  EXT_1    0.036779\n",
      "15           SPZ1_R1_ASS    0.035797\n",
      "11           LASER_FRN_9    0.034885\n",
      "6              DEC_H2SO4    0.032140\n",
      "19   PRES_ZONA3_MEASURED    0.029763\n",
      "5               ELET_FE2    0.028928\n",
      "17             AIR_CH4_1    0.028727\n",
      "4            LASER_FRN_1    0.028459\n",
      "2          SPEED_PROCESS    0.022270\n",
      "16  FRN_FURNACE_PRESSURE    0.021274\n",
      "14           LASER_FRN_8    0.014534\n",
      "12               DEC_FE2    0.012452\n"
     ]
    }
   ],
   "source": [
    "# Features importances of the model\n",
    "feature_importances_xgb = best_xgb_clf.feature_importances_\n",
    "# Summary of feature importance\n",
    "summary_imp = pd.DataFrame(list(zip(X_train.columns, feature_importances_xgb)), columns=[\"Feature\", \"Importance\"])\n",
    "summary_imp = pd.DataFrame(summary_imp.sort_values(by=\"Importance\", ascending=False))\n",
    "print(\"Summary of feature importance:\")\n",
    "print(summary_imp)\n"
   ]
  },
  {
   "cell_type": "code",
   "execution_count": 16,
   "metadata": {},
   "outputs": [
    {
     "data": {
      "image/png": "[encoded data removed]",
      "text/plain": [
       "<Figure size 1000x600 with 1 Axes>"
      ]
     },
     "metadata": {},
     "output_type": "display_data"
    }
   ],
   "source": [
    "plt.figure(figsize=(10, 6))\n",
    "sns.barplot(x=summary_imp[\"Importance\"], y=summary_imp[\"Feature\"])\n",
    "plt.title('XGBoost Classifier - Feature Importance')\n",
    "plt.show()"
   ]
  }
 ],
 "metadata": {
  "kernelspec": {
   "display_name": "base",
   "language": "python",
   "name": "python3"
  },
  "language_info": {
   "codemirror_mode": {
    "name": "ipython",
    "version": 3
   },
   "file_extension": ".py",
   "mimetype": "text/x-python",
   "name": "python",
   "nbconvert_exporter": "python",
   "pygments_lexer": "ipython3",
   "version": "3.11.8"
  }
 },
 "nbformat": 4,
 "nbformat_minor": 2
}
