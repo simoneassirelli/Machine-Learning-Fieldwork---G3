{
 "cells": [
  {
   "cell_type": "markdown",
   "metadata": {},
   "source": [
    "# *Manufacturing Root Cause (Group 3)*"
   ]
  },
  {
   "cell_type": "markdown",
   "metadata": {},
   "source": [
    "Project members:\n",
    "- Amine Amri\n",
    "- Julia Graham\n",
    "- Sebastian Anusch\n",
    "- Simone Assirelli "
   ]
  },
  {
   "cell_type": "markdown",
   "metadata": {},
   "source": [
    "****************************************************************************************************************************************"
   ]
  },
  {
   "cell_type": "markdown",
   "metadata": {},
   "source": [
    "Key tasks & decisions by Wednesday April 3rd (Q&A)::\n",
    "- [X] Missing values (drop or impute?) \n",
    "- [X] Address outliers \n",
    "- [X] Data normalization (standard scaler)\n",
    "- [X] Feature reduction/selection \n",
    "- [X] Merge defects columns \n",
    "- [X] Prepare PPT \n",
    "- [X] Deal with data leakage\n",
    "\n",
    "Key tasks & decisions by final session Thursday April 18th:\n",
    "- [X] About feature selection: try with keeping only 10 features and see what happens\n",
    "- [X] Train a **Random Forest classifier** with train, _validation_ (!) and test split\n",
    "- [X] Train a **XGBOOST classifier** with train, validation and test split\n",
    "- [X] Train a **Logistic Regression classifier** with train, validation and test split\n",
    "- [ ] For each of these classifiers, use **GridSearchCV**  to find the best parameters maximising accuracy \n",
    "- [ ] Try with more features (20 is too little)\n",
    "\n",
    "Key questions:\n",
    "- How can we  improve our model?\n",
    "-  How can we interpret the results and see which features are most important to detect the defect (what the company really cares about)?"
   ]
  },
  {
   "cell_type": "code",
   "execution_count": 1,
   "metadata": {},
   "outputs": [
    {
     "name": "stdout",
     "output_type": "stream",
     "text": [
      "Requirement already satisfied: xgboost in d:\\anaconda\\lib\\site-packages (2.0.3)\n",
      "Requirement already satisfied: numpy in d:\\anaconda\\lib\\site-packages (from xgboost) (1.24.3)\n",
      "Requirement already satisfied: scipy in d:\\anaconda\\lib\\site-packages (from xgboost) (1.11.4)\n"
     ]
    }
   ],
   "source": [
    "!pip install xgboost"
   ]
  },
  {
   "cell_type": "code",
   "execution_count": 2,
   "metadata": {},
   "outputs": [],
   "source": [
    "import pandas as pd\n",
    "import  numpy as np\n",
    "import seaborn as sns\n",
    "import matplotlib.pyplot as plt\n",
    "from sklearn.decomposition import PCA\n",
    "from sklearn.preprocessing import StandardScaler\n",
    "from sklearn.impute import SimpleImputer\n",
    "from sklearn.model_selection import train_test_split, GridSearchCV, StratifiedKFold\n",
    "from sklearn.metrics import classification_report, ConfusionMatrixDisplay\n",
    "from sklearn.svm import SVC\n",
    "from sklearn.linear_model import Perceptron\n",
    "from sklearn.neural_network import MLPClassifier\n",
    "from sklearn.tree import DecisionTreeClassifier\n",
    "from sklearn.naive_bayes import GaussianNB\n",
    "from sklearn.neighbors import KNeighborsClassifier\n",
    "from sklearn.ensemble import AdaBoostClassifier, RandomForestClassifier\n",
    "import xgboost as xgb\n",
    "from sklearn import metrics\n",
    "from sklearn.metrics import accuracy_score\n"
   ]
  },
  {
   "cell_type": "markdown",
   "metadata": {},
   "source": [
    "# 1. Data Preparation"
   ]
  },
  {
   "cell_type": "code",
   "execution_count": 3,
   "metadata": {},
   "outputs": [],
   "source": [
    "url_defects = 'https://dl.dropboxusercontent.com/scl/fi/j3xred1cqmicuxui4kj6m/RC_DEFECTS_clean.csv?rlkey=gumwpqnsfvdyjdx5doi4i7zxb&dl=1'\n",
    "url_production = 'https://dl.dropboxusercontent.com/scl/fi/baekmodofe2sn64qhrcur/RC_PRODUCTION_clean.csv?rlkey=uw7r9vgblez57cbnwsf2c3vmd&dl=1'\n",
    "df_def = pd.read_csv(url_defects)\n",
    "df_prod = pd.read_csv(url_production)"
   ]
  },
  {
   "cell_type": "markdown",
   "metadata": {},
   "source": [
    "### Exploring the data"
   ]
  },
  {
   "cell_type": "code",
   "execution_count": 4,
   "metadata": {},
   "outputs": [
    {
     "name": "stdout",
     "output_type": "stream",
     "text": [
      "(617, 10)\n"
     ]
    },
    {
     "data": {
      "text/html": [
       "<div>\n",
       "<style scoped>\n",
       "    .dataframe tbody tr th:only-of-type {\n",
       "        vertical-align: middle;\n",
       "    }\n",
       "\n",
       "    .dataframe tbody tr th {\n",
       "        vertical-align: top;\n",
       "    }\n",
       "\n",
       "    .dataframe thead th {\n",
       "        text-align: right;\n",
       "    }\n",
       "</style>\n",
       "<table border=\"1\" class=\"dataframe\">\n",
       "  <thead>\n",
       "    <tr style=\"text-align: right;\">\n",
       "      <th></th>\n",
       "      <th>COIL</th>\n",
       "      <th>MT_FROM</th>\n",
       "      <th>MT_TO</th>\n",
       "      <th>DATE</th>\n",
       "      <th>DIF_TIPO_1</th>\n",
       "      <th>DIF_TIPO_2</th>\n",
       "      <th>DIF_TIPO_3</th>\n",
       "      <th>DIF_TIPO_4</th>\n",
       "      <th>DIF_TIPO_5</th>\n",
       "      <th>DIF_TIPO_6</th>\n",
       "    </tr>\n",
       "  </thead>\n",
       "  <tbody>\n",
       "    <tr>\n",
       "      <th>0</th>\n",
       "      <td>389523</td>\n",
       "      <td>0.0</td>\n",
       "      <td>599.0</td>\n",
       "      <td>2019-03-01</td>\n",
       "      <td>0</td>\n",
       "      <td>0</td>\n",
       "      <td>1</td>\n",
       "      <td>0</td>\n",
       "      <td>0</td>\n",
       "      <td>0</td>\n",
       "    </tr>\n",
       "    <tr>\n",
       "      <th>1</th>\n",
       "      <td>389523</td>\n",
       "      <td>600.0</td>\n",
       "      <td>1457.0</td>\n",
       "      <td>2019-03-01</td>\n",
       "      <td>0</td>\n",
       "      <td>1</td>\n",
       "      <td>1</td>\n",
       "      <td>0</td>\n",
       "      <td>0</td>\n",
       "      <td>0</td>\n",
       "    </tr>\n",
       "    <tr>\n",
       "      <th>2</th>\n",
       "      <td>389528</td>\n",
       "      <td>0.0</td>\n",
       "      <td>1399.0</td>\n",
       "      <td>2019-03-01</td>\n",
       "      <td>0</td>\n",
       "      <td>0</td>\n",
       "      <td>1</td>\n",
       "      <td>0</td>\n",
       "      <td>0</td>\n",
       "      <td>0</td>\n",
       "    </tr>\n",
       "    <tr>\n",
       "      <th>3</th>\n",
       "      <td>389528</td>\n",
       "      <td>1400.0</td>\n",
       "      <td>1539.0</td>\n",
       "      <td>2019-03-01</td>\n",
       "      <td>0</td>\n",
       "      <td>0</td>\n",
       "      <td>1</td>\n",
       "      <td>0</td>\n",
       "      <td>1</td>\n",
       "      <td>0</td>\n",
       "    </tr>\n",
       "    <tr>\n",
       "      <th>4</th>\n",
       "      <td>389712</td>\n",
       "      <td>0.0</td>\n",
       "      <td>1374.0</td>\n",
       "      <td>2019-03-01</td>\n",
       "      <td>0</td>\n",
       "      <td>0</td>\n",
       "      <td>1</td>\n",
       "      <td>0</td>\n",
       "      <td>0</td>\n",
       "      <td>0</td>\n",
       "    </tr>\n",
       "  </tbody>\n",
       "</table>\n",
       "</div>"
      ],
      "text/plain": [
       "     COIL  MT_FROM   MT_TO        DATE  DIF_TIPO_1  DIF_TIPO_2  DIF_TIPO_3  \\\n",
       "0  389523      0.0   599.0  2019-03-01           0           0           1   \n",
       "1  389523    600.0  1457.0  2019-03-01           0           1           1   \n",
       "2  389528      0.0  1399.0  2019-03-01           0           0           1   \n",
       "3  389528   1400.0  1539.0  2019-03-01           0           0           1   \n",
       "4  389712      0.0  1374.0  2019-03-01           0           0           1   \n",
       "\n",
       "   DIF_TIPO_4  DIF_TIPO_5  DIF_TIPO_6  \n",
       "0           0           0           0  \n",
       "1           0           0           0  \n",
       "2           0           0           0  \n",
       "3           0           1           0  \n",
       "4           0           0           0  "
      ]
     },
     "execution_count": 4,
     "metadata": {},
     "output_type": "execute_result"
    }
   ],
   "source": [
    "print(df_def.shape)\n",
    "df_def.head()"
   ]
  },
  {
   "cell_type": "code",
   "execution_count": 5,
   "metadata": {},
   "outputs": [
    {
     "name": "stdout",
     "output_type": "stream",
     "text": [
      "(299384, 110)\n"
     ]
    },
    {
     "data": {
      "text/html": [
       "<div>\n",
       "<style scoped>\n",
       "    .dataframe tbody tr th:only-of-type {\n",
       "        vertical-align: middle;\n",
       "    }\n",
       "\n",
       "    .dataframe tbody tr th {\n",
       "        vertical-align: top;\n",
       "    }\n",
       "\n",
       "    .dataframe thead th {\n",
       "        text-align: right;\n",
       "    }\n",
       "</style>\n",
       "<table border=\"1\" class=\"dataframe\">\n",
       "  <thead>\n",
       "    <tr style=\"text-align: right;\">\n",
       "      <th></th>\n",
       "      <th>COIL</th>\n",
       "      <th>DATE</th>\n",
       "      <th>MT</th>\n",
       "      <th>TIME_START_PROCESS</th>\n",
       "      <th>SPEED_PROCESS</th>\n",
       "      <th>TEMP_Z1</th>\n",
       "      <th>TEMP_Z2</th>\n",
       "      <th>TEMP_Z3</th>\n",
       "      <th>TEMP_Z4</th>\n",
       "      <th>TEMP_Z5</th>\n",
       "      <th>...</th>\n",
       "      <th>SPZ2_R4</th>\n",
       "      <th>SPZ1_R1_ASS</th>\n",
       "      <th>SPZ1_R2_ASS</th>\n",
       "      <th>TIRO_DECAP</th>\n",
       "      <th>SPEED_FILL</th>\n",
       "      <th>FILL_FORZA</th>\n",
       "      <th>FILL_TIRO</th>\n",
       "      <th>FILL_ALL</th>\n",
       "      <th>FILL_BENDING_POS</th>\n",
       "      <th>FILL_BENDING_NEG</th>\n",
       "    </tr>\n",
       "  </thead>\n",
       "  <tbody>\n",
       "    <tr>\n",
       "      <th>0</th>\n",
       "      <td>240627</td>\n",
       "      <td>2019-03-15</td>\n",
       "      <td>0.0</td>\n",
       "      <td>14:25:23.060</td>\n",
       "      <td>16.934625</td>\n",
       "      <td>671.967562</td>\n",
       "      <td>679.751438</td>\n",
       "      <td>688.119187</td>\n",
       "      <td>716.717250</td>\n",
       "      <td>734.616563</td>\n",
       "      <td>...</td>\n",
       "      <td>NaN</td>\n",
       "      <td>NaN</td>\n",
       "      <td>NaN</td>\n",
       "      <td>NaN</td>\n",
       "      <td>NaN</td>\n",
       "      <td>NaN</td>\n",
       "      <td>NaN</td>\n",
       "      <td>NaN</td>\n",
       "      <td>NaN</td>\n",
       "      <td>NaN</td>\n",
       "    </tr>\n",
       "    <tr>\n",
       "      <th>1</th>\n",
       "      <td>240627</td>\n",
       "      <td>2019-03-15</td>\n",
       "      <td>7.0</td>\n",
       "      <td>14:25:53.060</td>\n",
       "      <td>16.773638</td>\n",
       "      <td>668.635875</td>\n",
       "      <td>676.207125</td>\n",
       "      <td>681.034500</td>\n",
       "      <td>710.093250</td>\n",
       "      <td>729.040500</td>\n",
       "      <td>...</td>\n",
       "      <td>NaN</td>\n",
       "      <td>NaN</td>\n",
       "      <td>NaN</td>\n",
       "      <td>NaN</td>\n",
       "      <td>NaN</td>\n",
       "      <td>NaN</td>\n",
       "      <td>NaN</td>\n",
       "      <td>NaN</td>\n",
       "      <td>NaN</td>\n",
       "      <td>NaN</td>\n",
       "    </tr>\n",
       "    <tr>\n",
       "      <th>2</th>\n",
       "      <td>240627</td>\n",
       "      <td>2019-03-15</td>\n",
       "      <td>14.0</td>\n",
       "      <td>14:26:23.060</td>\n",
       "      <td>11.142165</td>\n",
       "      <td>669.105375</td>\n",
       "      <td>677.042625</td>\n",
       "      <td>678.493125</td>\n",
       "      <td>707.967750</td>\n",
       "      <td>727.783500</td>\n",
       "      <td>...</td>\n",
       "      <td>NaN</td>\n",
       "      <td>NaN</td>\n",
       "      <td>NaN</td>\n",
       "      <td>NaN</td>\n",
       "      <td>NaN</td>\n",
       "      <td>NaN</td>\n",
       "      <td>NaN</td>\n",
       "      <td>NaN</td>\n",
       "      <td>NaN</td>\n",
       "      <td>NaN</td>\n",
       "    </tr>\n",
       "    <tr>\n",
       "      <th>3</th>\n",
       "      <td>240627</td>\n",
       "      <td>2019-03-15</td>\n",
       "      <td>21.0</td>\n",
       "      <td>14:27:08.060</td>\n",
       "      <td>11.148851</td>\n",
       "      <td>671.631750</td>\n",
       "      <td>681.066000</td>\n",
       "      <td>679.704750</td>\n",
       "      <td>707.241375</td>\n",
       "      <td>727.886250</td>\n",
       "      <td>...</td>\n",
       "      <td>NaN</td>\n",
       "      <td>NaN</td>\n",
       "      <td>NaN</td>\n",
       "      <td>NaN</td>\n",
       "      <td>NaN</td>\n",
       "      <td>NaN</td>\n",
       "      <td>NaN</td>\n",
       "      <td>NaN</td>\n",
       "      <td>NaN</td>\n",
       "      <td>NaN</td>\n",
       "    </tr>\n",
       "    <tr>\n",
       "      <th>4</th>\n",
       "      <td>240627</td>\n",
       "      <td>2019-03-15</td>\n",
       "      <td>28.0</td>\n",
       "      <td>14:27:38.060</td>\n",
       "      <td>15.657188</td>\n",
       "      <td>675.052875</td>\n",
       "      <td>686.972813</td>\n",
       "      <td>683.336250</td>\n",
       "      <td>710.432437</td>\n",
       "      <td>730.182375</td>\n",
       "      <td>...</td>\n",
       "      <td>530.110125</td>\n",
       "      <td>14.625</td>\n",
       "      <td>14.625</td>\n",
       "      <td>1956.40875</td>\n",
       "      <td>NaN</td>\n",
       "      <td>NaN</td>\n",
       "      <td>NaN</td>\n",
       "      <td>NaN</td>\n",
       "      <td>NaN</td>\n",
       "      <td>NaN</td>\n",
       "    </tr>\n",
       "  </tbody>\n",
       "</table>\n",
       "<p>5 rows × 110 columns</p>\n",
       "</div>"
      ],
      "text/plain": [
       "     COIL        DATE    MT TIME_START_PROCESS  SPEED_PROCESS     TEMP_Z1  \\\n",
       "0  240627  2019-03-15   0.0       14:25:23.060      16.934625  671.967562   \n",
       "1  240627  2019-03-15   7.0       14:25:53.060      16.773638  668.635875   \n",
       "2  240627  2019-03-15  14.0       14:26:23.060      11.142165  669.105375   \n",
       "3  240627  2019-03-15  21.0       14:27:08.060      11.148851  671.631750   \n",
       "4  240627  2019-03-15  28.0       14:27:38.060      15.657188  675.052875   \n",
       "\n",
       "      TEMP_Z2     TEMP_Z3     TEMP_Z4     TEMP_Z5  ...     SPZ2_R4  \\\n",
       "0  679.751438  688.119187  716.717250  734.616563  ...         NaN   \n",
       "1  676.207125  681.034500  710.093250  729.040500  ...         NaN   \n",
       "2  677.042625  678.493125  707.967750  727.783500  ...         NaN   \n",
       "3  681.066000  679.704750  707.241375  727.886250  ...         NaN   \n",
       "4  686.972813  683.336250  710.432437  730.182375  ...  530.110125   \n",
       "\n",
       "   SPZ1_R1_ASS  SPZ1_R2_ASS  TIRO_DECAP  SPEED_FILL  FILL_FORZA  FILL_TIRO  \\\n",
       "0          NaN          NaN         NaN         NaN         NaN        NaN   \n",
       "1          NaN          NaN         NaN         NaN         NaN        NaN   \n",
       "2          NaN          NaN         NaN         NaN         NaN        NaN   \n",
       "3          NaN          NaN         NaN         NaN         NaN        NaN   \n",
       "4       14.625       14.625  1956.40875         NaN         NaN        NaN   \n",
       "\n",
       "   FILL_ALL  FILL_BENDING_POS  FILL_BENDING_NEG  \n",
       "0       NaN               NaN               NaN  \n",
       "1       NaN               NaN               NaN  \n",
       "2       NaN               NaN               NaN  \n",
       "3       NaN               NaN               NaN  \n",
       "4       NaN               NaN               NaN  \n",
       "\n",
       "[5 rows x 110 columns]"
      ]
     },
     "execution_count": 5,
     "metadata": {},
     "output_type": "execute_result"
    }
   ],
   "source": [
    "print(df_prod.shape)\n",
    "df_prod.head()"
   ]
  },
  {
   "cell_type": "code",
   "execution_count": 6,
   "metadata": {},
   "outputs": [
    {
     "name": "stdout",
     "output_type": "stream",
     "text": [
      "['COIL', 'DATE', 'MT', 'TIME_START_PROCESS', 'SPEED_PROCESS', 'TEMP_Z1', 'TEMP_Z2', 'TEMP_Z3', 'TEMP_Z4', 'TEMP_Z5', 'TEMP_Z6', 'PYRO_1_PRECHMBR', 'PYRO_2_FRST_3_ZONE', 'PYRO_3_LST_3_ZONE', 'LS_OVEN', 'LASER_FRN_1', 'LASER_FRN_2', 'LASER_FRN_3', 'LASER_FRN_4', 'LASER_FRN_5', 'LASER_FRN_6', 'LASER_FRN_7', 'LASER_FRN_8', 'LASER_FRN_9', 'AIR_CH4_1', 'AIR_CH4_2', 'AIR_CH4_3', 'AIR_CH4_4', 'AIR_CH4_5', 'AIR_CH4_6', 'AIR_Z1_1', 'AIR_Z1_2', 'AIR_Z2_1', 'AIR_Z2_2', 'AIR_Z3_1', 'AIR_Z3_2', 'AIR_Z4_1', 'AIR_Z4_2', 'AIR_Z5_1', 'AIR_Z5_2', 'AIR_Z6_1', 'AIR_Z6_2', 'GAS_Z1_1', 'GAS_Z1_2', 'GAS_Z2_1', 'GAS_Z2_2', 'GAS_Z3_1', 'GAS_Z3_2', 'GAS_Z4_1', 'GAS_Z4_2', 'GAS_Z5_1', 'GAS_Z5_2', 'GAS_Z6_1', 'GAS_Z6_2', 'FRN_PHF_PRESSURE', 'FRN_FURNACE_PRESSURE', 'TIRO_FORNO', 'PRES_ZONA1_MEASURED', 'PRES_ZONA1_SET', 'PRES_ZONA2_MEASURED', 'PRES_ZONA2_SET', 'PRES_ZONA3_MEASURED', 'PRES_ZONA3_SET', 'EXT_1', 'EXT_2', 'VENT_1', 'VENT_2', 'VENT_3', 'VENT_4', 'VENT_5', 'COOL_1A', 'COOL_1B', 'COOL_2A', 'COOL_2B', 'COOL_3', 'LS_COOLING', 'LASER_RAFF_1', 'LASER_RAFF_2', 'LASER_RAFF_3', 'LASER_RAFF_4', 'LASER_RAFF_5', 'LASER_RAFF_6', 'LASER_RAFF_7', 'LASER_RAFF_8', 'LASER_RAFF_9', 'TOUT_RAFF_H2O', 'N_RAMPE_H2O', 'ELET_TEMP', 'ELET_H2SO4', 'ELET_FE2', 'ELET_CORRENTE', 'DEC_TEMP', 'DEC_H2SO4', 'DEC_HF', 'DEC_FE2', 'DEC_FE3', 'DEC_FETOT', 'SPZ2_R1', 'SPZ2_R2', 'SPZ2_R3', 'SPZ2_R4', 'SPZ1_R1_ASS', 'SPZ1_R2_ASS', 'TIRO_DECAP', 'SPEED_FILL', 'FILL_FORZA', 'FILL_TIRO', 'FILL_ALL', 'FILL_BENDING_POS', 'FILL_BENDING_NEG']\n"
     ]
    }
   ],
   "source": [
    "# Columns of production dataframe\n",
    "prod_columns = list(df_prod.columns)\n",
    "print(prod_columns) "
   ]
  },
  {
   "cell_type": "code",
   "execution_count": 7,
   "metadata": {},
   "outputs": [
    {
     "data": {
      "text/html": [
       "<div>\n",
       "<style scoped>\n",
       "    .dataframe tbody tr th:only-of-type {\n",
       "        vertical-align: middle;\n",
       "    }\n",
       "\n",
       "    .dataframe tbody tr th {\n",
       "        vertical-align: top;\n",
       "    }\n",
       "\n",
       "    .dataframe thead th {\n",
       "        text-align: right;\n",
       "    }\n",
       "</style>\n",
       "<table border=\"1\" class=\"dataframe\">\n",
       "  <thead>\n",
       "    <tr style=\"text-align: right;\">\n",
       "      <th></th>\n",
       "      <th>COIL</th>\n",
       "      <th>MT</th>\n",
       "      <th>SPEED_PROCESS</th>\n",
       "      <th>TEMP_Z1</th>\n",
       "      <th>TEMP_Z2</th>\n",
       "      <th>TEMP_Z3</th>\n",
       "      <th>TEMP_Z4</th>\n",
       "      <th>TEMP_Z5</th>\n",
       "      <th>TEMP_Z6</th>\n",
       "      <th>PYRO_1_PRECHMBR</th>\n",
       "      <th>...</th>\n",
       "      <th>SPZ2_R4</th>\n",
       "      <th>SPZ1_R1_ASS</th>\n",
       "      <th>SPZ1_R2_ASS</th>\n",
       "      <th>TIRO_DECAP</th>\n",
       "      <th>SPEED_FILL</th>\n",
       "      <th>FILL_FORZA</th>\n",
       "      <th>FILL_TIRO</th>\n",
       "      <th>FILL_ALL</th>\n",
       "      <th>FILL_BENDING_POS</th>\n",
       "      <th>FILL_BENDING_NEG</th>\n",
       "    </tr>\n",
       "  </thead>\n",
       "  <tbody>\n",
       "    <tr>\n",
       "      <th>count</th>\n",
       "      <td>2.993840e+05</td>\n",
       "      <td>299384.000000</td>\n",
       "      <td>299384.000000</td>\n",
       "      <td>299384.000000</td>\n",
       "      <td>299384.000000</td>\n",
       "      <td>299384.000000</td>\n",
       "      <td>299384.000000</td>\n",
       "      <td>299384.000000</td>\n",
       "      <td>299384.000000</td>\n",
       "      <td>299384.000000</td>\n",
       "      <td>...</td>\n",
       "      <td>283737.000000</td>\n",
       "      <td>283737.000000</td>\n",
       "      <td>283737.000000</td>\n",
       "      <td>283737.000000</td>\n",
       "      <td>270904.000000</td>\n",
       "      <td>270904.000000</td>\n",
       "      <td>270904.000000</td>\n",
       "      <td>270904.000000</td>\n",
       "      <td>270904.000000</td>\n",
       "      <td>270904.000000</td>\n",
       "    </tr>\n",
       "    <tr>\n",
       "      <th>mean</th>\n",
       "      <td>4.210808e+05</td>\n",
       "      <td>1013.750454</td>\n",
       "      <td>36.030174</td>\n",
       "      <td>1236.378668</td>\n",
       "      <td>1257.600788</td>\n",
       "      <td>1266.031784</td>\n",
       "      <td>1279.476562</td>\n",
       "      <td>1293.618170</td>\n",
       "      <td>1281.422092</td>\n",
       "      <td>802.675699</td>\n",
       "      <td>...</td>\n",
       "      <td>526.644078</td>\n",
       "      <td>18.292673</td>\n",
       "      <td>18.344328</td>\n",
       "      <td>3186.598116</td>\n",
       "      <td>39.900765</td>\n",
       "      <td>689.840763</td>\n",
       "      <td>3610.710095</td>\n",
       "      <td>0.532809</td>\n",
       "      <td>0.164599</td>\n",
       "      <td>0.169975</td>\n",
       "    </tr>\n",
       "    <tr>\n",
       "      <th>std</th>\n",
       "      <td>2.484114e+05</td>\n",
       "      <td>874.832131</td>\n",
       "      <td>11.243607</td>\n",
       "      <td>87.092407</td>\n",
       "      <td>87.833443</td>\n",
       "      <td>87.717798</td>\n",
       "      <td>85.313536</td>\n",
       "      <td>88.576110</td>\n",
       "      <td>84.233837</td>\n",
       "      <td>38.910802</td>\n",
       "      <td>...</td>\n",
       "      <td>34.108621</td>\n",
       "      <td>2.699142</td>\n",
       "      <td>2.794101</td>\n",
       "      <td>1306.570596</td>\n",
       "      <td>17.267686</td>\n",
       "      <td>279.623230</td>\n",
       "      <td>982.734142</td>\n",
       "      <td>0.232301</td>\n",
       "      <td>0.040681</td>\n",
       "      <td>0.038671</td>\n",
       "    </tr>\n",
       "    <tr>\n",
       "      <th>min</th>\n",
       "      <td>2.406270e+05</td>\n",
       "      <td>0.000000</td>\n",
       "      <td>-2.304028</td>\n",
       "      <td>79.722742</td>\n",
       "      <td>74.225453</td>\n",
       "      <td>74.198610</td>\n",
       "      <td>77.426415</td>\n",
       "      <td>78.567278</td>\n",
       "      <td>79.205925</td>\n",
       "      <td>549.382500</td>\n",
       "      <td>...</td>\n",
       "      <td>-3.665034</td>\n",
       "      <td>0.000000</td>\n",
       "      <td>0.000000</td>\n",
       "      <td>856.680000</td>\n",
       "      <td>-1.809788</td>\n",
       "      <td>-496.040375</td>\n",
       "      <td>-48.285825</td>\n",
       "      <td>0.000000</td>\n",
       "      <td>-0.011853</td>\n",
       "      <td>-0.016642</td>\n",
       "    </tr>\n",
       "    <tr>\n",
       "      <th>25%</th>\n",
       "      <td>3.947170e+05</td>\n",
       "      <td>378.000000</td>\n",
       "      <td>28.063851</td>\n",
       "      <td>1236.605625</td>\n",
       "      <td>1259.813250</td>\n",
       "      <td>1271.021625</td>\n",
       "      <td>1260.090000</td>\n",
       "      <td>1261.445625</td>\n",
       "      <td>1271.056781</td>\n",
       "      <td>795.292844</td>\n",
       "      <td>...</td>\n",
       "      <td>529.919898</td>\n",
       "      <td>16.875000</td>\n",
       "      <td>16.875000</td>\n",
       "      <td>2333.722500</td>\n",
       "      <td>28.351013</td>\n",
       "      <td>496.627351</td>\n",
       "      <td>2946.052969</td>\n",
       "      <td>0.470936</td>\n",
       "      <td>0.134999</td>\n",
       "      <td>0.135002</td>\n",
       "    </tr>\n",
       "    <tr>\n",
       "      <th>50%</th>\n",
       "      <td>4.037420e+05</td>\n",
       "      <td>812.000000</td>\n",
       "      <td>33.685521</td>\n",
       "      <td>1261.473750</td>\n",
       "      <td>1272.760476</td>\n",
       "      <td>1278.000540</td>\n",
       "      <td>1286.188125</td>\n",
       "      <td>1317.151607</td>\n",
       "      <td>1293.406875</td>\n",
       "      <td>811.525114</td>\n",
       "      <td>...</td>\n",
       "      <td>530.125500</td>\n",
       "      <td>18.000000</td>\n",
       "      <td>18.000000</td>\n",
       "      <td>2901.962812</td>\n",
       "      <td>37.656312</td>\n",
       "      <td>662.102578</td>\n",
       "      <td>3790.602141</td>\n",
       "      <td>0.559548</td>\n",
       "      <td>0.135037</td>\n",
       "      <td>0.161994</td>\n",
       "    </tr>\n",
       "    <tr>\n",
       "      <th>75%</th>\n",
       "      <td>4.146100e+05</td>\n",
       "      <td>1400.000000</td>\n",
       "      <td>44.908965</td>\n",
       "      <td>1270.924798</td>\n",
       "      <td>1293.924375</td>\n",
       "      <td>1303.419825</td>\n",
       "      <td>1316.148750</td>\n",
       "      <td>1333.189687</td>\n",
       "      <td>1313.704765</td>\n",
       "      <td>823.938673</td>\n",
       "      <td>...</td>\n",
       "      <td>530.315100</td>\n",
       "      <td>20.248013</td>\n",
       "      <td>20.250000</td>\n",
       "      <td>4021.551000</td>\n",
       "      <td>49.828513</td>\n",
       "      <td>837.825196</td>\n",
       "      <td>4217.453156</td>\n",
       "      <td>0.572413</td>\n",
       "      <td>0.188993</td>\n",
       "      <td>0.189022</td>\n",
       "    </tr>\n",
       "    <tr>\n",
       "      <th>max</th>\n",
       "      <td>6.838679e+06</td>\n",
       "      <td>7273.000000</td>\n",
       "      <td>67.408785</td>\n",
       "      <td>1322.268750</td>\n",
       "      <td>1344.982500</td>\n",
       "      <td>1357.508250</td>\n",
       "      <td>1348.341750</td>\n",
       "      <td>1367.288438</td>\n",
       "      <td>1362.536250</td>\n",
       "      <td>931.753875</td>\n",
       "      <td>...</td>\n",
       "      <td>541.123650</td>\n",
       "      <td>31.405500</td>\n",
       "      <td>32.747692</td>\n",
       "      <td>9073.901250</td>\n",
       "      <td>90.010696</td>\n",
       "      <td>2933.876250</td>\n",
       "      <td>6257.584687</td>\n",
       "      <td>7.342893</td>\n",
       "      <td>0.679614</td>\n",
       "      <td>0.324028</td>\n",
       "    </tr>\n",
       "  </tbody>\n",
       "</table>\n",
       "<p>8 rows × 108 columns</p>\n",
       "</div>"
      ],
      "text/plain": [
       "               COIL             MT  SPEED_PROCESS        TEMP_Z1  \\\n",
       "count  2.993840e+05  299384.000000  299384.000000  299384.000000   \n",
       "mean   4.210808e+05    1013.750454      36.030174    1236.378668   \n",
       "std    2.484114e+05     874.832131      11.243607      87.092407   \n",
       "min    2.406270e+05       0.000000      -2.304028      79.722742   \n",
       "25%    3.947170e+05     378.000000      28.063851    1236.605625   \n",
       "50%    4.037420e+05     812.000000      33.685521    1261.473750   \n",
       "75%    4.146100e+05    1400.000000      44.908965    1270.924798   \n",
       "max    6.838679e+06    7273.000000      67.408785    1322.268750   \n",
       "\n",
       "             TEMP_Z2        TEMP_Z3        TEMP_Z4        TEMP_Z5  \\\n",
       "count  299384.000000  299384.000000  299384.000000  299384.000000   \n",
       "mean     1257.600788    1266.031784    1279.476562    1293.618170   \n",
       "std        87.833443      87.717798      85.313536      88.576110   \n",
       "min        74.225453      74.198610      77.426415      78.567278   \n",
       "25%      1259.813250    1271.021625    1260.090000    1261.445625   \n",
       "50%      1272.760476    1278.000540    1286.188125    1317.151607   \n",
       "75%      1293.924375    1303.419825    1316.148750    1333.189687   \n",
       "max      1344.982500    1357.508250    1348.341750    1367.288438   \n",
       "\n",
       "             TEMP_Z6  PYRO_1_PRECHMBR  ...        SPZ2_R4    SPZ1_R1_ASS  \\\n",
       "count  299384.000000    299384.000000  ...  283737.000000  283737.000000   \n",
       "mean     1281.422092       802.675699  ...     526.644078      18.292673   \n",
       "std        84.233837        38.910802  ...      34.108621       2.699142   \n",
       "min        79.205925       549.382500  ...      -3.665034       0.000000   \n",
       "25%      1271.056781       795.292844  ...     529.919898      16.875000   \n",
       "50%      1293.406875       811.525114  ...     530.125500      18.000000   \n",
       "75%      1313.704765       823.938673  ...     530.315100      20.248013   \n",
       "max      1362.536250       931.753875  ...     541.123650      31.405500   \n",
       "\n",
       "         SPZ1_R2_ASS     TIRO_DECAP     SPEED_FILL     FILL_FORZA  \\\n",
       "count  283737.000000  283737.000000  270904.000000  270904.000000   \n",
       "mean       18.344328    3186.598116      39.900765     689.840763   \n",
       "std         2.794101    1306.570596      17.267686     279.623230   \n",
       "min         0.000000     856.680000      -1.809788    -496.040375   \n",
       "25%        16.875000    2333.722500      28.351013     496.627351   \n",
       "50%        18.000000    2901.962812      37.656312     662.102578   \n",
       "75%        20.250000    4021.551000      49.828513     837.825196   \n",
       "max        32.747692    9073.901250      90.010696    2933.876250   \n",
       "\n",
       "           FILL_TIRO       FILL_ALL  FILL_BENDING_POS  FILL_BENDING_NEG  \n",
       "count  270904.000000  270904.000000     270904.000000     270904.000000  \n",
       "mean     3610.710095       0.532809          0.164599          0.169975  \n",
       "std       982.734142       0.232301          0.040681          0.038671  \n",
       "min       -48.285825       0.000000         -0.011853         -0.016642  \n",
       "25%      2946.052969       0.470936          0.134999          0.135002  \n",
       "50%      3790.602141       0.559548          0.135037          0.161994  \n",
       "75%      4217.453156       0.572413          0.188993          0.189022  \n",
       "max      6257.584687       7.342893          0.679614          0.324028  \n",
       "\n",
       "[8 rows x 108 columns]"
      ]
     },
     "execution_count": 7,
     "metadata": {},
     "output_type": "execute_result"
    }
   ],
   "source": [
    "df_prod.describe()"
   ]
  },
  {
   "cell_type": "code",
   "execution_count": 8,
   "metadata": {},
   "outputs": [
    {
     "name": "stdout",
     "output_type": "stream",
     "text": [
      "In 'df_def' dataframe there are 534 unique COIL values.\n"
     ]
    }
   ],
   "source": [
    "# How many unique coils are there in the defects dataframe?\n",
    "unique_values_count_0 = df_def['COIL'].nunique()\n",
    "print(f\"In 'df_def' dataframe there are {unique_values_count_0} unique COIL values.\")"
   ]
  },
  {
   "cell_type": "code",
   "execution_count": 9,
   "metadata": {},
   "outputs": [
    {
     "name": "stdout",
     "output_type": "stream",
     "text": [
      "No duplicates found in 'df_def'\n"
     ]
    }
   ],
   "source": [
    "subset_columns = ['COIL', 'MT_FROM', 'MT_TO', 'DATE']\n",
    "\n",
    "#Check for duplicates in the first DataFrame\n",
    "duplicates_df_def = df_def[df_def.duplicated(subset=subset_columns, keep=False)]\n",
    "\n",
    "\n",
    "# Display the duplicates, if any, in each DataFrame\n",
    "if not duplicates_df_def.empty:\n",
    "    print(\"Duplicates found in df_def:\")\n",
    "    print(duplicates_df_def)\n",
    "else:\n",
    "    print(\"No duplicates found in 'df_def'\")"
   ]
  },
  {
   "cell_type": "code",
   "execution_count": 10,
   "metadata": {},
   "outputs": [
    {
     "data": {
      "image/png": "[encoded data removed]",
      "text/plain": [
       "<Figure size 1000x800 with 1 Axes>"
      ]
     },
     "metadata": {},
     "output_type": "display_data"
    }
   ],
   "source": [
    "counts = df_def.iloc[:, 4:10].eq(1).sum()\n",
    "\n",
    "# Calculate total count\n",
    "total_count = counts.sum()\n",
    "\n",
    "# Calculate percentage for each count\n",
    "percentages = (counts / total_count) * 100\n",
    "\n",
    "# Create a figure\n",
    "fig, ax = plt.subplots(figsize=(10, 8))\n",
    "\n",
    "# Plot the counts using a bar chart with the specified color and font\n",
    "bars = ax.bar(counts.index, counts.values, color='#21488A')\n",
    "plt.bar(counts.index, counts.values, color='#21488A')\n",
    "plt.title('Number of Defects per type', fontweight='bold')\n",
    "plt.xlabel('Defect type', fontweight='bold')\n",
    "plt.ylabel('Count', fontweight='bold')\n",
    "\n",
    "for bar, count, percent in zip(bars, counts, percentages):\n",
    "    ax.text(bar.get_x() + bar.get_width() / 2, count + 15, str(count), ha='center', fontweight='bold', color='#010F59')\n",
    "    ax.text(bar.get_x() + bar.get_width() / 2, count + 5, f'{percent:.2f}%', ha='center', color='#010F59', fontsize='8')\n",
    "\n",
    "\n",
    "plt.show()"
   ]
  },
  {
   "cell_type": "markdown",
   "metadata": {},
   "source": [
    "### Adjusting the 'MT' column\n",
    "Since there are inconsistencies along the 'MT' column, i.e. there are coils with an inconsistent sequence of meters, we addressed this problem by creating a new variable 'MT_ADJUSTED' that ensures a correct sequence of meters (one observation every 7 meters)"
   ]
  },
  {
   "cell_type": "code",
   "execution_count": 11,
   "metadata": {},
   "outputs": [],
   "source": [
    "df_prod.sort_values(['COIL', 'DATE', 'TIME_START_PROCESS'], inplace=True)\n",
    "df_prod['MT_ADJUSTED'] = df_prod.groupby(['COIL'])['MT'] \\\n",
    "                          .transform(lambda x: np.arange(0., len(x) * 7, 7.))\n",
    "df_prod.drop('MT', axis=1, inplace=True)"
   ]
  },
  {
   "cell_type": "markdown",
   "metadata": {},
   "source": [
    "### Merging process"
   ]
  },
  {
   "cell_type": "markdown",
   "metadata": {},
   "source": [
    "Attaching production information only over coils with defects"
   ]
  },
  {
   "cell_type": "code",
   "execution_count": 12,
   "metadata": {},
   "outputs": [
    {
     "name": "stdout",
     "output_type": "stream",
     "text": [
      "Shape before dropping duplicates and unnecessary columns: {} (131179, 118)\n",
      "Shape after dropping duplicates and unnecessary columns: {} (106075, 116)\n"
     ]
    }
   ],
   "source": [
    "merged_defects = df_prod.merge(df_def, on=['COIL', 'DATE'], how='inner') # By doing so you obtain only the \n",
    "                                                                         # observations with defects\n",
    "print(\"Shape before dropping duplicates and unnecessary columns: {}\", merged_defects.shape)\n",
    "\n",
    "merged_defects = merged_defects[(merged_defects['MT_ADJUSTED'] >= merged_defects['MT_FROM']) & \n",
    "                      (merged_defects['MT_ADJUSTED'] < merged_defects['MT_TO'])] # This filtering is needed as you \n",
    "                                                                                 # want to specify that \n",
    "                                                                                 # 'MT_ADJUSTED' must be be found \n",
    "                                                                                 # inside the defect range \n",
    "merged_defects.drop_duplicates(['COIL', 'DATE', 'MT_ADJUSTED'], inplace=True)\n",
    "merged_defects.drop(['MT_FROM', 'MT_TO'], axis=1, inplace=True)\n",
    "print(\"Shape after dropping duplicates and unnecessary columns: {}\", merged_defects.shape)"
   ]
  },
  {
   "cell_type": "code",
   "execution_count": 13,
   "metadata": {},
   "outputs": [
    {
     "data": {
      "text/html": [
       "<div>\n",
       "<style scoped>\n",
       "    .dataframe tbody tr th:only-of-type {\n",
       "        vertical-align: middle;\n",
       "    }\n",
       "\n",
       "    .dataframe tbody tr th {\n",
       "        vertical-align: top;\n",
       "    }\n",
       "\n",
       "    .dataframe thead th {\n",
       "        text-align: right;\n",
       "    }\n",
       "</style>\n",
       "<table border=\"1\" class=\"dataframe\">\n",
       "  <thead>\n",
       "    <tr style=\"text-align: right;\">\n",
       "      <th></th>\n",
       "      <th>COIL</th>\n",
       "      <th>DATE</th>\n",
       "      <th>TIME_START_PROCESS</th>\n",
       "      <th>SPEED_PROCESS</th>\n",
       "      <th>TEMP_Z1</th>\n",
       "      <th>TEMP_Z2</th>\n",
       "      <th>TEMP_Z3</th>\n",
       "      <th>TEMP_Z4</th>\n",
       "      <th>TEMP_Z5</th>\n",
       "      <th>TEMP_Z6</th>\n",
       "      <th>...</th>\n",
       "      <th>FILL_ALL</th>\n",
       "      <th>FILL_BENDING_POS</th>\n",
       "      <th>FILL_BENDING_NEG</th>\n",
       "      <th>MT_ADJUSTED</th>\n",
       "      <th>DIF_TIPO_1</th>\n",
       "      <th>DIF_TIPO_2</th>\n",
       "      <th>DIF_TIPO_3</th>\n",
       "      <th>DIF_TIPO_4</th>\n",
       "      <th>DIF_TIPO_5</th>\n",
       "      <th>DIF_TIPO_6</th>\n",
       "    </tr>\n",
       "  </thead>\n",
       "  <tbody>\n",
       "    <tr>\n",
       "      <th>0</th>\n",
       "      <td>240627</td>\n",
       "      <td>2019-03-15</td>\n",
       "      <td>14:25:23.060</td>\n",
       "      <td>16.934625</td>\n",
       "      <td>671.967562</td>\n",
       "      <td>679.751438</td>\n",
       "      <td>688.119187</td>\n",
       "      <td>716.717250</td>\n",
       "      <td>734.616563</td>\n",
       "      <td>734.603062</td>\n",
       "      <td>...</td>\n",
       "      <td>NaN</td>\n",
       "      <td>NaN</td>\n",
       "      <td>NaN</td>\n",
       "      <td>0.0</td>\n",
       "      <td>NaN</td>\n",
       "      <td>NaN</td>\n",
       "      <td>NaN</td>\n",
       "      <td>NaN</td>\n",
       "      <td>NaN</td>\n",
       "      <td>NaN</td>\n",
       "    </tr>\n",
       "    <tr>\n",
       "      <th>1</th>\n",
       "      <td>240627</td>\n",
       "      <td>2019-03-15</td>\n",
       "      <td>14:25:53.060</td>\n",
       "      <td>16.773638</td>\n",
       "      <td>668.635875</td>\n",
       "      <td>676.207125</td>\n",
       "      <td>681.034500</td>\n",
       "      <td>710.093250</td>\n",
       "      <td>729.040500</td>\n",
       "      <td>727.025625</td>\n",
       "      <td>...</td>\n",
       "      <td>NaN</td>\n",
       "      <td>NaN</td>\n",
       "      <td>NaN</td>\n",
       "      <td>7.0</td>\n",
       "      <td>NaN</td>\n",
       "      <td>NaN</td>\n",
       "      <td>NaN</td>\n",
       "      <td>NaN</td>\n",
       "      <td>NaN</td>\n",
       "      <td>NaN</td>\n",
       "    </tr>\n",
       "    <tr>\n",
       "      <th>2</th>\n",
       "      <td>240627</td>\n",
       "      <td>2019-03-15</td>\n",
       "      <td>14:26:23.060</td>\n",
       "      <td>11.142165</td>\n",
       "      <td>669.105375</td>\n",
       "      <td>677.042625</td>\n",
       "      <td>678.493125</td>\n",
       "      <td>707.967750</td>\n",
       "      <td>727.783500</td>\n",
       "      <td>724.035750</td>\n",
       "      <td>...</td>\n",
       "      <td>NaN</td>\n",
       "      <td>NaN</td>\n",
       "      <td>NaN</td>\n",
       "      <td>14.0</td>\n",
       "      <td>NaN</td>\n",
       "      <td>NaN</td>\n",
       "      <td>NaN</td>\n",
       "      <td>NaN</td>\n",
       "      <td>NaN</td>\n",
       "      <td>NaN</td>\n",
       "    </tr>\n",
       "    <tr>\n",
       "      <th>3</th>\n",
       "      <td>240627</td>\n",
       "      <td>2019-03-15</td>\n",
       "      <td>14:27:08.060</td>\n",
       "      <td>11.148851</td>\n",
       "      <td>671.631750</td>\n",
       "      <td>681.066000</td>\n",
       "      <td>679.704750</td>\n",
       "      <td>707.241375</td>\n",
       "      <td>727.886250</td>\n",
       "      <td>723.072375</td>\n",
       "      <td>...</td>\n",
       "      <td>NaN</td>\n",
       "      <td>NaN</td>\n",
       "      <td>NaN</td>\n",
       "      <td>21.0</td>\n",
       "      <td>NaN</td>\n",
       "      <td>NaN</td>\n",
       "      <td>NaN</td>\n",
       "      <td>NaN</td>\n",
       "      <td>NaN</td>\n",
       "      <td>NaN</td>\n",
       "    </tr>\n",
       "    <tr>\n",
       "      <th>4</th>\n",
       "      <td>240627</td>\n",
       "      <td>2019-03-15</td>\n",
       "      <td>14:27:38.060</td>\n",
       "      <td>15.657188</td>\n",
       "      <td>675.052875</td>\n",
       "      <td>686.972813</td>\n",
       "      <td>683.336250</td>\n",
       "      <td>710.432437</td>\n",
       "      <td>730.182375</td>\n",
       "      <td>724.168688</td>\n",
       "      <td>...</td>\n",
       "      <td>NaN</td>\n",
       "      <td>NaN</td>\n",
       "      <td>NaN</td>\n",
       "      <td>28.0</td>\n",
       "      <td>NaN</td>\n",
       "      <td>NaN</td>\n",
       "      <td>NaN</td>\n",
       "      <td>NaN</td>\n",
       "      <td>NaN</td>\n",
       "      <td>NaN</td>\n",
       "    </tr>\n",
       "  </tbody>\n",
       "</table>\n",
       "<p>5 rows × 116 columns</p>\n",
       "</div>"
      ],
      "text/plain": [
       "     COIL        DATE TIME_START_PROCESS  SPEED_PROCESS     TEMP_Z1  \\\n",
       "0  240627  2019-03-15       14:25:23.060      16.934625  671.967562   \n",
       "1  240627  2019-03-15       14:25:53.060      16.773638  668.635875   \n",
       "2  240627  2019-03-15       14:26:23.060      11.142165  669.105375   \n",
       "3  240627  2019-03-15       14:27:08.060      11.148851  671.631750   \n",
       "4  240627  2019-03-15       14:27:38.060      15.657188  675.052875   \n",
       "\n",
       "      TEMP_Z2     TEMP_Z3     TEMP_Z4     TEMP_Z5     TEMP_Z6  ...  FILL_ALL  \\\n",
       "0  679.751438  688.119187  716.717250  734.616563  734.603062  ...       NaN   \n",
       "1  676.207125  681.034500  710.093250  729.040500  727.025625  ...       NaN   \n",
       "2  677.042625  678.493125  707.967750  727.783500  724.035750  ...       NaN   \n",
       "3  681.066000  679.704750  707.241375  727.886250  723.072375  ...       NaN   \n",
       "4  686.972813  683.336250  710.432437  730.182375  724.168688  ...       NaN   \n",
       "\n",
       "   FILL_BENDING_POS  FILL_BENDING_NEG  MT_ADJUSTED  DIF_TIPO_1  DIF_TIPO_2  \\\n",
       "0               NaN               NaN          0.0         NaN         NaN   \n",
       "1               NaN               NaN          7.0         NaN         NaN   \n",
       "2               NaN               NaN         14.0         NaN         NaN   \n",
       "3               NaN               NaN         21.0         NaN         NaN   \n",
       "4               NaN               NaN         28.0         NaN         NaN   \n",
       "\n",
       "   DIF_TIPO_3  DIF_TIPO_4  DIF_TIPO_5  DIF_TIPO_6  \n",
       "0         NaN         NaN         NaN         NaN  \n",
       "1         NaN         NaN         NaN         NaN  \n",
       "2         NaN         NaN         NaN         NaN  \n",
       "3         NaN         NaN         NaN         NaN  \n",
       "4         NaN         NaN         NaN         NaN  \n",
       "\n",
       "[5 rows x 116 columns]"
      ]
     },
     "execution_count": 13,
     "metadata": {},
     "output_type": "execute_result"
    }
   ],
   "source": [
    "lst_col_labels = ['COIL', 'DATE', 'MT_ADJUSTED']+[i for i in merged_defects.columns if 'DIF_TIPO' in i]\n",
    "merged_defects = merged_defects[lst_col_labels]\n",
    "merged_final = df_prod.merge(merged_defects, on = ['COIL', 'DATE', 'MT_ADJUSTED'], how='left')\n",
    "merged_final.head()"
   ]
  },
  {
   "cell_type": "markdown",
   "metadata": {},
   "source": [
    "After this process, 'merged_final' contains the production data with defect information correctly applied. Each row in 'merged_final' represents production data, and if there were any defects associated with the particular meter range of a coil, this information is now included in the corresponding rows."
   ]
  },
  {
   "cell_type": "markdown",
   "metadata": {},
   "source": [
    "Downloading the merged data in a csv format (in case you want to visualize it on Excel) \\\n",
    "P.S. Do not run this if you don't want to download it!"
   ]
  },
  {
   "cell_type": "code",
   "execution_count": 14,
   "metadata": {},
   "outputs": [],
   "source": [
    "# ! pip install openpyxl\n",
    "# merged_df.to_excel('merged_data.xlsx', index=False, engine='openpyxl')"
   ]
  },
  {
   "cell_type": "markdown",
   "metadata": {},
   "source": [
    "### Dealing with Missing Values"
   ]
  },
  {
   "cell_type": "markdown",
   "metadata": {},
   "source": [
    "Question: Are there missing values in the ['DIF_TIPO_1', 'DIF_TIPO_2', 'DIF_TIPO_3', 'DIF_TIPO_4', 'DIF_TIPO_5', 'DIF_TIPO_6'] columns?"
   ]
  },
  {
   "cell_type": "code",
   "execution_count": 15,
   "metadata": {},
   "outputs": [
    {
     "data": {
      "text/plain": [
       "DIF_TIPO_1    193309\n",
       "DIF_TIPO_2    193309\n",
       "DIF_TIPO_3    193309\n",
       "DIF_TIPO_4    193309\n",
       "DIF_TIPO_5    193309\n",
       "DIF_TIPO_6    193309\n",
       "dtype: int64"
      ]
     },
     "execution_count": 15,
     "metadata": {},
     "output_type": "execute_result"
    }
   ],
   "source": [
    "merged_final[['DIF_TIPO_1', 'DIF_TIPO_2', 'DIF_TIPO_3', 'DIF_TIPO_4', \n",
    "           'DIF_TIPO_5', 'DIF_TIPO_6']].isna().sum()"
   ]
  },
  {
   "cell_type": "markdown",
   "metadata": {},
   "source": [
    "Answer: Yes. Therefore, we need to convern Null values to 0s for observations that have no defects"
   ]
  },
  {
   "cell_type": "code",
   "execution_count": 16,
   "metadata": {},
   "outputs": [
    {
     "data": {
      "text/plain": [
       "DIF_TIPO_1    0\n",
       "DIF_TIPO_2    0\n",
       "DIF_TIPO_3    0\n",
       "DIF_TIPO_4    0\n",
       "DIF_TIPO_5    0\n",
       "DIF_TIPO_6    0\n",
       "dtype: int64"
      ]
     },
     "execution_count": 16,
     "metadata": {},
     "output_type": "execute_result"
    }
   ],
   "source": [
    "# List of defect columns - replace or extend this with your actual defect column names\n",
    "defect_columns = ['DIF_TIPO_1', 'DIF_TIPO_2', 'DIF_TIPO_3', 'DIF_TIPO_4', 'DIF_TIPO_5', 'DIF_TIPO_6']\n",
    "\n",
    "# Replace NaN values with 0 in defect columns\n",
    "for col in defect_columns:\n",
    "    merged_final[col] = merged_final[col].fillna(0)\n",
    "\n",
    "merged_final[['DIF_TIPO_1', 'DIF_TIPO_2', 'DIF_TIPO_3', 'DIF_TIPO_4', \n",
    "           'DIF_TIPO_5', 'DIF_TIPO_6']].isna().sum()"
   ]
  },
  {
   "cell_type": "code",
   "execution_count": 17,
   "metadata": {},
   "outputs": [
    {
     "data": {
      "text/plain": [
       "908899"
      ]
     },
     "execution_count": 17,
     "metadata": {},
     "output_type": "execute_result"
    }
   ],
   "source": [
    "# Checking overall missing values\n",
    "merged_final.isna().sum().sum()"
   ]
  },
  {
   "cell_type": "markdown",
   "metadata": {},
   "source": [
    "Let's visualize missing values with a bar chart"
   ]
  },
  {
   "cell_type": "code",
   "execution_count": 18,
   "metadata": {},
   "outputs": [
    {
     "data": {
      "image/png": "[encoded data removed]",
      "text/plain": [
       "<Figure size 1000x600 with 1 Axes>"
      ]
     },
     "metadata": {},
     "output_type": "display_data"
    }
   ],
   "source": [
    "missing_values = merged_final.isna().sum()\n",
    "\n",
    "plt.figure(figsize=(10, 6))\n",
    "missing_values.plot(kind='bar')\n",
    "plt.xlabel('Columns')\n",
    "plt.ylabel('Number of Missing Values')\n",
    "plt.title('Histogram of Missing Values in merged_df')\n",
    "plt.xticks(rotation=90, fontsize = 5)\n",
    "plt.show()"
   ]
  },
  {
   "cell_type": "markdown",
   "metadata": {},
   "source": [
    "In order to deal with the missing values, we decided to procceed with imputing the mean of each column, since the loss of information deriving from the elimination of columns would be too significant"
   ]
  },
  {
   "cell_type": "code",
   "execution_count": 19,
   "metadata": {},
   "outputs": [],
   "source": [
    "for column in merged_final.columns:\n",
    "    # Check if the column is numeric (float or int)\n",
    "    if pd.api.types.is_numeric_dtype(merged_final[column]):\n",
    "        # Calculate the mean of the current column, skipping NaN values\n",
    "        mean_value = merged_final[column].mean()\n",
    "        \n",
    "        # Replace NaNs in the column with the mean value\n",
    "        merged_final[column].fillna(mean_value, inplace=True)"
   ]
  },
  {
   "cell_type": "code",
   "execution_count": 20,
   "metadata": {},
   "outputs": [
    {
     "name": "stdout",
     "output_type": "stream",
     "text": [
      "After imputation we end up with 0 missing values in the dataset\n"
     ]
    }
   ],
   "source": [
    "# Checking overall missing values\n",
    "print(f'After imputation we end up with {merged_final.isna().sum().sum()} missing values in the dataset')"
   ]
  },
  {
   "cell_type": "markdown",
   "metadata": {},
   "source": [
    "###  Dealing with Outliers"
   ]
  },
  {
   "cell_type": "markdown",
   "metadata": {},
   "source": [
    "Let's first identify the outliers by considering those values that fall outside of the 1st and 99th percentile range"
   ]
  },
  {
   "cell_type": "code",
   "execution_count": 21,
   "metadata": {},
   "outputs": [],
   "source": [
    "def get_outlier_indices(merged_final, column):\n",
    "    q1 = merged_final[column].quantile(0.01)\n",
    "    q3 = merged_final[column].quantile(0.99)\n",
    "    iqr = q3 - q1\n",
    "    lower_bound = q1 - (1.5 * iqr)\n",
    "    upper_bound = q3 + (1.5 * iqr)\n",
    "    outliers = merged_final[(merged_final[column] < lower_bound) | (merged_final[column] > upper_bound)]\n",
    "    return outliers.index\n",
    "\n",
    "# Get a list of all outlier indices\n",
    "outlier_indices = []\n",
    "for column in merged_final.columns:\n",
    "    if pd.api.types.is_numeric_dtype(merged_final[column]):\n",
    "        outlier_indices.extend(get_outlier_indices(merged_final, column))\n",
    "\n",
    "# Remove duplicate indices\n",
    "outlier_indices = list(set(outlier_indices))\n",
    "\n",
    "# Drop the outliers from the DataFrame\n",
    "df_cleaned = merged_final.drop(outlier_indices)\n"
   ]
  },
  {
   "cell_type": "markdown",
   "metadata": {},
   "source": [
    "# 2. Data Preprocessing"
   ]
  },
  {
   "cell_type": "markdown",
   "metadata": {},
   "source": [
    "Columns ranges"
   ]
  },
  {
   "cell_type": "code",
   "execution_count": 22,
   "metadata": {},
   "outputs": [
    {
     "data": {
      "text/html": [
       "<div>\n",
       "<style scoped>\n",
       "    .dataframe tbody tr th:only-of-type {\n",
       "        vertical-align: middle;\n",
       "    }\n",
       "\n",
       "    .dataframe tbody tr th {\n",
       "        vertical-align: top;\n",
       "    }\n",
       "\n",
       "    .dataframe thead th {\n",
       "        text-align: right;\n",
       "    }\n",
       "</style>\n",
       "<table border=\"1\" class=\"dataframe\">\n",
       "  <thead>\n",
       "    <tr style=\"text-align: right;\">\n",
       "      <th></th>\n",
       "      <th>Column Name</th>\n",
       "      <th>Minimum Value</th>\n",
       "      <th>Maximum Value</th>\n",
       "    </tr>\n",
       "  </thead>\n",
       "  <tbody>\n",
       "    <tr>\n",
       "      <th>0</th>\n",
       "      <td>SPEED_PROCESS</td>\n",
       "      <td>0.000000</td>\n",
       "      <td>67.401878</td>\n",
       "    </tr>\n",
       "    <tr>\n",
       "      <th>1</th>\n",
       "      <td>TEMP_Z1</td>\n",
       "      <td>323.033625</td>\n",
       "      <td>1322.268750</td>\n",
       "    </tr>\n",
       "    <tr>\n",
       "      <th>2</th>\n",
       "      <td>TEMP_Z2</td>\n",
       "      <td>317.226750</td>\n",
       "      <td>1344.982500</td>\n",
       "    </tr>\n",
       "    <tr>\n",
       "      <th>3</th>\n",
       "      <td>TEMP_Z3</td>\n",
       "      <td>319.892250</td>\n",
       "      <td>1357.508250</td>\n",
       "    </tr>\n",
       "    <tr>\n",
       "      <th>4</th>\n",
       "      <td>TEMP_Z4</td>\n",
       "      <td>320.782500</td>\n",
       "      <td>1348.341750</td>\n",
       "    </tr>\n",
       "  </tbody>\n",
       "</table>\n",
       "</div>"
      ],
      "text/plain": [
       "     Column Name  Minimum Value  Maximum Value\n",
       "0  SPEED_PROCESS       0.000000      67.401878\n",
       "1        TEMP_Z1     323.033625    1322.268750\n",
       "2        TEMP_Z2     317.226750    1344.982500\n",
       "3        TEMP_Z3     319.892250    1357.508250\n",
       "4        TEMP_Z4     320.782500    1348.341750"
      ]
     },
     "execution_count": 22,
     "metadata": {},
     "output_type": "execute_result"
    }
   ],
   "source": [
    "# Initialize lists to store the data\n",
    "column_names = []\n",
    "min_values = []\n",
    "max_values = []\n",
    "\n",
    "# Iterate through each column in the DataFrame\n",
    "for column in df_cleaned.columns[3:]:\n",
    "    column_names.append(column)\n",
    "    min_values.append(df_cleaned[column].min())\n",
    "    max_values.append(df_cleaned[column].max())\n",
    "\n",
    "# Create a new DataFrame with the summary information\n",
    "ranges_df = pd.DataFrame({'Column Name': column_names, 'Minimum Value': min_values, 'Maximum Value': max_values})\n",
    "\n",
    "ranges_df.head(5)\n"
   ]
  },
  {
   "cell_type": "markdown",
   "metadata": {},
   "source": [
    "We wanted to check whether our columns values had different ranges. By exploring the dataframe above we can safely state that it is the case, therefore we could consider scaling the data"
   ]
  },
  {
   "cell_type": "markdown",
   "metadata": {},
   "source": [
    "### Normalization"
   ]
  },
  {
   "cell_type": "code",
   "execution_count": 23,
   "metadata": {},
   "outputs": [],
   "source": [
    "# Create a StandardScaler object\n",
    "scaler = StandardScaler()\n",
    "\n",
    "# List of defect columns to exclude\n",
    "defect_columns = ['DIF_TIPO_1', 'DIF_TIPO_2', 'DIF_TIPO_3', 'DIF_TIPO_4', 'DIF_TIPO_5', 'DIF_TIPO_6']\n",
    "\n",
    "# Select all numeric columns\n",
    "numeric_cols = df_cleaned.select_dtypes(include=[np.number]).columns\n",
    "\n",
    "# Filter out the defect columns\n",
    "numeric_cols = [col for col in numeric_cols if col not in defect_columns if col not in ['COIL', 'MT_ADJUSTED']]\n",
    "\n",
    "df_cleaned[numeric_cols] = scaler.fit_transform(df_cleaned[numeric_cols])"
   ]
  },
  {
   "cell_type": "markdown",
   "metadata": {},
   "source": [
    "**'df_cleaned'** now contains normalized data"
   ]
  },
  {
   "cell_type": "markdown",
   "metadata": {},
   "source": [
    "### Merging the defects columns"
   ]
  },
  {
   "cell_type": "code",
   "execution_count": 24,
   "metadata": {},
   "outputs": [
    {
     "name": "stderr",
     "output_type": "stream",
     "text": [
      "C:\\Users\\simon\\AppData\\Local\\Temp\\ipykernel_12688\\2061879814.py:2: PerformanceWarning: DataFrame is highly fragmented.  This is usually the result of calling `frame.insert` many times, which has poor performance.  Consider joining all columns at once using pd.concat(axis=1) instead. To get a de-fragmented frame, use `newframe = frame.copy()`\n",
      "  df_cleaned['Has_Defect'] = df_cleaned[defect_columns].max(axis=1)\n"
     ]
    }
   ],
   "source": [
    "# Create a new column 'Has_Defect' which is 1 if any of 'DIF_TIPO_X' columns are 1, otherwise 0\n",
    "df_cleaned['Has_Defect'] = df_cleaned[defect_columns].max(axis=1)\n",
    "cols_to_drop = ['DIF_TIPO_1', 'DIF_TIPO_2', 'DIF_TIPO_3', 'DIF_TIPO_4', 'DIF_TIPO_5', 'DIF_TIPO_6']\n",
    "df_new = df_cleaned.drop(cols_to_drop,  axis=1)\n",
    "\n",
    "# Now df['Has_Defect'] is 1 for rows where there's at least one defect, and 0 where there are none"
   ]
  },
  {
   "cell_type": "markdown",
   "metadata": {},
   "source": [
    "**'df_new'** now contains data with the binary variable 'Has_Defect'"
   ]
  },
  {
   "cell_type": "code",
   "execution_count": 25,
   "metadata": {},
   "outputs": [
    {
     "name": "stdout",
     "output_type": "stream",
     "text": [
      "The number of records that have at least 1 defect is 101032\n"
     ]
    }
   ],
   "source": [
    "# Count the values of the 'Has_Defect' column\n",
    "defect_counts = df_new['Has_Defect'].value_counts()\n",
    "print(f\"The number of records that have at least 1 defect is {defect_counts[1]}\")"
   ]
  },
  {
   "cell_type": "markdown",
   "metadata": {},
   "source": [
    "### Distribution of defects"
   ]
  },
  {
   "cell_type": "code",
   "execution_count": 26,
   "metadata": {},
   "outputs": [
    {
     "data": {
      "image/png": "[encoded data removed]",
      "text/plain": [
       "<Figure size 640x480 with 1 Axes>"
      ]
     },
     "metadata": {},
     "output_type": "display_data"
    }
   ],
   "source": [
    "# Looking at the distribution of defects\n",
    "sns.barplot(x=defect_counts.index, y=defect_counts.values, palette=\"muted\")\n",
    "\n",
    "# Set the labels and title\n",
    "plt.xlabel('Has Defect')\n",
    "plt.ylabel('Number of Records')\n",
    "plt.title('Distribution of Records With and Without Defects')\n",
    "plt.xticks([0, 1], ['No Defect', 'Defect'])  # Replace with [1, 0] if 1 represents 'Defect'\n",
    "\n",
    "# Show the plot\n",
    "plt.show()"
   ]
  },
  {
   "cell_type": "markdown",
   "metadata": {},
   "source": [
    "Here above we can see a clear imbalance between the two classes"
   ]
  },
  {
   "cell_type": "code",
   "execution_count": 27,
   "metadata": {},
   "outputs": [
    {
     "data": {
      "image/png": "[encoded data removed]",
      "text/plain": [
       "<Figure size 640x480 with 1 Axes>"
      ]
     },
     "metadata": {},
     "output_type": "display_data"
    }
   ],
   "source": [
    "# Ensure the date column is in datetime format\n",
    "df_new['DATE'] = pd.to_datetime(df_new['DATE'])\n",
    "\n",
    "# If you have a binary 'defect' column, use sum. If not, adjust this step accordingly.\n",
    "defects_per_day = df_new.groupby('DATE')['Has_Defect'].sum()\n",
    "\n",
    "# Plot the distribution\n",
    "defects_per_day.plot(kind='bar', width=1.2, color='purple') # or 'line', depending on your preference\n",
    "plt.title('Distribution of Defects per Day')\n",
    "plt.xlabel('Date')\n",
    "plt.ylabel('Number of Defects')\n",
    "plt.xticks(rotation=90, fontsize = 5)\n",
    "plt.show()"
   ]
  },
  {
   "cell_type": "markdown",
   "metadata": {},
   "source": [
    "## Feature Selection"
   ]
  },
  {
   "cell_type": "markdown",
   "metadata": {},
   "source": [
    "### Feature reduction using Correlation"
   ]
  },
  {
   "cell_type": "markdown",
   "metadata": {},
   "source": [
    "The number of features is definetely too high. We should approach this problem by eliminating  redundant or irrelevant information, and focusing on the most important features that contribute to our target variable. \n",
    "We followed a simple strategy, i.e. we set a threshold for correlation (0.65) and deleted the features whose correlation exceeded this threshold."
   ]
  },
  {
   "cell_type": "code",
   "execution_count": 53,
   "metadata": {},
   "outputs": [
    {
     "data": {
      "image/png": "[encoded data removed]",
      "text/plain": [
       "<Figure size 640x480 with 2 Axes>"
      ]
     },
     "metadata": {},
     "output_type": "display_data"
    }
   ],
   "source": [
    "# Select only numeric data\n",
    "numeric_data = df_new.select_dtypes(include=[np.number])\n",
    "\n",
    "# Calculate the correlation matrix\n",
    "corr_matrix = numeric_data.corr().abs()\n",
    "\n",
    "sns.heatmap(corr_matrix, \n",
    "            xticklabels=corr_matrix.columns,\n",
    "            yticklabels=corr_matrix.columns,\n",
    "            cmap='coolwarm',  # Choose a colormap that fits your needs\n",
    "            annot=False,      # Add annotation to each cell\n",
    "            linewidths=.5,   # Add lines between cells\n",
    "            fmt=\".2f\")       # Format for the annotation\n",
    "\n",
    "plt.tick_params(axis='x', which='major', labelsize=4)\n",
    "plt.tick_params(axis='y', which='major', labelsize=4)\n",
    "# Show the plot\n",
    "plt.show()"
   ]
  },
  {
   "cell_type": "code",
   "execution_count": 64,
   "metadata": {},
   "outputs": [],
   "source": [
    "# # Select upper triangle of correlation matrix\n",
    "# upper = corr_matrix.where(np.triu(np.ones(corr_matrix.shape), k=1).astype(bool))\n",
    "\n",
    "# # Find index of feature columns with correlation greater than 0.90\n",
    "# to_drop = [column for column in upper.columns if any(upper[column] > 0.8)]\n",
    "\n",
    "# # Drop highly correlated features\n",
    "# df_reduced = df_new.drop(to_drop, axis=1)\n",
    "\n",
    "# print(f\"'df_reduced' now contains {df_reduced.shape[0]} rows and {df_reduced.shape[1]} columns\")\n"
   ]
  },
  {
   "cell_type": "code",
   "execution_count": 65,
   "metadata": {},
   "outputs": [],
   "source": [
    "# Select only numeric data\n",
    "# numeric_data_reduced = df_reduced.select_dtypes(include=[np.number])\n",
    "# corr = numeric_data_reduced.corr()\n",
    "\n",
    "# sns.heatmap(corr, \n",
    "#             xticklabels=corr.columns,\n",
    "#             yticklabels=corr.columns,\n",
    "#             cmap='coolwarm',  # Choose a colormap that fits your needs\n",
    "#             annot=False,      # Add annotation to each cell\n",
    "#             linewidths=.5,   # Add lines between cells\n",
    "#             fmt=\".2f\")       # Format for the annotation\n",
    "\n",
    "# plt.tick_params(axis='x', which='major', labelsize=4)\n",
    "# plt.tick_params(axis='y', which='major', labelsize=4)\n",
    "# # Show the plot\n",
    "# plt.show()"
   ]
  },
  {
   "cell_type": "code",
   "execution_count": 66,
   "metadata": {},
   "outputs": [],
   "source": [
    "# prod_columns = list(df_reduced.columns)\n",
    "# print(prod_columns) "
   ]
  },
  {
   "cell_type": "markdown",
   "metadata": {},
   "source": [
    "### Feature Importance with Random Forest"
   ]
  },
  {
   "cell_type": "code",
   "execution_count": 68,
   "metadata": {},
   "outputs": [],
   "source": [
    "target = \"Has_Defect\"\n",
    "X = df_new.drop(['COIL', 'MT_ADJUSTED', 'DATE', 'TIME_START_PROCESS', target], axis=1)\n",
    "y = df_new[target]"
   ]
  },
  {
   "cell_type": "code",
   "execution_count": 69,
   "metadata": {},
   "outputs": [
    {
     "name": "stdout",
     "output_type": "stream",
     "text": [
      "(170820, 106) (113880, 106) (170820,) (113880,)\n"
     ]
    }
   ],
   "source": [
    "# Split the dataset into a training set and a test set\n",
    "train_size = 0.6\n",
    "random_state = 42\n",
    "Xtrain, Xtest, ytrain, ytest = train_test_split(X, y, train_size = train_size, random_state = random_state)\n",
    "print(Xtrain.shape, Xtest.shape, ytrain.shape, ytest.shape)"
   ]
  },
  {
   "cell_type": "code",
   "execution_count": 70,
   "metadata": {},
   "outputs": [
    {
     "name": "stdout",
     "output_type": "stream",
     "text": [
      "Feature Ranking:\n",
      "Rank 1: Feature 'TEMP_Z2' - Importance Score: 0.03825178975626006\n",
      "Rank 2: Feature 'TEMP_Z6' - Importance Score: 0.03714559613390147\n",
      "Rank 3: Feature 'TEMP_Z5' - Importance Score: 0.03263071296309675\n",
      "Rank 4: Feature 'TEMP_Z3' - Importance Score: 0.02368330186079935\n",
      "Rank 5: Feature 'TEMP_Z1' - Importance Score: 0.02356403805181129\n",
      "Rank 6: Feature 'TEMP_Z4' - Importance Score: 0.021607553488229736\n",
      "Rank 7: Feature 'COOL_1B' - Importance Score: 0.020556444428028665\n",
      "Rank 8: Feature 'PYRO_2_FRST_3_ZONE' - Importance Score: 0.02015584026910092\n",
      "Rank 9: Feature 'TIRO_DECAP' - Importance Score: 0.019366456134273877\n",
      "Rank 10: Feature 'GAS_Z4_2' - Importance Score: 0.018693692542219226\n",
      "Rank 11: Feature 'GAS_Z4_1' - Importance Score: 0.01774622524275752\n",
      "Rank 12: Feature 'AIR_Z4_2' - Importance Score: 0.017189297576492565\n",
      "Rank 13: Feature 'FILL_TIRO' - Importance Score: 0.01677979527957504\n",
      "Rank 14: Feature 'ELET_FE2' - Importance Score: 0.015998825658397834\n",
      "Rank 15: Feature 'COOL_2B' - Importance Score: 0.015706089789856915\n",
      "Rank 16: Feature 'SPEED_PROCESS' - Importance Score: 0.015634905470283157\n",
      "Rank 17: Feature 'TIRO_FORNO' - Importance Score: 0.015215489610247896\n",
      "Rank 18: Feature 'DEC_HF' - Importance Score: 0.01427806849159402\n",
      "Rank 19: Feature 'LASER_FRN_1' - Importance Score: 0.013754733793837688\n",
      "Rank 20: Feature 'FRN_PHF_PRESSURE' - Importance Score: 0.01294981745997199\n",
      "Rank 21: Feature 'DEC_H2SO4' - Importance Score: 0.012490545533354807\n",
      "Rank 22: Feature 'ELET_H2SO4' - Importance Score: 0.012358455916462069\n",
      "Rank 23: Feature 'LASER_FRN_2' - Importance Score: 0.011846468792070857\n",
      "Rank 24: Feature 'LASER_FRN_3' - Importance Score: 0.011787484854578468\n",
      "Rank 25: Feature 'LASER_RAFF_6' - Importance Score: 0.011727295704934257\n",
      "Rank 26: Feature 'AIR_Z4_1' - Importance Score: 0.011705196249746702\n",
      "Rank 27: Feature 'DEC_FETOT' - Importance Score: 0.011671989487591709\n",
      "Rank 28: Feature 'SPZ1_R1_ASS' - Importance Score: 0.011284616185852142\n",
      "Rank 29: Feature 'PYRO_3_LST_3_ZONE' - Importance Score: 0.010965863516528958\n",
      "Rank 30: Feature 'COOL_3' - Importance Score: 0.0108010744889283\n",
      "Rank 31: Feature 'LASER_RAFF_3' - Importance Score: 0.010797586108723688\n",
      "Rank 32: Feature 'LASER_RAFF_2' - Importance Score: 0.010436336690199227\n",
      "Rank 33: Feature 'AIR_Z3_2' - Importance Score: 0.010329393873464883\n",
      "Rank 34: Feature 'COOL_1A' - Importance Score: 0.010307189413077074\n",
      "Rank 35: Feature 'DEC_FE2' - Importance Score: 0.010263645206623418\n",
      "Rank 36: Feature 'AIR_Z3_1' - Importance Score: 0.010130243587826913\n",
      "Rank 37: Feature 'DEC_FE3' - Importance Score: 0.010103028457005352\n",
      "Rank 38: Feature 'GAS_Z2_1' - Importance Score: 0.010059781386145552\n",
      "Rank 39: Feature 'LS_COOLING' - Importance Score: 0.00977859615781803\n",
      "Rank 40: Feature 'SPZ1_R2_ASS' - Importance Score: 0.009665962681679458\n",
      "Rank 41: Feature 'GAS_Z3_1' - Importance Score: 0.009510922310704191\n",
      "Rank 42: Feature 'LASER_RAFF_7' - Importance Score: 0.009220212296692357\n",
      "Rank 43: Feature 'COOL_2A' - Importance Score: 0.009163066530020313\n",
      "Rank 44: Feature 'PYRO_1_PRECHMBR' - Importance Score: 0.009045347188248806\n",
      "Rank 45: Feature 'VENT_4' - Importance Score: 0.008949918402275108\n",
      "Rank 46: Feature 'FILL_ALL' - Importance Score: 0.008868317179845004\n",
      "Rank 47: Feature 'VENT_5' - Importance Score: 0.008747716457442083\n",
      "Rank 48: Feature 'AIR_Z6_2' - Importance Score: 0.008705066724343971\n",
      "Rank 49: Feature 'LASER_FRN_9' - Importance Score: 0.008703120149774488\n",
      "Rank 50: Feature 'LASER_FRN_8' - Importance Score: 0.008661897695667668\n",
      "Rank 51: Feature 'AIR_Z2_2' - Importance Score: 0.008521071314227547\n",
      "Rank 52: Feature 'LASER_RAFF_5' - Importance Score: 0.008419979653903186\n",
      "Rank 53: Feature 'GAS_Z2_2' - Importance Score: 0.008280123860236662\n",
      "Rank 54: Feature 'AIR_Z2_1' - Importance Score: 0.008223092255376306\n",
      "Rank 55: Feature 'AIR_Z6_1' - Importance Score: 0.00796692818959173\n",
      "Rank 56: Feature 'AIR_Z1_2' - Importance Score: 0.00766275852838432\n",
      "Rank 57: Feature 'LS_OVEN' - Importance Score: 0.0074813659846395255\n",
      "Rank 58: Feature 'LASER_RAFF_4' - Importance Score: 0.007390967780816699\n",
      "Rank 59: Feature 'AIR_Z1_1' - Importance Score: 0.007384293703632297\n",
      "Rank 60: Feature 'LASER_RAFF_1' - Importance Score: 0.007371826786993819\n",
      "Rank 61: Feature 'GAS_Z3_2' - Importance Score: 0.007348841583447368\n",
      "Rank 62: Feature 'LASER_RAFF_8' - Importance Score: 0.007276978328169204\n",
      "Rank 63: Feature 'GAS_Z6_1' - Importance Score: 0.007266749963269969\n",
      "Rank 64: Feature 'LASER_FRN_7' - Importance Score: 0.007260926843410165\n",
      "Rank 65: Feature 'GAS_Z1_2' - Importance Score: 0.00724797606756544\n",
      "Rank 66: Feature 'GAS_Z1_1' - Importance Score: 0.006929331221006454\n",
      "Rank 67: Feature 'AIR_Z5_1' - Importance Score: 0.0069004583875000225\n",
      "Rank 68: Feature 'EXT_1' - Importance Score: 0.006663183257859557\n",
      "Rank 69: Feature 'LASER_FRN_6' - Importance Score: 0.006624352672027505\n",
      "Rank 70: Feature 'AIR_Z5_2' - Importance Score: 0.006589622600792261\n",
      "Rank 71: Feature 'LASER_FRN_4' - Importance Score: 0.006562157178197267\n",
      "Rank 72: Feature 'LASER_FRN_5' - Importance Score: 0.006417221113208669\n",
      "Rank 73: Feature 'FRN_FURNACE_PRESSURE' - Importance Score: 0.006368361305768545\n",
      "Rank 74: Feature 'LASER_RAFF_9' - Importance Score: 0.0063524250438951844\n",
      "Rank 75: Feature 'VENT_1' - Importance Score: 0.006298036509347843\n",
      "Rank 76: Feature 'VENT_2' - Importance Score: 0.006176599754623896\n",
      "Rank 77: Feature 'ELET_CORRENTE' - Importance Score: 0.005872134549967462\n",
      "Rank 78: Feature 'AIR_CH4_2' - Importance Score: 0.005572248558501609\n",
      "Rank 79: Feature 'TOUT_RAFF_H2O' - Importance Score: 0.005519635373377149\n",
      "Rank 80: Feature 'GAS_Z6_2' - Importance Score: 0.005409813947414418\n",
      "Rank 81: Feature 'VENT_3' - Importance Score: 0.005362194338657974\n",
      "Rank 82: Feature 'FILL_FORZA' - Importance Score: 0.0051051808966320255\n",
      "Rank 83: Feature 'GAS_Z5_1' - Importance Score: 0.004861004605199019\n",
      "Rank 84: Feature 'FILL_BENDING_NEG' - Importance Score: 0.004698248951400829\n",
      "Rank 85: Feature 'AIR_CH4_3' - Importance Score: 0.004650612243743435\n",
      "Rank 86: Feature 'GAS_Z5_2' - Importance Score: 0.004432524831745959\n",
      "Rank 87: Feature 'ELET_TEMP' - Importance Score: 0.004288112001963624\n",
      "Rank 88: Feature 'EXT_2' - Importance Score: 0.004181426530759826\n",
      "Rank 89: Feature 'DEC_TEMP' - Importance Score: 0.004111786847788003\n",
      "Rank 90: Feature 'FILL_BENDING_POS' - Importance Score: 0.004012584205464366\n",
      "Rank 91: Feature 'PRES_ZONA3_MEASURED' - Importance Score: 0.003389617581490617\n",
      "Rank 92: Feature 'SPEED_FILL' - Importance Score: 0.003289421449271599\n",
      "Rank 93: Feature 'AIR_CH4_1' - Importance Score: 0.0031441247120401208\n",
      "Rank 94: Feature 'AIR_CH4_4' - Importance Score: 0.0021160488584242077\n",
      "Rank 95: Feature 'AIR_CH4_5' - Importance Score: 0.002039840720045835\n",
      "Rank 96: Feature 'AIR_CH4_6' - Importance Score: 0.0018984962074597427\n",
      "Rank 97: Feature 'SPZ2_R2' - Importance Score: 0.0016333209870176824\n",
      "Rank 98: Feature 'SPZ2_R4' - Importance Score: 0.001416860362787928\n",
      "Rank 99: Feature 'SPZ2_R3' - Importance Score: 0.0013540451561971374\n",
      "Rank 100: Feature 'PRES_ZONA1_MEASURED' - Importance Score: 0.0012325586176884981\n",
      "Rank 101: Feature 'SPZ2_R1' - Importance Score: 0.0009468327696565156\n",
      "Rank 102: Feature 'PRES_ZONA1_SET' - Importance Score: 0.0008942096861747212\n",
      "Rank 103: Feature 'PRES_ZONA3_SET' - Importance Score: 0.0007798884966018088\n",
      "Rank 104: Feature 'N_RAMPE_H2O' - Importance Score: 0.0007347031888696607\n",
      "Rank 105: Feature 'PRES_ZONA2_SET' - Importance Score: 0.0007000299352288744\n",
      "Rank 106: Feature 'PRES_ZONA2_MEASURED' - Importance Score: 0.0003718502721761015\n"
     ]
    }
   ],
   "source": [
    "# Initialize and train a Random Forest classifier\n",
    "rf_classifier = RandomForestClassifier(n_estimators=100, random_state=42)\n",
    "rf_classifier.fit(Xtrain, ytrain)\n",
    "\n",
    "# Obtain feature importances from the trained Random Forest classifier\n",
    "feature_importances = rf_classifier.feature_importances_\n",
    "\n",
    "# Rank features by importance\n",
    "feature_importance_ranking = np.argsort(feature_importances)[::-1]\n",
    "\n",
    "# Print the ranked features along with their names\n",
    "print(\"Feature Ranking:\")\n",
    "for rank, feature_idx in enumerate(feature_importance_ranking):\n",
    "    print(f\"Rank {rank + 1}: Feature '{Xtrain.columns[feature_idx]}' - Importance Score: {feature_importances[feature_idx]}\")"
   ]
  },
  {
   "cell_type": "code",
   "execution_count": 60,
   "metadata": {},
   "outputs": [
    {
     "name": "stdout",
     "output_type": "stream",
     "text": [
      "Selected Top Features:\n",
      "TEMP_Z1\n",
      "PYRO_2_FRST_3_ZONE\n",
      "AIR_Z3_1\n",
      "COOL_1A\n",
      "SPEED_PROCESS\n",
      "AIR_Z2_1\n",
      "TIRO_FORNO\n",
      "FILL_TIRO\n",
      "ELET_FE2\n",
      "LASER_FRN_1\n",
      "DEC_HF\n",
      "AIR_Z1_1\n",
      "LASER_RAFF_2\n",
      "LASER_FRN_2\n",
      "PYRO_3_LST_3_ZONE\n",
      "DEC_H2SO4\n",
      "EXT_1\n",
      "ELET_H2SO4\n",
      "FILL_ALL\n",
      "DEC_FE3\n",
      "LASER_RAFF_1\n",
      "SPZ1_R1_ASS\n",
      "DEC_FE2\n",
      "LASER_FRN_8\n",
      "LASER_FRN_9\n",
      "EXT_2\n",
      "LASER_RAFF_9\n",
      "FRN_FURNACE_PRESSURE\n",
      "ELET_CORRENTE\n",
      "FILL_FORZA\n",
      "FILL_BENDING_NEG\n",
      "AIR_CH4_1\n",
      "DEC_TEMP\n",
      "ELET_TEMP\n",
      "PRES_ZONA3_MEASURED\n",
      "TOUT_RAFF_H2O\n",
      "FILL_BENDING_POS\n",
      "AIR_CH4_5\n",
      "SPEED_FILL\n",
      "AIR_CH4_6\n"
     ]
    }
   ],
   "source": [
    "#Specify the number of top features to keep\n",
    "num_top_features = 40\n",
    "\n",
    "# Select the top-ranked features\n",
    "selected_feature_indices = feature_importance_ranking[:num_top_features]\n",
    "selected_feature_names = [Xtrain.columns[idx] for idx in selected_feature_indices]\n",
    "\n",
    "# Print the selected top features\n",
    "print(\"Selected Top Features:\")\n",
    "for feature_name in selected_feature_names:\n",
    "    print(feature_name)"
   ]
  },
  {
   "cell_type": "code",
   "execution_count": 61,
   "metadata": {},
   "outputs": [
    {
     "data": {
      "image/png": "[encoded data removed]",
      "text/plain": [
       "<Figure size 640x480 with 1 Axes>"
      ]
     },
     "metadata": {},
     "output_type": "display_data"
    }
   ],
   "source": [
    "plt.figure()\n",
    "plt.title(\"Feature importances\")\n",
    "plt.bar(range(Xtrain.shape[1]), feature_importances[feature_importance_ranking],\n",
    "       color=\"r\", align=\"center\")\n",
    "plt.xticks(range(Xtrain.shape[1]), Xtrain.columns[feature_importance_ranking], rotation=90)\n",
    "plt.xlim([-1, Xtrain.shape[1]])\n",
    "plt.show()"
   ]
  },
  {
   "cell_type": "markdown",
   "metadata": {},
   "source": [
    "# 3. Modeling  "
   ]
  },
  {
   "cell_type": "code",
   "execution_count": 62,
   "metadata": {},
   "outputs": [
    {
     "data": {
      "text/plain": [
       "(284700, 45)"
      ]
     },
     "execution_count": 62,
     "metadata": {},
     "output_type": "execute_result"
    }
   ],
   "source": [
    "# Recreate the original dataframe with much less features\n",
    "selected_feature_names_original = ['COIL', 'MT_ADJUSTED', 'DATE', 'TIME_START_PROCESS'] + selected_feature_names + ['Has_Defect']\n",
    "df_final = df_reduced[selected_feature_names_original]\n",
    "df_final.shape\n"
   ]
  },
  {
   "cell_type": "markdown",
   "metadata": {},
   "source": [
    "Download 'df_final' as csv file"
   ]
  },
  {
   "cell_type": "code",
   "execution_count": 63,
   "metadata": {},
   "outputs": [],
   "source": [
    "# df_final.to_csv('final_dataset40.csv', index=False)"
   ]
  },
  {
   "cell_type": "code",
   "execution_count": 38,
   "metadata": {},
   "outputs": [
    {
     "data": {
      "text/html": [
       "<div>\n",
       "<style scoped>\n",
       "    .dataframe tbody tr th:only-of-type {\n",
       "        vertical-align: middle;\n",
       "    }\n",
       "\n",
       "    .dataframe tbody tr th {\n",
       "        vertical-align: top;\n",
       "    }\n",
       "\n",
       "    .dataframe thead th {\n",
       "        text-align: right;\n",
       "    }\n",
       "</style>\n",
       "<table border=\"1\" class=\"dataframe\">\n",
       "  <thead>\n",
       "    <tr style=\"text-align: right;\">\n",
       "      <th></th>\n",
       "      <th>COIL</th>\n",
       "      <th>MT_ADJUSTED</th>\n",
       "      <th>DATE</th>\n",
       "      <th>TIME_START_PROCESS</th>\n",
       "      <th>TEMP_Z1</th>\n",
       "      <th>PYRO_2_FRST_3_ZONE</th>\n",
       "      <th>AIR_Z3_1</th>\n",
       "      <th>COOL_1A</th>\n",
       "      <th>SPEED_PROCESS</th>\n",
       "      <th>AIR_Z2_1</th>\n",
       "      <th>...</th>\n",
       "      <th>AIR_Z1_1</th>\n",
       "      <th>LASER_RAFF_2</th>\n",
       "      <th>LASER_FRN_2</th>\n",
       "      <th>PYRO_3_LST_3_ZONE</th>\n",
       "      <th>DEC_H2SO4</th>\n",
       "      <th>EXT_1</th>\n",
       "      <th>ELET_H2SO4</th>\n",
       "      <th>FILL_ALL</th>\n",
       "      <th>DEC_FE3</th>\n",
       "      <th>Has_Defect</th>\n",
       "    </tr>\n",
       "  </thead>\n",
       "  <tbody>\n",
       "    <tr>\n",
       "      <th>580</th>\n",
       "      <td>297712</td>\n",
       "      <td>0.0</td>\n",
       "      <td>2019-03-03</td>\n",
       "      <td>16:00:17.140</td>\n",
       "      <td>-0.626250</td>\n",
       "      <td>0.589075</td>\n",
       "      <td>-0.336214</td>\n",
       "      <td>-2.883627</td>\n",
       "      <td>-1.749652</td>\n",
       "      <td>2.678795</td>\n",
       "      <td>...</td>\n",
       "      <td>3.419967</td>\n",
       "      <td>-1.030658</td>\n",
       "      <td>0.502602</td>\n",
       "      <td>0.159955</td>\n",
       "      <td>0.000104</td>\n",
       "      <td>-0.756478</td>\n",
       "      <td>-0.017961</td>\n",
       "      <td>-0.018846</td>\n",
       "      <td>0.006705</td>\n",
       "      <td>0.0</td>\n",
       "    </tr>\n",
       "    <tr>\n",
       "      <th>581</th>\n",
       "      <td>297712</td>\n",
       "      <td>7.0</td>\n",
       "      <td>2019-03-03</td>\n",
       "      <td>16:01:02.140</td>\n",
       "      <td>-0.548642</td>\n",
       "      <td>0.310833</td>\n",
       "      <td>0.141251</td>\n",
       "      <td>-2.853583</td>\n",
       "      <td>-1.423870</td>\n",
       "      <td>3.238652</td>\n",
       "      <td>...</td>\n",
       "      <td>3.408285</td>\n",
       "      <td>-1.147809</td>\n",
       "      <td>0.536880</td>\n",
       "      <td>0.404147</td>\n",
       "      <td>0.000104</td>\n",
       "      <td>-0.957099</td>\n",
       "      <td>-0.017961</td>\n",
       "      <td>-0.018846</td>\n",
       "      <td>0.006705</td>\n",
       "      <td>0.0</td>\n",
       "    </tr>\n",
       "    <tr>\n",
       "      <th>582</th>\n",
       "      <td>297712</td>\n",
       "      <td>14.0</td>\n",
       "      <td>2019-03-03</td>\n",
       "      <td>16:01:32.140</td>\n",
       "      <td>-0.489710</td>\n",
       "      <td>0.219359</td>\n",
       "      <td>0.320848</td>\n",
       "      <td>-2.884088</td>\n",
       "      <td>-1.249998</td>\n",
       "      <td>2.975910</td>\n",
       "      <td>...</td>\n",
       "      <td>3.396935</td>\n",
       "      <td>-1.172888</td>\n",
       "      <td>0.517051</td>\n",
       "      <td>0.448138</td>\n",
       "      <td>0.000104</td>\n",
       "      <td>-0.943675</td>\n",
       "      <td>-0.017961</td>\n",
       "      <td>-0.018846</td>\n",
       "      <td>0.006705</td>\n",
       "      <td>0.0</td>\n",
       "    </tr>\n",
       "    <tr>\n",
       "      <th>583</th>\n",
       "      <td>297712</td>\n",
       "      <td>21.0</td>\n",
       "      <td>2019-03-03</td>\n",
       "      <td>16:01:47.080</td>\n",
       "      <td>-0.472777</td>\n",
       "      <td>0.560960</td>\n",
       "      <td>0.174055</td>\n",
       "      <td>-2.897580</td>\n",
       "      <td>-1.250524</td>\n",
       "      <td>2.809796</td>\n",
       "      <td>...</td>\n",
       "      <td>3.400536</td>\n",
       "      <td>-1.181359</td>\n",
       "      <td>0.518985</td>\n",
       "      <td>0.441397</td>\n",
       "      <td>0.000104</td>\n",
       "      <td>-0.960687</td>\n",
       "      <td>-0.017961</td>\n",
       "      <td>-2.304904</td>\n",
       "      <td>0.006705</td>\n",
       "      <td>0.0</td>\n",
       "    </tr>\n",
       "    <tr>\n",
       "      <th>584</th>\n",
       "      <td>297712</td>\n",
       "      <td>28.0</td>\n",
       "      <td>2019-03-03</td>\n",
       "      <td>16:02:17.080</td>\n",
       "      <td>-0.457463</td>\n",
       "      <td>0.437551</td>\n",
       "      <td>0.153418</td>\n",
       "      <td>-2.892358</td>\n",
       "      <td>-1.250053</td>\n",
       "      <td>2.827996</td>\n",
       "      <td>...</td>\n",
       "      <td>3.387638</td>\n",
       "      <td>-1.161245</td>\n",
       "      <td>0.511223</td>\n",
       "      <td>0.463889</td>\n",
       "      <td>0.967764</td>\n",
       "      <td>-0.941145</td>\n",
       "      <td>0.654932</td>\n",
       "      <td>-2.300860</td>\n",
       "      <td>1.560311</td>\n",
       "      <td>0.0</td>\n",
       "    </tr>\n",
       "  </tbody>\n",
       "</table>\n",
       "<p>5 rows × 25 columns</p>\n",
       "</div>"
      ],
      "text/plain": [
       "       COIL  MT_ADJUSTED       DATE TIME_START_PROCESS   TEMP_Z1  \\\n",
       "580  297712          0.0 2019-03-03       16:00:17.140 -0.626250   \n",
       "581  297712          7.0 2019-03-03       16:01:02.140 -0.548642   \n",
       "582  297712         14.0 2019-03-03       16:01:32.140 -0.489710   \n",
       "583  297712         21.0 2019-03-03       16:01:47.080 -0.472777   \n",
       "584  297712         28.0 2019-03-03       16:02:17.080 -0.457463   \n",
       "\n",
       "     PYRO_2_FRST_3_ZONE  AIR_Z3_1   COOL_1A  SPEED_PROCESS  AIR_Z2_1  ...  \\\n",
       "580            0.589075 -0.336214 -2.883627      -1.749652  2.678795  ...   \n",
       "581            0.310833  0.141251 -2.853583      -1.423870  3.238652  ...   \n",
       "582            0.219359  0.320848 -2.884088      -1.249998  2.975910  ...   \n",
       "583            0.560960  0.174055 -2.897580      -1.250524  2.809796  ...   \n",
       "584            0.437551  0.153418 -2.892358      -1.250053  2.827996  ...   \n",
       "\n",
       "     AIR_Z1_1  LASER_RAFF_2  LASER_FRN_2  PYRO_3_LST_3_ZONE  DEC_H2SO4  \\\n",
       "580  3.419967     -1.030658     0.502602           0.159955   0.000104   \n",
       "581  3.408285     -1.147809     0.536880           0.404147   0.000104   \n",
       "582  3.396935     -1.172888     0.517051           0.448138   0.000104   \n",
       "583  3.400536     -1.181359     0.518985           0.441397   0.000104   \n",
       "584  3.387638     -1.161245     0.511223           0.463889   0.967764   \n",
       "\n",
       "        EXT_1  ELET_H2SO4  FILL_ALL   DEC_FE3  Has_Defect  \n",
       "580 -0.756478   -0.017961 -0.018846  0.006705         0.0  \n",
       "581 -0.957099   -0.017961 -0.018846  0.006705         0.0  \n",
       "582 -0.943675   -0.017961 -0.018846  0.006705         0.0  \n",
       "583 -0.960687   -0.017961 -2.304904  0.006705         0.0  \n",
       "584 -0.941145    0.654932 -2.300860  1.560311         0.0  \n",
       "\n",
       "[5 rows x 25 columns]"
      ]
     },
     "execution_count": 38,
     "metadata": {},
     "output_type": "execute_result"
    }
   ],
   "source": [
    "df_final.head()"
   ]
  },
  {
   "cell_type": "markdown",
   "metadata": {},
   "source": [
    "**'df_final'** is now our final dataframe with the selected features and the target column of interest ('Has_Defect') at the end"
   ]
  },
  {
   "cell_type": "markdown",
   "metadata": {},
   "source": [
    "#### Splitting our data into Train, Validation and Test sets"
   ]
  },
  {
   "cell_type": "markdown",
   "metadata": {},
   "source": [
    "To ensure that the same coils are not split across both the training and testing sets, thereby preventing data leakage, we need to stratify the split based on the coil ID. This means we should split our dataset in such a way that all records belonging to a specific coil are either entirely in the training set or entirely in the testing set"
   ]
  },
  {
   "cell_type": "code",
   "execution_count": 39,
   "metadata": {},
   "outputs": [],
   "source": [
    "# Get unique coil IDs and split them\n",
    "unique_coils = df_final['COIL'].unique()\n",
    "train_coils, test_coils = train_test_split(unique_coils, test_size=0.2, random_state=42)\n",
    "train_coils, val_coils = train_test_split(train_coils, test_size=0.25, random_state=42)  # Splitting the remaining 80% into 60% train and 20% validation\n",
    "\n",
    "# Split the DataFrame into training, validation, and testing sets based on coil IDs\n",
    "train_df = df_final[df_final['COIL'].isin(train_coils)]\n",
    "val_df = df_final[df_final['COIL'].isin(val_coils)]\n",
    "test_df = df_final[df_final['COIL'].isin(test_coils)]\n"
   ]
  },
  {
   "cell_type": "code",
   "execution_count": 40,
   "metadata": {},
   "outputs": [],
   "source": [
    "target = \"Has_Defect\"\n",
    "\n",
    "# Prepare the data\n",
    "X_train = train_df.drop(['COIL', 'MT_ADJUSTED', 'DATE', 'TIME_START_PROCESS', target], axis=1)  \n",
    "y_train = train_df[target]    \n",
    "\n",
    "X_val = val_df.drop(['COIL', 'MT_ADJUSTED', 'DATE', 'TIME_START_PROCESS', target], axis=1)\n",
    "y_val = val_df[target]\n",
    "\n",
    "X_test = test_df.drop(['COIL', 'MT_ADJUSTED', 'DATE', 'TIME_START_PROCESS', target], axis=1)   \n",
    "y_test = test_df[target]     "
   ]
  },
  {
   "cell_type": "markdown",
   "metadata": {},
   "source": [
    "### Random Forest "
   ]
  },
  {
   "cell_type": "markdown",
   "metadata": {},
   "source": [
    "Optimized Hyperparameter Tuning for Random Forest Classifier with Reduced Computational Complexity"
   ]
  },
  {
   "cell_type": "code",
   "execution_count": 41,
   "metadata": {},
   "outputs": [],
   "source": [
    "# # Initialize the classifier\n",
    "# rf_clf = RandomForestClassifier(random_state=42)\n",
    "\n",
    "# param_grid = {\n",
    "#     'n_estimators': [100],  # Keeping one option to reduce combinations\n",
    "#     'max_depth': [10, None],  # A reasonable depth, and None for fully grown trees\n",
    "#     'min_samples_split': [2],  # Default value\n",
    "#     'min_samples_leaf': [1],  # Default value\n",
    "#     'bootstrap': [True]  # Keeping bootstrapping enabled\n",
    "# }\n",
    "\n",
    "# # Create GridSearchCV object\n",
    "# grid_search = GridSearchCV(estimator=rf_clf, param_grid=param_grid, \n",
    "#                            scoring='accuracy', cv=3, n_jobs=-1, verbose=2)\n",
    "\n",
    "# # Assuming X_train and y_train are your training features and labels\n",
    "# grid_search.fit(X_train, y_train)\n",
    "\n",
    "# # Get the best parameters and use them to create the best model\n",
    "# best_params = grid_search.best_params_\n",
    "# best_rf = RandomForestClassifier(**best_params, random_state=42)\n",
    "\n",
    "# # Fit the best model\n",
    "# best_rf.fit(X_train, y_train)"
   ]
  },
  {
   "cell_type": "code",
   "execution_count": 42,
   "metadata": {},
   "outputs": [],
   "source": [
    "# # Predict on the validation set\n",
    "# y_val_pred = best_rf.predict(X_val)\n",
    "# # Calculate the accuracy of the model on the validation set\n",
    "# val_accuracy = accuracy_score(y_val, y_val_pred)\n",
    "# print(f\"Validation Accuracy: {val_accuracy}\")\n",
    "\n",
    "# # Predict on the test set\n",
    "# y_test_pred = best_rf.predict(X_test)\n",
    "# # Calculate the accuracy of the model on the testing set\n",
    "# test_accuracy = accuracy_score(y_test, y_test_pred)\n",
    "# print(f\"Testing Accuracy: {test_accuracy}\\n\")\n",
    "\n",
    "# # Print out the classification report which provides a summary of the model's performance\n",
    "# print(\"**Classification report for Random Forest Classifier on the test set:**\\n\")\n",
    "# print(classification_report(y_test, y_test_pred))\n",
    "\n",
    "# # Create a confusion matrix\n",
    "# cm = metrics.confusion_matrix(y_test, y_test_pred)\n",
    "\n",
    "# # Display the confusion matrix\n",
    "# disp = ConfusionMatrixDisplay(confusion_matrix=cm)\n",
    "# disp.plot()\n",
    "# plt.title('Confusion Matrix for Random Forest Classifier on the test set')\n"
   ]
  },
  {
   "cell_type": "markdown",
   "metadata": {},
   "source": [
    "### XGBoost"
   ]
  },
  {
   "cell_type": "code",
   "execution_count": 43,
   "metadata": {},
   "outputs": [],
   "source": [
    "# param_grid = {\n",
    "#     'n_estimators': [100, 200],  # Number of gradient boosted trees.\n",
    "#     'learning_rate': [0.05, 0.1],  # Step size shrinkage used to prevent overfitting.\n",
    "#     'max_depth': [3, 5],  # Maximum tree depth for base learners.\n",
    "#     'min_child_weight': [1, 2],  # Minimum sum of instance weight needed in a child.\n",
    "#     'gamma': [0, 0.1],  # Minimum loss reduction required to make a further partition.\n",
    "#     'subsample': [0.8, 1.0],  # Subsample ratio of the training instances.\n",
    "#     'colsample_bytree': [0.8, 1.0],  # Subsample ratio of columns when constructing each tree.\n",
    "# }\n",
    "\n",
    "\n",
    "# # Create the XGBoost classifier instance\n",
    "# xgb_clf = xgb.XGBClassifier(use_label_encoder=False, eval_metric='logloss')\n",
    "\n",
    "# # Create GridSearchCV object\n",
    "# grid_search = GridSearchCV(estimator=xgb_clf, param_grid=param_grid, \n",
    "#                            scoring='accuracy', cv=3, n_jobs=-1, verbose=2)\n",
    "\n",
    "# # Fit the grid search to the data\n",
    "# grid_search.fit(X_train, y_train)\n",
    "\n",
    "# # After grid search completes\n",
    "# print(f\"Best parameters found: {grid_search.best_params_}\")\n",
    "# best_xgb_clf = grid_search.best_estimator_"
   ]
  },
  {
   "cell_type": "code",
   "execution_count": 44,
   "metadata": {},
   "outputs": [],
   "source": [
    "# # Predict on the validation set\n",
    "# y_val_pred_xgb = best_xgb_clf.predict(X_val)\n",
    "# # Calculate the accuracy of the model on the validation set\n",
    "# val_acc_xgb = accuracy_score(y_val, y_val_pred_xgb)\n",
    "# print(f\"Validation Accuracy XGBoost: {val_acc_xgb}\\n\")\n",
    "# # Print out the classification report which provides a summary of the model's performance\n",
    "# print(\"**Classification report for XGBoost Classifier on the test set:**\\n\")\n",
    "# print(classification_report(y_val, y_val_pred_xgb))\n",
    "\n",
    "# # Make predictions on the test set using the best model\n",
    "# y_test_pred_xgb = best_xgb_clf.predict(X_test)\n",
    "# # Calculate the accuracy of the model on the test set\n",
    "# test_acc_xgb = accuracy_score(y_test, y_test_pred)\n",
    "# print(f\"Testing Accuracy XGBoost: {test_acc_xgb}\\n\")\n",
    "# # Print out the classification report which provides a summary of the model's performance\n",
    "# print(\"**Classification report for XGBoost Classifier on the test set:**\\n\")\n",
    "# print(classification_report(y_test, y_test_pred_xgb))"
   ]
  },
  {
   "cell_type": "code",
   "execution_count": 45,
   "metadata": {},
   "outputs": [],
   "source": [
    "# # Plot the ROC curve for XGBoost and Random Forest\n",
    "# fpr_xgboost, tpr_xgboost, _ = metrics.roc_curve(y_test, y_test_pred_xgb)\n",
    "# fpr_rf, tpr_rf, _ = metrics.roc_curve(y_test, y_test_pred_xgb)\n",
    "# plt.plot([0, 1], [0, 1], 'k--')\n",
    "# plt.plot(fpr_xgboost, tpr_xgboost, label='XGBoost')\n",
    "# plt.plot(fpr_rf, tpr_rf, label='Random Forest')\n",
    "# plt.title('ROC Curves for Random Forest and XGBoost Classifiers')\n",
    "# plt.legend()\n",
    "# plt.show()"
   ]
  },
  {
   "cell_type": "markdown",
   "metadata": {},
   "source": [
    "### Logistic Regression"
   ]
  },
  {
   "cell_type": "code",
   "execution_count": 46,
   "metadata": {},
   "outputs": [],
   "source": [
    "# from sklearn.linear_model import LogisticRegression\n",
    "\n",
    "# # Create the Logistic Regression model\n",
    "# log_reg = LogisticRegression(max_iter=1000)\n",
    "\n",
    "# # Fit the model on the training data\n",
    "# log_reg.fit(X_train, y_train)\n",
    "\n",
    "# # Predict on the validation set\n",
    "# y_val_pred_log_reg = log_reg.predict(X_val)\n",
    "\n",
    "# # Calculate and print the accuracy of the model on the validation set\n",
    "# accuracy_val_log_reg = accuracy_score(y_val, y_val_pred_log_reg)\n",
    "# print(\"Accuracy of Logistic Regression on the validation set:\", accuracy_val_log_reg)\n",
    "\n",
    "# # Make predictions on the test set\n",
    "# y_test_pred_log_reg = log_reg.predict(X_test)\n",
    "\n",
    "# # Calculate and print the accuracy of the model on the test set\n",
    "# accuracy_test_log_reg = accuracy_score(y_test, y_test_pred_log_reg)\n",
    "# print(\"\\nAccuracy of Logistic Regression on the test set:\", accuracy_test_log_reg)\n",
    "\n",
    "# # Print the model's coefficients\n",
    "# coefs_log_reg = log_reg.coef_[0]\n",
    "# for i in range(len(X_train.columns)):\n",
    "#     print(f\"{X_train.columns[i]}: {coefs_log_reg[i]}\")\n",
    "\n"
   ]
  },
  {
   "cell_type": "code",
   "execution_count": 47,
   "metadata": {},
   "outputs": [],
   "source": [
    "# # Print out the classification report which provides a summary of the model's performance\n",
    "# # on each class (classification report shows precision, recall, and F1-score)\n",
    "# print(\"\\nClassification Report:\\n\", classification_report(y_test, y_test_pred_log_reg))\n",
    "\n",
    "# # Create a confusion matrix to visualize the performance of the model\n",
    "# cm_log_reg = metrics.confusion_matrix(y_test, y_test_pred_log_reg)"
   ]
  },
  {
   "cell_type": "code",
   "execution_count": 48,
   "metadata": {},
   "outputs": [],
   "source": [
    "# # Display the confusion matrix\n",
    "# disp = ConfusionMatrixDisplay(confusion_matrix=cm_log_reg)\n",
    "# disp.plot()\n",
    "# plt.title('Confusion Matrix - Logistic Regression')\n",
    "# plt.xlabel('Predicted Classes')\n",
    "# plt.ylabel('Actual Classes')\n",
    "# plt.show()"
   ]
  },
  {
   "cell_type": "markdown",
   "metadata": {},
   "source": [
    "### Using several classifiers and tuning parameters - Parameters grid (Seba)"
   ]
  },
  {
   "cell_type": "code",
   "execution_count": 49,
   "metadata": {},
   "outputs": [],
   "source": [
    "# model_lbls = ['dt' # decision tree\n",
    "#              ,'nb' # gaussian naive bayes\n",
    "#              ,'lp'   # linear perceptron\n",
    "#       #        ,'svc'  # support vector # deactivate if running time becomes too long\n",
    "#              ,'knn'  # k nearest neighbours\n",
    "#              ,'adb'  # adaboost\n",
    "#              ,'rf'   # random forest\n",
    "#             ]\n",
    "\n",
    "# # For each model we have to prepare the ranges of the hyperparameters that will be used\n",
    "# # and also a name of the model that will be put in output \n",
    "# models = {\n",
    "#     'dt': {'name': 'Decision Tree       ',\n",
    "#            'estimator': DecisionTreeClassifier(random_state=random_state), # We difine inside the estimator\n",
    "#            # the hyperparapeter that will not be subject to the parameter grid (GridSearchCV)\n",
    "#            'param': [{'max_depth': [*range(1,20)],'class_weight':[None,'balanced']}],  \n",
    "#                    # For max_depth we create                 #here we say if we want the dataset \n",
    "#                    # a list of numbers bw 1 and 19           # as it is or balanced                                                             \n",
    "#           },\n",
    "#     'nb': {'name': 'Gaussian Naive Bayes',\n",
    "#            'estimator': GaussianNB(),\n",
    "#            'param': [{'var_smoothing': [10**exp for exp in range(-3,-13,-1)]}]\n",
    "#            # the NB has only one parameter\n",
    "#           },\n",
    "#     'lp': {'name': 'Linear Perceptron   ',\n",
    "#            'estimator': Perceptron(random_state=random_state),\n",
    "#            'param': [{'early_stopping': [True,False],'class_weight':[None,'balanced']}],\n",
    "#           },\n",
    "#     'svc':{'name': 'Support Vector      ',\n",
    "#            'estimator': SVC(random_state=random_state), \n",
    "#            'param': [{'kernel': ['rbf'], # we have hyperparameters for each kernel\n",
    "#                     'gamma': [1e-3, 1e-4],\n",
    "#                     'C': [1, 10, 100],\n",
    "#                     },\n",
    "#                     {'kernel': ['linear'],\n",
    "#                      'C': [1, 10, 100],                     \n",
    "#              },\n",
    "#                    ]\n",
    "#           },\n",
    "#     'knn':{'name': 'K Nearest Neighbor ',\n",
    "#            'estimator': KNeighborsClassifier(),\n",
    "#            'param': [{'n_neighbors': list(range(1,7))}]\n",
    "#        },\n",
    "#     'adb':{'name': 'AdaBoost           ',\n",
    "#            'estimator': AdaBoostClassifier(random_state=random_state),\n",
    "#            'param': [{'n_estimators':[10,20,30,40,50]\n",
    "#                      ,'learning_rate':[0.2,0.5,0.75,1,1.25,1.5]}]\n",
    "#           },\n",
    "#     'rf': {'name': 'Random forest       ',\n",
    "#            'estimator': RandomForestClassifier(random_state=random_state),\n",
    "#            'param': [{'max_depth': [*range(4,10)]\n",
    "#                      ,'n_estimators':[*range(10,60,10)]}]\n",
    "#           }\n",
    "\n",
    "# }"
   ]
  },
  {
   "cell_type": "code",
   "execution_count": 50,
   "metadata": {},
   "outputs": [],
   "source": [
    "# # model accuracy\n",
    "\n",
    "# for model_lbl in model_lbls:\n",
    "#     print(f\"Processing model: {models[model_lbl]['name']}\")\n",
    "#     model = models[model_lbl]['estimator']\n",
    "#     param = models[model_lbl]['param']\n",
    "#     grid = GridSearchCV(estimator=model, param_grid=param, cv=StratifiedKFold(n_splits=5, shuffle=True, random_state=random_state))\n",
    "#     grid.fit(Xtrain, ytrain)\n",
    "#     print(f\"Best parameters: {grid.best_params_}\")\n",
    "#     ytrain_pred = grid.predict(Xtrain)\n",
    "#     ytest_pred = grid.predict(Xtest)\n",
    "#     train_accuracy = accuracy_score(ytrain, ytrain_pred)\n",
    "#     test_accuracy = accuracy_score(ytest, ytest_pred)\n",
    "#     print(f\"Train accuracy: {train_accuracy}\")\n",
    "#     print(f\"Test accuracy: {test_accuracy}\")\n",
    "#     results[model_lbl] = {'train_accuracy': train_accuracy, 'test_accuracy': test_accuracy}\n",
    "#     results_df = results_df.append({'model': models[model_lbl]['name'], 'train_accuracy': train_accuracy, 'test_accuracy': test_accuracy}, ignore_index=True)\n",
    "\n",
    "# results_df\n",
    "\n",
    "# # Plot the results\n",
    "# plt.figure(figsize=(10, 6))\n",
    "# plt.plot(results_df['model'], results_df['train_accuracy'], label='Train Accuracy', marker='o')\n",
    "# plt.plot(results_df['model'], results_df['test_accuracy'], label='Test Accuracy', marker='o')\n",
    "# plt.xlabel('Model')\n",
    "# plt.ylabel('Accuracy')\n",
    "# plt.title('Model Accuracy')\n",
    "# plt.xticks(rotation=90)\n",
    "# plt.legend()\n",
    "# plt.show()"
   ]
  }
 ],
 "metadata": {
  "kernelspec": {
   "display_name": "base",
   "language": "python",
   "name": "python3"
  },
  "language_info": {
   "codemirror_mode": {
    "name": "ipython",
    "version": 3
   },
   "file_extension": ".py",
   "mimetype": "text/x-python",
   "name": "python",
   "nbconvert_exporter": "python",
   "pygments_lexer": "ipython3",
   "version": "3.11.8"
  }
 },
 "nbformat": 4,
 "nbformat_minor": 2
}
