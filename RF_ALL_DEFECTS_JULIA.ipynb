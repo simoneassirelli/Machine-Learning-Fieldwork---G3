{
  "cells": [
    {
      "cell_type": "markdown",
      "metadata": {
        "id": "jmR0YE97JmBN"
      },
      "source": [
        "# *Modeling Part: Random Forest*"
      ]
    },
    {
      "cell_type": "markdown",
      "metadata": {
        "id": "46c4eameJmBP"
      },
      "source": [
        "****************************************************************************************************************************************"
      ]
    },
    {
      "cell_type": "code",
      "execution_count": 1,
      "metadata": {
        "id": "Lzkjoik7JmBP"
      },
      "outputs": [],
      "source": [
        "import pandas as pd\n",
        "import  numpy as np\n",
        "import seaborn as sns\n",
        "import matplotlib.pyplot as plt\n",
        "from sklearn.decomposition import PCA\n",
        "from sklearn.preprocessing import StandardScaler\n",
        "from sklearn.impute import SimpleImputer\n",
        "from sklearn.model_selection import train_test_split, GridSearchCV, StratifiedKFold\n",
        "from sklearn.metrics import classification_report, ConfusionMatrixDisplay\n",
        "from sklearn.svm import SVC\n",
        "from sklearn.linear_model import Perceptron\n",
        "from sklearn.neural_network import MLPClassifier\n",
        "from sklearn.tree import DecisionTreeClassifier\n",
        "from sklearn.naive_bayes import GaussianNB\n",
        "from sklearn.neighbors import KNeighborsClassifier\n",
        "from sklearn.ensemble import AdaBoostClassifier, RandomForestClassifier\n",
        "import xgboost as xgb\n",
        "from sklearn import metrics\n",
        "from sklearn.metrics import accuracy_score\n"
      ]
    },
    {
      "cell_type": "markdown",
      "metadata": {
        "id": "a9ptyD5AJmBQ"
      },
      "source": [
        "dl.dropboxusercontent.com"
      ]
    },
    {
      "cell_type": "code",
      "execution_count": 2,
      "metadata": {
        "id": "7tZLY9LkJmBQ"
      },
      "outputs": [],
      "source": [
        "url_final = 'https://dl.dropboxusercontent.com/scl/fi/vhc8mgzyrhpaprncrlql5/final_all_defects.csv?rlkey=c0mqe7erfhss29s7wwf3aac3c&dl=1'\n",
        "df_final = pd.read_csv(url_final)"
      ]
    },
    {
      "cell_type": "code",
      "execution_count": 3,
      "metadata": {
        "colab": {
          "base_uri": "https://localhost:8080/"
        },
        "id": "g8HQMuJdJmBQ",
        "outputId": "d1aa41d3-8ad1-46ba-cd0b-aec1070a381b"
      },
      "outputs": [
        {
          "data": {
            "text/plain": [
              "(299384, 51)"
            ]
          },
          "execution_count": 3,
          "metadata": {},
          "output_type": "execute_result"
        }
      ],
      "source": [
        "df_final.shape"
      ]
    },
    {
      "cell_type": "code",
      "execution_count": 4,
      "metadata": {
        "colab": {
          "base_uri": "https://localhost:8080/",
          "height": 338
        },
        "id": "PXe_K5osJmBR",
        "outputId": "f9ac0d5f-0205-446b-b849-ef888e45a130"
      },
      "outputs": [
        {
          "data": {
            "text/html": [
              "<div>\n",
              "<style scoped>\n",
              "    .dataframe tbody tr th:only-of-type {\n",
              "        vertical-align: middle;\n",
              "    }\n",
              "\n",
              "    .dataframe tbody tr th {\n",
              "        vertical-align: top;\n",
              "    }\n",
              "\n",
              "    .dataframe thead th {\n",
              "        text-align: right;\n",
              "    }\n",
              "</style>\n",
              "<table border=\"1\" class=\"dataframe\">\n",
              "  <thead>\n",
              "    <tr style=\"text-align: right;\">\n",
              "      <th></th>\n",
              "      <th>COIL</th>\n",
              "      <th>DATE</th>\n",
              "      <th>TIME_START_PROCESS</th>\n",
              "      <th>SPEED_PROCESS</th>\n",
              "      <th>TEMP_Z1</th>\n",
              "      <th>PYRO_2_FRST_3_ZONE</th>\n",
              "      <th>LASER_FRN_1</th>\n",
              "      <th>LASER_FRN_2</th>\n",
              "      <th>LASER_FRN_8</th>\n",
              "      <th>LASER_FRN_9</th>\n",
              "      <th>...</th>\n",
              "      <th>FILL_BENDING_POS</th>\n",
              "      <th>FILL_BENDING_NEG</th>\n",
              "      <th>MT_ADJUSTED</th>\n",
              "      <th>DIF_TIPO_1</th>\n",
              "      <th>DIF_TIPO_2</th>\n",
              "      <th>DIF_TIPO_3</th>\n",
              "      <th>DIF_TIPO_4</th>\n",
              "      <th>DIF_TIPO_5</th>\n",
              "      <th>DIF_TIPO_6</th>\n",
              "      <th>Has_Defect</th>\n",
              "    </tr>\n",
              "  </thead>\n",
              "  <tbody>\n",
              "    <tr>\n",
              "      <th>0</th>\n",
              "      <td>240627</td>\n",
              "      <td>2019-03-15</td>\n",
              "      <td>14:25:23.060</td>\n",
              "      <td>-1.698350</td>\n",
              "      <td>-6.480611</td>\n",
              "      <td>-6.260562</td>\n",
              "      <td>-1.108191</td>\n",
              "      <td>-2.389473</td>\n",
              "      <td>-3.811867</td>\n",
              "      <td>-2.455160</td>\n",
              "      <td>...</td>\n",
              "      <td>0.0</td>\n",
              "      <td>0.0</td>\n",
              "      <td>0.0</td>\n",
              "      <td>0.0</td>\n",
              "      <td>0.0</td>\n",
              "      <td>0.0</td>\n",
              "      <td>0.0</td>\n",
              "      <td>0.0</td>\n",
              "      <td>0.0</td>\n",
              "      <td>0.0</td>\n",
              "    </tr>\n",
              "    <tr>\n",
              "      <th>1</th>\n",
              "      <td>240627</td>\n",
              "      <td>2019-03-15</td>\n",
              "      <td>14:25:53.060</td>\n",
              "      <td>-1.712668</td>\n",
              "      <td>-6.518866</td>\n",
              "      <td>-6.253058</td>\n",
              "      <td>-1.108199</td>\n",
              "      <td>-2.376155</td>\n",
              "      <td>-3.795318</td>\n",
              "      <td>-2.455455</td>\n",
              "      <td>...</td>\n",
              "      <td>0.0</td>\n",
              "      <td>0.0</td>\n",
              "      <td>7.0</td>\n",
              "      <td>0.0</td>\n",
              "      <td>0.0</td>\n",
              "      <td>0.0</td>\n",
              "      <td>0.0</td>\n",
              "      <td>0.0</td>\n",
              "      <td>0.0</td>\n",
              "      <td>0.0</td>\n",
              "    </tr>\n",
              "    <tr>\n",
              "      <th>2</th>\n",
              "      <td>240627</td>\n",
              "      <td>2019-03-15</td>\n",
              "      <td>14:26:23.060</td>\n",
              "      <td>-2.213529</td>\n",
              "      <td>-6.513475</td>\n",
              "      <td>-6.261373</td>\n",
              "      <td>-1.108177</td>\n",
              "      <td>-2.369908</td>\n",
              "      <td>-3.783512</td>\n",
              "      <td>-2.455522</td>\n",
              "      <td>...</td>\n",
              "      <td>0.0</td>\n",
              "      <td>0.0</td>\n",
              "      <td>14.0</td>\n",
              "      <td>0.0</td>\n",
              "      <td>0.0</td>\n",
              "      <td>0.0</td>\n",
              "      <td>0.0</td>\n",
              "      <td>0.0</td>\n",
              "      <td>0.0</td>\n",
              "      <td>0.0</td>\n",
              "    </tr>\n",
              "    <tr>\n",
              "      <th>3</th>\n",
              "      <td>240627</td>\n",
              "      <td>2019-03-15</td>\n",
              "      <td>14:27:08.060</td>\n",
              "      <td>-2.212934</td>\n",
              "      <td>-6.484467</td>\n",
              "      <td>-6.161300</td>\n",
              "      <td>-1.108188</td>\n",
              "      <td>-2.340920</td>\n",
              "      <td>-3.760286</td>\n",
              "      <td>-2.455393</td>\n",
              "      <td>...</td>\n",
              "      <td>0.0</td>\n",
              "      <td>0.0</td>\n",
              "      <td>21.0</td>\n",
              "      <td>0.0</td>\n",
              "      <td>0.0</td>\n",
              "      <td>0.0</td>\n",
              "      <td>0.0</td>\n",
              "      <td>0.0</td>\n",
              "      <td>0.0</td>\n",
              "      <td>0.0</td>\n",
              "    </tr>\n",
              "    <tr>\n",
              "      <th>4</th>\n",
              "      <td>240627</td>\n",
              "      <td>2019-03-15</td>\n",
              "      <td>14:27:38.060</td>\n",
              "      <td>-1.811965</td>\n",
              "      <td>-6.445186</td>\n",
              "      <td>-5.887232</td>\n",
              "      <td>-1.108134</td>\n",
              "      <td>-2.305111</td>\n",
              "      <td>-3.712663</td>\n",
              "      <td>-2.454928</td>\n",
              "      <td>...</td>\n",
              "      <td>0.0</td>\n",
              "      <td>0.0</td>\n",
              "      <td>28.0</td>\n",
              "      <td>0.0</td>\n",
              "      <td>0.0</td>\n",
              "      <td>0.0</td>\n",
              "      <td>0.0</td>\n",
              "      <td>0.0</td>\n",
              "      <td>0.0</td>\n",
              "      <td>0.0</td>\n",
              "    </tr>\n",
              "  </tbody>\n",
              "</table>\n",
              "<p>5 rows × 51 columns</p>\n",
              "</div>"
            ],
            "text/plain": [
              "     COIL        DATE TIME_START_PROCESS  SPEED_PROCESS   TEMP_Z1  \\\n",
              "0  240627  2019-03-15       14:25:23.060      -1.698350 -6.480611   \n",
              "1  240627  2019-03-15       14:25:53.060      -1.712668 -6.518866   \n",
              "2  240627  2019-03-15       14:26:23.060      -2.213529 -6.513475   \n",
              "3  240627  2019-03-15       14:27:08.060      -2.212934 -6.484467   \n",
              "4  240627  2019-03-15       14:27:38.060      -1.811965 -6.445186   \n",
              "\n",
              "   PYRO_2_FRST_3_ZONE  LASER_FRN_1  LASER_FRN_2  LASER_FRN_8  LASER_FRN_9  \\\n",
              "0           -6.260562    -1.108191    -2.389473    -3.811867    -2.455160   \n",
              "1           -6.253058    -1.108199    -2.376155    -3.795318    -2.455455   \n",
              "2           -6.261373    -1.108177    -2.369908    -3.783512    -2.455522   \n",
              "3           -6.161300    -1.108188    -2.340920    -3.760286    -2.455393   \n",
              "4           -5.887232    -1.108134    -2.305111    -3.712663    -2.454928   \n",
              "\n",
              "   ...  FILL_BENDING_POS  FILL_BENDING_NEG  MT_ADJUSTED  DIF_TIPO_1  \\\n",
              "0  ...               0.0               0.0          0.0         0.0   \n",
              "1  ...               0.0               0.0          7.0         0.0   \n",
              "2  ...               0.0               0.0         14.0         0.0   \n",
              "3  ...               0.0               0.0         21.0         0.0   \n",
              "4  ...               0.0               0.0         28.0         0.0   \n",
              "\n",
              "   DIF_TIPO_2  DIF_TIPO_3  DIF_TIPO_4  DIF_TIPO_5  DIF_TIPO_6  Has_Defect  \n",
              "0         0.0         0.0         0.0         0.0         0.0         0.0  \n",
              "1         0.0         0.0         0.0         0.0         0.0         0.0  \n",
              "2         0.0         0.0         0.0         0.0         0.0         0.0  \n",
              "3         0.0         0.0         0.0         0.0         0.0         0.0  \n",
              "4         0.0         0.0         0.0         0.0         0.0         0.0  \n",
              "\n",
              "[5 rows x 51 columns]"
            ]
          },
          "execution_count": 4,
          "metadata": {},
          "output_type": "execute_result"
        }
      ],
      "source": [
        "df_final.head()"
      ]
    },
    {
      "cell_type": "code",
      "execution_count": 5,
      "metadata": {
        "colab": {
          "base_uri": "https://localhost:8080/",
          "height": 768
        },
        "id": "UirYWQfLqezY",
        "outputId": "047c7420-12b1-4ca8-b082-976739315641"
      },
      "outputs": [
        {
          "name": "stderr",
          "output_type": "stream",
          "text": [
            "C:\\Users\\simon\\AppData\\Local\\Temp\\ipykernel_12184\\2808979106.py:10: RuntimeWarning: invalid value encountered in log\n",
            "  df_transformed['TEMP_Z1_log'] = df_transformed['TEMP_Z1'].apply(lambda x: np.log(x + 1))  # Adding 1 to avoid log(0)\n",
            "C:\\Users\\simon\\AppData\\Local\\Temp\\ipykernel_12184\\2808979106.py:14: FutureWarning: \n",
            "\n",
            "`shade` is now deprecated in favor of `fill`; setting `fill=True`.\n",
            "This will become an error in seaborn v0.14.0; please update your code.\n",
            "\n",
            "  sns.kdeplot(df_transformed[df_transformed['Has_Defect'] == 0]['TEMP_Z1_log'], label='No Defect', shade=True)\n",
            "d:\\Anaconda\\Lib\\site-packages\\seaborn\\_oldcore.py:1119: FutureWarning: use_inf_as_na option is deprecated and will be removed in a future version. Convert inf values to NaN before operating instead.\n",
            "  with pd.option_context('mode.use_inf_as_na', True):\n",
            "C:\\Users\\simon\\AppData\\Local\\Temp\\ipykernel_12184\\2808979106.py:15: FutureWarning: \n",
            "\n",
            "`shade` is now deprecated in favor of `fill`; setting `fill=True`.\n",
            "This will become an error in seaborn v0.14.0; please update your code.\n",
            "\n",
            "  sns.kdeplot(df_transformed[df_transformed['Has_Defect'] == 1]['TEMP_Z1_log'], label='Defect', shade=True)\n",
            "d:\\Anaconda\\Lib\\site-packages\\seaborn\\_oldcore.py:1119: FutureWarning: use_inf_as_na option is deprecated and will be removed in a future version. Convert inf values to NaN before operating instead.\n",
            "  with pd.option_context('mode.use_inf_as_na', True):\n"
          ]
        },
        {
          "data": {
            "image/png": "[encoded data removed]",
            "text/plain": [
              "<Figure size 1000x600 with 1 Axes>"
            ]
          },
          "metadata": {},
          "output_type": "display_data"
        }
      ],
      "source": [
        "import pandas as pd\n",
        "import numpy as np\n",
        "import matplotlib.pyplot as plt\n",
        "import seaborn as sns\n",
        "\n",
        "# Create a new DataFrame for the transformed data\n",
        "df_transformed = df_final.copy()\n",
        "\n",
        "# Apply logarithmic transformation to 'TEMP_Z1' column\n",
        "df_transformed['TEMP_Z1_log'] = df_transformed['TEMP_Z1'].apply(lambda x: np.log(x + 1))  # Adding 1 to avoid log(0)\n",
        "\n",
        "# Plot the distribution curves\n",
        "plt.figure(figsize=(10, 6))\n",
        "sns.kdeplot(df_transformed[df_transformed['Has_Defect'] == 0]['TEMP_Z1_log'], label='No Defect', shade=True)\n",
        "sns.kdeplot(df_transformed[df_transformed['Has_Defect'] == 1]['TEMP_Z1_log'], label='Defect', shade=True)\n",
        "plt.xlabel('Log(TEMP_Z1 + 1)')  # Adding 1 to the label for clarity\n",
        "plt.ylabel('Density')\n",
        "plt.title('Distribution of Log-transformed TEMP_Z1 by Defect Status')\n",
        "plt.legend()\n",
        "plt.show()"
      ]
    },
    {
      "cell_type": "code",
      "execution_count": 6,
      "metadata": {
        "colab": {
          "base_uri": "https://localhost:8080/"
        },
        "id": "3iC0hrM60xml",
        "outputId": "61cf9b2a-af03-4fc6-82cd-443d7e03efc4"
      },
      "outputs": [
        {
          "name": "stdout",
          "output_type": "stream",
          "text": [
            "Count of 1 in 'DIF_TIPO_1': 6668\n",
            "Count of 1 in 'DIF_TIPO_2': 10492\n",
            "Count of 1 in 'DIF_TIPO_3': 86585\n",
            "Count of 1 in 'DIF_TIPO_4': 51852\n",
            "Count of 1 in 'DIF_TIPO_5': 7584\n",
            "Count of 1 in 'DIF_TIPO_6': 7148\n"
          ]
        }
      ],
      "source": [
        "# Count occurrences of 1 in each column\n",
        "count_type_1 = df_final['DIF_TIPO_1'].eq(1).sum()\n",
        "count_type_2 = df_final['DIF_TIPO_2'].eq(1).sum()\n",
        "count_type_3 = df_final['DIF_TIPO_3'].eq(1).sum()\n",
        "count_type_4 = df_final['DIF_TIPO_4'].eq(1).sum()\n",
        "count_type_5 = df_final['DIF_TIPO_5'].eq(1).sum()\n",
        "count_type_6 = df_final['DIF_TIPO_6'].eq(1).sum()\n",
        "\n",
        "print(\"Count of 1 in 'DIF_TIPO_1':\", count_type_1)\n",
        "print(\"Count of 1 in 'DIF_TIPO_2':\", count_type_2)\n",
        "print(\"Count of 1 in 'DIF_TIPO_3':\", count_type_3)\n",
        "print(\"Count of 1 in 'DIF_TIPO_4':\", count_type_4)\n",
        "print(\"Count of 1 in 'DIF_TIPO_5':\", count_type_5)\n",
        "print(\"Count of 1 in 'DIF_TIPO_6':\", count_type_6)"
      ]
    },
    {
      "cell_type": "markdown",
      "metadata": {
        "id": "KwhVaWRjJmBR"
      },
      "source": [
        "**'df_final'** is now our final dataframe with the selected features and the target column of interest ('Has_Defect') at the end"
      ]
    },
    {
      "cell_type": "markdown",
      "metadata": {
        "id": "GPJPsOF-JmBR"
      },
      "source": [
        "#### Splitting our data into Train, Validation and Test sets"
      ]
    },
    {
      "cell_type": "markdown",
      "metadata": {
        "id": "Js2LLV7UJmBR"
      },
      "source": [
        "To ensure that the same coils are not split across both the training and testing sets, thereby preventing data leakage, we need to stratify the split based on the coil ID. This means we should split our dataset in such a way that all records belonging to a specific coil are either entirely in the training set or entirely in the testing set"
      ]
    },
    {
      "cell_type": "code",
      "execution_count": 7,
      "metadata": {
        "id": "6STUe2MsJmBR"
      },
      "outputs": [],
      "source": [
        "# Get unique coil IDs and split them\n",
        "unique_coils = df_final['COIL'].unique()\n",
        "train_coils, test_coils = train_test_split(unique_coils, test_size=0.2, random_state=42)\n",
        "train_coils, val_coils = train_test_split(train_coils, test_size=0.25, random_state=42)  # Splitting the remaining 80% into 60% train and 20% validation\n",
        "\n",
        "# Split the DataFrame into training, validation, and testing sets based on coil IDs\n",
        "train_df = df_final[df_final['COIL'].isin(train_coils)]\n",
        "val_df = df_final[df_final['COIL'].isin(val_coils)]\n",
        "test_df = df_final[df_final['COIL'].isin(test_coils)]\n"
      ]
    },
    {
      "cell_type": "code",
      "execution_count": 8,
      "metadata": {
        "colab": {
          "base_uri": "https://localhost:8080/"
        },
        "id": "ZBL3G8iNloPb",
        "outputId": "953af2a1-1ece-4818-dba1-bfbaaf8ec0e9"
      },
      "outputs": [
        {
          "name": "stdout",
          "output_type": "stream",
          "text": [
            "(177863, 51)\n",
            "(60333, 51)\n",
            "(61188, 51)\n"
          ]
        }
      ],
      "source": [
        "print(train_df.shape)\n",
        "print(val_df.shape)\n",
        "print(test_df.shape)"
      ]
    },
    {
      "cell_type": "code",
      "execution_count": 9,
      "metadata": {
        "id": "8eia9i0CJmBS"
      },
      "outputs": [],
      "source": [
        "target = \"Has_Defect\"\n",
        "\n",
        "# Prepare the data\n",
        "X_train = train_df.drop(['COIL', 'MT_ADJUSTED', 'DATE', 'TIME_START_PROCESS', 'DIF_TIPO_1', 'DIF_TIPO_2', 'DIF_TIPO_3', 'DIF_TIPO_4', 'DIF_TIPO_5', 'DIF_TIPO_6', target], axis=1)\n",
        "y_train = train_df[target]\n",
        "\n",
        "X_val = val_df.drop(['COIL', 'MT_ADJUSTED', 'DATE', 'TIME_START_PROCESS','DIF_TIPO_1', 'DIF_TIPO_2', 'DIF_TIPO_3', 'DIF_TIPO_4', 'DIF_TIPO_5', 'DIF_TIPO_6', target], axis=1)\n",
        "y_val = val_df[target]\n",
        "\n",
        "X_test = test_df.drop(['COIL', 'MT_ADJUSTED', 'DATE', 'TIME_START_PROCESS', 'DIF_TIPO_1', 'DIF_TIPO_2', 'DIF_TIPO_3', 'DIF_TIPO_4', 'DIF_TIPO_5', 'DIF_TIPO_6', target], axis=1)\n",
        "y_test = test_df[target]"
      ]
    },
    {
      "cell_type": "code",
      "execution_count": 10,
      "metadata": {
        "colab": {
          "base_uri": "https://localhost:8080/"
        },
        "id": "HFr2Ins0gxCQ",
        "outputId": "c744f14e-79a1-40a1-9999-95559c0f940e"
      },
      "outputs": [
        {
          "name": "stdout",
          "output_type": "stream",
          "text": [
            "Has_Defect\n",
            "0.0    64.673934\n",
            "1.0    35.326066\n",
            "Name: count, dtype: float64\n"
          ]
        }
      ],
      "source": [
        "#check balance of data for training\n",
        "value_counts_ytrain = y_train.value_counts()\n",
        "percentages = (value_counts_ytrain / len(y_train)) * 100\n",
        "print(percentages)"
      ]
    },
    {
      "cell_type": "code",
      "execution_count": 11,
      "metadata": {
        "colab": {
          "base_uri": "https://localhost:8080/"
        },
        "id": "1Lhs_QDthiUK",
        "outputId": "c496050c-2411-4ab1-ad08-06cfb59026c1"
      },
      "outputs": [
        {
          "name": "stdout",
          "output_type": "stream",
          "text": [
            "Has_Defect\n",
            "0.0    66.537384\n",
            "1.0    33.462616\n",
            "Name: count, dtype: float64\n"
          ]
        }
      ],
      "source": [
        "#check balance of data for validation\n",
        "value_counts_yval = y_val.value_counts()\n",
        "percentages_val = (value_counts_yval / len(y_val)) * 100\n",
        "print(percentages_val)"
      ]
    },
    {
      "cell_type": "code",
      "execution_count": 12,
      "metadata": {
        "colab": {
          "base_uri": "https://localhost:8080/"
        },
        "id": "yaiaZJkFh0Dl",
        "outputId": "a9b8bca4-2c7a-4245-ebdc-39ac537faf03"
      },
      "outputs": [
        {
          "name": "stdout",
          "output_type": "stream",
          "text": [
            "Has_Defect\n",
            "0.0    62.322678\n",
            "1.0    37.677322\n",
            "Name: count, dtype: float64\n"
          ]
        }
      ],
      "source": [
        "#check balance of data for test\n",
        "value_counts_ytest = y_test.value_counts()\n",
        "percentages_test = (value_counts_ytest / len(y_test)) * 100\n",
        "print(percentages_test)"
      ]
    },
    {
      "cell_type": "markdown",
      "metadata": {
        "id": "hhJ8GSd_JmBS"
      },
      "source": [
        "### Random Forest"
      ]
    },
    {
      "cell_type": "markdown",
      "metadata": {
        "id": "EFzD-lKrJmBS"
      },
      "source": [
        "Optimized Hyperparameter Tuning for Random Forest Classifier with Reduced Computational Complexity"
      ]
    },
    {
      "cell_type": "code",
      "execution_count": 13,
      "metadata": {
        "colab": {
          "base_uri": "https://localhost:8080/"
        },
        "id": "ZSQ0PmZN8x3s",
        "outputId": "74441a59-30f8-4ba0-f903-959e50e814e8"
      },
      "outputs": [],
      "source": [
        "from sklearn.model_selection import RandomizedSearchCV\n",
        "from sklearn.ensemble import RandomForestClassifier\n",
        "from scipy.stats import randint\n",
        "\n",
        "# Create a Random Forest classifier\n",
        "rf_clf = RandomForestClassifier()\n",
        "\n",
        "# Define the parameter distribution\n",
        "param_dist = {\n",
        "    'n_estimators': randint(50, 200),  # Number of trees in the forest\n",
        "    'max_features': ['auto', 'sqrt'],  # Number of features to consider at every split\n",
        "    'max_depth': [None, 10, 20, 30],  # Maximum depth of the trees\n",
        "    'min_samples_split': randint(2, 11),  # Minimum number of samples required to split a node\n",
        "    'min_samples_leaf': randint(1, 5),  # Minimum number of samples required at each leaf node\n",
        "    'bootstrap': [True, False]  # Method of selecting samples for training each tree\n",
        "}\n",
        "\n",
        "# # Create RandomizedSearchCV object\n",
        "# random_search = RandomizedSearchCV(estimator=rf_clf, param_distributions=param_dist, n_iter=12, cv=3, scoring='accuracy', n_jobs=-1, random_state=42, verbose=10)\n",
        "\n",
        "# # Perform randomized search on your data\n",
        "# random_search.fit(X_train, y_train)  # X_train and y_train are your training data\n",
        "\n",
        "# # Print the best parameters found\n",
        "# print(\"Best parameters:\", random_search.best_params_)\n",
        "\n",
        "# # Print the best score found\n",
        "# print(\"Best score:\", random_search.best_score_)\n",
        "\n",
        "# # Get the best parameters and use them to create the best model\n",
        "# best_params = random_search.best_params_\n",
        "# best_rf = RandomForestClassifier(**best_params, random_state=42, class_weight='balanced')\n",
        "\n",
        "# # Fit the best model\n",
        "# best_rf.fit(X_train, y_train)"
      ]
    },
    {
      "cell_type": "code",
      "execution_count": 14,
      "metadata": {},
      "outputs": [
        {
          "data": {
            "text/html": [
              "<style>#sk-container-id-1 {\n",
              "  /* Definition of color scheme common for light and dark mode */\n",
              "  --sklearn-color-text: black;\n",
              "  --sklearn-color-line: gray;\n",
              "  /* Definition of color scheme for unfitted estimators */\n",
              "  --sklearn-color-unfitted-level-0: #fff5e6;\n",
              "  --sklearn-color-unfitted-level-1: #f6e4d2;\n",
              "  --sklearn-color-unfitted-level-2: #ffe0b3;\n",
              "  --sklearn-color-unfitted-level-3: chocolate;\n",
              "  /* Definition of color scheme for fitted estimators */\n",
              "  --sklearn-color-fitted-level-0: #f0f8ff;\n",
              "  --sklearn-color-fitted-level-1: #d4ebff;\n",
              "  --sklearn-color-fitted-level-2: #b3dbfd;\n",
              "  --sklearn-color-fitted-level-3: cornflowerblue;\n",
              "\n",
              "  /* Specific color for light theme */\n",
              "  --sklearn-color-text-on-default-background: var(--sg-text-color, var(--theme-code-foreground, var(--jp-content-font-color1, black)));\n",
              "  --sklearn-color-background: var(--sg-background-color, var(--theme-background, var(--jp-layout-color0, white)));\n",
              "  --sklearn-color-border-box: var(--sg-text-color, var(--theme-code-foreground, var(--jp-content-font-color1, black)));\n",
              "  --sklearn-color-icon: #696969;\n",
              "\n",
              "  @media (prefers-color-scheme: dark) {\n",
              "    /* Redefinition of color scheme for dark theme */\n",
              "    --sklearn-color-text-on-default-background: var(--sg-text-color, var(--theme-code-foreground, var(--jp-content-font-color1, white)));\n",
              "    --sklearn-color-background: var(--sg-background-color, var(--theme-background, var(--jp-layout-color0, #111)));\n",
              "    --sklearn-color-border-box: var(--sg-text-color, var(--theme-code-foreground, var(--jp-content-font-color1, white)));\n",
              "    --sklearn-color-icon: #878787;\n",
              "  }\n",
              "}\n",
              "\n",
              "#sk-container-id-1 {\n",
              "  color: var(--sklearn-color-text);\n",
              "}\n",
              "\n",
              "#sk-container-id-1 pre {\n",
              "  padding: 0;\n",
              "}\n",
              "\n",
              "#sk-container-id-1 input.sk-hidden--visually {\n",
              "  border: 0;\n",
              "  clip: rect(1px 1px 1px 1px);\n",
              "  clip: rect(1px, 1px, 1px, 1px);\n",
              "  height: 1px;\n",
              "  margin: -1px;\n",
              "  overflow: hidden;\n",
              "  padding: 0;\n",
              "  position: absolute;\n",
              "  width: 1px;\n",
              "}\n",
              "\n",
              "#sk-container-id-1 div.sk-dashed-wrapped {\n",
              "  border: 1px dashed var(--sklearn-color-line);\n",
              "  margin: 0 0.4em 0.5em 0.4em;\n",
              "  box-sizing: border-box;\n",
              "  padding-bottom: 0.4em;\n",
              "  background-color: var(--sklearn-color-background);\n",
              "}\n",
              "\n",
              "#sk-container-id-1 div.sk-container {\n",
              "  /* jupyter's `normalize.less` sets `[hidden] { display: none; }`\n",
              "     but bootstrap.min.css set `[hidden] { display: none !important; }`\n",
              "     so we also need the `!important` here to be able to override the\n",
              "     default hidden behavior on the sphinx rendered scikit-learn.org.\n",
              "     See: https://github.com/scikit-learn/scikit-learn/issues/21755 */\n",
              "  display: inline-block !important;\n",
              "  position: relative;\n",
              "}\n",
              "\n",
              "#sk-container-id-1 div.sk-text-repr-fallback {\n",
              "  display: none;\n",
              "}\n",
              "\n",
              "div.sk-parallel-item,\n",
              "div.sk-serial,\n",
              "div.sk-item {\n",
              "  /* draw centered vertical line to link estimators */\n",
              "  background-image: linear-gradient(var(--sklearn-color-text-on-default-background), var(--sklearn-color-text-on-default-background));\n",
              "  background-size: 2px 100%;\n",
              "  background-repeat: no-repeat;\n",
              "  background-position: center center;\n",
              "}\n",
              "\n",
              "/* Parallel-specific style estimator block */\n",
              "\n",
              "#sk-container-id-1 div.sk-parallel-item::after {\n",
              "  content: \"\";\n",
              "  width: 100%;\n",
              "  border-bottom: 2px solid var(--sklearn-color-text-on-default-background);\n",
              "  flex-grow: 1;\n",
              "}\n",
              "\n",
              "#sk-container-id-1 div.sk-parallel {\n",
              "  display: flex;\n",
              "  align-items: stretch;\n",
              "  justify-content: center;\n",
              "  background-color: var(--sklearn-color-background);\n",
              "  position: relative;\n",
              "}\n",
              "\n",
              "#sk-container-id-1 div.sk-parallel-item {\n",
              "  display: flex;\n",
              "  flex-direction: column;\n",
              "}\n",
              "\n",
              "#sk-container-id-1 div.sk-parallel-item:first-child::after {\n",
              "  align-self: flex-end;\n",
              "  width: 50%;\n",
              "}\n",
              "\n",
              "#sk-container-id-1 div.sk-parallel-item:last-child::after {\n",
              "  align-self: flex-start;\n",
              "  width: 50%;\n",
              "}\n",
              "\n",
              "#sk-container-id-1 div.sk-parallel-item:only-child::after {\n",
              "  width: 0;\n",
              "}\n",
              "\n",
              "/* Serial-specific style estimator block */\n",
              "\n",
              "#sk-container-id-1 div.sk-serial {\n",
              "  display: flex;\n",
              "  flex-direction: column;\n",
              "  align-items: center;\n",
              "  background-color: var(--sklearn-color-background);\n",
              "  padding-right: 1em;\n",
              "  padding-left: 1em;\n",
              "}\n",
              "\n",
              "\n",
              "/* Toggleable style: style used for estimator/Pipeline/ColumnTransformer box that is\n",
              "clickable and can be expanded/collapsed.\n",
              "- Pipeline and ColumnTransformer use this feature and define the default style\n",
              "- Estimators will overwrite some part of the style using the `sk-estimator` class\n",
              "*/\n",
              "\n",
              "/* Pipeline and ColumnTransformer style (default) */\n",
              "\n",
              "#sk-container-id-1 div.sk-toggleable {\n",
              "  /* Default theme specific background. It is overwritten whether we have a\n",
              "  specific estimator or a Pipeline/ColumnTransformer */\n",
              "  background-color: var(--sklearn-color-background);\n",
              "}\n",
              "\n",
              "/* Toggleable label */\n",
              "#sk-container-id-1 label.sk-toggleable__label {\n",
              "  cursor: pointer;\n",
              "  display: block;\n",
              "  width: 100%;\n",
              "  margin-bottom: 0;\n",
              "  padding: 0.5em;\n",
              "  box-sizing: border-box;\n",
              "  text-align: center;\n",
              "}\n",
              "\n",
              "#sk-container-id-1 label.sk-toggleable__label-arrow:before {\n",
              "  /* Arrow on the left of the label */\n",
              "  content: \"▸\";\n",
              "  float: left;\n",
              "  margin-right: 0.25em;\n",
              "  color: var(--sklearn-color-icon);\n",
              "}\n",
              "\n",
              "#sk-container-id-1 label.sk-toggleable__label-arrow:hover:before {\n",
              "  color: var(--sklearn-color-text);\n",
              "}\n",
              "\n",
              "/* Toggleable content - dropdown */\n",
              "\n",
              "#sk-container-id-1 div.sk-toggleable__content {\n",
              "  max-height: 0;\n",
              "  max-width: 0;\n",
              "  overflow: hidden;\n",
              "  text-align: left;\n",
              "  /* unfitted */\n",
              "  background-color: var(--sklearn-color-unfitted-level-0);\n",
              "}\n",
              "\n",
              "#sk-container-id-1 div.sk-toggleable__content.fitted {\n",
              "  /* fitted */\n",
              "  background-color: var(--sklearn-color-fitted-level-0);\n",
              "}\n",
              "\n",
              "#sk-container-id-1 div.sk-toggleable__content pre {\n",
              "  margin: 0.2em;\n",
              "  border-radius: 0.25em;\n",
              "  color: var(--sklearn-color-text);\n",
              "  /* unfitted */\n",
              "  background-color: var(--sklearn-color-unfitted-level-0);\n",
              "}\n",
              "\n",
              "#sk-container-id-1 div.sk-toggleable__content.fitted pre {\n",
              "  /* unfitted */\n",
              "  background-color: var(--sklearn-color-fitted-level-0);\n",
              "}\n",
              "\n",
              "#sk-container-id-1 input.sk-toggleable__control:checked~div.sk-toggleable__content {\n",
              "  /* Expand drop-down */\n",
              "  max-height: 200px;\n",
              "  max-width: 100%;\n",
              "  overflow: auto;\n",
              "}\n",
              "\n",
              "#sk-container-id-1 input.sk-toggleable__control:checked~label.sk-toggleable__label-arrow:before {\n",
              "  content: \"▾\";\n",
              "}\n",
              "\n",
              "/* Pipeline/ColumnTransformer-specific style */\n",
              "\n",
              "#sk-container-id-1 div.sk-label input.sk-toggleable__control:checked~label.sk-toggleable__label {\n",
              "  color: var(--sklearn-color-text);\n",
              "  background-color: var(--sklearn-color-unfitted-level-2);\n",
              "}\n",
              "\n",
              "#sk-container-id-1 div.sk-label.fitted input.sk-toggleable__control:checked~label.sk-toggleable__label {\n",
              "  background-color: var(--sklearn-color-fitted-level-2);\n",
              "}\n",
              "\n",
              "/* Estimator-specific style */\n",
              "\n",
              "/* Colorize estimator box */\n",
              "#sk-container-id-1 div.sk-estimator input.sk-toggleable__control:checked~label.sk-toggleable__label {\n",
              "  /* unfitted */\n",
              "  background-color: var(--sklearn-color-unfitted-level-2);\n",
              "}\n",
              "\n",
              "#sk-container-id-1 div.sk-estimator.fitted input.sk-toggleable__control:checked~label.sk-toggleable__label {\n",
              "  /* fitted */\n",
              "  background-color: var(--sklearn-color-fitted-level-2);\n",
              "}\n",
              "\n",
              "#sk-container-id-1 div.sk-label label.sk-toggleable__label,\n",
              "#sk-container-id-1 div.sk-label label {\n",
              "  /* The background is the default theme color */\n",
              "  color: var(--sklearn-color-text-on-default-background);\n",
              "}\n",
              "\n",
              "/* On hover, darken the color of the background */\n",
              "#sk-container-id-1 div.sk-label:hover label.sk-toggleable__label {\n",
              "  color: var(--sklearn-color-text);\n",
              "  background-color: var(--sklearn-color-unfitted-level-2);\n",
              "}\n",
              "\n",
              "/* Label box, darken color on hover, fitted */\n",
              "#sk-container-id-1 div.sk-label.fitted:hover label.sk-toggleable__label.fitted {\n",
              "  color: var(--sklearn-color-text);\n",
              "  background-color: var(--sklearn-color-fitted-level-2);\n",
              "}\n",
              "\n",
              "/* Estimator label */\n",
              "\n",
              "#sk-container-id-1 div.sk-label label {\n",
              "  font-family: monospace;\n",
              "  font-weight: bold;\n",
              "  display: inline-block;\n",
              "  line-height: 1.2em;\n",
              "}\n",
              "\n",
              "#sk-container-id-1 div.sk-label-container {\n",
              "  text-align: center;\n",
              "}\n",
              "\n",
              "/* Estimator-specific */\n",
              "#sk-container-id-1 div.sk-estimator {\n",
              "  font-family: monospace;\n",
              "  border: 1px dotted var(--sklearn-color-border-box);\n",
              "  border-radius: 0.25em;\n",
              "  box-sizing: border-box;\n",
              "  margin-bottom: 0.5em;\n",
              "  /* unfitted */\n",
              "  background-color: var(--sklearn-color-unfitted-level-0);\n",
              "}\n",
              "\n",
              "#sk-container-id-1 div.sk-estimator.fitted {\n",
              "  /* fitted */\n",
              "  background-color: var(--sklearn-color-fitted-level-0);\n",
              "}\n",
              "\n",
              "/* on hover */\n",
              "#sk-container-id-1 div.sk-estimator:hover {\n",
              "  /* unfitted */\n",
              "  background-color: var(--sklearn-color-unfitted-level-2);\n",
              "}\n",
              "\n",
              "#sk-container-id-1 div.sk-estimator.fitted:hover {\n",
              "  /* fitted */\n",
              "  background-color: var(--sklearn-color-fitted-level-2);\n",
              "}\n",
              "\n",
              "/* Specification for estimator info (e.g. \"i\" and \"?\") */\n",
              "\n",
              "/* Common style for \"i\" and \"?\" */\n",
              "\n",
              ".sk-estimator-doc-link,\n",
              "a:link.sk-estimator-doc-link,\n",
              "a:visited.sk-estimator-doc-link {\n",
              "  float: right;\n",
              "  font-size: smaller;\n",
              "  line-height: 1em;\n",
              "  font-family: monospace;\n",
              "  background-color: var(--sklearn-color-background);\n",
              "  border-radius: 1em;\n",
              "  height: 1em;\n",
              "  width: 1em;\n",
              "  text-decoration: none !important;\n",
              "  margin-left: 1ex;\n",
              "  /* unfitted */\n",
              "  border: var(--sklearn-color-unfitted-level-1) 1pt solid;\n",
              "  color: var(--sklearn-color-unfitted-level-1);\n",
              "}\n",
              "\n",
              ".sk-estimator-doc-link.fitted,\n",
              "a:link.sk-estimator-doc-link.fitted,\n",
              "a:visited.sk-estimator-doc-link.fitted {\n",
              "  /* fitted */\n",
              "  border: var(--sklearn-color-fitted-level-1) 1pt solid;\n",
              "  color: var(--sklearn-color-fitted-level-1);\n",
              "}\n",
              "\n",
              "/* On hover */\n",
              "div.sk-estimator:hover .sk-estimator-doc-link:hover,\n",
              ".sk-estimator-doc-link:hover,\n",
              "div.sk-label-container:hover .sk-estimator-doc-link:hover,\n",
              ".sk-estimator-doc-link:hover {\n",
              "  /* unfitted */\n",
              "  background-color: var(--sklearn-color-unfitted-level-3);\n",
              "  color: var(--sklearn-color-background);\n",
              "  text-decoration: none;\n",
              "}\n",
              "\n",
              "div.sk-estimator.fitted:hover .sk-estimator-doc-link.fitted:hover,\n",
              ".sk-estimator-doc-link.fitted:hover,\n",
              "div.sk-label-container:hover .sk-estimator-doc-link.fitted:hover,\n",
              ".sk-estimator-doc-link.fitted:hover {\n",
              "  /* fitted */\n",
              "  background-color: var(--sklearn-color-fitted-level-3);\n",
              "  color: var(--sklearn-color-background);\n",
              "  text-decoration: none;\n",
              "}\n",
              "\n",
              "/* Span, style for the box shown on hovering the info icon */\n",
              ".sk-estimator-doc-link span {\n",
              "  display: none;\n",
              "  z-index: 9999;\n",
              "  position: relative;\n",
              "  font-weight: normal;\n",
              "  right: .2ex;\n",
              "  padding: .5ex;\n",
              "  margin: .5ex;\n",
              "  width: min-content;\n",
              "  min-width: 20ex;\n",
              "  max-width: 50ex;\n",
              "  color: var(--sklearn-color-text);\n",
              "  box-shadow: 2pt 2pt 4pt #999;\n",
              "  /* unfitted */\n",
              "  background: var(--sklearn-color-unfitted-level-0);\n",
              "  border: .5pt solid var(--sklearn-color-unfitted-level-3);\n",
              "}\n",
              "\n",
              ".sk-estimator-doc-link.fitted span {\n",
              "  /* fitted */\n",
              "  background: var(--sklearn-color-fitted-level-0);\n",
              "  border: var(--sklearn-color-fitted-level-3);\n",
              "}\n",
              "\n",
              ".sk-estimator-doc-link:hover span {\n",
              "  display: block;\n",
              "}\n",
              "\n",
              "/* \"?\"-specific style due to the `<a>` HTML tag */\n",
              "\n",
              "#sk-container-id-1 a.estimator_doc_link {\n",
              "  float: right;\n",
              "  font-size: 1rem;\n",
              "  line-height: 1em;\n",
              "  font-family: monospace;\n",
              "  background-color: var(--sklearn-color-background);\n",
              "  border-radius: 1rem;\n",
              "  height: 1rem;\n",
              "  width: 1rem;\n",
              "  text-decoration: none;\n",
              "  /* unfitted */\n",
              "  color: var(--sklearn-color-unfitted-level-1);\n",
              "  border: var(--sklearn-color-unfitted-level-1) 1pt solid;\n",
              "}\n",
              "\n",
              "#sk-container-id-1 a.estimator_doc_link.fitted {\n",
              "  /* fitted */\n",
              "  border: var(--sklearn-color-fitted-level-1) 1pt solid;\n",
              "  color: var(--sklearn-color-fitted-level-1);\n",
              "}\n",
              "\n",
              "/* On hover */\n",
              "#sk-container-id-1 a.estimator_doc_link:hover {\n",
              "  /* unfitted */\n",
              "  background-color: var(--sklearn-color-unfitted-level-3);\n",
              "  color: var(--sklearn-color-background);\n",
              "  text-decoration: none;\n",
              "}\n",
              "\n",
              "#sk-container-id-1 a.estimator_doc_link.fitted:hover {\n",
              "  /* fitted */\n",
              "  background-color: var(--sklearn-color-fitted-level-3);\n",
              "}\n",
              "</style><div id=\"sk-container-id-1\" class=\"sk-top-container\"><div class=\"sk-text-repr-fallback\"><pre>RandomForestClassifier(class_weight=&#x27;balanced&#x27;, max_depth=10,\n",
              "                       min_samples_leaf=3, min_samples_split=9,\n",
              "                       n_estimators=166, random_state=42)</pre><b>In a Jupyter environment, please rerun this cell to show the HTML representation or trust the notebook. <br />On GitHub, the HTML representation is unable to render, please try loading this page with nbviewer.org.</b></div><div class=\"sk-container\" hidden><div class=\"sk-item\"><div class=\"sk-estimator fitted sk-toggleable\"><input class=\"sk-toggleable__control sk-hidden--visually\" id=\"sk-estimator-id-1\" type=\"checkbox\" checked><label for=\"sk-estimator-id-1\" class=\"sk-toggleable__label fitted sk-toggleable__label-arrow fitted\">&nbsp;&nbsp;RandomForestClassifier<a class=\"sk-estimator-doc-link fitted\" rel=\"noreferrer\" target=\"_blank\" href=\"https://scikit-learn.org/1.4/modules/generated/sklearn.ensemble.RandomForestClassifier.html\">?<span>Documentation for RandomForestClassifier</span></a><span class=\"sk-estimator-doc-link fitted\">i<span>Fitted</span></span></label><div class=\"sk-toggleable__content fitted\"><pre>RandomForestClassifier(class_weight=&#x27;balanced&#x27;, max_depth=10,\n",
              "                       min_samples_leaf=3, min_samples_split=9,\n",
              "                       n_estimators=166, random_state=42)</pre></div> </div></div></div></div>"
            ],
            "text/plain": [
              "RandomForestClassifier(class_weight='balanced', max_depth=10,\n",
              "                       min_samples_leaf=3, min_samples_split=9,\n",
              "                       n_estimators=166, random_state=42)"
            ]
          },
          "execution_count": 14,
          "metadata": {},
          "output_type": "execute_result"
        }
      ],
      "source": [
        "from sklearn.ensemble import RandomForestClassifier\n",
        "from scipy.stats import randint\n",
        "\n",
        "best_rf = RandomForestClassifier(bootstrap=True, max_depth=10 ,min_samples_leaf=3, \\\n",
        "                                min_samples_split=9, n_estimators=166, random_state=42, class_weight='balanced')\n",
        "\n",
        "# Fit the best model \n",
        "best_rf.fit(X_train, y_train)\n"
      ]
    },
    {
      "cell_type": "code",
      "execution_count": 15,
      "metadata": {
        "colab": {
          "base_uri": "https://localhost:8080/",
          "height": 727
        },
        "id": "qZOnJb3nJmBS",
        "outputId": "88726142-4dde-43b5-e0f3-1d2606bfc2ed"
      },
      "outputs": [
        {
          "name": "stdout",
          "output_type": "stream",
          "text": [
            "Validation Accuracy: 0.7716175227487445\n",
            "Testing Accuracy: 0.7968065633784402\n",
            "\n",
            "**Classification report for Random Forest Classifier on the test set:**\n",
            "\n",
            "              precision    recall  f1-score   support\n",
            "\n",
            "         0.0       0.89      0.77      0.83     38134\n",
            "         1.0       0.69      0.84      0.76     23054\n",
            "\n",
            "    accuracy                           0.80     61188\n",
            "   macro avg       0.79      0.81      0.79     61188\n",
            "weighted avg       0.81      0.80      0.80     61188\n",
            "\n"
          ]
        },
        {
          "data": {
            "text/plain": [
              "Text(0.5, 1.0, 'Confusion Matrix for Random Forest Classifier on the test set')"
            ]
          },
          "execution_count": 15,
          "metadata": {},
          "output_type": "execute_result"
        },
        {
          "data": {
            "image/png": "[encoded data removed]",
            "text/plain": [
              "<Figure size 640x480 with 2 Axes>"
            ]
          },
          "metadata": {},
          "output_type": "display_data"
        }
      ],
      "source": [
        "# Predict on the validation set\n",
        "y_val_pred = best_rf.predict(X_val)\n",
        "# Calculate the accuracy of the model on the validation set\n",
        "val_accuracy = accuracy_score(y_val, y_val_pred)\n",
        "print(f\"Validation Accuracy: {val_accuracy}\")\n",
        "\n",
        "# Predict on the test set\n",
        "y_test_pred = best_rf.predict(X_test)\n",
        "# Calculate the accuracy of the model on the testing set\n",
        "test_accuracy = accuracy_score(y_test, y_test_pred)\n",
        "print(f\"Testing Accuracy: {test_accuracy}\\n\")\n",
        "\n",
        "# Print out the classification report which provides a summary of the model's performance\n",
        "print(\"**Classification report for Random Forest Classifier on the test set:**\\n\")\n",
        "print(classification_report(y_test, y_test_pred))\n",
        "\n",
        "# Create a confusion matrix\n",
        "cm = metrics.confusion_matrix(y_test, y_test_pred)\n",
        "\n",
        "# Display the confusion matrix\n",
        "disp = ConfusionMatrixDisplay(confusion_matrix=cm)\n",
        "disp.plot()\n",
        "plt.title('Confusion Matrix for Random Forest Classifier on the test set')\n"
      ]
    },
    {
      "cell_type": "code",
      "execution_count": 16,
      "metadata": {
        "colab": {
          "base_uri": "https://localhost:8080/",
          "height": 489
        },
        "id": "5WwNs5WCJmBS",
        "outputId": "6189ae4b-98f9-4f95-fe44-85a16700364f"
      },
      "outputs": [
        {
          "name": "stderr",
          "output_type": "stream",
          "text": [
            "No artists with labels found to put in legend.  Note that artists whose label start with an underscore are ignored when legend() is called with no argument.\n"
          ]
        },
        {
          "data": {
            "image/png": "[encoded data removed]",
            "text/plain": [
              "<Figure size 640x480 with 1 Axes>"
            ]
          },
          "metadata": {},
          "output_type": "display_data"
        }
      ],
      "source": [
        "# Plot the ROC curve for Random Forest\n",
        "fpr_rf, tpr_rf, _ = metrics.roc_curve(y_test, y_test_pred)\n",
        "plt.plot([0, 1], [0, 1], 'k--')\n",
        "plt.plot(fpr_rf, tpr_rf)\n",
        "plt.title('ROC Curve for Random Forest')\n",
        "plt.legend()\n",
        "plt.show()"
      ]
    },
    {
      "cell_type": "code",
      "execution_count": 17,
      "metadata": {
        "colab": {
          "base_uri": "https://localhost:8080/"
        },
        "id": "zkL-O2b4JmBT",
        "outputId": "02d70dbd-9d1c-46af-9300-af2c81b91a23"
      },
      "outputs": [
        {
          "name": "stdout",
          "output_type": "stream",
          "text": [
            "Summary of feature importance:\n",
            "                 Feature  Importance\n",
            "1                TEMP_Z1    0.153107\n",
            "2     PYRO_2_FRST_3_ZONE    0.095990\n",
            "14              AIR_Z2_1    0.075179\n",
            "21          LASER_RAFF_9    0.048871\n",
            "36             FILL_TIRO    0.041587\n",
            "13              AIR_Z1_1    0.040493\n",
            "16            TIRO_FORNO    0.037092\n",
            "0          SPEED_PROCESS    0.037088\n",
            "37              FILL_ALL    0.031285\n",
            "9              AIR_CH4_3    0.028337\n",
            "25            ELET_H2SO4    0.028300\n",
            "8              AIR_CH4_2    0.027791\n",
            "3            LASER_FRN_1    0.026843\n",
            "20                 EXT_1    0.026795\n",
            "26              ELET_FE2    0.025623\n",
            "28             DEC_H2SO4    0.023240\n",
            "29               DEC_FE2    0.022250\n",
            "33           SPZ1_R1_ASS    0.020822\n",
            "5            LASER_FRN_8    0.018276\n",
            "30               DEC_FE3    0.018237\n",
            "10             AIR_CH4_4    0.017652\n",
            "7              AIR_CH4_1    0.016778\n",
            "4            LASER_FRN_2    0.016152\n",
            "6            LASER_FRN_9    0.015618\n",
            "15  FRN_FURNACE_PRESSURE    0.013739\n",
            "35            FILL_FORZA    0.011142\n",
            "22         TOUT_RAFF_H2O    0.010811\n",
            "39      FILL_BENDING_NEG    0.009874\n",
            "24             ELET_TEMP    0.008911\n",
            "11             AIR_CH4_5    0.008162\n",
            "38      FILL_BENDING_POS    0.007258\n",
            "19   PRES_ZONA3_MEASURED    0.006973\n",
            "27              DEC_TEMP    0.006824\n",
            "23           N_RAMPE_H2O    0.005182\n",
            "12             AIR_CH4_6    0.004719\n",
            "34            SPEED_FILL    0.004476\n",
            "18        PRES_ZONA1_SET    0.002522\n",
            "32               SPZ2_R3    0.002376\n",
            "17   PRES_ZONA1_MEASURED    0.001913\n",
            "31               SPZ2_R1    0.001712\n"
          ]
        }
      ],
      "source": [
        "# Feature importances for the Random Forest model\n",
        "feature_importances_rf = best_rf.feature_importances_\n",
        "\n",
        "# Summary of feature importance\n",
        "summary_imp = pd.DataFrame(list(zip(X_train.columns, feature_importances_rf)), columns=[\"Feature\", \"Importance\"])\n",
        "summary_imp = pd.DataFrame(summary_imp.sort_values(by=\"Importance\", ascending=False))\n",
        "print(\"Summary of feature importance:\")\n",
        "print(summary_imp)\n"
      ]
    },
    {
      "cell_type": "code",
      "execution_count": 18,
      "metadata": {
        "id": "J5AZocwZe0e-"
      },
      "outputs": [],
      "source": [
        "# summary_imp.to_excel(\"summary_imp.xlsx\", index=False)"
      ]
    },
    {
      "cell_type": "code",
      "execution_count": 19,
      "metadata": {
        "colab": {
          "base_uri": "https://localhost:8080/",
          "height": 672
        },
        "id": "haGeb6azkBQn",
        "outputId": "de9b3cc6-3c2b-4092-a9ac-d13fb214ff16"
      },
      "outputs": [
        {
          "data": {
            "image/png": "[encoded data removed]",
            "text/plain": [
              "<Figure size 1200x600 with 1 Axes>"
            ]
          },
          "metadata": {},
          "output_type": "display_data"
        }
      ],
      "source": [
        "import matplotlib.pyplot as plt\n",
        "import seaborn as sns\n",
        "\n",
        "# Normalize importances to percentages\n",
        "summary_imp[\"Importance (%)\"] = (summary_imp[\"Importance\"] / summary_imp[\"Importance\"].sum()) * 100\n",
        "\n",
        "# Generate a color palette with gradually lighter shades\n",
        "palette = sns.light_palette(\"#193390\", n_colors=len(summary_imp), reverse=True)\n",
        "\n",
        "plt.figure(figsize=(12, 6))\n",
        "# Plot bar chart with adjusted text size, color, and transparency\n",
        "sns.barplot(x=summary_imp[\"Importance (%)\"], y=summary_imp[\"Feature\"], palette=palette, edgecolor='none')  # Removed border\n",
        "plt.title(\"Feature Importances (Random Forest)\", color=\"#0C306D\", fontsize=16, fontweight='bold')\n",
        "# Adjust x-axis label font properties\n",
        "plt.xlabel(\"Importance (%)\", color=\"#0C306D\", fontsize=14, fontweight='bold')\n",
        "# Adjust y-axis label font properties\n",
        "plt.ylabel(\"Feature\", color=\"#0C306D\", fontsize=14, fontweight='bold')\n",
        "# Adjust tick labels font properties\n",
        "plt.xticks(fontsize=8, color=\"#0C306D\", fontweight='bold')\n",
        "plt.yticks(fontsize=7, color=\"#0C306D\", fontweight='bold')\n",
        "# Set background color\n",
        "plt.gca().set_facecolor(\"#F7FDF2\")\n",
        "# Set background color of figure\n",
        "plt.gcf().set_facecolor(\"#F7FDF2\")\n",
        "\n",
        "# Add value labels beside each bar in % format\n",
        "for i, v in enumerate(summary_imp[\"Importance (%)\"]):\n",
        "    plt.text(v + 0.05, i, f\"{v:.2f}%\", color='#0C306D', va='center', fontsize=6, fontweight='bold')\n",
        "\n",
        "# Show plot\n",
        "plt.show()"
      ]
    },
    {
      "cell_type": "markdown",
      "metadata": {},
      "source": [
        "### Whole Data"
      ]
    },
    {
      "cell_type": "code",
      "execution_count": 20,
      "metadata": {},
      "outputs": [
        {
          "name": "stdout",
          "output_type": "stream",
          "text": [
            "6668 10492 86585 51852 7584 7148\n"
          ]
        }
      ],
      "source": [
        "count_1 = df_final['DIF_TIPO_1'].value_counts()[1]\n",
        "count_2 = df_final['DIF_TIPO_2'].value_counts()[1]\n",
        "count_3 = df_final['DIF_TIPO_3'].value_counts()[1]\n",
        "count_4 = df_final['DIF_TIPO_4'].value_counts()[1]\n",
        "count_5 = df_final['DIF_TIPO_5'].value_counts()[1]\n",
        "count_6 = df_final['DIF_TIPO_6'].value_counts()[1]\n",
        "print(count_1, count_2, count_3, count_4, count_5, count_6)\n"
      ]
    },
    {
      "cell_type": "code",
      "execution_count": 21,
      "metadata": {
        "id": "DqnLIayNJmBT"
      },
      "outputs": [],
      "source": [
        "X_new = df_final.drop(['COIL', 'MT_ADJUSTED', 'DATE', 'TIME_START_PROCESS', 'DIF_TIPO_1',\\\n",
        "                                  'DIF_TIPO_2', 'DIF_TIPO_3', 'DIF_TIPO_4', 'DIF_TIPO_5', 'DIF_TIPO_6', target], axis=1)\n",
        "\n",
        "# Create predictions for our dataset\n",
        "defect_predictions = best_rf.predict(X_new)\n",
        "\n",
        "# Add prediction to 'df_final' dataset\n",
        "df_final['Defect_Predictions'] = defect_predictions\n"
      ]
    },
    {
      "cell_type": "code",
      "execution_count": 22,
      "metadata": {
        "id": "8CmZM5K5JmBT"
      },
      "outputs": [],
      "source": [
        "# Add a column for misclassified instances if the predicted label is different from actual label\n",
        "df_final['Misclassified'] = df_final['Has_Defect'] != df_final['Defect_Predictions']"
      ]
    },
    {
      "cell_type": "code",
      "execution_count": 36,
      "metadata": {},
      "outputs": [],
      "source": [
        "# df_final.to_csv('final_all_defects.csv', index=False)"
      ]
    },
    {
      "cell_type": "code",
      "execution_count": 23,
      "metadata": {
        "colab": {
          "base_uri": "https://localhost:8080/",
          "height": 221
        },
        "id": "RFpIgKQ7JmBT",
        "outputId": "efd7bdcb-5cf8-4b27-8684-db1b8420b88d"
      },
      "outputs": [
        {
          "name": "stdout",
          "output_type": "stream",
          "text": [
            "Number of Misclassified Instances: 38878\n"
          ]
        },
        {
          "data": {
            "text/html": [
              "<div>\n",
              "<style scoped>\n",
              "    .dataframe tbody tr th:only-of-type {\n",
              "        vertical-align: middle;\n",
              "    }\n",
              "\n",
              "    .dataframe tbody tr th {\n",
              "        vertical-align: top;\n",
              "    }\n",
              "\n",
              "    .dataframe thead th {\n",
              "        text-align: right;\n",
              "    }\n",
              "</style>\n",
              "<table border=\"1\" class=\"dataframe\">\n",
              "  <thead>\n",
              "    <tr style=\"text-align: right;\">\n",
              "      <th></th>\n",
              "      <th>Has_Defect</th>\n",
              "      <th>Defect_Predictions</th>\n",
              "      <th>DIF_TIPO_1</th>\n",
              "      <th>DIF_TIPO_2</th>\n",
              "      <th>DIF_TIPO_3</th>\n",
              "      <th>DIF_TIPO_4</th>\n",
              "      <th>DIF_TIPO_5</th>\n",
              "      <th>DIF_TIPO_6</th>\n",
              "    </tr>\n",
              "  </thead>\n",
              "  <tbody>\n",
              "    <tr>\n",
              "      <th>299</th>\n",
              "      <td>0.0</td>\n",
              "      <td>1.0</td>\n",
              "      <td>0.0</td>\n",
              "      <td>0.0</td>\n",
              "      <td>0.0</td>\n",
              "      <td>0.0</td>\n",
              "      <td>0.0</td>\n",
              "      <td>0.0</td>\n",
              "    </tr>\n",
              "    <tr>\n",
              "      <th>654</th>\n",
              "      <td>0.0</td>\n",
              "      <td>1.0</td>\n",
              "      <td>0.0</td>\n",
              "      <td>0.0</td>\n",
              "      <td>0.0</td>\n",
              "      <td>0.0</td>\n",
              "      <td>0.0</td>\n",
              "      <td>0.0</td>\n",
              "    </tr>\n",
              "    <tr>\n",
              "      <th>655</th>\n",
              "      <td>0.0</td>\n",
              "      <td>1.0</td>\n",
              "      <td>0.0</td>\n",
              "      <td>0.0</td>\n",
              "      <td>0.0</td>\n",
              "      <td>0.0</td>\n",
              "      <td>0.0</td>\n",
              "      <td>0.0</td>\n",
              "    </tr>\n",
              "    <tr>\n",
              "      <th>656</th>\n",
              "      <td>0.0</td>\n",
              "      <td>1.0</td>\n",
              "      <td>0.0</td>\n",
              "      <td>0.0</td>\n",
              "      <td>0.0</td>\n",
              "      <td>0.0</td>\n",
              "      <td>0.0</td>\n",
              "      <td>0.0</td>\n",
              "    </tr>\n",
              "    <tr>\n",
              "      <th>657</th>\n",
              "      <td>0.0</td>\n",
              "      <td>1.0</td>\n",
              "      <td>0.0</td>\n",
              "      <td>0.0</td>\n",
              "      <td>0.0</td>\n",
              "      <td>0.0</td>\n",
              "      <td>0.0</td>\n",
              "      <td>0.0</td>\n",
              "    </tr>\n",
              "  </tbody>\n",
              "</table>\n",
              "</div>"
            ],
            "text/plain": [
              "     Has_Defect  Defect_Predictions  DIF_TIPO_1  DIF_TIPO_2  DIF_TIPO_3  \\\n",
              "299         0.0                 1.0         0.0         0.0         0.0   \n",
              "654         0.0                 1.0         0.0         0.0         0.0   \n",
              "655         0.0                 1.0         0.0         0.0         0.0   \n",
              "656         0.0                 1.0         0.0         0.0         0.0   \n",
              "657         0.0                 1.0         0.0         0.0         0.0   \n",
              "\n",
              "     DIF_TIPO_4  DIF_TIPO_5  DIF_TIPO_6  \n",
              "299         0.0         0.0         0.0  \n",
              "654         0.0         0.0         0.0  \n",
              "655         0.0         0.0         0.0  \n",
              "656         0.0         0.0         0.0  \n",
              "657         0.0         0.0         0.0  "
            ]
          },
          "execution_count": 23,
          "metadata": {},
          "output_type": "execute_result"
        }
      ],
      "source": [
        "# Check how many misclassifications are there?\n",
        "misclassified_count = df_final['Misclassified'].sum()\n",
        "print(\"Number of Misclassified Instances:\", misclassified_count)\n",
        "\n",
        "# Create a df subset for only misclassified instances\n",
        "misclassified_defects = df_final[df_final['Misclassified'] == True][['Has_Defect', 'Defect_Predictions','DIF_TIPO_1',\\\n",
        "                                  'DIF_TIPO_2', 'DIF_TIPO_3', 'DIF_TIPO_4', 'DIF_TIPO_5', 'DIF_TIPO_6']]\n",
        "misclassified_defects.head()"
      ]
    },
    {
      "cell_type": "code",
      "execution_count": 24,
      "metadata": {
        "colab": {
          "base_uri": "https://localhost:8080/"
        },
        "id": "oO3k0lms0S0j",
        "outputId": "f756842e-0bc5-4c24-bb08-f9adf538cead"
      },
      "outputs": [
        {
          "name": "stdout",
          "output_type": "stream",
          "text": [
            "Count of 1 in 'DIF_TIPO_1': 482\n",
            "Count of 1 in 'DIF_TIPO_2': 1142\n",
            "Count of 1 in 'DIF_TIPO_3': 6041\n",
            "Count of 1 in 'DIF_TIPO_4': 3557\n",
            "Count of 1 in 'DIF_TIPO_5': 842\n",
            "Count of 1 in 'DIF_TIPO_6': 308\n"
          ]
        }
      ],
      "source": [
        "# Count occurrences of 1 in each column\n",
        "count_type_1 = misclassified_defects['DIF_TIPO_1'].eq(1).sum()\n",
        "count_type_2 = misclassified_defects['DIF_TIPO_2'].eq(1).sum()\n",
        "count_type_3 = misclassified_defects['DIF_TIPO_3'].eq(1).sum()\n",
        "count_type_4 = misclassified_defects['DIF_TIPO_4'].eq(1).sum()\n",
        "count_type_5 = misclassified_defects['DIF_TIPO_5'].eq(1).sum()\n",
        "count_type_6 = misclassified_defects['DIF_TIPO_6'].eq(1).sum()\n",
        "\n",
        "print(\"Count of 1 in 'DIF_TIPO_1':\", count_type_1)\n",
        "print(\"Count of 1 in 'DIF_TIPO_2':\", count_type_2)\n",
        "print(\"Count of 1 in 'DIF_TIPO_3':\", count_type_3)\n",
        "print(\"Count of 1 in 'DIF_TIPO_4':\", count_type_4)\n",
        "print(\"Count of 1 in 'DIF_TIPO_5':\", count_type_5)\n",
        "print(\"Count of 1 in 'DIF_TIPO_6':\", count_type_6)"
      ]
    },
    {
      "cell_type": "code",
      "execution_count": 25,
      "metadata": {
        "colab": {
          "base_uri": "https://localhost:8080/"
        },
        "id": "5UZ5TcNAJmBT",
        "outputId": "a2f05b47-7e50-4fc0-bab5-9f3b8a57afbc"
      },
      "outputs": [
        {
          "name": "stdout",
          "output_type": "stream",
          "text": [
            "Number of False Negatives: 8441\n",
            "Number of False Positives: 30437\n"
          ]
        }
      ],
      "source": [
        "#Subdivide this new dataframe into two dataframes: one for the actual defects and one for the non-defects\n",
        "false_negative = misclassified_defects[misclassified_defects['Defect_Predictions'] == 0]\n",
        "false_positive = misclassified_defects[misclassified_defects['Defect_Predictions'] == 1]\n",
        "\n",
        "# Print out some information about each dataframe\n",
        "print(\"Number of False Negatives:\", false_negative.shape[0])\n",
        "print(\"Number of False Positives:\", false_positive.shape[0])\n"
      ]
    },
    {
      "cell_type": "code",
      "execution_count": 26,
      "metadata": {
        "colab": {
          "base_uri": "https://localhost:8080/"
        },
        "id": "iliAv6lDJmBU",
        "outputId": "be50a8ae-b35d-409d-9a7f-966f90cc2856"
      },
      "outputs": [
        {
          "data": {
            "text/plain": [
              "DIF_TIPO_1  DIF_TIPO_2  DIF_TIPO_3  DIF_TIPO_4  DIF_TIPO_5  DIF_TIPO_6\n",
              "0.0         0.0         0.0         0.0         0.0         0.0           30437\n",
              "Name: count, dtype: int64"
            ]
          },
          "execution_count": 26,
          "metadata": {},
          "output_type": "execute_result"
        }
      ],
      "source": [
        "false_positive[['DIF_TIPO_1', 'DIF_TIPO_2', 'DIF_TIPO_3', 'DIF_TIPO_4', 'DIF_TIPO_5', 'DIF_TIPO_6']].value_counts()"
      ]
    },
    {
      "cell_type": "markdown",
      "metadata": {
        "id": "Yur0aMouJmBU"
      },
      "source": [
        "#### False Negatives"
      ]
    },
    {
      "cell_type": "code",
      "execution_count": 27,
      "metadata": {
        "colab": {
          "base_uri": "https://localhost:8080/"
        },
        "id": "HK4r-wkeJmBU",
        "outputId": "c94e8b28-bf65-4683-8772-bf17a4a85677"
      },
      "outputs": [
        {
          "name": "stdout",
          "output_type": "stream",
          "text": [
            "482.0 1142.0 6041.0 3557.0 842.0 308.0\n"
          ]
        }
      ],
      "source": [
        "# Number of defects of type 1 in the false negatives\n",
        "fn_type1 = false_negative['DIF_TIPO_1'].sum()\n",
        "fn_type2 = false_negative['DIF_TIPO_2'].sum()\n",
        "fn_type3 = false_negative['DIF_TIPO_3'].sum()\n",
        "fn_type4 = false_negative['DIF_TIPO_4'].sum()\n",
        "fn_type5 = false_negative['DIF_TIPO_5'].sum()\n",
        "fn_type6 = false_negative['DIF_TIPO_6'].sum()\n",
        "print(fn_type1, fn_type2, fn_type3, fn_type4, fn_type5, fn_type6)\n"
      ]
    },
    {
      "cell_type": "code",
      "execution_count": 28,
      "metadata": {
        "colab": {
          "base_uri": "https://localhost:8080/",
          "height": 452
        },
        "id": "O82hN4OaJmBU",
        "outputId": "7b13e9dd-3d09-4cd0-b42f-4d5ee55ccabe"
      },
      "outputs": [
        {
          "data": {
            "image/png": "[encoded data removed]",
            "text/plain": [
              "<Figure size 640x480 with 1 Axes>"
            ]
          },
          "metadata": {},
          "output_type": "display_data"
        }
      ],
      "source": [
        "plt.bar(['Type 1', 'Type 2', 'Type 3', 'Type 4', 'Type 5', 'Type 6'], \\\n",
        "        [fn_type1, fn_type2, fn_type3, fn_type4, fn_type5, fn_type6], color = 'skyblue')\n",
        "plt.xticks([x for x in range(0, 7)])\n",
        "plt.ylabel('Quantity of defects')\n",
        "plt.title('Distribution of defect types in false negatives')\n",
        "plt.legend(['Type 1', 'Type 2', 'Type 3', 'Type 4', 'Type 5', 'Type 6'])\n",
        "plt.grid(True)\n",
        "plt.show()"
      ]
    },
    {
      "cell_type": "code",
      "execution_count": 29,
      "metadata": {
        "colab": {
          "base_uri": "https://localhost:8080/",
          "height": 452
        },
        "id": "XWOili5vowZ0",
        "outputId": "8778787f-e7a8-49a9-f2d7-9c90027894f5"
      },
      "outputs": [
        {
          "data": {
            "image/png": "[encoded data removed]",
            "text/plain": [
              "<Figure size 640x480 with 1 Axes>"
            ]
          },
          "metadata": {},
          "output_type": "display_data"
        }
      ],
      "source": [
        "import matplotlib.pyplot as plt\n",
        "\n",
        "# Assuming you have already defined fn_type1, fn_type2, ..., fn_type6\n",
        "\n",
        "total_defects = sum([fn_type1, fn_type2, fn_type3, fn_type4, fn_type5, fn_type6])\n",
        "\n",
        "plt.bar(['Type 1', 'Type 2', 'Type 3', 'Type 4', 'Type 5', 'Type 6'], \\\n",
        "        [fn_type1, fn_type2, fn_type3, fn_type4, fn_type5, fn_type6], color='#73E491')\n",
        "\n",
        "plt.xticks([x for x in range(0, 7)], color='#F7FDF2')\n",
        "plt.yticks(color='#F7FDF2')\n",
        "plt.ylabel('Quantity of defects', color='#F7FDF2')\n",
        "plt.title('Distribution of defect types in false negatives', color='#F7FDF2')\n",
        "\n",
        "for i in range(6):\n",
        "    count_label = int([fn_type1, fn_type2, fn_type3, fn_type4, fn_type5, fn_type6][i])\n",
        "    percent_label = round(count_label / total_defects * 100, 2)\n",
        "    plt.text(i, count_label + 50, f\"{count_label}\", ha='center', color='#F7FDF2')\n",
        "\n",
        "# Set background color\n",
        "plt.gca().set_facecolor(\"#21488A\")\n",
        "# Set background color of figure\n",
        "plt.gcf().set_facecolor(\"#21488A\")\n",
        "\n",
        "# Change border color\n",
        "plt.gca().spines['bottom'].set_color('#F7FDF2')\n",
        "plt.gca().spines['left'].set_color('#F7FDF2')\n",
        "plt.gca().spines['top'].set_color('#F7FDF2')\n",
        "plt.gca().spines['right'].set_color('#F7FDF2')\n",
        "\n",
        "# Change tick marks color\n",
        "plt.tick_params(axis='x', colors='#F7FDF2')\n",
        "plt.tick_params(axis='y', colors='#F7FDF2')\n",
        "\n",
        "plt.show()\n",
        "\n",
        "\n",
        "\n"
      ]
    },
    {
      "cell_type": "code",
      "execution_count": 38,
      "metadata": {},
      "outputs": [
        {
          "data": {
            "text/html": [
              "<div>\n",
              "<style scoped>\n",
              "    .dataframe tbody tr th:only-of-type {\n",
              "        vertical-align: middle;\n",
              "    }\n",
              "\n",
              "    .dataframe tbody tr th {\n",
              "        vertical-align: top;\n",
              "    }\n",
              "\n",
              "    .dataframe thead th {\n",
              "        text-align: right;\n",
              "    }\n",
              "</style>\n",
              "<table border=\"1\" class=\"dataframe\">\n",
              "  <thead>\n",
              "    <tr style=\"text-align: right;\">\n",
              "      <th></th>\n",
              "      <th>SPEED_PROCESS</th>\n",
              "      <th>TEMP_Z1</th>\n",
              "      <th>PYRO_2_FRST_3_ZONE</th>\n",
              "      <th>LASER_FRN_1</th>\n",
              "      <th>LASER_FRN_2</th>\n",
              "      <th>LASER_FRN_8</th>\n",
              "      <th>LASER_FRN_9</th>\n",
              "      <th>AIR_CH4_1</th>\n",
              "      <th>AIR_CH4_2</th>\n",
              "      <th>AIR_CH4_3</th>\n",
              "      <th>...</th>\n",
              "      <th>SPZ2_R3</th>\n",
              "      <th>SPZ1_R1_ASS</th>\n",
              "      <th>SPEED_FILL</th>\n",
              "      <th>FILL_FORZA</th>\n",
              "      <th>FILL_TIRO</th>\n",
              "      <th>FILL_ALL</th>\n",
              "      <th>FILL_BENDING_POS</th>\n",
              "      <th>FILL_BENDING_NEG</th>\n",
              "      <th>Defect_Predictions</th>\n",
              "      <th>Misclassified</th>\n",
              "    </tr>\n",
              "  </thead>\n",
              "  <tbody>\n",
              "    <tr>\n",
              "      <th>0</th>\n",
              "      <td>-1.698350</td>\n",
              "      <td>-6.480611</td>\n",
              "      <td>-6.260562</td>\n",
              "      <td>-1.108191</td>\n",
              "      <td>-2.389473</td>\n",
              "      <td>-3.811867</td>\n",
              "      <td>-2.455160</td>\n",
              "      <td>3.096540</td>\n",
              "      <td>-1.443945</td>\n",
              "      <td>-89.021402</td>\n",
              "      <td>...</td>\n",
              "      <td>-6.361568e-16</td>\n",
              "      <td>-1.352046e-15</td>\n",
              "      <td>4.325770e-16</td>\n",
              "      <td>-4.274097e-16</td>\n",
              "      <td>0.0</td>\n",
              "      <td>0.0</td>\n",
              "      <td>0.0</td>\n",
              "      <td>0.0</td>\n",
              "      <td>0.0</td>\n",
              "      <td>False</td>\n",
              "    </tr>\n",
              "    <tr>\n",
              "      <th>1</th>\n",
              "      <td>-1.712668</td>\n",
              "      <td>-6.518866</td>\n",
              "      <td>-6.253058</td>\n",
              "      <td>-1.108199</td>\n",
              "      <td>-2.376155</td>\n",
              "      <td>-3.795318</td>\n",
              "      <td>-2.455455</td>\n",
              "      <td>3.315720</td>\n",
              "      <td>-1.490995</td>\n",
              "      <td>-80.877302</td>\n",
              "      <td>...</td>\n",
              "      <td>-6.361568e-16</td>\n",
              "      <td>-1.352046e-15</td>\n",
              "      <td>4.325770e-16</td>\n",
              "      <td>-4.274097e-16</td>\n",
              "      <td>0.0</td>\n",
              "      <td>0.0</td>\n",
              "      <td>0.0</td>\n",
              "      <td>0.0</td>\n",
              "      <td>0.0</td>\n",
              "      <td>False</td>\n",
              "    </tr>\n",
              "    <tr>\n",
              "      <th>2</th>\n",
              "      <td>-2.213529</td>\n",
              "      <td>-6.513475</td>\n",
              "      <td>-6.261373</td>\n",
              "      <td>-1.108177</td>\n",
              "      <td>-2.369908</td>\n",
              "      <td>-3.783512</td>\n",
              "      <td>-2.455522</td>\n",
              "      <td>3.457882</td>\n",
              "      <td>-1.489692</td>\n",
              "      <td>33.287347</td>\n",
              "      <td>...</td>\n",
              "      <td>-6.361568e-16</td>\n",
              "      <td>-1.352046e-15</td>\n",
              "      <td>4.325770e-16</td>\n",
              "      <td>-4.274097e-16</td>\n",
              "      <td>0.0</td>\n",
              "      <td>0.0</td>\n",
              "      <td>0.0</td>\n",
              "      <td>0.0</td>\n",
              "      <td>0.0</td>\n",
              "      <td>False</td>\n",
              "    </tr>\n",
              "    <tr>\n",
              "      <th>3</th>\n",
              "      <td>-2.212934</td>\n",
              "      <td>-6.484467</td>\n",
              "      <td>-6.161300</td>\n",
              "      <td>-1.108188</td>\n",
              "      <td>-2.340920</td>\n",
              "      <td>-3.760286</td>\n",
              "      <td>-2.455393</td>\n",
              "      <td>3.625226</td>\n",
              "      <td>-1.467386</td>\n",
              "      <td>-82.388739</td>\n",
              "      <td>...</td>\n",
              "      <td>-6.361568e-16</td>\n",
              "      <td>-1.352046e-15</td>\n",
              "      <td>4.325770e-16</td>\n",
              "      <td>-4.274097e-16</td>\n",
              "      <td>0.0</td>\n",
              "      <td>0.0</td>\n",
              "      <td>0.0</td>\n",
              "      <td>0.0</td>\n",
              "      <td>0.0</td>\n",
              "      <td>False</td>\n",
              "    </tr>\n",
              "    <tr>\n",
              "      <th>4</th>\n",
              "      <td>-1.811965</td>\n",
              "      <td>-6.445186</td>\n",
              "      <td>-5.887232</td>\n",
              "      <td>-1.108134</td>\n",
              "      <td>-2.305111</td>\n",
              "      <td>-3.712663</td>\n",
              "      <td>-2.454928</td>\n",
              "      <td>3.716779</td>\n",
              "      <td>-1.554389</td>\n",
              "      <td>-98.494047</td>\n",
              "      <td>...</td>\n",
              "      <td>2.082642e-01</td>\n",
              "      <td>-1.395796e+00</td>\n",
              "      <td>4.325770e-16</td>\n",
              "      <td>-4.274097e-16</td>\n",
              "      <td>0.0</td>\n",
              "      <td>0.0</td>\n",
              "      <td>0.0</td>\n",
              "      <td>0.0</td>\n",
              "      <td>0.0</td>\n",
              "      <td>False</td>\n",
              "    </tr>\n",
              "  </tbody>\n",
              "</table>\n",
              "<p>5 rows × 42 columns</p>\n",
              "</div>"
            ],
            "text/plain": [
              "   SPEED_PROCESS   TEMP_Z1  PYRO_2_FRST_3_ZONE  LASER_FRN_1  LASER_FRN_2  \\\n",
              "0      -1.698350 -6.480611           -6.260562    -1.108191    -2.389473   \n",
              "1      -1.712668 -6.518866           -6.253058    -1.108199    -2.376155   \n",
              "2      -2.213529 -6.513475           -6.261373    -1.108177    -2.369908   \n",
              "3      -2.212934 -6.484467           -6.161300    -1.108188    -2.340920   \n",
              "4      -1.811965 -6.445186           -5.887232    -1.108134    -2.305111   \n",
              "\n",
              "   LASER_FRN_8  LASER_FRN_9  AIR_CH4_1  AIR_CH4_2  AIR_CH4_3  ...  \\\n",
              "0    -3.811867    -2.455160   3.096540  -1.443945 -89.021402  ...   \n",
              "1    -3.795318    -2.455455   3.315720  -1.490995 -80.877302  ...   \n",
              "2    -3.783512    -2.455522   3.457882  -1.489692  33.287347  ...   \n",
              "3    -3.760286    -2.455393   3.625226  -1.467386 -82.388739  ...   \n",
              "4    -3.712663    -2.454928   3.716779  -1.554389 -98.494047  ...   \n",
              "\n",
              "        SPZ2_R3   SPZ1_R1_ASS    SPEED_FILL    FILL_FORZA  FILL_TIRO  \\\n",
              "0 -6.361568e-16 -1.352046e-15  4.325770e-16 -4.274097e-16        0.0   \n",
              "1 -6.361568e-16 -1.352046e-15  4.325770e-16 -4.274097e-16        0.0   \n",
              "2 -6.361568e-16 -1.352046e-15  4.325770e-16 -4.274097e-16        0.0   \n",
              "3 -6.361568e-16 -1.352046e-15  4.325770e-16 -4.274097e-16        0.0   \n",
              "4  2.082642e-01 -1.395796e+00  4.325770e-16 -4.274097e-16        0.0   \n",
              "\n",
              "   FILL_ALL  FILL_BENDING_POS  FILL_BENDING_NEG  Defect_Predictions  \\\n",
              "0       0.0               0.0               0.0                 0.0   \n",
              "1       0.0               0.0               0.0                 0.0   \n",
              "2       0.0               0.0               0.0                 0.0   \n",
              "3       0.0               0.0               0.0                 0.0   \n",
              "4       0.0               0.0               0.0                 0.0   \n",
              "\n",
              "   Misclassified  \n",
              "0          False  \n",
              "1          False  \n",
              "2          False  \n",
              "3          False  \n",
              "4          False  \n",
              "\n",
              "[5 rows x 42 columns]"
            ]
          },
          "execution_count": 38,
          "metadata": {},
          "output_type": "execute_result"
        }
      ],
      "source": [
        "X_new.head()"
      ]
    },
    {
      "cell_type": "markdown",
      "metadata": {},
      "source": [
        "### Test set analysis"
      ]
    },
    {
      "cell_type": "code",
      "execution_count": 30,
      "metadata": {},
      "outputs": [
        {
          "name": "stderr",
          "output_type": "stream",
          "text": [
            "C:\\Users\\simon\\AppData\\Local\\Temp\\ipykernel_12184\\1736332863.py:8: SettingWithCopyWarning: \n",
            "A value is trying to be set on a copy of a slice from a DataFrame.\n",
            "Try using .loc[row_indexer,col_indexer] = value instead\n",
            "\n",
            "See the caveats in the documentation: https://pandas.pydata.org/pandas-docs/stable/user_guide/indexing.html#returning-a-view-versus-a-copy\n",
            "  test_df['Defect_Predictions_Test'] = defect_predictions_test\n"
          ]
        }
      ],
      "source": [
        "\n",
        "X_test_new = test_df.drop(['COIL', 'MT_ADJUSTED', 'DATE', 'TIME_START_PROCESS', 'DIF_TIPO_1',\\\n",
        "                                  'DIF_TIPO_2', 'DIF_TIPO_3', 'DIF_TIPO_4', 'DIF_TIPO_5', 'DIF_TIPO_6', target], axis=1)\n",
        "\n",
        "# Create predictions for our dataset\n",
        "defect_predictions_test = best_rf.predict(X_test_new)\n",
        "\n",
        "# Add prediction to 'df_final' dataset\n",
        "test_df['Defect_Predictions_Test'] = defect_predictions_test"
      ]
    },
    {
      "cell_type": "code",
      "execution_count": 31,
      "metadata": {},
      "outputs": [
        {
          "name": "stderr",
          "output_type": "stream",
          "text": [
            "C:\\Users\\simon\\AppData\\Local\\Temp\\ipykernel_12184\\4292842364.py:2: SettingWithCopyWarning: \n",
            "A value is trying to be set on a copy of a slice from a DataFrame.\n",
            "Try using .loc[row_indexer,col_indexer] = value instead\n",
            "\n",
            "See the caveats in the documentation: https://pandas.pydata.org/pandas-docs/stable/user_guide/indexing.html#returning-a-view-versus-a-copy\n",
            "  test_df['Misclassified_Test'] = test_df['Has_Defect'] != test_df['Defect_Predictions_Test']\n"
          ]
        }
      ],
      "source": [
        "# Add a column for misclassified instances if the predicted label is different from actual label\n",
        "test_df['Misclassified_Test'] = test_df['Has_Defect'] != test_df['Defect_Predictions_Test']"
      ]
    },
    {
      "cell_type": "code",
      "execution_count": 32,
      "metadata": {},
      "outputs": [
        {
          "data": {
            "text/plain": [
              "DIF_TIPO_1     1970.0\n",
              "DIF_TIPO_2     2822.0\n",
              "DIF_TIPO_3    19369.0\n",
              "DIF_TIPO_4    10183.0\n",
              "DIF_TIPO_5      214.0\n",
              "DIF_TIPO_6     1632.0\n",
              "dtype: float64"
            ]
          },
          "execution_count": 32,
          "metadata": {},
          "output_type": "execute_result"
        }
      ],
      "source": [
        "#  Total defects per type in test_df\n",
        "total_defects_test = test_df[['DIF_TIPO_1', 'DIF_TIPO_2', 'DIF_TIPO_3', 'DIF_TIPO_4', 'DIF_TIPO_5', 'DIF_TIPO_6']].sum()\n",
        "total_defects_test "
      ]
    },
    {
      "cell_type": "code",
      "execution_count": 33,
      "metadata": {},
      "outputs": [
        {
          "name": "stdout",
          "output_type": "stream",
          "text": [
            "Number of Misclassified Instances in the test set: 12433\n"
          ]
        },
        {
          "data": {
            "text/html": [
              "<div>\n",
              "<style scoped>\n",
              "    .dataframe tbody tr th:only-of-type {\n",
              "        vertical-align: middle;\n",
              "    }\n",
              "\n",
              "    .dataframe tbody tr th {\n",
              "        vertical-align: top;\n",
              "    }\n",
              "\n",
              "    .dataframe thead th {\n",
              "        text-align: right;\n",
              "    }\n",
              "</style>\n",
              "<table border=\"1\" class=\"dataframe\">\n",
              "  <thead>\n",
              "    <tr style=\"text-align: right;\">\n",
              "      <th></th>\n",
              "      <th>Has_Defect</th>\n",
              "      <th>Defect_Predictions_Test</th>\n",
              "      <th>DIF_TIPO_1</th>\n",
              "      <th>DIF_TIPO_2</th>\n",
              "      <th>DIF_TIPO_3</th>\n",
              "      <th>DIF_TIPO_4</th>\n",
              "      <th>DIF_TIPO_5</th>\n",
              "      <th>DIF_TIPO_6</th>\n",
              "    </tr>\n",
              "  </thead>\n",
              "  <tbody>\n",
              "    <tr>\n",
              "      <th>8252</th>\n",
              "      <td>0.0</td>\n",
              "      <td>1.0</td>\n",
              "      <td>0.0</td>\n",
              "      <td>0.0</td>\n",
              "      <td>0.0</td>\n",
              "      <td>0.0</td>\n",
              "      <td>0.0</td>\n",
              "      <td>0.0</td>\n",
              "    </tr>\n",
              "    <tr>\n",
              "      <th>8254</th>\n",
              "      <td>0.0</td>\n",
              "      <td>1.0</td>\n",
              "      <td>0.0</td>\n",
              "      <td>0.0</td>\n",
              "      <td>0.0</td>\n",
              "      <td>0.0</td>\n",
              "      <td>0.0</td>\n",
              "      <td>0.0</td>\n",
              "    </tr>\n",
              "    <tr>\n",
              "      <th>8255</th>\n",
              "      <td>0.0</td>\n",
              "      <td>1.0</td>\n",
              "      <td>0.0</td>\n",
              "      <td>0.0</td>\n",
              "      <td>0.0</td>\n",
              "      <td>0.0</td>\n",
              "      <td>0.0</td>\n",
              "      <td>0.0</td>\n",
              "    </tr>\n",
              "    <tr>\n",
              "      <th>8256</th>\n",
              "      <td>0.0</td>\n",
              "      <td>1.0</td>\n",
              "      <td>0.0</td>\n",
              "      <td>0.0</td>\n",
              "      <td>0.0</td>\n",
              "      <td>0.0</td>\n",
              "      <td>0.0</td>\n",
              "      <td>0.0</td>\n",
              "    </tr>\n",
              "    <tr>\n",
              "      <th>8262</th>\n",
              "      <td>0.0</td>\n",
              "      <td>1.0</td>\n",
              "      <td>0.0</td>\n",
              "      <td>0.0</td>\n",
              "      <td>0.0</td>\n",
              "      <td>0.0</td>\n",
              "      <td>0.0</td>\n",
              "      <td>0.0</td>\n",
              "    </tr>\n",
              "  </tbody>\n",
              "</table>\n",
              "</div>"
            ],
            "text/plain": [
              "      Has_Defect  Defect_Predictions_Test  DIF_TIPO_1  DIF_TIPO_2  DIF_TIPO_3  \\\n",
              "8252         0.0                      1.0         0.0         0.0         0.0   \n",
              "8254         0.0                      1.0         0.0         0.0         0.0   \n",
              "8255         0.0                      1.0         0.0         0.0         0.0   \n",
              "8256         0.0                      1.0         0.0         0.0         0.0   \n",
              "8262         0.0                      1.0         0.0         0.0         0.0   \n",
              "\n",
              "      DIF_TIPO_4  DIF_TIPO_5  DIF_TIPO_6  \n",
              "8252         0.0         0.0         0.0  \n",
              "8254         0.0         0.0         0.0  \n",
              "8255         0.0         0.0         0.0  \n",
              "8256         0.0         0.0         0.0  \n",
              "8262         0.0         0.0         0.0  "
            ]
          },
          "execution_count": 33,
          "metadata": {},
          "output_type": "execute_result"
        }
      ],
      "source": [
        "# Check how many misclassifications are there?\n",
        "misclassified_count_test = test_df['Misclassified_Test'].sum()\n",
        "print(\"Number of Misclassified Instances in the test set:\", misclassified_count_test)\n",
        "\n",
        "# Create a df subset for only misclassified instances\n",
        "misclassified_defects_test = test_df[test_df['Misclassified_Test'] == True][['Has_Defect', 'Defect_Predictions_Test','DIF_TIPO_1',\\\n",
        "                                  'DIF_TIPO_2', 'DIF_TIPO_3', 'DIF_TIPO_4', 'DIF_TIPO_5', 'DIF_TIPO_6']]\n",
        "misclassified_defects_test.head()"
      ]
    },
    {
      "cell_type": "code",
      "execution_count": 34,
      "metadata": {},
      "outputs": [
        {
          "name": "stdout",
          "output_type": "stream",
          "text": [
            "Count of 1 in 'DIF_TIPO_1': 283\n",
            "Count of 1 in 'DIF_TIPO_2': 858\n",
            "Count of 1 in 'DIF_TIPO_3': 2660\n",
            "Count of 1 in 'DIF_TIPO_4': 1271\n",
            "Count of 1 in 'DIF_TIPO_5': 24\n",
            "Count of 1 in 'DIF_TIPO_6': 244\n"
          ]
        }
      ],
      "source": [
        "# Count occurrences of 1 in each column\n",
        "count_type_1 = misclassified_defects_test['DIF_TIPO_1'].eq(1).sum()\n",
        "count_type_2 = misclassified_defects_test['DIF_TIPO_2'].eq(1).sum()\n",
        "count_type_3 = misclassified_defects_test['DIF_TIPO_3'].eq(1).sum()\n",
        "count_type_4 = misclassified_defects_test['DIF_TIPO_4'].eq(1).sum()\n",
        "count_type_5 = misclassified_defects_test['DIF_TIPO_5'].eq(1).sum()\n",
        "count_type_6 = misclassified_defects_test['DIF_TIPO_6'].eq(1).sum()\n",
        "\n",
        "print(\"Count of 1 in 'DIF_TIPO_1':\", count_type_1)\n",
        "print(\"Count of 1 in 'DIF_TIPO_2':\", count_type_2)\n",
        "print(\"Count of 1 in 'DIF_TIPO_3':\", count_type_3)\n",
        "print(\"Count of 1 in 'DIF_TIPO_4':\", count_type_4)\n",
        "print(\"Count of 1 in 'DIF_TIPO_5':\", count_type_5)\n",
        "print(\"Count of 1 in 'DIF_TIPO_6':\", count_type_6)"
      ]
    },
    {
      "cell_type": "code",
      "execution_count": 35,
      "metadata": {},
      "outputs": [
        {
          "name": "stdout",
          "output_type": "stream",
          "text": [
            "Number of False Negatives in the test set: 3648\n",
            "Number of False Positives in the test set: 8785\n"
          ]
        }
      ],
      "source": [
        "#Subdivide this new dataframe into two dataframes: one for the actual defects and one for the non-defects\n",
        "false_negatives_ts = misclassified_defects_test[misclassified_defects_test['Defect_Predictions_Test'] == 0]\n",
        "false_positives_ts = misclassified_defects_test[misclassified_defects_test['Defect_Predictions_Test'] == 1]\n",
        "\n",
        "# Print out some information about each dataframe\n",
        "print(\"Number of False Negatives in the test set:\", false_negatives_ts.shape[0])\n",
        "print(\"Number of False Positives in the test set:\", false_positives_ts.shape[0])\n"
      ]
    }
  ],
  "metadata": {
    "colab": {
      "provenance": []
    },
    "kernelspec": {
      "display_name": "Python 3",
      "name": "python3"
    },
    "language_info": {
      "codemirror_mode": {
        "name": "ipython",
        "version": 3
      },
      "file_extension": ".py",
      "mimetype": "text/x-python",
      "name": "python",
      "nbconvert_exporter": "python",
      "pygments_lexer": "ipython3",
      "version": "3.11.8"
    }
  },
  "nbformat": 4,
  "nbformat_minor": 0
}
