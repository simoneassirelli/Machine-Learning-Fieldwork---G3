{
 "cells": [
  {
   "cell_type": "markdown",
   "metadata": {},
   "source": [
    "# *Modeling Part: Random Forest*"
   ]
  },
  {
   "cell_type": "markdown",
   "metadata": {},
   "source": [
    "****************************************************************************************************************************************"
   ]
  },
  {
   "cell_type": "code",
   "execution_count": 8,
   "metadata": {},
   "outputs": [],
   "source": [
    "import pandas as pd\n",
    "import  numpy as np\n",
    "import seaborn as sns\n",
    "import matplotlib.pyplot as plt\n",
    "from sklearn.decomposition import PCA\n",
    "from sklearn.preprocessing import StandardScaler\n",
    "from sklearn.impute import SimpleImputer\n",
    "from sklearn.model_selection import train_test_split, GridSearchCV, StratifiedKFold\n",
    "from sklearn.metrics import classification_report, ConfusionMatrixDisplay\n",
    "from sklearn.svm import SVC\n",
    "from sklearn.linear_model import Perceptron\n",
    "from sklearn.neural_network import MLPClassifier\n",
    "from sklearn.tree import DecisionTreeClassifier\n",
    "from sklearn.naive_bayes import GaussianNB\n",
    "from sklearn.neighbors import KNeighborsClassifier\n",
    "from sklearn.ensemble import AdaBoostClassifier, RandomForestClassifier\n",
    "import xgboost as xgb\n",
    "from sklearn import metrics\n",
    "from sklearn.metrics import accuracy_score\n"
   ]
  },
  {
   "cell_type": "code",
   "execution_count": 9,
   "metadata": {},
   "outputs": [],
   "source": [
    "url_final = 'https://dl.dropboxusercontent.com/scl/fi/ep8vuirz46gkhw4a3yfw6/final_dataset.csv?rlkey=b9ji5utoaahhkmsoebup6q95q&dl=1'\n",
    "df_final = pd.read_csv(url_final)"
   ]
  },
  {
   "cell_type": "code",
   "execution_count": 10,
   "metadata": {},
   "outputs": [
    {
     "data": {
      "text/plain": [
       "(284700, 25)"
      ]
     },
     "execution_count": 10,
     "metadata": {},
     "output_type": "execute_result"
    }
   ],
   "source": [
    "df_final.shape"
   ]
  },
  {
   "cell_type": "code",
   "execution_count": 11,
   "metadata": {},
   "outputs": [
    {
     "data": {
      "text/html": [
       "<div>\n",
       "<style scoped>\n",
       "    .dataframe tbody tr th:only-of-type {\n",
       "        vertical-align: middle;\n",
       "    }\n",
       "\n",
       "    .dataframe tbody tr th {\n",
       "        vertical-align: top;\n",
       "    }\n",
       "\n",
       "    .dataframe thead th {\n",
       "        text-align: right;\n",
       "    }\n",
       "</style>\n",
       "<table border=\"1\" class=\"dataframe\">\n",
       "  <thead>\n",
       "    <tr style=\"text-align: right;\">\n",
       "      <th></th>\n",
       "      <th>COIL</th>\n",
       "      <th>MT_ADJUSTED</th>\n",
       "      <th>DATE</th>\n",
       "      <th>TIME_START_PROCESS</th>\n",
       "      <th>TEMP_Z1</th>\n",
       "      <th>PYRO_2_FRST_3_ZONE</th>\n",
       "      <th>SPEED_PROCESS</th>\n",
       "      <th>FILL_TIRO</th>\n",
       "      <th>LASER_FRN_1</th>\n",
       "      <th>ELET_FE2</th>\n",
       "      <th>...</th>\n",
       "      <th>LASER_FRN_9</th>\n",
       "      <th>DEC_FE2</th>\n",
       "      <th>DEC_FE3</th>\n",
       "      <th>LASER_FRN_8</th>\n",
       "      <th>SPZ1_R1_ASS</th>\n",
       "      <th>FRN_FURNACE_PRESSURE</th>\n",
       "      <th>AIR_CH4_1</th>\n",
       "      <th>FILL_FORZA</th>\n",
       "      <th>PRES_ZONA3_MEASURED</th>\n",
       "      <th>Has_Defect</th>\n",
       "    </tr>\n",
       "  </thead>\n",
       "  <tbody>\n",
       "    <tr>\n",
       "      <th>0</th>\n",
       "      <td>297712</td>\n",
       "      <td>0.0</td>\n",
       "      <td>2019-03-03</td>\n",
       "      <td>16:00:17.140</td>\n",
       "      <td>-0.626250</td>\n",
       "      <td>0.589075</td>\n",
       "      <td>-1.749652</td>\n",
       "      <td>-0.003943</td>\n",
       "      <td>1.130454</td>\n",
       "      <td>-0.024409</td>\n",
       "      <td>...</td>\n",
       "      <td>-0.921559</td>\n",
       "      <td>-0.019089</td>\n",
       "      <td>0.006705</td>\n",
       "      <td>-3.281993</td>\n",
       "      <td>-0.005561</td>\n",
       "      <td>3.480863</td>\n",
       "      <td>5.618876</td>\n",
       "      <td>-0.006274</td>\n",
       "      <td>-0.362265</td>\n",
       "      <td>0.0</td>\n",
       "    </tr>\n",
       "    <tr>\n",
       "      <th>1</th>\n",
       "      <td>297712</td>\n",
       "      <td>7.0</td>\n",
       "      <td>2019-03-03</td>\n",
       "      <td>16:01:02.140</td>\n",
       "      <td>-0.548642</td>\n",
       "      <td>0.310833</td>\n",
       "      <td>-1.423870</td>\n",
       "      <td>-0.003943</td>\n",
       "      <td>1.167358</td>\n",
       "      <td>-0.024409</td>\n",
       "      <td>...</td>\n",
       "      <td>-0.882066</td>\n",
       "      <td>-0.019089</td>\n",
       "      <td>0.006705</td>\n",
       "      <td>-3.286931</td>\n",
       "      <td>-0.005561</td>\n",
       "      <td>4.155847</td>\n",
       "      <td>5.606975</td>\n",
       "      <td>-0.006274</td>\n",
       "      <td>-3.121354</td>\n",
       "      <td>0.0</td>\n",
       "    </tr>\n",
       "    <tr>\n",
       "      <th>2</th>\n",
       "      <td>297712</td>\n",
       "      <td>14.0</td>\n",
       "      <td>2019-03-03</td>\n",
       "      <td>16:01:32.140</td>\n",
       "      <td>-0.489710</td>\n",
       "      <td>0.219359</td>\n",
       "      <td>-1.249998</td>\n",
       "      <td>-0.003943</td>\n",
       "      <td>1.169191</td>\n",
       "      <td>-0.024409</td>\n",
       "      <td>...</td>\n",
       "      <td>-0.895256</td>\n",
       "      <td>-0.019089</td>\n",
       "      <td>0.006705</td>\n",
       "      <td>-3.283506</td>\n",
       "      <td>-0.005561</td>\n",
       "      <td>3.724010</td>\n",
       "      <td>5.505825</td>\n",
       "      <td>-0.006274</td>\n",
       "      <td>-2.903597</td>\n",
       "      <td>0.0</td>\n",
       "    </tr>\n",
       "    <tr>\n",
       "      <th>3</th>\n",
       "      <td>297712</td>\n",
       "      <td>21.0</td>\n",
       "      <td>2019-03-03</td>\n",
       "      <td>16:01:47.080</td>\n",
       "      <td>-0.472777</td>\n",
       "      <td>0.560960</td>\n",
       "      <td>-1.250524</td>\n",
       "      <td>-2.503042</td>\n",
       "      <td>1.183099</td>\n",
       "      <td>-0.024409</td>\n",
       "      <td>...</td>\n",
       "      <td>-0.888345</td>\n",
       "      <td>-0.019089</td>\n",
       "      <td>0.006705</td>\n",
       "      <td>-3.239610</td>\n",
       "      <td>-0.005561</td>\n",
       "      <td>3.202527</td>\n",
       "      <td>5.599273</td>\n",
       "      <td>-1.168397</td>\n",
       "      <td>-2.357400</td>\n",
       "      <td>0.0</td>\n",
       "    </tr>\n",
       "    <tr>\n",
       "      <th>4</th>\n",
       "      <td>297712</td>\n",
       "      <td>28.0</td>\n",
       "      <td>2019-03-03</td>\n",
       "      <td>16:02:17.080</td>\n",
       "      <td>-0.457463</td>\n",
       "      <td>0.437551</td>\n",
       "      <td>-1.250053</td>\n",
       "      <td>-2.717672</td>\n",
       "      <td>1.189643</td>\n",
       "      <td>-2.331214</td>\n",
       "      <td>...</td>\n",
       "      <td>-0.887054</td>\n",
       "      <td>-2.294722</td>\n",
       "      <td>1.560311</td>\n",
       "      <td>-3.249343</td>\n",
       "      <td>-0.574788</td>\n",
       "      <td>2.952983</td>\n",
       "      <td>5.556279</td>\n",
       "      <td>-1.176393</td>\n",
       "      <td>-1.833425</td>\n",
       "      <td>0.0</td>\n",
       "    </tr>\n",
       "  </tbody>\n",
       "</table>\n",
       "<p>5 rows × 25 columns</p>\n",
       "</div>"
      ],
      "text/plain": [
       "     COIL  MT_ADJUSTED        DATE TIME_START_PROCESS   TEMP_Z1  \\\n",
       "0  297712          0.0  2019-03-03       16:00:17.140 -0.626250   \n",
       "1  297712          7.0  2019-03-03       16:01:02.140 -0.548642   \n",
       "2  297712         14.0  2019-03-03       16:01:32.140 -0.489710   \n",
       "3  297712         21.0  2019-03-03       16:01:47.080 -0.472777   \n",
       "4  297712         28.0  2019-03-03       16:02:17.080 -0.457463   \n",
       "\n",
       "   PYRO_2_FRST_3_ZONE  SPEED_PROCESS  FILL_TIRO  LASER_FRN_1  ELET_FE2  ...  \\\n",
       "0            0.589075      -1.749652  -0.003943     1.130454 -0.024409  ...   \n",
       "1            0.310833      -1.423870  -0.003943     1.167358 -0.024409  ...   \n",
       "2            0.219359      -1.249998  -0.003943     1.169191 -0.024409  ...   \n",
       "3            0.560960      -1.250524  -2.503042     1.183099 -0.024409  ...   \n",
       "4            0.437551      -1.250053  -2.717672     1.189643 -2.331214  ...   \n",
       "\n",
       "   LASER_FRN_9   DEC_FE2   DEC_FE3  LASER_FRN_8  SPZ1_R1_ASS  \\\n",
       "0    -0.921559 -0.019089  0.006705    -3.281993    -0.005561   \n",
       "1    -0.882066 -0.019089  0.006705    -3.286931    -0.005561   \n",
       "2    -0.895256 -0.019089  0.006705    -3.283506    -0.005561   \n",
       "3    -0.888345 -0.019089  0.006705    -3.239610    -0.005561   \n",
       "4    -0.887054 -2.294722  1.560311    -3.249343    -0.574788   \n",
       "\n",
       "   FRN_FURNACE_PRESSURE  AIR_CH4_1  FILL_FORZA  PRES_ZONA3_MEASURED  \\\n",
       "0              3.480863   5.618876   -0.006274            -0.362265   \n",
       "1              4.155847   5.606975   -0.006274            -3.121354   \n",
       "2              3.724010   5.505825   -0.006274            -2.903597   \n",
       "3              3.202527   5.599273   -1.168397            -2.357400   \n",
       "4              2.952983   5.556279   -1.176393            -1.833425   \n",
       "\n",
       "   Has_Defect  \n",
       "0         0.0  \n",
       "1         0.0  \n",
       "2         0.0  \n",
       "3         0.0  \n",
       "4         0.0  \n",
       "\n",
       "[5 rows x 25 columns]"
      ]
     },
     "execution_count": 11,
     "metadata": {},
     "output_type": "execute_result"
    }
   ],
   "source": [
    "df_final.head()"
   ]
  },
  {
   "cell_type": "markdown",
   "metadata": {},
   "source": [
    "**'df_final'** is now our final dataframe with the selected features and the target column of interest ('Has_Defect') at the end"
   ]
  },
  {
   "cell_type": "markdown",
   "metadata": {},
   "source": [
    "#### Splitting our data into Train, Validation and Test sets"
   ]
  },
  {
   "cell_type": "markdown",
   "metadata": {},
   "source": [
    "To ensure that the same coils are not split across both the training and testing sets, thereby preventing data leakage, we need to stratify the split based on the coil ID. This means we should split our dataset in such a way that all records belonging to a specific coil are either entirely in the training set or entirely in the testing set"
   ]
  },
  {
   "cell_type": "code",
   "execution_count": 12,
   "metadata": {},
   "outputs": [],
   "source": [
    "# Get unique coil IDs and split them\n",
    "unique_coils = df_final['COIL'].unique()\n",
    "train_coils, test_coils = train_test_split(unique_coils, test_size=0.2, random_state=42)\n",
    "train_coils, val_coils = train_test_split(train_coils, test_size=0.25, random_state=42)  # Splitting the remaining 80% into 60% train and 20% validation\n",
    "\n",
    "# Split the DataFrame into training, validation, and testing sets based on coil IDs\n",
    "train_df = df_final[df_final['COIL'].isin(train_coils)]\n",
    "val_df = df_final[df_final['COIL'].isin(val_coils)]\n",
    "test_df = df_final[df_final['COIL'].isin(test_coils)]\n"
   ]
  },
  {
   "cell_type": "code",
   "execution_count": 13,
   "metadata": {},
   "outputs": [],
   "source": [
    "target = \"Has_Defect\"\n",
    "\n",
    "# Prepare the data\n",
    "X_train = train_df.drop(['COIL', 'MT_ADJUSTED', 'DATE', 'TIME_START_PROCESS', target], axis=1)  \n",
    "y_train = train_df[target]    \n",
    "\n",
    "X_val = val_df.drop(['COIL', 'MT_ADJUSTED', 'DATE', 'TIME_START_PROCESS', target], axis=1)\n",
    "y_val = val_df[target]\n",
    "\n",
    "X_test = test_df.drop(['COIL', 'MT_ADJUSTED', 'DATE', 'TIME_START_PROCESS', target], axis=1)   \n",
    "y_test = test_df[target]     "
   ]
  },
  {
   "cell_type": "markdown",
   "metadata": {},
   "source": [
    "### Random Forest "
   ]
  },
  {
   "cell_type": "markdown",
   "metadata": {},
   "source": [
    "Optimized Hyperparameter Tuning for Random Forest Classifier with Reduced Computational Complexity"
   ]
  },
  {
   "cell_type": "code",
   "execution_count": 14,
   "metadata": {},
   "outputs": [
    {
     "name": "stdout",
     "output_type": "stream",
     "text": [
      "Fitting 3 folds for each of 2 candidates, totalling 6 fits\n"
     ]
    }
   ],
   "source": [
    "# Initialize the classifier\n",
    "rf_clf = RandomForestClassifier(random_state=42)\n",
    "\n",
    "param_grid = {\n",
    "    'n_estimators': [100],  # Keeping one option to reduce combinations\n",
    "    'max_depth': [10, None],  # A reasonable depth, and None for fully grown trees\n",
    "    'min_samples_split': [2],  # Default value\n",
    "    'min_samples_leaf': [1],  # Default value\n",
    "    'bootstrap': [True]  # Keeping bootstrapping enabled\n",
    "}\n",
    "\n",
    "# Create GridSearchCV object\n",
    "grid_search = GridSearchCV(estimator=rf_clf, param_grid=param_grid, \n",
    "                           scoring='accuracy', cv=3, n_jobs=-1, verbose=2)\n",
    "\n",
    "# Assuming X_train and y_train are your training features and labels\n",
    "grid_search.fit(X_train, y_train)\n",
    "\n",
    "# Get the best parameters and use them to create the best model\n",
    "best_params = grid_search.best_params_\n",
    "best_rf = RandomForestClassifier(**best_params, random_state=42)\n",
    "\n",
    "# Fit the best model\n",
    "best_rf.fit(X_train, y_train)"
   ]
  },
  {
   "cell_type": "code",
   "execution_count": null,
   "metadata": {},
   "outputs": [
    {
     "name": "stdout",
     "output_type": "stream",
     "text": [
      "Validation Accuracy: 0.8001415110620232\n",
      "Testing Accuracy: 0.7879570712762453\n",
      "\n",
      "**Classification report for Random Forest Classifier on the test set:**\n",
      "\n",
      "              precision    recall  f1-score   support\n",
      "\n",
      "         0.0       0.84      0.85      0.85     39859\n",
      "         1.0       0.66      0.64      0.65     17818\n",
      "\n",
      "    accuracy                           0.79     57677\n",
      "   macro avg       0.75      0.75      0.75     57677\n",
      "weighted avg       0.79      0.79      0.79     57677\n",
      "\n"
     ]
    },
    {
     "data": {
      "text/plain": [
       "Text(0.5, 1.0, 'Confusion Matrix for Random Forest Classifier on the test set')"
      ]
     },
     "execution_count": 41,
     "metadata": {},
     "output_type": "execute_result"
    },
    {
     "data": {
      "image/png": "[encoded data removed]",
      "text/plain": [
       "<Figure size 640x480 with 2 Axes>"
      ]
     },
     "metadata": {},
     "output_type": "display_data"
    }
   ],
   "source": [
    "# Predict on the validation set\n",
    "y_val_pred = best_rf.predict(X_val)\n",
    "# Calculate the accuracy of the model on the validation set\n",
    "val_accuracy = accuracy_score(y_val, y_val_pred)\n",
    "print(f\"Validation Accuracy: {val_accuracy}\")\n",
    "\n",
    "# Predict on the test set\n",
    "y_test_pred = best_rf.predict(X_test)\n",
    "# Calculate the accuracy of the model on the testing set\n",
    "test_accuracy = accuracy_score(y_test, y_test_pred)\n",
    "print(f\"Testing Accuracy: {test_accuracy}\\n\")\n",
    "\n",
    "# Print out the classification report which provides a summary of the model's performance\n",
    "print(\"**Classification report for Random Forest Classifier on the test set:**\\n\")\n",
    "print(classification_report(y_test, y_test_pred))\n",
    "\n",
    "# Create a confusion matrix\n",
    "cm = metrics.confusion_matrix(y_test, y_test_pred)\n",
    "\n",
    "# Display the confusion matrix\n",
    "disp = ConfusionMatrixDisplay(confusion_matrix=cm)\n",
    "disp.plot()\n",
    "plt.title('Confusion Matrix for Random Forest Classifier on the test set')\n"
   ]
  }
 ],
 "metadata": {
  "kernelspec": {
   "display_name": "base",
   "language": "python",
   "name": "python3"
  },
  "language_info": {
   "codemirror_mode": {
    "name": "ipython",
    "version": 3
   },
   "file_extension": ".py",
   "mimetype": "text/x-python",
   "name": "python",
   "nbconvert_exporter": "python",
   "pygments_lexer": "ipython3",
   "version": "3.11.8"
  }
 },
 "nbformat": 4,
 "nbformat_minor": 2
}
