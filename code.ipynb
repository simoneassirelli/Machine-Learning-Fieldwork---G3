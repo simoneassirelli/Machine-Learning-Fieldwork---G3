{
 "cells": [
  {
   "cell_type": "markdown",
   "metadata": {},
   "source": [
    "# *Manufacturing Root Cause (Group 3)*"
   ]
  },
  {
   "cell_type": "markdown",
   "metadata": {},
   "source": [
    "Project developers:\n",
    "- Amine Amri\n",
    "- Julia Graham\n",
    "- Sebastian Anusch\n",
    "- Simone Assirelli "
   ]
  },
  {
   "cell_type": "code",
   "execution_count": 1,
   "metadata": {},
   "outputs": [],
   "source": [
    "import pandas as pd\n",
    "import  numpy as np\n",
    "import seaborn as sns\n",
    "import matplotlib.pyplot as plt\n",
    "from sklearn.decomposition import PCA\n",
    "from sklearn.preprocessing import StandardScaler"
   ]
  },
  {
   "cell_type": "markdown",
   "metadata": {},
   "source": [
    "Loading the data"
   ]
  },
  {
   "cell_type": "code",
   "execution_count": 2,
   "metadata": {},
   "outputs": [],
   "source": [
    "url_defects = 'https://dl.dropboxusercontent.com/scl/fi/j3xred1cqmicuxui4kj6m/RC_DEFECTS_clean.csv?rlkey=gumwpqnsfvdyjdx5doi4i7zxb&dl=1'\n",
    "url_production = 'https://dl.dropboxusercontent.com/scl/fi/baekmodofe2sn64qhrcur/RC_PRODUCTION_clean.csv?rlkey=uw7r9vgblez57cbnwsf2c3vmd&dl=1'\n",
    "df_def = pd.read_csv(url_defects)\n",
    "df_prod = pd.read_csv(url_production)"
   ]
  },
  {
   "cell_type": "markdown",
   "metadata": {},
   "source": [
    "## 1. Exploring the data"
   ]
  },
  {
   "cell_type": "code",
   "execution_count": 3,
   "metadata": {},
   "outputs": [
    {
     "name": "stdout",
     "output_type": "stream",
     "text": [
      "(617, 10)\n"
     ]
    },
    {
     "data": {
      "text/html": [
       "<div>\n",
       "<style scoped>\n",
       "    .dataframe tbody tr th:only-of-type {\n",
       "        vertical-align: middle;\n",
       "    }\n",
       "\n",
       "    .dataframe tbody tr th {\n",
       "        vertical-align: top;\n",
       "    }\n",
       "\n",
       "    .dataframe thead th {\n",
       "        text-align: right;\n",
       "    }\n",
       "</style>\n",
       "<table border=\"1\" class=\"dataframe\">\n",
       "  <thead>\n",
       "    <tr style=\"text-align: right;\">\n",
       "      <th></th>\n",
       "      <th>COIL</th>\n",
       "      <th>MT_FROM</th>\n",
       "      <th>MT_TO</th>\n",
       "      <th>DATE</th>\n",
       "      <th>DIF_TIPO_1</th>\n",
       "      <th>DIF_TIPO_2</th>\n",
       "      <th>DIF_TIPO_3</th>\n",
       "      <th>DIF_TIPO_4</th>\n",
       "      <th>DIF_TIPO_5</th>\n",
       "      <th>DIF_TIPO_6</th>\n",
       "    </tr>\n",
       "  </thead>\n",
       "  <tbody>\n",
       "    <tr>\n",
       "      <th>0</th>\n",
       "      <td>389523</td>\n",
       "      <td>0.0</td>\n",
       "      <td>599.0</td>\n",
       "      <td>2019-03-01</td>\n",
       "      <td>0</td>\n",
       "      <td>0</td>\n",
       "      <td>1</td>\n",
       "      <td>0</td>\n",
       "      <td>0</td>\n",
       "      <td>0</td>\n",
       "    </tr>\n",
       "    <tr>\n",
       "      <th>1</th>\n",
       "      <td>389523</td>\n",
       "      <td>600.0</td>\n",
       "      <td>1457.0</td>\n",
       "      <td>2019-03-01</td>\n",
       "      <td>0</td>\n",
       "      <td>1</td>\n",
       "      <td>1</td>\n",
       "      <td>0</td>\n",
       "      <td>0</td>\n",
       "      <td>0</td>\n",
       "    </tr>\n",
       "    <tr>\n",
       "      <th>2</th>\n",
       "      <td>389528</td>\n",
       "      <td>0.0</td>\n",
       "      <td>1399.0</td>\n",
       "      <td>2019-03-01</td>\n",
       "      <td>0</td>\n",
       "      <td>0</td>\n",
       "      <td>1</td>\n",
       "      <td>0</td>\n",
       "      <td>0</td>\n",
       "      <td>0</td>\n",
       "    </tr>\n",
       "    <tr>\n",
       "      <th>3</th>\n",
       "      <td>389528</td>\n",
       "      <td>1400.0</td>\n",
       "      <td>1539.0</td>\n",
       "      <td>2019-03-01</td>\n",
       "      <td>0</td>\n",
       "      <td>0</td>\n",
       "      <td>1</td>\n",
       "      <td>0</td>\n",
       "      <td>1</td>\n",
       "      <td>0</td>\n",
       "    </tr>\n",
       "    <tr>\n",
       "      <th>4</th>\n",
       "      <td>389712</td>\n",
       "      <td>0.0</td>\n",
       "      <td>1374.0</td>\n",
       "      <td>2019-03-01</td>\n",
       "      <td>0</td>\n",
       "      <td>0</td>\n",
       "      <td>1</td>\n",
       "      <td>0</td>\n",
       "      <td>0</td>\n",
       "      <td>0</td>\n",
       "    </tr>\n",
       "  </tbody>\n",
       "</table>\n",
       "</div>"
      ],
      "text/plain": [
       "     COIL  MT_FROM   MT_TO        DATE  DIF_TIPO_1  DIF_TIPO_2  DIF_TIPO_3  \\\n",
       "0  389523      0.0   599.0  2019-03-01           0           0           1   \n",
       "1  389523    600.0  1457.0  2019-03-01           0           1           1   \n",
       "2  389528      0.0  1399.0  2019-03-01           0           0           1   \n",
       "3  389528   1400.0  1539.0  2019-03-01           0           0           1   \n",
       "4  389712      0.0  1374.0  2019-03-01           0           0           1   \n",
       "\n",
       "   DIF_TIPO_4  DIF_TIPO_5  DIF_TIPO_6  \n",
       "0           0           0           0  \n",
       "1           0           0           0  \n",
       "2           0           0           0  \n",
       "3           0           1           0  \n",
       "4           0           0           0  "
      ]
     },
     "execution_count": 3,
     "metadata": {},
     "output_type": "execute_result"
    }
   ],
   "source": [
    "print(df_def.shape)\n",
    "df_def.head()"
   ]
  },
  {
   "cell_type": "code",
   "execution_count": 4,
   "metadata": {},
   "outputs": [
    {
     "name": "stdout",
     "output_type": "stream",
     "text": [
      "(299384, 110)\n"
     ]
    },
    {
     "data": {
      "text/html": [
       "<div>\n",
       "<style scoped>\n",
       "    .dataframe tbody tr th:only-of-type {\n",
       "        vertical-align: middle;\n",
       "    }\n",
       "\n",
       "    .dataframe tbody tr th {\n",
       "        vertical-align: top;\n",
       "    }\n",
       "\n",
       "    .dataframe thead th {\n",
       "        text-align: right;\n",
       "    }\n",
       "</style>\n",
       "<table border=\"1\" class=\"dataframe\">\n",
       "  <thead>\n",
       "    <tr style=\"text-align: right;\">\n",
       "      <th></th>\n",
       "      <th>COIL</th>\n",
       "      <th>DATE</th>\n",
       "      <th>MT</th>\n",
       "      <th>TIME_START_PROCESS</th>\n",
       "      <th>SPEED_PROCESS</th>\n",
       "      <th>TEMP_Z1</th>\n",
       "      <th>TEMP_Z2</th>\n",
       "      <th>TEMP_Z3</th>\n",
       "      <th>TEMP_Z4</th>\n",
       "      <th>TEMP_Z5</th>\n",
       "      <th>...</th>\n",
       "      <th>SPZ2_R4</th>\n",
       "      <th>SPZ1_R1_ASS</th>\n",
       "      <th>SPZ1_R2_ASS</th>\n",
       "      <th>TIRO_DECAP</th>\n",
       "      <th>SPEED_FILL</th>\n",
       "      <th>FILL_FORZA</th>\n",
       "      <th>FILL_TIRO</th>\n",
       "      <th>FILL_ALL</th>\n",
       "      <th>FILL_BENDING_POS</th>\n",
       "      <th>FILL_BENDING_NEG</th>\n",
       "    </tr>\n",
       "  </thead>\n",
       "  <tbody>\n",
       "    <tr>\n",
       "      <th>0</th>\n",
       "      <td>240627</td>\n",
       "      <td>2019-03-15</td>\n",
       "      <td>0.0</td>\n",
       "      <td>14:25:23.060</td>\n",
       "      <td>16.934625</td>\n",
       "      <td>671.967562</td>\n",
       "      <td>679.751438</td>\n",
       "      <td>688.119187</td>\n",
       "      <td>716.717250</td>\n",
       "      <td>734.616563</td>\n",
       "      <td>...</td>\n",
       "      <td>NaN</td>\n",
       "      <td>NaN</td>\n",
       "      <td>NaN</td>\n",
       "      <td>NaN</td>\n",
       "      <td>NaN</td>\n",
       "      <td>NaN</td>\n",
       "      <td>NaN</td>\n",
       "      <td>NaN</td>\n",
       "      <td>NaN</td>\n",
       "      <td>NaN</td>\n",
       "    </tr>\n",
       "    <tr>\n",
       "      <th>1</th>\n",
       "      <td>240627</td>\n",
       "      <td>2019-03-15</td>\n",
       "      <td>7.0</td>\n",
       "      <td>14:25:53.060</td>\n",
       "      <td>16.773638</td>\n",
       "      <td>668.635875</td>\n",
       "      <td>676.207125</td>\n",
       "      <td>681.034500</td>\n",
       "      <td>710.093250</td>\n",
       "      <td>729.040500</td>\n",
       "      <td>...</td>\n",
       "      <td>NaN</td>\n",
       "      <td>NaN</td>\n",
       "      <td>NaN</td>\n",
       "      <td>NaN</td>\n",
       "      <td>NaN</td>\n",
       "      <td>NaN</td>\n",
       "      <td>NaN</td>\n",
       "      <td>NaN</td>\n",
       "      <td>NaN</td>\n",
       "      <td>NaN</td>\n",
       "    </tr>\n",
       "    <tr>\n",
       "      <th>2</th>\n",
       "      <td>240627</td>\n",
       "      <td>2019-03-15</td>\n",
       "      <td>14.0</td>\n",
       "      <td>14:26:23.060</td>\n",
       "      <td>11.142165</td>\n",
       "      <td>669.105375</td>\n",
       "      <td>677.042625</td>\n",
       "      <td>678.493125</td>\n",
       "      <td>707.967750</td>\n",
       "      <td>727.783500</td>\n",
       "      <td>...</td>\n",
       "      <td>NaN</td>\n",
       "      <td>NaN</td>\n",
       "      <td>NaN</td>\n",
       "      <td>NaN</td>\n",
       "      <td>NaN</td>\n",
       "      <td>NaN</td>\n",
       "      <td>NaN</td>\n",
       "      <td>NaN</td>\n",
       "      <td>NaN</td>\n",
       "      <td>NaN</td>\n",
       "    </tr>\n",
       "    <tr>\n",
       "      <th>3</th>\n",
       "      <td>240627</td>\n",
       "      <td>2019-03-15</td>\n",
       "      <td>21.0</td>\n",
       "      <td>14:27:08.060</td>\n",
       "      <td>11.148851</td>\n",
       "      <td>671.631750</td>\n",
       "      <td>681.066000</td>\n",
       "      <td>679.704750</td>\n",
       "      <td>707.241375</td>\n",
       "      <td>727.886250</td>\n",
       "      <td>...</td>\n",
       "      <td>NaN</td>\n",
       "      <td>NaN</td>\n",
       "      <td>NaN</td>\n",
       "      <td>NaN</td>\n",
       "      <td>NaN</td>\n",
       "      <td>NaN</td>\n",
       "      <td>NaN</td>\n",
       "      <td>NaN</td>\n",
       "      <td>NaN</td>\n",
       "      <td>NaN</td>\n",
       "    </tr>\n",
       "    <tr>\n",
       "      <th>4</th>\n",
       "      <td>240627</td>\n",
       "      <td>2019-03-15</td>\n",
       "      <td>28.0</td>\n",
       "      <td>14:27:38.060</td>\n",
       "      <td>15.657188</td>\n",
       "      <td>675.052875</td>\n",
       "      <td>686.972813</td>\n",
       "      <td>683.336250</td>\n",
       "      <td>710.432437</td>\n",
       "      <td>730.182375</td>\n",
       "      <td>...</td>\n",
       "      <td>530.110125</td>\n",
       "      <td>14.625</td>\n",
       "      <td>14.625</td>\n",
       "      <td>1956.40875</td>\n",
       "      <td>NaN</td>\n",
       "      <td>NaN</td>\n",
       "      <td>NaN</td>\n",
       "      <td>NaN</td>\n",
       "      <td>NaN</td>\n",
       "      <td>NaN</td>\n",
       "    </tr>\n",
       "  </tbody>\n",
       "</table>\n",
       "<p>5 rows × 110 columns</p>\n",
       "</div>"
      ],
      "text/plain": [
       "     COIL        DATE    MT TIME_START_PROCESS  SPEED_PROCESS     TEMP_Z1  \\\n",
       "0  240627  2019-03-15   0.0       14:25:23.060      16.934625  671.967562   \n",
       "1  240627  2019-03-15   7.0       14:25:53.060      16.773638  668.635875   \n",
       "2  240627  2019-03-15  14.0       14:26:23.060      11.142165  669.105375   \n",
       "3  240627  2019-03-15  21.0       14:27:08.060      11.148851  671.631750   \n",
       "4  240627  2019-03-15  28.0       14:27:38.060      15.657188  675.052875   \n",
       "\n",
       "      TEMP_Z2     TEMP_Z3     TEMP_Z4     TEMP_Z5  ...     SPZ2_R4  \\\n",
       "0  679.751438  688.119187  716.717250  734.616563  ...         NaN   \n",
       "1  676.207125  681.034500  710.093250  729.040500  ...         NaN   \n",
       "2  677.042625  678.493125  707.967750  727.783500  ...         NaN   \n",
       "3  681.066000  679.704750  707.241375  727.886250  ...         NaN   \n",
       "4  686.972813  683.336250  710.432437  730.182375  ...  530.110125   \n",
       "\n",
       "   SPZ1_R1_ASS  SPZ1_R2_ASS  TIRO_DECAP  SPEED_FILL  FILL_FORZA  FILL_TIRO  \\\n",
       "0          NaN          NaN         NaN         NaN         NaN        NaN   \n",
       "1          NaN          NaN         NaN         NaN         NaN        NaN   \n",
       "2          NaN          NaN         NaN         NaN         NaN        NaN   \n",
       "3          NaN          NaN         NaN         NaN         NaN        NaN   \n",
       "4       14.625       14.625  1956.40875         NaN         NaN        NaN   \n",
       "\n",
       "   FILL_ALL  FILL_BENDING_POS  FILL_BENDING_NEG  \n",
       "0       NaN               NaN               NaN  \n",
       "1       NaN               NaN               NaN  \n",
       "2       NaN               NaN               NaN  \n",
       "3       NaN               NaN               NaN  \n",
       "4       NaN               NaN               NaN  \n",
       "\n",
       "[5 rows x 110 columns]"
      ]
     },
     "execution_count": 4,
     "metadata": {},
     "output_type": "execute_result"
    }
   ],
   "source": [
    "print(df_prod.shape)\n",
    "df_prod.head()"
   ]
  },
  {
   "cell_type": "code",
   "execution_count": 16,
   "metadata": {},
   "outputs": [
    {
     "name": "stdout",
     "output_type": "stream",
     "text": [
      "['COIL', 'DATE', 'MT', 'TIME_START_PROCESS', 'SPEED_PROCESS', 'TEMP_Z1', 'TEMP_Z2', 'TEMP_Z3', 'TEMP_Z4', 'TEMP_Z5', 'TEMP_Z6', 'PYRO_1_PRECHMBR', 'PYRO_2_FRST_3_ZONE', 'PYRO_3_LST_3_ZONE', 'LS_OVEN', 'LASER_FRN_1', 'LASER_FRN_2', 'LASER_FRN_3', 'LASER_FRN_4', 'LASER_FRN_5', 'LASER_FRN_6', 'LASER_FRN_7', 'LASER_FRN_8', 'LASER_FRN_9', 'AIR_CH4_1', 'AIR_CH4_2', 'AIR_CH4_3', 'AIR_CH4_4', 'AIR_CH4_5', 'AIR_CH4_6', 'AIR_Z1_1', 'AIR_Z1_2', 'AIR_Z2_1', 'AIR_Z2_2', 'AIR_Z3_1', 'AIR_Z3_2', 'AIR_Z4_1', 'AIR_Z4_2', 'AIR_Z5_1', 'AIR_Z5_2', 'AIR_Z6_1', 'AIR_Z6_2', 'GAS_Z1_1', 'GAS_Z1_2', 'GAS_Z2_1', 'GAS_Z2_2', 'GAS_Z3_1', 'GAS_Z3_2', 'GAS_Z4_1', 'GAS_Z4_2', 'GAS_Z5_1', 'GAS_Z5_2', 'GAS_Z6_1', 'GAS_Z6_2', 'FRN_PHF_PRESSURE', 'FRN_FURNACE_PRESSURE', 'TIRO_FORNO', 'PRES_ZONA1_MEASURED', 'PRES_ZONA1_SET', 'PRES_ZONA2_MEASURED', 'PRES_ZONA2_SET', 'PRES_ZONA3_MEASURED', 'PRES_ZONA3_SET', 'EXT_1', 'EXT_2', 'VENT_1', 'VENT_2', 'VENT_3', 'VENT_4', 'VENT_5', 'COOL_1A', 'COOL_1B', 'COOL_2A', 'COOL_2B', 'COOL_3', 'LS_COOLING', 'LASER_RAFF_1', 'LASER_RAFF_2', 'LASER_RAFF_3', 'LASER_RAFF_4', 'LASER_RAFF_5', 'LASER_RAFF_6', 'LASER_RAFF_7', 'LASER_RAFF_8', 'LASER_RAFF_9', 'TOUT_RAFF_H2O', 'N_RAMPE_H2O', 'ELET_TEMP', 'ELET_H2SO4', 'ELET_FE2', 'ELET_CORRENTE', 'DEC_TEMP', 'DEC_H2SO4', 'DEC_HF', 'DEC_FE2', 'DEC_FE3', 'DEC_FETOT', 'SPZ2_R1', 'SPZ2_R2', 'SPZ2_R3', 'SPZ2_R4', 'SPZ1_R1_ASS', 'SPZ1_R2_ASS', 'TIRO_DECAP', 'SPEED_FILL', 'FILL_FORZA', 'FILL_TIRO', 'FILL_ALL', 'FILL_BENDING_POS', 'FILL_BENDING_NEG']\n"
     ]
    }
   ],
   "source": [
    "# Columns of production dataframe\n",
    "prod_columns = list(df_prod.columns)\n",
    "print(prod_columns) "
   ]
  },
  {
   "cell_type": "code",
   "execution_count": 27,
   "metadata": {},
   "outputs": [
    {
     "data": {
      "text/html": [
       "<div>\n",
       "<style scoped>\n",
       "    .dataframe tbody tr th:only-of-type {\n",
       "        vertical-align: middle;\n",
       "    }\n",
       "\n",
       "    .dataframe tbody tr th {\n",
       "        vertical-align: top;\n",
       "    }\n",
       "\n",
       "    .dataframe thead th {\n",
       "        text-align: right;\n",
       "    }\n",
       "</style>\n",
       "<table border=\"1\" class=\"dataframe\">\n",
       "  <thead>\n",
       "    <tr style=\"text-align: right;\">\n",
       "      <th></th>\n",
       "      <th>COIL</th>\n",
       "      <th>MT</th>\n",
       "      <th>SPEED_PROCESS</th>\n",
       "      <th>TEMP_Z1</th>\n",
       "      <th>TEMP_Z2</th>\n",
       "      <th>TEMP_Z3</th>\n",
       "      <th>TEMP_Z4</th>\n",
       "      <th>TEMP_Z5</th>\n",
       "      <th>TEMP_Z6</th>\n",
       "      <th>PYRO_1_PRECHMBR</th>\n",
       "      <th>...</th>\n",
       "      <th>SPZ2_R4</th>\n",
       "      <th>SPZ1_R1_ASS</th>\n",
       "      <th>SPZ1_R2_ASS</th>\n",
       "      <th>TIRO_DECAP</th>\n",
       "      <th>SPEED_FILL</th>\n",
       "      <th>FILL_FORZA</th>\n",
       "      <th>FILL_TIRO</th>\n",
       "      <th>FILL_ALL</th>\n",
       "      <th>FILL_BENDING_POS</th>\n",
       "      <th>FILL_BENDING_NEG</th>\n",
       "    </tr>\n",
       "  </thead>\n",
       "  <tbody>\n",
       "    <tr>\n",
       "      <th>count</th>\n",
       "      <td>2.993840e+05</td>\n",
       "      <td>299384.000000</td>\n",
       "      <td>299384.000000</td>\n",
       "      <td>299384.000000</td>\n",
       "      <td>299384.000000</td>\n",
       "      <td>299384.000000</td>\n",
       "      <td>299384.000000</td>\n",
       "      <td>299384.000000</td>\n",
       "      <td>299384.000000</td>\n",
       "      <td>299384.000000</td>\n",
       "      <td>...</td>\n",
       "      <td>283737.000000</td>\n",
       "      <td>283737.000000</td>\n",
       "      <td>283737.000000</td>\n",
       "      <td>283737.000000</td>\n",
       "      <td>270904.000000</td>\n",
       "      <td>270904.000000</td>\n",
       "      <td>270904.000000</td>\n",
       "      <td>270904.000000</td>\n",
       "      <td>270904.000000</td>\n",
       "      <td>270904.000000</td>\n",
       "    </tr>\n",
       "    <tr>\n",
       "      <th>mean</th>\n",
       "      <td>4.210808e+05</td>\n",
       "      <td>1013.750454</td>\n",
       "      <td>36.030174</td>\n",
       "      <td>1236.378668</td>\n",
       "      <td>1257.600788</td>\n",
       "      <td>1266.031784</td>\n",
       "      <td>1279.476562</td>\n",
       "      <td>1293.618170</td>\n",
       "      <td>1281.422092</td>\n",
       "      <td>802.675699</td>\n",
       "      <td>...</td>\n",
       "      <td>526.644078</td>\n",
       "      <td>18.292673</td>\n",
       "      <td>18.344328</td>\n",
       "      <td>3186.598116</td>\n",
       "      <td>39.900765</td>\n",
       "      <td>689.840763</td>\n",
       "      <td>3610.710095</td>\n",
       "      <td>0.532809</td>\n",
       "      <td>0.164599</td>\n",
       "      <td>0.169975</td>\n",
       "    </tr>\n",
       "    <tr>\n",
       "      <th>std</th>\n",
       "      <td>2.484114e+05</td>\n",
       "      <td>874.832131</td>\n",
       "      <td>11.243607</td>\n",
       "      <td>87.092407</td>\n",
       "      <td>87.833443</td>\n",
       "      <td>87.717798</td>\n",
       "      <td>85.313536</td>\n",
       "      <td>88.576110</td>\n",
       "      <td>84.233837</td>\n",
       "      <td>38.910802</td>\n",
       "      <td>...</td>\n",
       "      <td>34.108621</td>\n",
       "      <td>2.699142</td>\n",
       "      <td>2.794101</td>\n",
       "      <td>1306.570596</td>\n",
       "      <td>17.267686</td>\n",
       "      <td>279.623230</td>\n",
       "      <td>982.734142</td>\n",
       "      <td>0.232301</td>\n",
       "      <td>0.040681</td>\n",
       "      <td>0.038671</td>\n",
       "    </tr>\n",
       "    <tr>\n",
       "      <th>min</th>\n",
       "      <td>2.406270e+05</td>\n",
       "      <td>0.000000</td>\n",
       "      <td>-2.304028</td>\n",
       "      <td>79.722742</td>\n",
       "      <td>74.225453</td>\n",
       "      <td>74.198610</td>\n",
       "      <td>77.426415</td>\n",
       "      <td>78.567278</td>\n",
       "      <td>79.205925</td>\n",
       "      <td>549.382500</td>\n",
       "      <td>...</td>\n",
       "      <td>-3.665034</td>\n",
       "      <td>0.000000</td>\n",
       "      <td>0.000000</td>\n",
       "      <td>856.680000</td>\n",
       "      <td>-1.809788</td>\n",
       "      <td>-496.040375</td>\n",
       "      <td>-48.285825</td>\n",
       "      <td>0.000000</td>\n",
       "      <td>-0.011853</td>\n",
       "      <td>-0.016642</td>\n",
       "    </tr>\n",
       "    <tr>\n",
       "      <th>25%</th>\n",
       "      <td>3.947170e+05</td>\n",
       "      <td>378.000000</td>\n",
       "      <td>28.063851</td>\n",
       "      <td>1236.605625</td>\n",
       "      <td>1259.813250</td>\n",
       "      <td>1271.021625</td>\n",
       "      <td>1260.090000</td>\n",
       "      <td>1261.445625</td>\n",
       "      <td>1271.056781</td>\n",
       "      <td>795.292844</td>\n",
       "      <td>...</td>\n",
       "      <td>529.919898</td>\n",
       "      <td>16.875000</td>\n",
       "      <td>16.875000</td>\n",
       "      <td>2333.722500</td>\n",
       "      <td>28.351013</td>\n",
       "      <td>496.627351</td>\n",
       "      <td>2946.052969</td>\n",
       "      <td>0.470936</td>\n",
       "      <td>0.134999</td>\n",
       "      <td>0.135002</td>\n",
       "    </tr>\n",
       "    <tr>\n",
       "      <th>50%</th>\n",
       "      <td>4.037420e+05</td>\n",
       "      <td>812.000000</td>\n",
       "      <td>33.685521</td>\n",
       "      <td>1261.473750</td>\n",
       "      <td>1272.760476</td>\n",
       "      <td>1278.000540</td>\n",
       "      <td>1286.188125</td>\n",
       "      <td>1317.151607</td>\n",
       "      <td>1293.406875</td>\n",
       "      <td>811.525114</td>\n",
       "      <td>...</td>\n",
       "      <td>530.125500</td>\n",
       "      <td>18.000000</td>\n",
       "      <td>18.000000</td>\n",
       "      <td>2901.962812</td>\n",
       "      <td>37.656312</td>\n",
       "      <td>662.102578</td>\n",
       "      <td>3790.602141</td>\n",
       "      <td>0.559548</td>\n",
       "      <td>0.135037</td>\n",
       "      <td>0.161994</td>\n",
       "    </tr>\n",
       "    <tr>\n",
       "      <th>75%</th>\n",
       "      <td>4.146100e+05</td>\n",
       "      <td>1400.000000</td>\n",
       "      <td>44.908965</td>\n",
       "      <td>1270.924798</td>\n",
       "      <td>1293.924375</td>\n",
       "      <td>1303.419825</td>\n",
       "      <td>1316.148750</td>\n",
       "      <td>1333.189687</td>\n",
       "      <td>1313.704765</td>\n",
       "      <td>823.938673</td>\n",
       "      <td>...</td>\n",
       "      <td>530.315100</td>\n",
       "      <td>20.248013</td>\n",
       "      <td>20.250000</td>\n",
       "      <td>4021.551000</td>\n",
       "      <td>49.828513</td>\n",
       "      <td>837.825196</td>\n",
       "      <td>4217.453156</td>\n",
       "      <td>0.572413</td>\n",
       "      <td>0.188993</td>\n",
       "      <td>0.189022</td>\n",
       "    </tr>\n",
       "    <tr>\n",
       "      <th>max</th>\n",
       "      <td>6.838679e+06</td>\n",
       "      <td>7273.000000</td>\n",
       "      <td>67.408785</td>\n",
       "      <td>1322.268750</td>\n",
       "      <td>1344.982500</td>\n",
       "      <td>1357.508250</td>\n",
       "      <td>1348.341750</td>\n",
       "      <td>1367.288438</td>\n",
       "      <td>1362.536250</td>\n",
       "      <td>931.753875</td>\n",
       "      <td>...</td>\n",
       "      <td>541.123650</td>\n",
       "      <td>31.405500</td>\n",
       "      <td>32.747692</td>\n",
       "      <td>9073.901250</td>\n",
       "      <td>90.010696</td>\n",
       "      <td>2933.876250</td>\n",
       "      <td>6257.584687</td>\n",
       "      <td>7.342893</td>\n",
       "      <td>0.679614</td>\n",
       "      <td>0.324028</td>\n",
       "    </tr>\n",
       "  </tbody>\n",
       "</table>\n",
       "<p>8 rows × 108 columns</p>\n",
       "</div>"
      ],
      "text/plain": [
       "               COIL             MT  SPEED_PROCESS        TEMP_Z1  \\\n",
       "count  2.993840e+05  299384.000000  299384.000000  299384.000000   \n",
       "mean   4.210808e+05    1013.750454      36.030174    1236.378668   \n",
       "std    2.484114e+05     874.832131      11.243607      87.092407   \n",
       "min    2.406270e+05       0.000000      -2.304028      79.722742   \n",
       "25%    3.947170e+05     378.000000      28.063851    1236.605625   \n",
       "50%    4.037420e+05     812.000000      33.685521    1261.473750   \n",
       "75%    4.146100e+05    1400.000000      44.908965    1270.924798   \n",
       "max    6.838679e+06    7273.000000      67.408785    1322.268750   \n",
       "\n",
       "             TEMP_Z2        TEMP_Z3        TEMP_Z4        TEMP_Z5  \\\n",
       "count  299384.000000  299384.000000  299384.000000  299384.000000   \n",
       "mean     1257.600788    1266.031784    1279.476562    1293.618170   \n",
       "std        87.833443      87.717798      85.313536      88.576110   \n",
       "min        74.225453      74.198610      77.426415      78.567278   \n",
       "25%      1259.813250    1271.021625    1260.090000    1261.445625   \n",
       "50%      1272.760476    1278.000540    1286.188125    1317.151607   \n",
       "75%      1293.924375    1303.419825    1316.148750    1333.189687   \n",
       "max      1344.982500    1357.508250    1348.341750    1367.288438   \n",
       "\n",
       "             TEMP_Z6  PYRO_1_PRECHMBR  ...        SPZ2_R4    SPZ1_R1_ASS  \\\n",
       "count  299384.000000    299384.000000  ...  283737.000000  283737.000000   \n",
       "mean     1281.422092       802.675699  ...     526.644078      18.292673   \n",
       "std        84.233837        38.910802  ...      34.108621       2.699142   \n",
       "min        79.205925       549.382500  ...      -3.665034       0.000000   \n",
       "25%      1271.056781       795.292844  ...     529.919898      16.875000   \n",
       "50%      1293.406875       811.525114  ...     530.125500      18.000000   \n",
       "75%      1313.704765       823.938673  ...     530.315100      20.248013   \n",
       "max      1362.536250       931.753875  ...     541.123650      31.405500   \n",
       "\n",
       "         SPZ1_R2_ASS     TIRO_DECAP     SPEED_FILL     FILL_FORZA  \\\n",
       "count  283737.000000  283737.000000  270904.000000  270904.000000   \n",
       "mean       18.344328    3186.598116      39.900765     689.840763   \n",
       "std         2.794101    1306.570596      17.267686     279.623230   \n",
       "min         0.000000     856.680000      -1.809788    -496.040375   \n",
       "25%        16.875000    2333.722500      28.351013     496.627351   \n",
       "50%        18.000000    2901.962812      37.656312     662.102578   \n",
       "75%        20.250000    4021.551000      49.828513     837.825196   \n",
       "max        32.747692    9073.901250      90.010696    2933.876250   \n",
       "\n",
       "           FILL_TIRO       FILL_ALL  FILL_BENDING_POS  FILL_BENDING_NEG  \n",
       "count  270904.000000  270904.000000     270904.000000     270904.000000  \n",
       "mean     3610.710095       0.532809          0.164599          0.169975  \n",
       "std       982.734142       0.232301          0.040681          0.038671  \n",
       "min       -48.285825       0.000000         -0.011853         -0.016642  \n",
       "25%      2946.052969       0.470936          0.134999          0.135002  \n",
       "50%      3790.602141       0.559548          0.135037          0.161994  \n",
       "75%      4217.453156       0.572413          0.188993          0.189022  \n",
       "max      6257.584687       7.342893          0.679614          0.324028  \n",
       "\n",
       "[8 rows x 108 columns]"
      ]
     },
     "execution_count": 27,
     "metadata": {},
     "output_type": "execute_result"
    }
   ],
   "source": [
    "df_prod.describe()"
   ]
  },
  {
   "cell_type": "markdown",
   "metadata": {},
   "source": [
    "## 2. Merging procedure"
   ]
  },
  {
   "cell_type": "code",
   "execution_count": 20,
   "metadata": {},
   "outputs": [
    {
     "data": {
      "text/plain": [
       "0      None\n",
       "1      None\n",
       "2      None\n",
       "3      None\n",
       "4      None\n",
       "       ... \n",
       "612    None\n",
       "613    None\n",
       "614    None\n",
       "615    None\n",
       "616    None\n",
       "Length: 617, dtype: object"
      ]
     },
     "execution_count": 20,
     "metadata": {},
     "output_type": "execute_result"
    }
   ],
   "source": [
    "# Create a new DataFrame to hold the merged data\n",
    "merged_df = df_prod.copy()\n",
    "\n",
    "# Initialize defect columns in the merged DataFrame with default values (e.g., NaN or 0)\n",
    "for i in range(1, 7):\n",
    "    defect_col = f'DIF_TIPO_{i}'\n",
    "    merged_df[defect_col] = pd.NA  # or use np.nan, or 0, depending on how you want to represent no defect\n",
    "\n",
    "# Function to apply the defects to the production DataFrame\n",
    "# This function is designed to take a row from the defect DataFrame (df_def), \n",
    "# find the corresponding rows in df_prod based on coil ID and meter range, and then update \n",
    "# these rows in merged_df with the defect information.\n",
    "def apply_defects(row, production, merged_df):\n",
    "    coil_id = row['COIL']\n",
    "    mt_from = row['MT_FROM']\n",
    "    mt_to = row['MT_TO']\n",
    "    defect_info = row[['DIF_TIPO_1', 'DIF_TIPO_2', 'DIF_TIPO_3', 'DIF_TIPO_4', 'DIF_TIPO_5', 'DIF_TIPO_6']]\n",
    "    \n",
    "    # Filter production for the current coil and meter range\n",
    "    mask = (production['COIL'] == coil_id) & (production['MT'] >= mt_from) & (production['MT'] <= mt_to) # filter\n",
    "    production_subset = production.loc[mask]\n",
    "    \n",
    "    # Update the merged DataFrame with defect information\n",
    "    for index in production_subset.index:\n",
    "        merged_df.loc[index, defect_info.index] = defect_info.values\n",
    "\n",
    "# The following line applies the 'apply_defects' function to each row of 'df_def'.\n",
    "df_def.apply(lambda row: apply_defects(row, df_prod, merged_df), axis=1)\n",
    "\n",
    "# Now merged_production contains the merged information with defects applied to the relevant meter ranges."
   ]
  },
  {
   "cell_type": "markdown",
   "metadata": {},
   "source": [
    "After this process, merged_df contains the production data with defect information correctly applied. Each row in 'merged_df' represents production data, and if there were any defects associated with the particular meter range of a coil, this information is now included in the corresponding rows."
   ]
  },
  {
   "cell_type": "code",
   "execution_count": 21,
   "metadata": {},
   "outputs": [
    {
     "data": {
      "text/plain": [
       "(299384, 116)"
      ]
     },
     "execution_count": 21,
     "metadata": {},
     "output_type": "execute_result"
    }
   ],
   "source": [
    "merged_df.shape"
   ]
  },
  {
   "cell_type": "code",
   "execution_count": 29,
   "metadata": {},
   "outputs": [],
   "source": [
    "# # Convert MT_FROM and MT_TO to integers, handling NaN and float values\n",
    "# df_def['MT_FROM'] = df_def['MT_FROM'].fillna(0).astype(int)\n",
    "# df_def['MT_TO'] = df_def['MT_TO'].fillna(0).astype(int)\n",
    "\n",
    "# # Create a new column in defects to facilitate the merge\n",
    "# df_def['MT'] = df_def.apply(lambda x: list(range(x['MT_FROM'], x['MT_TO']+1)), axis=1)\n",
    "\n",
    "# # Explode the 'MT' column to create a row for each meter within the defect range.\n",
    "# # transforms each list in the MT column into separate rows, essentially creating a row \n",
    "# #for each meter point within the range of a defect\n",
    "# defects_exploded = df_def.explode('MT')\n",
    "\n",
    "# # Perform the merge on 'COIL' and 'MT'\n",
    "# merged_df = pd.merge(df_prod, defects_exploded, on=['COIL', 'MT', 'DATE'], how='left', suffixes=('', '_defects'))\n",
    "\n",
    "# # This part of the code forward-fills defect information within each COIL group.\n",
    "# # It ensures that once a defect starts, the relevant defect information continues \n",
    "# # for all subsequent meters until the defect ends.\n",
    "# # This is important because a defect may span multiple meters, and the information needs to \n",
    "# # be replicated across all affected rows.\n",
    "# for col in ['DATE', 'DIF_TIPO_1', 'DIF_TIPO_2', 'DIF_TIPO_3', 'DIF_TIPO_4', 'DIF_TIPO_5', 'DIF_TIPO_6']:\n",
    "#     # Forward-fill the defect information for each COIL group\n",
    "#     merged_df[col] = merged_df.groupby('COIL')[col].ffill()\n",
    "\n",
    "# # Now merged_df should have the defect information and date in the correct rows\n",
    "\n",
    "# # Final data shape \n",
    "# print(merged_df.shape)"
   ]
  },
  {
   "cell_type": "markdown",
   "metadata": {},
   "source": [
    "Downloading the merged data in a csv format (in case you want to visualize it on Excel) \\\n",
    "P.S. Do not run this if you don't want to download it!"
   ]
  },
  {
   "cell_type": "code",
   "execution_count": 8,
   "metadata": {},
   "outputs": [],
   "source": [
    "# ! pip install openpyxl\n",
    "# merged_df.to_excel('merged_data.xlsx', index=False, engine='openpyxl')"
   ]
  },
  {
   "cell_type": "markdown",
   "metadata": {},
   "source": [
    "## 3. Dealing with missing Values"
   ]
  },
  {
   "cell_type": "markdown",
   "metadata": {},
   "source": [
    "Question: Are there missing values in the ['DIF_TIPO_1', 'DIF_TIPO_2', 'DIF_TIPO_3', 'DIF_TIPO_4', 'DIF_TIPO_5', 'DIF_TIPO_6'] columns?"
   ]
  },
  {
   "cell_type": "code",
   "execution_count": 23,
   "metadata": {},
   "outputs": [
    {
     "data": {
      "text/plain": [
       "DIF_TIPO_1    192645\n",
       "DIF_TIPO_2    192645\n",
       "DIF_TIPO_3    192645\n",
       "DIF_TIPO_4    192645\n",
       "DIF_TIPO_5    192645\n",
       "DIF_TIPO_6    192645\n",
       "dtype: int64"
      ]
     },
     "execution_count": 23,
     "metadata": {},
     "output_type": "execute_result"
    }
   ],
   "source": [
    "merged_df[['DIF_TIPO_1', 'DIF_TIPO_2', 'DIF_TIPO_3', 'DIF_TIPO_4', \n",
    "           'DIF_TIPO_5', 'DIF_TIPO_6']].isna().sum()"
   ]
  },
  {
   "cell_type": "markdown",
   "metadata": {},
   "source": [
    "Answer: Yes. Therefore, we need to convern Null values to 0s for observations that have no defects"
   ]
  },
  {
   "cell_type": "code",
   "execution_count": 24,
   "metadata": {},
   "outputs": [
    {
     "data": {
      "text/plain": [
       "DIF_TIPO_1    0\n",
       "DIF_TIPO_2    0\n",
       "DIF_TIPO_3    0\n",
       "DIF_TIPO_4    0\n",
       "DIF_TIPO_5    0\n",
       "DIF_TIPO_6    0\n",
       "dtype: int64"
      ]
     },
     "execution_count": 24,
     "metadata": {},
     "output_type": "execute_result"
    }
   ],
   "source": [
    "# List of defect columns - replace or extend this with your actual defect column names\n",
    "defect_columns = ['DIF_TIPO_1', 'DIF_TIPO_2', 'DIF_TIPO_3', 'DIF_TIPO_4', 'DIF_TIPO_5', 'DIF_TIPO_6']\n",
    "\n",
    "# Replace NaN values with 0 in defect columns\n",
    "for col in defect_columns:\n",
    "    merged_df[col] = merged_df[col].fillna(0)\n",
    "\n",
    "merged_df[['DIF_TIPO_1', 'DIF_TIPO_2', 'DIF_TIPO_3', 'DIF_TIPO_4', \n",
    "           'DIF_TIPO_5', 'DIF_TIPO_6']].isna().sum()"
   ]
  },
  {
   "cell_type": "code",
   "execution_count": 25,
   "metadata": {},
   "outputs": [
    {
     "data": {
      "text/plain": [
       "908899"
      ]
     },
     "execution_count": 25,
     "metadata": {},
     "output_type": "execute_result"
    }
   ],
   "source": [
    "# Checking for overall missing values\n",
    "merged_df.isna().sum().sum()"
   ]
  },
  {
   "cell_type": "markdown",
   "metadata": {},
   "source": [
    "Let's visualize missing values with a bar chart"
   ]
  },
  {
   "cell_type": "code",
   "execution_count": 26,
   "metadata": {},
   "outputs": [
    {
     "data": {
      "image/png": "[encoded data removed]",
      "text/plain": [
       "<Figure size 1000x600 with 1 Axes>"
      ]
     },
     "metadata": {},
     "output_type": "display_data"
    }
   ],
   "source": [
    "missing_values = merged_df.isna().sum()\n",
    "\n",
    "plt.figure(figsize=(10, 6))\n",
    "missing_values.plot(kind='bar')\n",
    "plt.xlabel('Columns')\n",
    "plt.ylabel('Number of Missing Values')\n",
    "plt.title('Histogram of Missing Values in merged_df')\n",
    "plt.xticks(rotation=90, fontsize = 5)\n",
    "plt.show()"
   ]
  },
  {
   "cell_type": "markdown",
   "metadata": {},
   "source": [
    "How should we deal with this large number of null values?"
   ]
  },
  {
   "cell_type": "markdown",
   "metadata": {},
   "source": [
    "## 4. Principal Component Analysis"
   ]
  },
  {
   "cell_type": "code",
   "execution_count": 30,
   "metadata": {},
   "outputs": [
    {
     "name": "stdout",
     "output_type": "stream",
     "text": [
      "[0.30365738 0.39404638 0.46415341 0.50412252 0.53586657 0.56584863\n",
      " 0.59271406 0.6183153  0.63979133 0.66024451 0.67841879 0.69479225\n",
      " 0.7105594  0.72447616 0.73773318 0.75063916 0.76241224 0.7731456\n",
      " 0.78294513 0.79236895 0.80168224 0.81066716 0.81940252 0.82812338\n",
      " 0.83665183 0.84500855 0.85276633 0.86044105 0.86804982 0.87532265\n",
      " 0.88236896 0.88910225 0.89562528 0.90200244 0.90812728 0.91378358\n",
      " 0.91934559 0.92455068 0.92957351 0.93430533 0.93882987 0.94306664\n",
      " 0.94713037 0.95096865 0.95454578 0.95784275 0.96099756 0.96404431\n",
      " 0.96697268 0.96975571 0.9721801  0.97447808 0.97674443 0.97893185\n",
      " 0.98082706 0.98253549 0.98416902 0.98571095 0.98714611 0.98842256\n",
      " 0.98959152 0.99064909 0.99167305 0.99266386 0.99349977 0.99429241\n",
      " 0.99501664 0.99572483 0.9964185  0.99704327 0.99748843 0.99791041\n",
      " 0.9982824  0.99854874 0.99878923 0.99901337 0.99916937 0.99926994\n",
      " 0.99936084 0.99944339 0.99952226 0.99959235 0.99965692 0.99971118\n",
      " 0.99976112 0.999798   0.99982887 0.99985796 0.99988241 0.99990044\n",
      " 0.99991555 0.99992851 0.99993996 0.99995115 0.99996168 0.99997172\n",
      " 0.99997896 0.99998507 0.99998887 0.99999241 0.99999448 0.99999638\n",
      " 0.99999752 0.99999825 0.99999884 0.99999919 0.99999951 0.99999973\n",
      " 0.99999991 0.99999996 1.         1.         1.         1.        ]\n"
     ]
    },
    {
     "data": {
      "image/png": "[encoded data removed]",
      "text/plain": [
       "<Figure size 800x400 with 1 Axes>"
      ]
     },
     "metadata": {},
     "output_type": "display_data"
    }
   ],
   "source": [
    "\n",
    "from sklearn.impute import SimpleImputer\n",
    "# # Dropping non-numeric columns if any\n",
    "numeric_data = merged_df.select_dtypes(include=[np.number])\n",
    "\n",
    "# # Replace NaN values with the mean of each column\n",
    "numeric_data_filled = numeric_data.fillna(numeric_data.mean())\n",
    "# For replacing missing values with the mean of the column\n",
    "imputer = SimpleImputer(strategy='mean')\n",
    "# Assuming numeric_data is your dataset with missing values\n",
    "imputer.fit(numeric_data)\n",
    "numeric_data_transformed = imputer.transform(numeric_data)\n",
    "\n",
    "# create a PCA \n",
    "\n",
    "scaler = StandardScaler() \n",
    "data_std = scaler.fit_transform(numeric_data_transformed)\n",
    "pca = PCA()\n",
    "pca.fit(data_std)\n",
    "print(pca.explained_variance_ratio_.cumsum())\n",
    "\n",
    "# # Applying PCA\n",
    "pca = PCA(n_components=49)  # This retains 95% of the variance\n",
    "principal_components = pca.fit_transform(numeric_data_transformed)\n",
    "\n",
    "# # Transform data to DataFrame\n",
    "principal_df = pd.DataFrame(data=principal_components)\n",
    "\n",
    "# # Plotting the explained variance\n",
    "plt.figure(figsize=(8, 4))\n",
    "plt.plot(np.cumsum(pca.explained_variance_ratio_))\n",
    "plt.xlabel('Number of Components')\n",
    "plt.ylabel('Cumulative Explained Variance')\n",
    "plt.title('Explained Variance by PCA Components')\n",
    "plt.grid(True)\n",
    "plt.show()"
   ]
  },
  {
   "cell_type": "markdown",
   "metadata": {},
   "source": [
    "## 5. "
   ]
  }
 ],
 "metadata": {
  "kernelspec": {
   "display_name": "base",
   "language": "python",
   "name": "python3"
  },
  "language_info": {
   "codemirror_mode": {
    "name": "ipython",
    "version": 3
   },
   "file_extension": ".py",
   "mimetype": "text/x-python",
   "name": "python",
   "nbconvert_exporter": "python",
   "pygments_lexer": "ipython3",
   "version": "3.11.8"
  }
 },
 "nbformat": 4,
 "nbformat_minor": 2
}
