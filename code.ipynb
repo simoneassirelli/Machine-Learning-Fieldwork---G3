{
 "cells": [
  {
   "cell_type": "markdown",
   "metadata": {},
   "source": [
    "# *Manufacturing Root Cause (Group 3)*"
   ]
  },
  {
   "cell_type": "markdown",
   "metadata": {},
   "source": [
    "Project developers:\n",
    "- Amine Amri\n",
    "- Julia Graham\n",
    "- Sebastian Anusch\n",
    "- Simone Assirelli "
   ]
  },
  {
   "cell_type": "code",
   "execution_count": 1,
   "metadata": {},
   "outputs": [],
   "source": [
    "import pandas as pd\n",
    "import  numpy as np\n",
    "import seaborn as sns\n",
    "import matplotlib.pyplot as plt\n",
    "from sklearn.decomposition import PCA\n",
    "from sklearn.preprocessing import StandardScaler"
   ]
  },
  {
   "cell_type": "markdown",
   "metadata": {},
   "source": [
    "Loading the data"
   ]
  },
  {
   "cell_type": "code",
   "execution_count": 2,
   "metadata": {},
   "outputs": [],
   "source": [
    "url_defects = 'https://dl.dropboxusercontent.com/scl/fi/j3xred1cqmicuxui4kj6m/RC_DEFECTS_clean.csv?rlkey=gumwpqnsfvdyjdx5doi4i7zxb&dl=1'\n",
    "url_production = 'https://dl.dropboxusercontent.com/scl/fi/baekmodofe2sn64qhrcur/RC_PRODUCTION_clean.csv?rlkey=uw7r9vgblez57cbnwsf2c3vmd&dl=1'\n",
    "df_def = pd.read_csv(url_defects)\n",
    "df_prod = pd.read_csv(url_production)"
   ]
  },
  {
   "cell_type": "markdown",
   "metadata": {},
   "source": [
    "## 1. Exploring the data"
   ]
  },
  {
   "cell_type": "code",
   "execution_count": 3,
   "metadata": {},
   "outputs": [
    {
     "name": "stdout",
     "output_type": "stream",
     "text": [
      "(617, 10)\n"
     ]
    },
    {
     "data": {
      "text/html": [
       "<div>\n",
       "<style scoped>\n",
       "    .dataframe tbody tr th:only-of-type {\n",
       "        vertical-align: middle;\n",
       "    }\n",
       "\n",
       "    .dataframe tbody tr th {\n",
       "        vertical-align: top;\n",
       "    }\n",
       "\n",
       "    .dataframe thead th {\n",
       "        text-align: right;\n",
       "    }\n",
       "</style>\n",
       "<table border=\"1\" class=\"dataframe\">\n",
       "  <thead>\n",
       "    <tr style=\"text-align: right;\">\n",
       "      <th></th>\n",
       "      <th>COIL</th>\n",
       "      <th>MT_FROM</th>\n",
       "      <th>MT_TO</th>\n",
       "      <th>DATE</th>\n",
       "      <th>DIF_TIPO_1</th>\n",
       "      <th>DIF_TIPO_2</th>\n",
       "      <th>DIF_TIPO_3</th>\n",
       "      <th>DIF_TIPO_4</th>\n",
       "      <th>DIF_TIPO_5</th>\n",
       "      <th>DIF_TIPO_6</th>\n",
       "    </tr>\n",
       "  </thead>\n",
       "  <tbody>\n",
       "    <tr>\n",
       "      <th>0</th>\n",
       "      <td>389523</td>\n",
       "      <td>0.0</td>\n",
       "      <td>599.0</td>\n",
       "      <td>2019-03-01</td>\n",
       "      <td>0</td>\n",
       "      <td>0</td>\n",
       "      <td>1</td>\n",
       "      <td>0</td>\n",
       "      <td>0</td>\n",
       "      <td>0</td>\n",
       "    </tr>\n",
       "    <tr>\n",
       "      <th>1</th>\n",
       "      <td>389523</td>\n",
       "      <td>600.0</td>\n",
       "      <td>1457.0</td>\n",
       "      <td>2019-03-01</td>\n",
       "      <td>0</td>\n",
       "      <td>1</td>\n",
       "      <td>1</td>\n",
       "      <td>0</td>\n",
       "      <td>0</td>\n",
       "      <td>0</td>\n",
       "    </tr>\n",
       "    <tr>\n",
       "      <th>2</th>\n",
       "      <td>389528</td>\n",
       "      <td>0.0</td>\n",
       "      <td>1399.0</td>\n",
       "      <td>2019-03-01</td>\n",
       "      <td>0</td>\n",
       "      <td>0</td>\n",
       "      <td>1</td>\n",
       "      <td>0</td>\n",
       "      <td>0</td>\n",
       "      <td>0</td>\n",
       "    </tr>\n",
       "    <tr>\n",
       "      <th>3</th>\n",
       "      <td>389528</td>\n",
       "      <td>1400.0</td>\n",
       "      <td>1539.0</td>\n",
       "      <td>2019-03-01</td>\n",
       "      <td>0</td>\n",
       "      <td>0</td>\n",
       "      <td>1</td>\n",
       "      <td>0</td>\n",
       "      <td>1</td>\n",
       "      <td>0</td>\n",
       "    </tr>\n",
       "    <tr>\n",
       "      <th>4</th>\n",
       "      <td>389712</td>\n",
       "      <td>0.0</td>\n",
       "      <td>1374.0</td>\n",
       "      <td>2019-03-01</td>\n",
       "      <td>0</td>\n",
       "      <td>0</td>\n",
       "      <td>1</td>\n",
       "      <td>0</td>\n",
       "      <td>0</td>\n",
       "      <td>0</td>\n",
       "    </tr>\n",
       "  </tbody>\n",
       "</table>\n",
       "</div>"
      ],
      "text/plain": [
       "     COIL  MT_FROM   MT_TO        DATE  DIF_TIPO_1  DIF_TIPO_2  DIF_TIPO_3  \\\n",
       "0  389523      0.0   599.0  2019-03-01           0           0           1   \n",
       "1  389523    600.0  1457.0  2019-03-01           0           1           1   \n",
       "2  389528      0.0  1399.0  2019-03-01           0           0           1   \n",
       "3  389528   1400.0  1539.0  2019-03-01           0           0           1   \n",
       "4  389712      0.0  1374.0  2019-03-01           0           0           1   \n",
       "\n",
       "   DIF_TIPO_4  DIF_TIPO_5  DIF_TIPO_6  \n",
       "0           0           0           0  \n",
       "1           0           0           0  \n",
       "2           0           0           0  \n",
       "3           0           1           0  \n",
       "4           0           0           0  "
      ]
     },
     "execution_count": 3,
     "metadata": {},
     "output_type": "execute_result"
    }
   ],
   "source": [
    "print(df_def.shape)\n",
    "df_def.head()"
   ]
  },
  {
   "cell_type": "code",
   "execution_count": 4,
   "metadata": {},
   "outputs": [
    {
     "name": "stdout",
     "output_type": "stream",
     "text": [
      "(299384, 110)\n"
     ]
    },
    {
     "data": {
      "text/html": [
       "<div>\n",
       "<style scoped>\n",
       "    .dataframe tbody tr th:only-of-type {\n",
       "        vertical-align: middle;\n",
       "    }\n",
       "\n",
       "    .dataframe tbody tr th {\n",
       "        vertical-align: top;\n",
       "    }\n",
       "\n",
       "    .dataframe thead th {\n",
       "        text-align: right;\n",
       "    }\n",
       "</style>\n",
       "<table border=\"1\" class=\"dataframe\">\n",
       "  <thead>\n",
       "    <tr style=\"text-align: right;\">\n",
       "      <th></th>\n",
       "      <th>COIL</th>\n",
       "      <th>DATE</th>\n",
       "      <th>MT</th>\n",
       "      <th>TIME_START_PROCESS</th>\n",
       "      <th>SPEED_PROCESS</th>\n",
       "      <th>TEMP_Z1</th>\n",
       "      <th>TEMP_Z2</th>\n",
       "      <th>TEMP_Z3</th>\n",
       "      <th>TEMP_Z4</th>\n",
       "      <th>TEMP_Z5</th>\n",
       "      <th>...</th>\n",
       "      <th>SPZ2_R4</th>\n",
       "      <th>SPZ1_R1_ASS</th>\n",
       "      <th>SPZ1_R2_ASS</th>\n",
       "      <th>TIRO_DECAP</th>\n",
       "      <th>SPEED_FILL</th>\n",
       "      <th>FILL_FORZA</th>\n",
       "      <th>FILL_TIRO</th>\n",
       "      <th>FILL_ALL</th>\n",
       "      <th>FILL_BENDING_POS</th>\n",
       "      <th>FILL_BENDING_NEG</th>\n",
       "    </tr>\n",
       "  </thead>\n",
       "  <tbody>\n",
       "    <tr>\n",
       "      <th>0</th>\n",
       "      <td>240627</td>\n",
       "      <td>2019-03-15</td>\n",
       "      <td>0.0</td>\n",
       "      <td>14:25:23.060</td>\n",
       "      <td>16.934625</td>\n",
       "      <td>671.967562</td>\n",
       "      <td>679.751438</td>\n",
       "      <td>688.119187</td>\n",
       "      <td>716.717250</td>\n",
       "      <td>734.616563</td>\n",
       "      <td>...</td>\n",
       "      <td>NaN</td>\n",
       "      <td>NaN</td>\n",
       "      <td>NaN</td>\n",
       "      <td>NaN</td>\n",
       "      <td>NaN</td>\n",
       "      <td>NaN</td>\n",
       "      <td>NaN</td>\n",
       "      <td>NaN</td>\n",
       "      <td>NaN</td>\n",
       "      <td>NaN</td>\n",
       "    </tr>\n",
       "    <tr>\n",
       "      <th>1</th>\n",
       "      <td>240627</td>\n",
       "      <td>2019-03-15</td>\n",
       "      <td>7.0</td>\n",
       "      <td>14:25:53.060</td>\n",
       "      <td>16.773638</td>\n",
       "      <td>668.635875</td>\n",
       "      <td>676.207125</td>\n",
       "      <td>681.034500</td>\n",
       "      <td>710.093250</td>\n",
       "      <td>729.040500</td>\n",
       "      <td>...</td>\n",
       "      <td>NaN</td>\n",
       "      <td>NaN</td>\n",
       "      <td>NaN</td>\n",
       "      <td>NaN</td>\n",
       "      <td>NaN</td>\n",
       "      <td>NaN</td>\n",
       "      <td>NaN</td>\n",
       "      <td>NaN</td>\n",
       "      <td>NaN</td>\n",
       "      <td>NaN</td>\n",
       "    </tr>\n",
       "    <tr>\n",
       "      <th>2</th>\n",
       "      <td>240627</td>\n",
       "      <td>2019-03-15</td>\n",
       "      <td>14.0</td>\n",
       "      <td>14:26:23.060</td>\n",
       "      <td>11.142165</td>\n",
       "      <td>669.105375</td>\n",
       "      <td>677.042625</td>\n",
       "      <td>678.493125</td>\n",
       "      <td>707.967750</td>\n",
       "      <td>727.783500</td>\n",
       "      <td>...</td>\n",
       "      <td>NaN</td>\n",
       "      <td>NaN</td>\n",
       "      <td>NaN</td>\n",
       "      <td>NaN</td>\n",
       "      <td>NaN</td>\n",
       "      <td>NaN</td>\n",
       "      <td>NaN</td>\n",
       "      <td>NaN</td>\n",
       "      <td>NaN</td>\n",
       "      <td>NaN</td>\n",
       "    </tr>\n",
       "    <tr>\n",
       "      <th>3</th>\n",
       "      <td>240627</td>\n",
       "      <td>2019-03-15</td>\n",
       "      <td>21.0</td>\n",
       "      <td>14:27:08.060</td>\n",
       "      <td>11.148851</td>\n",
       "      <td>671.631750</td>\n",
       "      <td>681.066000</td>\n",
       "      <td>679.704750</td>\n",
       "      <td>707.241375</td>\n",
       "      <td>727.886250</td>\n",
       "      <td>...</td>\n",
       "      <td>NaN</td>\n",
       "      <td>NaN</td>\n",
       "      <td>NaN</td>\n",
       "      <td>NaN</td>\n",
       "      <td>NaN</td>\n",
       "      <td>NaN</td>\n",
       "      <td>NaN</td>\n",
       "      <td>NaN</td>\n",
       "      <td>NaN</td>\n",
       "      <td>NaN</td>\n",
       "    </tr>\n",
       "    <tr>\n",
       "      <th>4</th>\n",
       "      <td>240627</td>\n",
       "      <td>2019-03-15</td>\n",
       "      <td>28.0</td>\n",
       "      <td>14:27:38.060</td>\n",
       "      <td>15.657188</td>\n",
       "      <td>675.052875</td>\n",
       "      <td>686.972813</td>\n",
       "      <td>683.336250</td>\n",
       "      <td>710.432437</td>\n",
       "      <td>730.182375</td>\n",
       "      <td>...</td>\n",
       "      <td>530.110125</td>\n",
       "      <td>14.625</td>\n",
       "      <td>14.625</td>\n",
       "      <td>1956.40875</td>\n",
       "      <td>NaN</td>\n",
       "      <td>NaN</td>\n",
       "      <td>NaN</td>\n",
       "      <td>NaN</td>\n",
       "      <td>NaN</td>\n",
       "      <td>NaN</td>\n",
       "    </tr>\n",
       "  </tbody>\n",
       "</table>\n",
       "<p>5 rows × 110 columns</p>\n",
       "</div>"
      ],
      "text/plain": [
       "     COIL        DATE    MT TIME_START_PROCESS  SPEED_PROCESS     TEMP_Z1  \\\n",
       "0  240627  2019-03-15   0.0       14:25:23.060      16.934625  671.967562   \n",
       "1  240627  2019-03-15   7.0       14:25:53.060      16.773638  668.635875   \n",
       "2  240627  2019-03-15  14.0       14:26:23.060      11.142165  669.105375   \n",
       "3  240627  2019-03-15  21.0       14:27:08.060      11.148851  671.631750   \n",
       "4  240627  2019-03-15  28.0       14:27:38.060      15.657188  675.052875   \n",
       "\n",
       "      TEMP_Z2     TEMP_Z3     TEMP_Z4     TEMP_Z5  ...     SPZ2_R4  \\\n",
       "0  679.751438  688.119187  716.717250  734.616563  ...         NaN   \n",
       "1  676.207125  681.034500  710.093250  729.040500  ...         NaN   \n",
       "2  677.042625  678.493125  707.967750  727.783500  ...         NaN   \n",
       "3  681.066000  679.704750  707.241375  727.886250  ...         NaN   \n",
       "4  686.972813  683.336250  710.432437  730.182375  ...  530.110125   \n",
       "\n",
       "   SPZ1_R1_ASS  SPZ1_R2_ASS  TIRO_DECAP  SPEED_FILL  FILL_FORZA  FILL_TIRO  \\\n",
       "0          NaN          NaN         NaN         NaN         NaN        NaN   \n",
       "1          NaN          NaN         NaN         NaN         NaN        NaN   \n",
       "2          NaN          NaN         NaN         NaN         NaN        NaN   \n",
       "3          NaN          NaN         NaN         NaN         NaN        NaN   \n",
       "4       14.625       14.625  1956.40875         NaN         NaN        NaN   \n",
       "\n",
       "   FILL_ALL  FILL_BENDING_POS  FILL_BENDING_NEG  \n",
       "0       NaN               NaN               NaN  \n",
       "1       NaN               NaN               NaN  \n",
       "2       NaN               NaN               NaN  \n",
       "3       NaN               NaN               NaN  \n",
       "4       NaN               NaN               NaN  \n",
       "\n",
       "[5 rows x 110 columns]"
      ]
     },
     "execution_count": 4,
     "metadata": {},
     "output_type": "execute_result"
    }
   ],
   "source": [
    "print(df_prod.shape)\n",
    "df_prod.head()"
   ]
  },
  {
   "cell_type": "code",
   "execution_count": 16,
   "metadata": {},
   "outputs": [
    {
     "name": "stdout",
     "output_type": "stream",
     "text": [
      "['COIL', 'DATE', 'MT', 'TIME_START_PROCESS', 'SPEED_PROCESS', 'TEMP_Z1', 'TEMP_Z2', 'TEMP_Z3', 'TEMP_Z4', 'TEMP_Z5', 'TEMP_Z6', 'PYRO_1_PRECHMBR', 'PYRO_2_FRST_3_ZONE', 'PYRO_3_LST_3_ZONE', 'LS_OVEN', 'LASER_FRN_1', 'LASER_FRN_2', 'LASER_FRN_3', 'LASER_FRN_4', 'LASER_FRN_5', 'LASER_FRN_6', 'LASER_FRN_7', 'LASER_FRN_8', 'LASER_FRN_9', 'AIR_CH4_1', 'AIR_CH4_2', 'AIR_CH4_3', 'AIR_CH4_4', 'AIR_CH4_5', 'AIR_CH4_6', 'AIR_Z1_1', 'AIR_Z1_2', 'AIR_Z2_1', 'AIR_Z2_2', 'AIR_Z3_1', 'AIR_Z3_2', 'AIR_Z4_1', 'AIR_Z4_2', 'AIR_Z5_1', 'AIR_Z5_2', 'AIR_Z6_1', 'AIR_Z6_2', 'GAS_Z1_1', 'GAS_Z1_2', 'GAS_Z2_1', 'GAS_Z2_2', 'GAS_Z3_1', 'GAS_Z3_2', 'GAS_Z4_1', 'GAS_Z4_2', 'GAS_Z5_1', 'GAS_Z5_2', 'GAS_Z6_1', 'GAS_Z6_2', 'FRN_PHF_PRESSURE', 'FRN_FURNACE_PRESSURE', 'TIRO_FORNO', 'PRES_ZONA1_MEASURED', 'PRES_ZONA1_SET', 'PRES_ZONA2_MEASURED', 'PRES_ZONA2_SET', 'PRES_ZONA3_MEASURED', 'PRES_ZONA3_SET', 'EXT_1', 'EXT_2', 'VENT_1', 'VENT_2', 'VENT_3', 'VENT_4', 'VENT_5', 'COOL_1A', 'COOL_1B', 'COOL_2A', 'COOL_2B', 'COOL_3', 'LS_COOLING', 'LASER_RAFF_1', 'LASER_RAFF_2', 'LASER_RAFF_3', 'LASER_RAFF_4', 'LASER_RAFF_5', 'LASER_RAFF_6', 'LASER_RAFF_7', 'LASER_RAFF_8', 'LASER_RAFF_9', 'TOUT_RAFF_H2O', 'N_RAMPE_H2O', 'ELET_TEMP', 'ELET_H2SO4', 'ELET_FE2', 'ELET_CORRENTE', 'DEC_TEMP', 'DEC_H2SO4', 'DEC_HF', 'DEC_FE2', 'DEC_FE3', 'DEC_FETOT', 'SPZ2_R1', 'SPZ2_R2', 'SPZ2_R3', 'SPZ2_R4', 'SPZ1_R1_ASS', 'SPZ1_R2_ASS', 'TIRO_DECAP', 'SPEED_FILL', 'FILL_FORZA', 'FILL_TIRO', 'FILL_ALL', 'FILL_BENDING_POS', 'FILL_BENDING_NEG']\n"
     ]
    }
   ],
   "source": [
    "# Columns of production dataframe\n",
    "prod_columns = list(df_prod.columns)\n",
    "print(prod_columns) "
   ]
  },
  {
   "cell_type": "markdown",
   "metadata": {},
   "source": [
    "## 2. Merging procedure"
   ]
  },
  {
   "cell_type": "code",
   "execution_count": 20,
   "metadata": {},
   "outputs": [
    {
     "data": {
      "text/plain": [
       "0      None\n",
       "1      None\n",
       "2      None\n",
       "3      None\n",
       "4      None\n",
       "       ... \n",
       "612    None\n",
       "613    None\n",
       "614    None\n",
       "615    None\n",
       "616    None\n",
       "Length: 617, dtype: object"
      ]
     },
     "execution_count": 20,
     "metadata": {},
     "output_type": "execute_result"
    }
   ],
   "source": [
    "# Create a new DataFrame to hold the merged data\n",
    "merged_df = df_prod.copy()\n",
    "\n",
    "# Initialize defect columns in the merged DataFrame with default values (e.g., NaN or 0)\n",
    "for i in range(1, 7):\n",
    "    defect_col = f'DIF_TIPO_{i}'\n",
    "    merged_df[defect_col] = pd.NA  # or use np.nan, or 0, depending on how you want to represent no defect\n",
    "\n",
    "# Function to apply the defects to the production DataFrame\n",
    "def apply_defects(row, production, merged_df):\n",
    "    coil_id = row['COIL']\n",
    "    mt_from = row['MT_FROM']\n",
    "    mt_to = row['MT_TO']\n",
    "    defect_info = row[['DIF_TIPO_1', 'DIF_TIPO_2', 'DIF_TIPO_3', 'DIF_TIPO_4', 'DIF_TIPO_5', 'DIF_TIPO_6']]\n",
    "    \n",
    "    # Filter production for the current coil and meter range\n",
    "    mask = (production['COIL'] == coil_id) & (production['MT'] >= mt_from) & (production['MT'] <= mt_to)\n",
    "    production_subset = production.loc[mask]\n",
    "    \n",
    "    # Update the merged DataFrame with defect information\n",
    "    for index in production_subset.index:\n",
    "        merged_df.loc[index, defect_info.index] = defect_info.values\n",
    "\n",
    "# Apply defects to the production DataFrame\n",
    "df_def.apply(lambda row: apply_defects(row, df_prod, merged_df), axis=1)\n",
    "\n",
    "# Now merged_production contains the merged information with defects applied to the relevant meter ranges."
   ]
  },
  {
   "cell_type": "code",
   "execution_count": 21,
   "metadata": {},
   "outputs": [
    {
     "data": {
      "text/plain": [
       "(299384, 116)"
      ]
     },
     "execution_count": 21,
     "metadata": {},
     "output_type": "execute_result"
    }
   ],
   "source": [
    "merged_df.shape"
   ]
  },
  {
   "cell_type": "code",
   "execution_count": 17,
   "metadata": {},
   "outputs": [
    {
     "name": "stdout",
     "output_type": "stream",
     "text": [
      "(300092, 118)\n"
     ]
    }
   ],
   "source": [
    "# # Convert MT_FROM and MT_TO to integers, handling NaN and float values\n",
    "# df_def['MT_FROM'] = df_def['MT_FROM'].fillna(0).astype(int)\n",
    "# df_def['MT_TO'] = df_def['MT_TO'].fillna(0).astype(int)\n",
    "\n",
    "# # Create a new column in defects to facilitate the merge\n",
    "# df_def['MT'] = df_def.apply(lambda x: list(range(x['MT_FROM'], x['MT_TO']+1)), axis=1)\n",
    "\n",
    "# # Explode the 'MT' column to create a row for each meter within the defect range.\n",
    "# # transforms each list in the MT column into separate rows, essentially creating a row \n",
    "# #for each meter point within the range of a defect\n",
    "# defects_exploded = df_def.explode('MT')\n",
    "\n",
    "# # Perform the merge on 'COIL' and 'MT'\n",
    "# merged_df = pd.merge(df_prod, defects_exploded, on=['COIL', 'MT', 'DATE'], how='left', suffixes=('', '_defects'))\n",
    "\n",
    "# # This part of the code forward-fills defect information within each COIL group.\n",
    "# # It ensures that once a defect starts, the relevant defect information continues \n",
    "# # for all subsequent meters until the defect ends.\n",
    "# # This is important because a defect may span multiple meters, and the information needs to \n",
    "# # be replicated across all affected rows.\n",
    "# for col in ['DATE', 'DIF_TIPO_1', 'DIF_TIPO_2', 'DIF_TIPO_3', 'DIF_TIPO_4', 'DIF_TIPO_5', 'DIF_TIPO_6']:\n",
    "#     # Forward-fill the defect information for each COIL group\n",
    "#     merged_df[col] = merged_df.groupby('COIL')[col].ffill()\n",
    "\n",
    "# # Now merged_df should have the defect information and date in the correct rows\n",
    "\n",
    "# # Final data shape \n",
    "# print(merged_df.shape)"
   ]
  },
  {
   "cell_type": "markdown",
   "metadata": {},
   "source": [
    "Downloading the merged data in a csv format (in case you want to visualize it on Excel) \\\n",
    "P.S. Do not run this if you don't want to download it!"
   ]
  },
  {
   "cell_type": "code",
   "execution_count": 8,
   "metadata": {},
   "outputs": [],
   "source": [
    "# ! pip install openpyxl\n",
    "# merged_df.to_excel('merged_data.xlsx', index=False, engine='openpyxl')"
   ]
  },
  {
   "cell_type": "markdown",
   "metadata": {},
   "source": [
    "## 3. Dealing with missing Values"
   ]
  },
  {
   "cell_type": "markdown",
   "metadata": {},
   "source": [
    "Question: Are there missing values in the ['DIF_TIPO_1', 'DIF_TIPO_2', 'DIF_TIPO_3', 'DIF_TIPO_4', 'DIF_TIPO_5', 'DIF_TIPO_6'] columns?"
   ]
  },
  {
   "cell_type": "code",
   "execution_count": 23,
   "metadata": {},
   "outputs": [
    {
     "data": {
      "text/plain": [
       "DIF_TIPO_1    192645\n",
       "DIF_TIPO_2    192645\n",
       "DIF_TIPO_3    192645\n",
       "DIF_TIPO_4    192645\n",
       "DIF_TIPO_5    192645\n",
       "DIF_TIPO_6    192645\n",
       "dtype: int64"
      ]
     },
     "execution_count": 23,
     "metadata": {},
     "output_type": "execute_result"
    }
   ],
   "source": [
    "merged_df[['DIF_TIPO_1', 'DIF_TIPO_2', 'DIF_TIPO_3', 'DIF_TIPO_4', \n",
    "           'DIF_TIPO_5', 'DIF_TIPO_6']].isna().sum()"
   ]
  },
  {
   "cell_type": "markdown",
   "metadata": {},
   "source": [
    "Answer: Yes. Therefore, we need to convern Null values to 0s for observations that have no defects"
   ]
  },
  {
   "cell_type": "code",
   "execution_count": 24,
   "metadata": {},
   "outputs": [
    {
     "data": {
      "text/plain": [
       "DIF_TIPO_1    0\n",
       "DIF_TIPO_2    0\n",
       "DIF_TIPO_3    0\n",
       "DIF_TIPO_4    0\n",
       "DIF_TIPO_5    0\n",
       "DIF_TIPO_6    0\n",
       "dtype: int64"
      ]
     },
     "execution_count": 24,
     "metadata": {},
     "output_type": "execute_result"
    }
   ],
   "source": [
    "# List of defect columns - replace or extend this with your actual defect column names\n",
    "defect_columns = ['DIF_TIPO_1', 'DIF_TIPO_2', 'DIF_TIPO_3', 'DIF_TIPO_4', 'DIF_TIPO_5', 'DIF_TIPO_6']\n",
    "\n",
    "# Replace NaN values with 0 in defect columns\n",
    "for col in defect_columns:\n",
    "    merged_df[col] = merged_df[col].fillna(0)\n",
    "\n",
    "merged_df[['DIF_TIPO_1', 'DIF_TIPO_2', 'DIF_TIPO_3', 'DIF_TIPO_4', \n",
    "           'DIF_TIPO_5', 'DIF_TIPO_6']].isna().sum()"
   ]
  },
  {
   "cell_type": "code",
   "execution_count": 25,
   "metadata": {},
   "outputs": [
    {
     "data": {
      "text/plain": [
       "908899"
      ]
     },
     "execution_count": 25,
     "metadata": {},
     "output_type": "execute_result"
    }
   ],
   "source": [
    "# Checking for overall missing values\n",
    "merged_df.isna().sum().sum()"
   ]
  },
  {
   "cell_type": "markdown",
   "metadata": {},
   "source": [
    "Let's visualize missing values with a bar chart"
   ]
  },
  {
   "cell_type": "code",
   "execution_count": 26,
   "metadata": {},
   "outputs": [
    {
     "data": {
      "image/png": "[encoded data removed]",
      "text/plain": [
       "<Figure size 1000x600 with 1 Axes>"
      ]
     },
     "metadata": {},
     "output_type": "display_data"
    }
   ],
   "source": [
    "missing_values = merged_df.isna().sum()\n",
    "\n",
    "plt.figure(figsize=(10, 6))\n",
    "missing_values.plot(kind='bar')\n",
    "plt.xlabel('Columns')\n",
    "plt.ylabel('Number of Missing Values')\n",
    "plt.title('Histogram of Missing Values in merged_df')\n",
    "plt.xticks(rotation=90, fontsize = 5)\n",
    "plt.show()"
   ]
  },
  {
   "cell_type": "markdown",
   "metadata": {},
   "source": [
    "How should we deal with this large number of null values?"
   ]
  },
  {
   "cell_type": "markdown",
   "metadata": {},
   "source": [
    "## 4. Principal Component Analysis"
   ]
  },
  {
   "cell_type": "code",
   "execution_count": 13,
   "metadata": {},
   "outputs": [],
   "source": [
    "\n",
    "# # Dropping non-numeric columns if any\n",
    "# numeric_data = merged_data.select_dtypes(include=[np.number]) \n",
    "\n",
    "# # Replace NaN values with the mean of each column\n",
    "# numeric_data_filled = numeric_data.fillna(numeric_data.mean())\n",
    "\n",
    "# # Standardizing the features\n",
    "# scaler = StandardScaler()\n",
    "# data_std = scaler.fit_transform(numeric_data)\n",
    "\n",
    "# # Applying PCA\n",
    "# pca = PCA(n_components=0.95)  # This retains 95% of the variance\n",
    "# principal_components = pca.fit_transform(data_std)\n",
    "\n",
    "# # Transform data to DataFrame\n",
    "# principal_df = pd.DataFrame(data=principal_components)\n",
    "\n",
    "# # Plotting the explained variance\n",
    "# plt.figure(figsize=(8, 4))\n",
    "# plt.plot(np.cumsum(pca.explained_variance_ratio_))\n",
    "# plt.xlabel('Number of Components')\n",
    "# plt.ylabel('Cumulative Explained Variance')\n",
    "# plt.title('Explained Variance by PCA Components')\n",
    "# plt.grid(True)\n",
    "# plt.show()"
   ]
  },
  {
   "cell_type": "markdown",
   "metadata": {},
   "source": [
    "## 5. "
   ]
  }
 ],
 "metadata": {
  "kernelspec": {
   "display_name": "base",
   "language": "python",
   "name": "python3"
  },
  "language_info": {
   "codemirror_mode": {
    "name": "ipython",
    "version": 3
   },
   "file_extension": ".py",
   "mimetype": "text/x-python",
   "name": "python",
   "nbconvert_exporter": "python",
   "pygments_lexer": "ipython3",
   "version": "3.11.8"
  }
 },
 "nbformat": 4,
 "nbformat_minor": 2
}
