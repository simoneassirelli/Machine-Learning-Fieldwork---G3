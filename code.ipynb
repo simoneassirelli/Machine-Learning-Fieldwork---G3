{
 "cells": [
  {
   "cell_type": "markdown",
   "metadata": {},
   "source": [
    "# *Manufacturing Root Cause (Group 3)*"
   ]
  },
  {
   "cell_type": "markdown",
   "metadata": {},
   "source": [
    "Project members:\n",
    "- Amine Amri\n",
    "- Julia Graham\n",
    "- Sebastian Anusch\n",
    "- Simone Assirelli "
   ]
  },
  {
   "cell_type": "markdown",
   "metadata": {},
   "source": [
    "****************************************************************************************************************************************"
   ]
  },
  {
   "cell_type": "markdown",
   "metadata": {},
   "source": [
    "Key tasks & decisions by Thursday:\n",
    "- [X] Missing values (drop or impute?) \n",
    "- [ ] Address outliers \n",
    "- [X] Data normalization (standard scaler, minmax?)\n",
    "- [ ] Feature reduction/selection \n",
    "- [ ] Merge target column \n",
    "- [ ] Prepare PPT \n",
    "\n",
    "Tasks\n",
    "- Simone, Seba, Amine: Coding (Julia to review)\n",
    "- Julia: presentation (Simone, Seba, Amine to review) \n",
    "\n",
    "Meeting - either evening or class breaks from Tuesday"
   ]
  },
  {
   "cell_type": "code",
   "execution_count": 1,
   "metadata": {},
   "outputs": [],
   "source": [
    "import pandas as pd\n",
    "import  numpy as np\n",
    "import seaborn as sns\n",
    "import matplotlib.pyplot as plt\n",
    "from sklearn.decomposition import PCA\n",
    "from sklearn.preprocessing import StandardScaler\n",
    "from sklearn.impute import SimpleImputer"
   ]
  },
  {
   "cell_type": "markdown",
   "metadata": {},
   "source": [
    "Loading the data"
   ]
  },
  {
   "cell_type": "code",
   "execution_count": 2,
   "metadata": {},
   "outputs": [],
   "source": [
    "url_defects = 'https://dl.dropboxusercontent.com/scl/fi/j3xred1cqmicuxui4kj6m/RC_DEFECTS_clean.csv?rlkey=gumwpqnsfvdyjdx5doi4i7zxb&dl=1'\n",
    "url_production = 'https://dl.dropboxusercontent.com/scl/fi/baekmodofe2sn64qhrcur/RC_PRODUCTION_clean.csv?rlkey=uw7r9vgblez57cbnwsf2c3vmd&dl=1'\n",
    "df_def = pd.read_csv(url_defects)\n",
    "df_prod = pd.read_csv(url_production)"
   ]
  },
  {
   "cell_type": "markdown",
   "metadata": {},
   "source": [
    "## 1. Exploring the data"
   ]
  },
  {
   "cell_type": "code",
   "execution_count": 3,
   "metadata": {},
   "outputs": [
    {
     "name": "stdout",
     "output_type": "stream",
     "text": [
      "(617, 10)\n"
     ]
    },
    {
     "data": {
      "text/html": [
       "<div>\n",
       "<style scoped>\n",
       "    .dataframe tbody tr th:only-of-type {\n",
       "        vertical-align: middle;\n",
       "    }\n",
       "\n",
       "    .dataframe tbody tr th {\n",
       "        vertical-align: top;\n",
       "    }\n",
       "\n",
       "    .dataframe thead th {\n",
       "        text-align: right;\n",
       "    }\n",
       "</style>\n",
       "<table border=\"1\" class=\"dataframe\">\n",
       "  <thead>\n",
       "    <tr style=\"text-align: right;\">\n",
       "      <th></th>\n",
       "      <th>COIL</th>\n",
       "      <th>MT_FROM</th>\n",
       "      <th>MT_TO</th>\n",
       "      <th>DATE</th>\n",
       "      <th>DIF_TIPO_1</th>\n",
       "      <th>DIF_TIPO_2</th>\n",
       "      <th>DIF_TIPO_3</th>\n",
       "      <th>DIF_TIPO_4</th>\n",
       "      <th>DIF_TIPO_5</th>\n",
       "      <th>DIF_TIPO_6</th>\n",
       "    </tr>\n",
       "  </thead>\n",
       "  <tbody>\n",
       "    <tr>\n",
       "      <th>0</th>\n",
       "      <td>389523</td>\n",
       "      <td>0.0</td>\n",
       "      <td>599.0</td>\n",
       "      <td>2019-03-01</td>\n",
       "      <td>0</td>\n",
       "      <td>0</td>\n",
       "      <td>1</td>\n",
       "      <td>0</td>\n",
       "      <td>0</td>\n",
       "      <td>0</td>\n",
       "    </tr>\n",
       "    <tr>\n",
       "      <th>1</th>\n",
       "      <td>389523</td>\n",
       "      <td>600.0</td>\n",
       "      <td>1457.0</td>\n",
       "      <td>2019-03-01</td>\n",
       "      <td>0</td>\n",
       "      <td>1</td>\n",
       "      <td>1</td>\n",
       "      <td>0</td>\n",
       "      <td>0</td>\n",
       "      <td>0</td>\n",
       "    </tr>\n",
       "    <tr>\n",
       "      <th>2</th>\n",
       "      <td>389528</td>\n",
       "      <td>0.0</td>\n",
       "      <td>1399.0</td>\n",
       "      <td>2019-03-01</td>\n",
       "      <td>0</td>\n",
       "      <td>0</td>\n",
       "      <td>1</td>\n",
       "      <td>0</td>\n",
       "      <td>0</td>\n",
       "      <td>0</td>\n",
       "    </tr>\n",
       "    <tr>\n",
       "      <th>3</th>\n",
       "      <td>389528</td>\n",
       "      <td>1400.0</td>\n",
       "      <td>1539.0</td>\n",
       "      <td>2019-03-01</td>\n",
       "      <td>0</td>\n",
       "      <td>0</td>\n",
       "      <td>1</td>\n",
       "      <td>0</td>\n",
       "      <td>1</td>\n",
       "      <td>0</td>\n",
       "    </tr>\n",
       "    <tr>\n",
       "      <th>4</th>\n",
       "      <td>389712</td>\n",
       "      <td>0.0</td>\n",
       "      <td>1374.0</td>\n",
       "      <td>2019-03-01</td>\n",
       "      <td>0</td>\n",
       "      <td>0</td>\n",
       "      <td>1</td>\n",
       "      <td>0</td>\n",
       "      <td>0</td>\n",
       "      <td>0</td>\n",
       "    </tr>\n",
       "  </tbody>\n",
       "</table>\n",
       "</div>"
      ],
      "text/plain": [
       "     COIL  MT_FROM   MT_TO        DATE  DIF_TIPO_1  DIF_TIPO_2  DIF_TIPO_3  \\\n",
       "0  389523      0.0   599.0  2019-03-01           0           0           1   \n",
       "1  389523    600.0  1457.0  2019-03-01           0           1           1   \n",
       "2  389528      0.0  1399.0  2019-03-01           0           0           1   \n",
       "3  389528   1400.0  1539.0  2019-03-01           0           0           1   \n",
       "4  389712      0.0  1374.0  2019-03-01           0           0           1   \n",
       "\n",
       "   DIF_TIPO_4  DIF_TIPO_5  DIF_TIPO_6  \n",
       "0           0           0           0  \n",
       "1           0           0           0  \n",
       "2           0           0           0  \n",
       "3           0           1           0  \n",
       "4           0           0           0  "
      ]
     },
     "execution_count": 3,
     "metadata": {},
     "output_type": "execute_result"
    }
   ],
   "source": [
    "print(df_def.shape)\n",
    "df_def.head()"
   ]
  },
  {
   "cell_type": "code",
   "execution_count": 4,
   "metadata": {},
   "outputs": [
    {
     "name": "stdout",
     "output_type": "stream",
     "text": [
      "(299384, 110)\n"
     ]
    },
    {
     "data": {
      "text/html": [
       "<div>\n",
       "<style scoped>\n",
       "    .dataframe tbody tr th:only-of-type {\n",
       "        vertical-align: middle;\n",
       "    }\n",
       "\n",
       "    .dataframe tbody tr th {\n",
       "        vertical-align: top;\n",
       "    }\n",
       "\n",
       "    .dataframe thead th {\n",
       "        text-align: right;\n",
       "    }\n",
       "</style>\n",
       "<table border=\"1\" class=\"dataframe\">\n",
       "  <thead>\n",
       "    <tr style=\"text-align: right;\">\n",
       "      <th></th>\n",
       "      <th>COIL</th>\n",
       "      <th>DATE</th>\n",
       "      <th>MT</th>\n",
       "      <th>TIME_START_PROCESS</th>\n",
       "      <th>SPEED_PROCESS</th>\n",
       "      <th>TEMP_Z1</th>\n",
       "      <th>TEMP_Z2</th>\n",
       "      <th>TEMP_Z3</th>\n",
       "      <th>TEMP_Z4</th>\n",
       "      <th>TEMP_Z5</th>\n",
       "      <th>...</th>\n",
       "      <th>SPZ2_R4</th>\n",
       "      <th>SPZ1_R1_ASS</th>\n",
       "      <th>SPZ1_R2_ASS</th>\n",
       "      <th>TIRO_DECAP</th>\n",
       "      <th>SPEED_FILL</th>\n",
       "      <th>FILL_FORZA</th>\n",
       "      <th>FILL_TIRO</th>\n",
       "      <th>FILL_ALL</th>\n",
       "      <th>FILL_BENDING_POS</th>\n",
       "      <th>FILL_BENDING_NEG</th>\n",
       "    </tr>\n",
       "  </thead>\n",
       "  <tbody>\n",
       "    <tr>\n",
       "      <th>0</th>\n",
       "      <td>240627</td>\n",
       "      <td>2019-03-15</td>\n",
       "      <td>0.0</td>\n",
       "      <td>14:25:23.060</td>\n",
       "      <td>16.934625</td>\n",
       "      <td>671.967562</td>\n",
       "      <td>679.751438</td>\n",
       "      <td>688.119187</td>\n",
       "      <td>716.717250</td>\n",
       "      <td>734.616563</td>\n",
       "      <td>...</td>\n",
       "      <td>NaN</td>\n",
       "      <td>NaN</td>\n",
       "      <td>NaN</td>\n",
       "      <td>NaN</td>\n",
       "      <td>NaN</td>\n",
       "      <td>NaN</td>\n",
       "      <td>NaN</td>\n",
       "      <td>NaN</td>\n",
       "      <td>NaN</td>\n",
       "      <td>NaN</td>\n",
       "    </tr>\n",
       "    <tr>\n",
       "      <th>1</th>\n",
       "      <td>240627</td>\n",
       "      <td>2019-03-15</td>\n",
       "      <td>7.0</td>\n",
       "      <td>14:25:53.060</td>\n",
       "      <td>16.773638</td>\n",
       "      <td>668.635875</td>\n",
       "      <td>676.207125</td>\n",
       "      <td>681.034500</td>\n",
       "      <td>710.093250</td>\n",
       "      <td>729.040500</td>\n",
       "      <td>...</td>\n",
       "      <td>NaN</td>\n",
       "      <td>NaN</td>\n",
       "      <td>NaN</td>\n",
       "      <td>NaN</td>\n",
       "      <td>NaN</td>\n",
       "      <td>NaN</td>\n",
       "      <td>NaN</td>\n",
       "      <td>NaN</td>\n",
       "      <td>NaN</td>\n",
       "      <td>NaN</td>\n",
       "    </tr>\n",
       "    <tr>\n",
       "      <th>2</th>\n",
       "      <td>240627</td>\n",
       "      <td>2019-03-15</td>\n",
       "      <td>14.0</td>\n",
       "      <td>14:26:23.060</td>\n",
       "      <td>11.142165</td>\n",
       "      <td>669.105375</td>\n",
       "      <td>677.042625</td>\n",
       "      <td>678.493125</td>\n",
       "      <td>707.967750</td>\n",
       "      <td>727.783500</td>\n",
       "      <td>...</td>\n",
       "      <td>NaN</td>\n",
       "      <td>NaN</td>\n",
       "      <td>NaN</td>\n",
       "      <td>NaN</td>\n",
       "      <td>NaN</td>\n",
       "      <td>NaN</td>\n",
       "      <td>NaN</td>\n",
       "      <td>NaN</td>\n",
       "      <td>NaN</td>\n",
       "      <td>NaN</td>\n",
       "    </tr>\n",
       "    <tr>\n",
       "      <th>3</th>\n",
       "      <td>240627</td>\n",
       "      <td>2019-03-15</td>\n",
       "      <td>21.0</td>\n",
       "      <td>14:27:08.060</td>\n",
       "      <td>11.148851</td>\n",
       "      <td>671.631750</td>\n",
       "      <td>681.066000</td>\n",
       "      <td>679.704750</td>\n",
       "      <td>707.241375</td>\n",
       "      <td>727.886250</td>\n",
       "      <td>...</td>\n",
       "      <td>NaN</td>\n",
       "      <td>NaN</td>\n",
       "      <td>NaN</td>\n",
       "      <td>NaN</td>\n",
       "      <td>NaN</td>\n",
       "      <td>NaN</td>\n",
       "      <td>NaN</td>\n",
       "      <td>NaN</td>\n",
       "      <td>NaN</td>\n",
       "      <td>NaN</td>\n",
       "    </tr>\n",
       "    <tr>\n",
       "      <th>4</th>\n",
       "      <td>240627</td>\n",
       "      <td>2019-03-15</td>\n",
       "      <td>28.0</td>\n",
       "      <td>14:27:38.060</td>\n",
       "      <td>15.657188</td>\n",
       "      <td>675.052875</td>\n",
       "      <td>686.972813</td>\n",
       "      <td>683.336250</td>\n",
       "      <td>710.432437</td>\n",
       "      <td>730.182375</td>\n",
       "      <td>...</td>\n",
       "      <td>530.110125</td>\n",
       "      <td>14.625</td>\n",
       "      <td>14.625</td>\n",
       "      <td>1956.40875</td>\n",
       "      <td>NaN</td>\n",
       "      <td>NaN</td>\n",
       "      <td>NaN</td>\n",
       "      <td>NaN</td>\n",
       "      <td>NaN</td>\n",
       "      <td>NaN</td>\n",
       "    </tr>\n",
       "  </tbody>\n",
       "</table>\n",
       "<p>5 rows × 110 columns</p>\n",
       "</div>"
      ],
      "text/plain": [
       "     COIL        DATE    MT TIME_START_PROCESS  SPEED_PROCESS     TEMP_Z1  \\\n",
       "0  240627  2019-03-15   0.0       14:25:23.060      16.934625  671.967562   \n",
       "1  240627  2019-03-15   7.0       14:25:53.060      16.773638  668.635875   \n",
       "2  240627  2019-03-15  14.0       14:26:23.060      11.142165  669.105375   \n",
       "3  240627  2019-03-15  21.0       14:27:08.060      11.148851  671.631750   \n",
       "4  240627  2019-03-15  28.0       14:27:38.060      15.657188  675.052875   \n",
       "\n",
       "      TEMP_Z2     TEMP_Z3     TEMP_Z4     TEMP_Z5  ...     SPZ2_R4  \\\n",
       "0  679.751438  688.119187  716.717250  734.616563  ...         NaN   \n",
       "1  676.207125  681.034500  710.093250  729.040500  ...         NaN   \n",
       "2  677.042625  678.493125  707.967750  727.783500  ...         NaN   \n",
       "3  681.066000  679.704750  707.241375  727.886250  ...         NaN   \n",
       "4  686.972813  683.336250  710.432437  730.182375  ...  530.110125   \n",
       "\n",
       "   SPZ1_R1_ASS  SPZ1_R2_ASS  TIRO_DECAP  SPEED_FILL  FILL_FORZA  FILL_TIRO  \\\n",
       "0          NaN          NaN         NaN         NaN         NaN        NaN   \n",
       "1          NaN          NaN         NaN         NaN         NaN        NaN   \n",
       "2          NaN          NaN         NaN         NaN         NaN        NaN   \n",
       "3          NaN          NaN         NaN         NaN         NaN        NaN   \n",
       "4       14.625       14.625  1956.40875         NaN         NaN        NaN   \n",
       "\n",
       "   FILL_ALL  FILL_BENDING_POS  FILL_BENDING_NEG  \n",
       "0       NaN               NaN               NaN  \n",
       "1       NaN               NaN               NaN  \n",
       "2       NaN               NaN               NaN  \n",
       "3       NaN               NaN               NaN  \n",
       "4       NaN               NaN               NaN  \n",
       "\n",
       "[5 rows x 110 columns]"
      ]
     },
     "execution_count": 4,
     "metadata": {},
     "output_type": "execute_result"
    }
   ],
   "source": [
    "print(df_prod.shape)\n",
    "df_prod.head()"
   ]
  },
  {
   "cell_type": "code",
   "execution_count": 5,
   "metadata": {},
   "outputs": [
    {
     "name": "stdout",
     "output_type": "stream",
     "text": [
      "['COIL', 'DATE', 'MT', 'TIME_START_PROCESS', 'SPEED_PROCESS', 'TEMP_Z1', 'TEMP_Z2', 'TEMP_Z3', 'TEMP_Z4', 'TEMP_Z5', 'TEMP_Z6', 'PYRO_1_PRECHMBR', 'PYRO_2_FRST_3_ZONE', 'PYRO_3_LST_3_ZONE', 'LS_OVEN', 'LASER_FRN_1', 'LASER_FRN_2', 'LASER_FRN_3', 'LASER_FRN_4', 'LASER_FRN_5', 'LASER_FRN_6', 'LASER_FRN_7', 'LASER_FRN_8', 'LASER_FRN_9', 'AIR_CH4_1', 'AIR_CH4_2', 'AIR_CH4_3', 'AIR_CH4_4', 'AIR_CH4_5', 'AIR_CH4_6', 'AIR_Z1_1', 'AIR_Z1_2', 'AIR_Z2_1', 'AIR_Z2_2', 'AIR_Z3_1', 'AIR_Z3_2', 'AIR_Z4_1', 'AIR_Z4_2', 'AIR_Z5_1', 'AIR_Z5_2', 'AIR_Z6_1', 'AIR_Z6_2', 'GAS_Z1_1', 'GAS_Z1_2', 'GAS_Z2_1', 'GAS_Z2_2', 'GAS_Z3_1', 'GAS_Z3_2', 'GAS_Z4_1', 'GAS_Z4_2', 'GAS_Z5_1', 'GAS_Z5_2', 'GAS_Z6_1', 'GAS_Z6_2', 'FRN_PHF_PRESSURE', 'FRN_FURNACE_PRESSURE', 'TIRO_FORNO', 'PRES_ZONA1_MEASURED', 'PRES_ZONA1_SET', 'PRES_ZONA2_MEASURED', 'PRES_ZONA2_SET', 'PRES_ZONA3_MEASURED', 'PRES_ZONA3_SET', 'EXT_1', 'EXT_2', 'VENT_1', 'VENT_2', 'VENT_3', 'VENT_4', 'VENT_5', 'COOL_1A', 'COOL_1B', 'COOL_2A', 'COOL_2B', 'COOL_3', 'LS_COOLING', 'LASER_RAFF_1', 'LASER_RAFF_2', 'LASER_RAFF_3', 'LASER_RAFF_4', 'LASER_RAFF_5', 'LASER_RAFF_6', 'LASER_RAFF_7', 'LASER_RAFF_8', 'LASER_RAFF_9', 'TOUT_RAFF_H2O', 'N_RAMPE_H2O', 'ELET_TEMP', 'ELET_H2SO4', 'ELET_FE2', 'ELET_CORRENTE', 'DEC_TEMP', 'DEC_H2SO4', 'DEC_HF', 'DEC_FE2', 'DEC_FE3', 'DEC_FETOT', 'SPZ2_R1', 'SPZ2_R2', 'SPZ2_R3', 'SPZ2_R4', 'SPZ1_R1_ASS', 'SPZ1_R2_ASS', 'TIRO_DECAP', 'SPEED_FILL', 'FILL_FORZA', 'FILL_TIRO', 'FILL_ALL', 'FILL_BENDING_POS', 'FILL_BENDING_NEG']\n"
     ]
    }
   ],
   "source": [
    "# Columns of production dataframe\n",
    "prod_columns = list(df_prod.columns)\n",
    "print(prod_columns) "
   ]
  },
  {
   "cell_type": "code",
   "execution_count": 6,
   "metadata": {},
   "outputs": [
    {
     "data": {
      "text/html": [
       "<div>\n",
       "<style scoped>\n",
       "    .dataframe tbody tr th:only-of-type {\n",
       "        vertical-align: middle;\n",
       "    }\n",
       "\n",
       "    .dataframe tbody tr th {\n",
       "        vertical-align: top;\n",
       "    }\n",
       "\n",
       "    .dataframe thead th {\n",
       "        text-align: right;\n",
       "    }\n",
       "</style>\n",
       "<table border=\"1\" class=\"dataframe\">\n",
       "  <thead>\n",
       "    <tr style=\"text-align: right;\">\n",
       "      <th></th>\n",
       "      <th>COIL</th>\n",
       "      <th>MT</th>\n",
       "      <th>SPEED_PROCESS</th>\n",
       "      <th>TEMP_Z1</th>\n",
       "      <th>TEMP_Z2</th>\n",
       "      <th>TEMP_Z3</th>\n",
       "      <th>TEMP_Z4</th>\n",
       "      <th>TEMP_Z5</th>\n",
       "      <th>TEMP_Z6</th>\n",
       "      <th>PYRO_1_PRECHMBR</th>\n",
       "      <th>...</th>\n",
       "      <th>SPZ2_R4</th>\n",
       "      <th>SPZ1_R1_ASS</th>\n",
       "      <th>SPZ1_R2_ASS</th>\n",
       "      <th>TIRO_DECAP</th>\n",
       "      <th>SPEED_FILL</th>\n",
       "      <th>FILL_FORZA</th>\n",
       "      <th>FILL_TIRO</th>\n",
       "      <th>FILL_ALL</th>\n",
       "      <th>FILL_BENDING_POS</th>\n",
       "      <th>FILL_BENDING_NEG</th>\n",
       "    </tr>\n",
       "  </thead>\n",
       "  <tbody>\n",
       "    <tr>\n",
       "      <th>count</th>\n",
       "      <td>2.993840e+05</td>\n",
       "      <td>299384.000000</td>\n",
       "      <td>299384.000000</td>\n",
       "      <td>299384.000000</td>\n",
       "      <td>299384.000000</td>\n",
       "      <td>299384.000000</td>\n",
       "      <td>299384.000000</td>\n",
       "      <td>299384.000000</td>\n",
       "      <td>299384.000000</td>\n",
       "      <td>299384.000000</td>\n",
       "      <td>...</td>\n",
       "      <td>283737.000000</td>\n",
       "      <td>283737.000000</td>\n",
       "      <td>283737.000000</td>\n",
       "      <td>283737.000000</td>\n",
       "      <td>270904.000000</td>\n",
       "      <td>270904.000000</td>\n",
       "      <td>270904.000000</td>\n",
       "      <td>270904.000000</td>\n",
       "      <td>270904.000000</td>\n",
       "      <td>270904.000000</td>\n",
       "    </tr>\n",
       "    <tr>\n",
       "      <th>mean</th>\n",
       "      <td>4.210808e+05</td>\n",
       "      <td>1013.750454</td>\n",
       "      <td>36.030174</td>\n",
       "      <td>1236.378668</td>\n",
       "      <td>1257.600788</td>\n",
       "      <td>1266.031784</td>\n",
       "      <td>1279.476562</td>\n",
       "      <td>1293.618170</td>\n",
       "      <td>1281.422092</td>\n",
       "      <td>802.675699</td>\n",
       "      <td>...</td>\n",
       "      <td>526.644078</td>\n",
       "      <td>18.292673</td>\n",
       "      <td>18.344328</td>\n",
       "      <td>3186.598116</td>\n",
       "      <td>39.900765</td>\n",
       "      <td>689.840763</td>\n",
       "      <td>3610.710095</td>\n",
       "      <td>0.532809</td>\n",
       "      <td>0.164599</td>\n",
       "      <td>0.169975</td>\n",
       "    </tr>\n",
       "    <tr>\n",
       "      <th>std</th>\n",
       "      <td>2.484114e+05</td>\n",
       "      <td>874.832131</td>\n",
       "      <td>11.243607</td>\n",
       "      <td>87.092407</td>\n",
       "      <td>87.833443</td>\n",
       "      <td>87.717798</td>\n",
       "      <td>85.313536</td>\n",
       "      <td>88.576110</td>\n",
       "      <td>84.233837</td>\n",
       "      <td>38.910802</td>\n",
       "      <td>...</td>\n",
       "      <td>34.108621</td>\n",
       "      <td>2.699142</td>\n",
       "      <td>2.794101</td>\n",
       "      <td>1306.570596</td>\n",
       "      <td>17.267686</td>\n",
       "      <td>279.623230</td>\n",
       "      <td>982.734142</td>\n",
       "      <td>0.232301</td>\n",
       "      <td>0.040681</td>\n",
       "      <td>0.038671</td>\n",
       "    </tr>\n",
       "    <tr>\n",
       "      <th>min</th>\n",
       "      <td>2.406270e+05</td>\n",
       "      <td>0.000000</td>\n",
       "      <td>-2.304028</td>\n",
       "      <td>79.722742</td>\n",
       "      <td>74.225453</td>\n",
       "      <td>74.198610</td>\n",
       "      <td>77.426415</td>\n",
       "      <td>78.567278</td>\n",
       "      <td>79.205925</td>\n",
       "      <td>549.382500</td>\n",
       "      <td>...</td>\n",
       "      <td>-3.665034</td>\n",
       "      <td>0.000000</td>\n",
       "      <td>0.000000</td>\n",
       "      <td>856.680000</td>\n",
       "      <td>-1.809788</td>\n",
       "      <td>-496.040375</td>\n",
       "      <td>-48.285825</td>\n",
       "      <td>0.000000</td>\n",
       "      <td>-0.011853</td>\n",
       "      <td>-0.016642</td>\n",
       "    </tr>\n",
       "    <tr>\n",
       "      <th>25%</th>\n",
       "      <td>3.947170e+05</td>\n",
       "      <td>378.000000</td>\n",
       "      <td>28.063851</td>\n",
       "      <td>1236.605625</td>\n",
       "      <td>1259.813250</td>\n",
       "      <td>1271.021625</td>\n",
       "      <td>1260.090000</td>\n",
       "      <td>1261.445625</td>\n",
       "      <td>1271.056781</td>\n",
       "      <td>795.292844</td>\n",
       "      <td>...</td>\n",
       "      <td>529.919898</td>\n",
       "      <td>16.875000</td>\n",
       "      <td>16.875000</td>\n",
       "      <td>2333.722500</td>\n",
       "      <td>28.351013</td>\n",
       "      <td>496.627351</td>\n",
       "      <td>2946.052969</td>\n",
       "      <td>0.470936</td>\n",
       "      <td>0.134999</td>\n",
       "      <td>0.135002</td>\n",
       "    </tr>\n",
       "    <tr>\n",
       "      <th>50%</th>\n",
       "      <td>4.037420e+05</td>\n",
       "      <td>812.000000</td>\n",
       "      <td>33.685521</td>\n",
       "      <td>1261.473750</td>\n",
       "      <td>1272.760476</td>\n",
       "      <td>1278.000540</td>\n",
       "      <td>1286.188125</td>\n",
       "      <td>1317.151607</td>\n",
       "      <td>1293.406875</td>\n",
       "      <td>811.525114</td>\n",
       "      <td>...</td>\n",
       "      <td>530.125500</td>\n",
       "      <td>18.000000</td>\n",
       "      <td>18.000000</td>\n",
       "      <td>2901.962812</td>\n",
       "      <td>37.656312</td>\n",
       "      <td>662.102578</td>\n",
       "      <td>3790.602141</td>\n",
       "      <td>0.559548</td>\n",
       "      <td>0.135037</td>\n",
       "      <td>0.161994</td>\n",
       "    </tr>\n",
       "    <tr>\n",
       "      <th>75%</th>\n",
       "      <td>4.146100e+05</td>\n",
       "      <td>1400.000000</td>\n",
       "      <td>44.908965</td>\n",
       "      <td>1270.924798</td>\n",
       "      <td>1293.924375</td>\n",
       "      <td>1303.419825</td>\n",
       "      <td>1316.148750</td>\n",
       "      <td>1333.189687</td>\n",
       "      <td>1313.704765</td>\n",
       "      <td>823.938673</td>\n",
       "      <td>...</td>\n",
       "      <td>530.315100</td>\n",
       "      <td>20.248013</td>\n",
       "      <td>20.250000</td>\n",
       "      <td>4021.551000</td>\n",
       "      <td>49.828513</td>\n",
       "      <td>837.825196</td>\n",
       "      <td>4217.453156</td>\n",
       "      <td>0.572413</td>\n",
       "      <td>0.188993</td>\n",
       "      <td>0.189022</td>\n",
       "    </tr>\n",
       "    <tr>\n",
       "      <th>max</th>\n",
       "      <td>6.838679e+06</td>\n",
       "      <td>7273.000000</td>\n",
       "      <td>67.408785</td>\n",
       "      <td>1322.268750</td>\n",
       "      <td>1344.982500</td>\n",
       "      <td>1357.508250</td>\n",
       "      <td>1348.341750</td>\n",
       "      <td>1367.288438</td>\n",
       "      <td>1362.536250</td>\n",
       "      <td>931.753875</td>\n",
       "      <td>...</td>\n",
       "      <td>541.123650</td>\n",
       "      <td>31.405500</td>\n",
       "      <td>32.747692</td>\n",
       "      <td>9073.901250</td>\n",
       "      <td>90.010696</td>\n",
       "      <td>2933.876250</td>\n",
       "      <td>6257.584687</td>\n",
       "      <td>7.342893</td>\n",
       "      <td>0.679614</td>\n",
       "      <td>0.324028</td>\n",
       "    </tr>\n",
       "  </tbody>\n",
       "</table>\n",
       "<p>8 rows × 108 columns</p>\n",
       "</div>"
      ],
      "text/plain": [
       "               COIL             MT  SPEED_PROCESS        TEMP_Z1  \\\n",
       "count  2.993840e+05  299384.000000  299384.000000  299384.000000   \n",
       "mean   4.210808e+05    1013.750454      36.030174    1236.378668   \n",
       "std    2.484114e+05     874.832131      11.243607      87.092407   \n",
       "min    2.406270e+05       0.000000      -2.304028      79.722742   \n",
       "25%    3.947170e+05     378.000000      28.063851    1236.605625   \n",
       "50%    4.037420e+05     812.000000      33.685521    1261.473750   \n",
       "75%    4.146100e+05    1400.000000      44.908965    1270.924798   \n",
       "max    6.838679e+06    7273.000000      67.408785    1322.268750   \n",
       "\n",
       "             TEMP_Z2        TEMP_Z3        TEMP_Z4        TEMP_Z5  \\\n",
       "count  299384.000000  299384.000000  299384.000000  299384.000000   \n",
       "mean     1257.600788    1266.031784    1279.476562    1293.618170   \n",
       "std        87.833443      87.717798      85.313536      88.576110   \n",
       "min        74.225453      74.198610      77.426415      78.567278   \n",
       "25%      1259.813250    1271.021625    1260.090000    1261.445625   \n",
       "50%      1272.760476    1278.000540    1286.188125    1317.151607   \n",
       "75%      1293.924375    1303.419825    1316.148750    1333.189687   \n",
       "max      1344.982500    1357.508250    1348.341750    1367.288438   \n",
       "\n",
       "             TEMP_Z6  PYRO_1_PRECHMBR  ...        SPZ2_R4    SPZ1_R1_ASS  \\\n",
       "count  299384.000000    299384.000000  ...  283737.000000  283737.000000   \n",
       "mean     1281.422092       802.675699  ...     526.644078      18.292673   \n",
       "std        84.233837        38.910802  ...      34.108621       2.699142   \n",
       "min        79.205925       549.382500  ...      -3.665034       0.000000   \n",
       "25%      1271.056781       795.292844  ...     529.919898      16.875000   \n",
       "50%      1293.406875       811.525114  ...     530.125500      18.000000   \n",
       "75%      1313.704765       823.938673  ...     530.315100      20.248013   \n",
       "max      1362.536250       931.753875  ...     541.123650      31.405500   \n",
       "\n",
       "         SPZ1_R2_ASS     TIRO_DECAP     SPEED_FILL     FILL_FORZA  \\\n",
       "count  283737.000000  283737.000000  270904.000000  270904.000000   \n",
       "mean       18.344328    3186.598116      39.900765     689.840763   \n",
       "std         2.794101    1306.570596      17.267686     279.623230   \n",
       "min         0.000000     856.680000      -1.809788    -496.040375   \n",
       "25%        16.875000    2333.722500      28.351013     496.627351   \n",
       "50%        18.000000    2901.962812      37.656312     662.102578   \n",
       "75%        20.250000    4021.551000      49.828513     837.825196   \n",
       "max        32.747692    9073.901250      90.010696    2933.876250   \n",
       "\n",
       "           FILL_TIRO       FILL_ALL  FILL_BENDING_POS  FILL_BENDING_NEG  \n",
       "count  270904.000000  270904.000000     270904.000000     270904.000000  \n",
       "mean     3610.710095       0.532809          0.164599          0.169975  \n",
       "std       982.734142       0.232301          0.040681          0.038671  \n",
       "min       -48.285825       0.000000         -0.011853         -0.016642  \n",
       "25%      2946.052969       0.470936          0.134999          0.135002  \n",
       "50%      3790.602141       0.559548          0.135037          0.161994  \n",
       "75%      4217.453156       0.572413          0.188993          0.189022  \n",
       "max      6257.584687       7.342893          0.679614          0.324028  \n",
       "\n",
       "[8 rows x 108 columns]"
      ]
     },
     "execution_count": 6,
     "metadata": {},
     "output_type": "execute_result"
    }
   ],
   "source": [
    "df_prod.describe()"
   ]
  },
  {
   "cell_type": "markdown",
   "metadata": {},
   "source": [
    "#### Adjustment of the 'MT' column\n",
    "Since there are inconsistencies along the 'MT' column, i.e. there are coils with an inconsistent sequence of meters, we addressed this problem by creating a new variable 'MT_ADJUSTED' that ensures a correct sequence of meters (one observation every 7 meters)"
   ]
  },
  {
   "cell_type": "code",
   "execution_count": 7,
   "metadata": {},
   "outputs": [],
   "source": [
    "df_prod.sort_values(['COIL', 'DATE', 'TIME_START_PROCESS'], inplace=True)\n",
    "df_prod['MT_ADJUSTED'] = df_prod.groupby(['COIL'])['MT'] \\\n",
    "                          .transform(lambda x: np.arange(0., len(x) * 7, 7.))\n",
    "df_prod.drop('MT', axis=1, inplace=True)"
   ]
  },
  {
   "cell_type": "markdown",
   "metadata": {},
   "source": [
    "## 2. Merging procedure"
   ]
  },
  {
   "cell_type": "markdown",
   "metadata": {},
   "source": [
    "Attaching production information only over coils with defects"
   ]
  },
  {
   "cell_type": "code",
   "execution_count": 8,
   "metadata": {},
   "outputs": [
    {
     "name": "stdout",
     "output_type": "stream",
     "text": [
      "(131179, 118)\n",
      "(106075, 116)\n"
     ]
    }
   ],
   "source": [
    "merged_defects = df_prod.merge(df_def, on=['COIL', 'DATE'], how='inner') # By doing so you obtain only the \n",
    "                                                                         # observations with defects\n",
    "print(merged_defects.shape)\n",
    "\n",
    "merged_defects = merged_defects[(merged_defects['MT_ADJUSTED'] >= merged_defects['MT_FROM']) & \n",
    "                      (merged_defects['MT_ADJUSTED'] < merged_defects['MT_TO'])] # This filtering is needed as you \n",
    "                                                                                 # want to specify that \n",
    "                                                                                 # 'MT_ADJUSTED' must be be found \n",
    "                                                                                 # inside the defect range \n",
    "merged_defects.drop_duplicates(['COIL', 'DATE', 'MT_ADJUSTED'], inplace=True)\n",
    "merged_defects.drop(['MT_FROM', 'MT_TO'], axis=1, inplace=True)\n",
    "print(merged_defects.shape)"
   ]
  },
  {
   "cell_type": "code",
   "execution_count": 9,
   "metadata": {},
   "outputs": [
    {
     "data": {
      "text/html": [
       "<div>\n",
       "<style scoped>\n",
       "    .dataframe tbody tr th:only-of-type {\n",
       "        vertical-align: middle;\n",
       "    }\n",
       "\n",
       "    .dataframe tbody tr th {\n",
       "        vertical-align: top;\n",
       "    }\n",
       "\n",
       "    .dataframe thead th {\n",
       "        text-align: right;\n",
       "    }\n",
       "</style>\n",
       "<table border=\"1\" class=\"dataframe\">\n",
       "  <thead>\n",
       "    <tr style=\"text-align: right;\">\n",
       "      <th></th>\n",
       "      <th>COIL</th>\n",
       "      <th>DATE</th>\n",
       "      <th>TIME_START_PROCESS</th>\n",
       "      <th>SPEED_PROCESS</th>\n",
       "      <th>TEMP_Z1</th>\n",
       "      <th>TEMP_Z2</th>\n",
       "      <th>TEMP_Z3</th>\n",
       "      <th>TEMP_Z4</th>\n",
       "      <th>TEMP_Z5</th>\n",
       "      <th>TEMP_Z6</th>\n",
       "      <th>...</th>\n",
       "      <th>FILL_ALL</th>\n",
       "      <th>FILL_BENDING_POS</th>\n",
       "      <th>FILL_BENDING_NEG</th>\n",
       "      <th>MT_ADJUSTED</th>\n",
       "      <th>DIF_TIPO_1</th>\n",
       "      <th>DIF_TIPO_2</th>\n",
       "      <th>DIF_TIPO_3</th>\n",
       "      <th>DIF_TIPO_4</th>\n",
       "      <th>DIF_TIPO_5</th>\n",
       "      <th>DIF_TIPO_6</th>\n",
       "    </tr>\n",
       "  </thead>\n",
       "  <tbody>\n",
       "    <tr>\n",
       "      <th>0</th>\n",
       "      <td>240627</td>\n",
       "      <td>2019-03-15</td>\n",
       "      <td>14:25:23.060</td>\n",
       "      <td>16.934625</td>\n",
       "      <td>671.967562</td>\n",
       "      <td>679.751438</td>\n",
       "      <td>688.119187</td>\n",
       "      <td>716.717250</td>\n",
       "      <td>734.616563</td>\n",
       "      <td>734.603062</td>\n",
       "      <td>...</td>\n",
       "      <td>NaN</td>\n",
       "      <td>NaN</td>\n",
       "      <td>NaN</td>\n",
       "      <td>0.0</td>\n",
       "      <td>NaN</td>\n",
       "      <td>NaN</td>\n",
       "      <td>NaN</td>\n",
       "      <td>NaN</td>\n",
       "      <td>NaN</td>\n",
       "      <td>NaN</td>\n",
       "    </tr>\n",
       "    <tr>\n",
       "      <th>1</th>\n",
       "      <td>240627</td>\n",
       "      <td>2019-03-15</td>\n",
       "      <td>14:25:53.060</td>\n",
       "      <td>16.773638</td>\n",
       "      <td>668.635875</td>\n",
       "      <td>676.207125</td>\n",
       "      <td>681.034500</td>\n",
       "      <td>710.093250</td>\n",
       "      <td>729.040500</td>\n",
       "      <td>727.025625</td>\n",
       "      <td>...</td>\n",
       "      <td>NaN</td>\n",
       "      <td>NaN</td>\n",
       "      <td>NaN</td>\n",
       "      <td>7.0</td>\n",
       "      <td>NaN</td>\n",
       "      <td>NaN</td>\n",
       "      <td>NaN</td>\n",
       "      <td>NaN</td>\n",
       "      <td>NaN</td>\n",
       "      <td>NaN</td>\n",
       "    </tr>\n",
       "    <tr>\n",
       "      <th>2</th>\n",
       "      <td>240627</td>\n",
       "      <td>2019-03-15</td>\n",
       "      <td>14:26:23.060</td>\n",
       "      <td>11.142165</td>\n",
       "      <td>669.105375</td>\n",
       "      <td>677.042625</td>\n",
       "      <td>678.493125</td>\n",
       "      <td>707.967750</td>\n",
       "      <td>727.783500</td>\n",
       "      <td>724.035750</td>\n",
       "      <td>...</td>\n",
       "      <td>NaN</td>\n",
       "      <td>NaN</td>\n",
       "      <td>NaN</td>\n",
       "      <td>14.0</td>\n",
       "      <td>NaN</td>\n",
       "      <td>NaN</td>\n",
       "      <td>NaN</td>\n",
       "      <td>NaN</td>\n",
       "      <td>NaN</td>\n",
       "      <td>NaN</td>\n",
       "    </tr>\n",
       "    <tr>\n",
       "      <th>3</th>\n",
       "      <td>240627</td>\n",
       "      <td>2019-03-15</td>\n",
       "      <td>14:27:08.060</td>\n",
       "      <td>11.148851</td>\n",
       "      <td>671.631750</td>\n",
       "      <td>681.066000</td>\n",
       "      <td>679.704750</td>\n",
       "      <td>707.241375</td>\n",
       "      <td>727.886250</td>\n",
       "      <td>723.072375</td>\n",
       "      <td>...</td>\n",
       "      <td>NaN</td>\n",
       "      <td>NaN</td>\n",
       "      <td>NaN</td>\n",
       "      <td>21.0</td>\n",
       "      <td>NaN</td>\n",
       "      <td>NaN</td>\n",
       "      <td>NaN</td>\n",
       "      <td>NaN</td>\n",
       "      <td>NaN</td>\n",
       "      <td>NaN</td>\n",
       "    </tr>\n",
       "    <tr>\n",
       "      <th>4</th>\n",
       "      <td>240627</td>\n",
       "      <td>2019-03-15</td>\n",
       "      <td>14:27:38.060</td>\n",
       "      <td>15.657188</td>\n",
       "      <td>675.052875</td>\n",
       "      <td>686.972813</td>\n",
       "      <td>683.336250</td>\n",
       "      <td>710.432437</td>\n",
       "      <td>730.182375</td>\n",
       "      <td>724.168688</td>\n",
       "      <td>...</td>\n",
       "      <td>NaN</td>\n",
       "      <td>NaN</td>\n",
       "      <td>NaN</td>\n",
       "      <td>28.0</td>\n",
       "      <td>NaN</td>\n",
       "      <td>NaN</td>\n",
       "      <td>NaN</td>\n",
       "      <td>NaN</td>\n",
       "      <td>NaN</td>\n",
       "      <td>NaN</td>\n",
       "    </tr>\n",
       "  </tbody>\n",
       "</table>\n",
       "<p>5 rows × 116 columns</p>\n",
       "</div>"
      ],
      "text/plain": [
       "     COIL        DATE TIME_START_PROCESS  SPEED_PROCESS     TEMP_Z1  \\\n",
       "0  240627  2019-03-15       14:25:23.060      16.934625  671.967562   \n",
       "1  240627  2019-03-15       14:25:53.060      16.773638  668.635875   \n",
       "2  240627  2019-03-15       14:26:23.060      11.142165  669.105375   \n",
       "3  240627  2019-03-15       14:27:08.060      11.148851  671.631750   \n",
       "4  240627  2019-03-15       14:27:38.060      15.657188  675.052875   \n",
       "\n",
       "      TEMP_Z2     TEMP_Z3     TEMP_Z4     TEMP_Z5     TEMP_Z6  ...  FILL_ALL  \\\n",
       "0  679.751438  688.119187  716.717250  734.616563  734.603062  ...       NaN   \n",
       "1  676.207125  681.034500  710.093250  729.040500  727.025625  ...       NaN   \n",
       "2  677.042625  678.493125  707.967750  727.783500  724.035750  ...       NaN   \n",
       "3  681.066000  679.704750  707.241375  727.886250  723.072375  ...       NaN   \n",
       "4  686.972813  683.336250  710.432437  730.182375  724.168688  ...       NaN   \n",
       "\n",
       "   FILL_BENDING_POS  FILL_BENDING_NEG  MT_ADJUSTED  DIF_TIPO_1  DIF_TIPO_2  \\\n",
       "0               NaN               NaN          0.0         NaN         NaN   \n",
       "1               NaN               NaN          7.0         NaN         NaN   \n",
       "2               NaN               NaN         14.0         NaN         NaN   \n",
       "3               NaN               NaN         21.0         NaN         NaN   \n",
       "4               NaN               NaN         28.0         NaN         NaN   \n",
       "\n",
       "   DIF_TIPO_3  DIF_TIPO_4  DIF_TIPO_5  DIF_TIPO_6  \n",
       "0         NaN         NaN         NaN         NaN  \n",
       "1         NaN         NaN         NaN         NaN  \n",
       "2         NaN         NaN         NaN         NaN  \n",
       "3         NaN         NaN         NaN         NaN  \n",
       "4         NaN         NaN         NaN         NaN  \n",
       "\n",
       "[5 rows x 116 columns]"
      ]
     },
     "execution_count": 9,
     "metadata": {},
     "output_type": "execute_result"
    }
   ],
   "source": [
    "lst_col_labels = ['COIL', 'DATE', 'MT_ADJUSTED']+[i for i in merged_defects.columns if 'DIF_TIPO' in i]\n",
    "merged_defects = merged_defects[lst_col_labels]\n",
    "merged_final = df_prod.merge(merged_defects, on = ['COIL', 'DATE', 'MT_ADJUSTED'], how='left')\n",
    "merged_final.head()"
   ]
  },
  {
   "cell_type": "markdown",
   "metadata": {},
   "source": [
    "After this process, 'merged_final' contains the production data with defect information correctly applied. Each row in 'merged_final' represents production data, and if there were any defects associated with the particular meter range of a coil, this information is now included in the corresponding rows."
   ]
  },
  {
   "cell_type": "markdown",
   "metadata": {},
   "source": [
    "Downloading the merged data in a csv format (in case you want to visualize it on Excel) \\\n",
    "P.S. Do not run this if you don't want to download it!"
   ]
  },
  {
   "cell_type": "code",
   "execution_count": 13,
   "metadata": {},
   "outputs": [],
   "source": [
    "# ! pip install openpyxl\n",
    "# merged_df.to_excel('merged_data.xlsx', index=False, engine='openpyxl')"
   ]
  },
  {
   "cell_type": "markdown",
   "metadata": {},
   "source": [
    "## 3. Dealing with Missing Values"
   ]
  },
  {
   "cell_type": "markdown",
   "metadata": {},
   "source": [
    "Question: Are there missing values in the ['DIF_TIPO_1', 'DIF_TIPO_2', 'DIF_TIPO_3', 'DIF_TIPO_4', 'DIF_TIPO_5', 'DIF_TIPO_6'] columns?"
   ]
  },
  {
   "cell_type": "code",
   "execution_count": 10,
   "metadata": {},
   "outputs": [
    {
     "data": {
      "text/plain": [
       "DIF_TIPO_1    193309\n",
       "DIF_TIPO_2    193309\n",
       "DIF_TIPO_3    193309\n",
       "DIF_TIPO_4    193309\n",
       "DIF_TIPO_5    193309\n",
       "DIF_TIPO_6    193309\n",
       "dtype: int64"
      ]
     },
     "execution_count": 10,
     "metadata": {},
     "output_type": "execute_result"
    }
   ],
   "source": [
    "merged_final[['DIF_TIPO_1', 'DIF_TIPO_2', 'DIF_TIPO_3', 'DIF_TIPO_4', \n",
    "           'DIF_TIPO_5', 'DIF_TIPO_6']].isna().sum()"
   ]
  },
  {
   "cell_type": "markdown",
   "metadata": {},
   "source": [
    "Answer: Yes. Therefore, we need to convern Null values to 0s for observations that have no defects"
   ]
  },
  {
   "cell_type": "code",
   "execution_count": 11,
   "metadata": {},
   "outputs": [
    {
     "data": {
      "text/plain": [
       "DIF_TIPO_1    0\n",
       "DIF_TIPO_2    0\n",
       "DIF_TIPO_3    0\n",
       "DIF_TIPO_4    0\n",
       "DIF_TIPO_5    0\n",
       "DIF_TIPO_6    0\n",
       "dtype: int64"
      ]
     },
     "execution_count": 11,
     "metadata": {},
     "output_type": "execute_result"
    }
   ],
   "source": [
    "# List of defect columns - replace or extend this with your actual defect column names\n",
    "defect_columns = ['DIF_TIPO_1', 'DIF_TIPO_2', 'DIF_TIPO_3', 'DIF_TIPO_4', 'DIF_TIPO_5', 'DIF_TIPO_6']\n",
    "\n",
    "# Replace NaN values with 0 in defect columns\n",
    "for col in defect_columns:\n",
    "    merged_final[col] = merged_final[col].fillna(0)\n",
    "\n",
    "merged_final[['DIF_TIPO_1', 'DIF_TIPO_2', 'DIF_TIPO_3', 'DIF_TIPO_4', \n",
    "           'DIF_TIPO_5', 'DIF_TIPO_6']].isna().sum()"
   ]
  },
  {
   "cell_type": "code",
   "execution_count": 12,
   "metadata": {},
   "outputs": [
    {
     "data": {
      "text/plain": [
       "908899"
      ]
     },
     "execution_count": 12,
     "metadata": {},
     "output_type": "execute_result"
    }
   ],
   "source": [
    "# Checking overall missing values\n",
    "merged_final.isna().sum().sum()"
   ]
  },
  {
   "cell_type": "markdown",
   "metadata": {},
   "source": [
    "Let's visualize missing values with a bar chart"
   ]
  },
  {
   "cell_type": "code",
   "execution_count": 13,
   "metadata": {},
   "outputs": [
    {
     "data": {
      "image/png": "[encoded data removed]",
      "text/plain": [
       "<Figure size 1000x600 with 1 Axes>"
      ]
     },
     "metadata": {},
     "output_type": "display_data"
    }
   ],
   "source": [
    "missing_values = merged_final.isna().sum()\n",
    "\n",
    "plt.figure(figsize=(10, 6))\n",
    "missing_values.plot(kind='bar')\n",
    "plt.xlabel('Columns')\n",
    "plt.ylabel('Number of Missing Values')\n",
    "plt.title('Histogram of Missing Values in merged_df')\n",
    "plt.xticks(rotation=90, fontsize = 5)\n",
    "plt.show()"
   ]
  },
  {
   "cell_type": "markdown",
   "metadata": {},
   "source": [
    "In order to deal with the missing values, we decided to procceed with imputing the mean of each column, since the loss of information deriving from the elimination of columns would be too significant"
   ]
  },
  {
   "cell_type": "code",
   "execution_count": 14,
   "metadata": {},
   "outputs": [],
   "source": [
    "for column in merged_final.columns:\n",
    "    # Check if the column is numeric (float or int)\n",
    "    if pd.api.types.is_numeric_dtype(merged_final[column]):\n",
    "        # Calculate the mean of the current column, skipping NaN values\n",
    "        mean_value = merged_final[column].mean()\n",
    "        \n",
    "        # Replace NaNs in the column with the mean value\n",
    "        merged_final[column].fillna(mean_value, inplace=True)"
   ]
  },
  {
   "cell_type": "code",
   "execution_count": 42,
   "metadata": {},
   "outputs": [
    {
     "name": "stdout",
     "output_type": "stream",
     "text": [
      "After imputation we end up with 0 missing values in the dataset\n"
     ]
    }
   ],
   "source": [
    "# Checking overall missing values\n",
    "print(f'After imputation we end up with {merged_final.isna().sum().sum()} missing values in the dataset')"
   ]
  },
  {
   "cell_type": "markdown",
   "metadata": {},
   "source": [
    "## 4. Dealing with Outliers"
   ]
  },
  {
   "cell_type": "code",
   "execution_count": 56,
   "metadata": {},
   "outputs": [
    {
     "name": "stdout",
     "output_type": "stream",
     "text": [
      "Outliers from IQR method:  [-1.8239615710804262, -1.6015631045540784, -1.8111734765601877, -1.8187996076488187, -1.9232585036340193, -2.093761632520724, -2.002091938298025, -1.936068742999524, -1.8892805602994542, -1.950389814433332, -1.9771108919740839, -1.9178618048425875, -1.9024080245734012, -1.9195453667039686, -2.0271167206913674, -2.0368145020546744, -1.973107657571043, -1.9997861062846567, -2.064225945146607, -2.185407521034761, -2.2441655462224745, -2.2744702133484687, -2.283875129133126, -2.306808884512185, -2.339888854371196, -2.3720708507546524, -2.382172775544071, -2.3374495996650975, -2.312220531074172, -2.2947061729529428, -2.2766930021920877, -2.2453320259468845, -2.196173791182174, -2.1962889443775593, -2.18817009048175, -2.15812341080311, -2.353661840884659, -2.414267299788725, -2.356437143617676, -2.364381606857012, -2.3532632336698636, -2.4057653400698067, -2.4406861001915905, -2.306410277297389, -2.506038306678518, -2.5835712853042527, -2.821494949225771, -2.994466674738552, -2.8188840719688573, -2.7706498308728893, -2.6173316555340747, -2.821110736160398, -2.79057465540137, -2.784446069473882, -2.872820057099803, -2.813686676784823, -3.00449496791746, -2.8466786208839, -2.8678225191442985, -2.9193884522106033, -2.9319534374147826, -2.9333457945609096, -3.0449109713921114, -2.834954586178714, -2.667467585217299, -2.6944400067518246, -2.779637869945406, -2.7562119453803002, -2.891308788412755, -2.9604837488138025, -2.924288552846935, -3.1377615394886433, -3.469063372445167, -3.7368560036620617, -2.74885598140392, -3.87994326048778, -3.386889387872718, -3.280506658454996, -2.178097507612309, -2.152028042143522, -1.7418689688143316, -1.9870151740195001, -2.4613477944463122, 1.6000710822900057, -1.640890688883884, -2.707073087355198, -2.6423210061749907, -2.582430272151899, -1.8806894675783383, 2.842623332780237, 2.598884432491751, 2.1966864310358463, 3.117382178696823, 2.5458757627563378, 1.6877148436432656, 1.748321963410727, 1.8107349953096663, 2.6733431529733713, 3.082360659529077, 1.8282211187531803, -3.175940913591384, -4.4196347308551, -4.03161994917122, -2.453018564520472, 2.286510352405587, 2.1200375853573745, 2.78361064187196, 2.776722487751833, -2.9343788515925895, 3.5294047407551847, -1.749998895132774, -1.5841240389067555, 1.85549138845654, 2.2210142044244274, 1.9871624239262757, 1.7047641600138994, 1.56962911712336, 1.6238009448563933, 1.5521385647107928, 1.6752810666472906, 1.6249380826608253, 1.5935826426269386, 1.5508635752445776, 1.5971872698151834, -2.3932269286799475, -1.7885558388473073, -1.7203403038674285, -1.5829232346721827, -1.6201653281990211, -1.7667376300485456, -1.679635863783182, -1.6613757779976057, -1.5706693845439972, -1.6667813347271443, -2.06936963908087, -1.6959743306207629, -1.8791908151749317, -1.728052246231467, -3.798191688838789, -3.872616084810246, -2.601469856490854, -1.5773006584590332, 2.6786413072033675, 3.536467839152916, 3.7802239016964836, 2.4873087368590476, 2.7141284217428403, 2.4958970614745053, 1.9269727344920873, 1.831462570479056, 2.478944075180781, 2.8603165105269923, 2.1799000847027514, -3.4869276191216056, -5.132105820202515, -4.957481535611726, -4.463647610822154, -3.529074242253829, -2.398072220824245, 1.8688552489537058, 4.4268766355641125, 7.055179117596625, 8.146167064493143, 8.21143899591598, 7.138749334663123, 7.283768175617207, 1.5498283037283713, 2.0515352746312954, 1.694621820881869, 1.7578398179062436, 1.7236365507710927, 1.7686260184143956, 1.8001032550972476, 1.6198563942933082, 1.5495902466417568, -2.1789367972479075, -2.055122199257573, -2.437080919382214, -2.102289058811699, -1.688286193965386, 2.428320958901695, 2.899387214651707, 2.3979094428972907, 2.713169549942804, 2.6965897042918185, 2.478775774356756, 1.570156718061833, 1.5467296862544646, -1.9394486000083146, -2.2911696411638927, -2.160797400869033, -1.985341023717357, -2.0187902588711855, -2.146500135143887, -1.992788888801593, -1.922156797582014, -1.9058000612470882, -1.9119712760017138, -1.8898817928484382, -1.7630532814173414, -1.7998967677293838, -1.7433105982411772, -1.5896906993856075, -1.577375950932939, -1.621287518232898, -1.7159423375975131, -1.7095507816324864, -1.7311763302774301, -1.6856675660126292, -1.586574919656619, -1.6842735480031066, -1.6579510776771507, -1.633702472110397, -2.1020493408616896, -2.3587307959661477, -2.4898631580747774, -2.172453340175025, -1.948028066685666, -1.6610137097774995, -2.4140530484107727, -2.201285928711932, -2.2213098514229803, -2.0064168265785614, -2.4335554600157963, -2.507321046840577, -2.249542314653167, -2.099644964286886, -1.638788589446967, -2.579447915115641, -2.341527019299781, -2.061719702283578, -1.8612086471974494, -2.249502453931687, -2.6417596343474865, -2.355627749523187, -2.0192326021553826, -1.7129140300073273, -2.477767643590247, -2.42250462860671, -2.117188110706961, -1.9785846314265656, -1.665579423250308, -2.500594550090895, -2.6440427678944562, -1.9934432689792163, -1.678595609676791, -1.7129544443499387, -2.588655188156296, -2.28253979496356, -1.86901802688066, -1.7757096141082447, -2.55069394077943, -2.578686132438475, -2.071375408440878, -2.0180323515419416, -1.8192967594250502, -2.6170886158572753, -2.3452418170932265, -1.9754201330379912, -1.664317167070121, -2.467393337204051, -2.3963914270685223, -2.021406118718284, -2.0517999188464753, -2.0707531382888913, -2.4229126473807443, -2.3365316958288034, -2.1183302311015777, -2.493252980263938, -2.237269087785373, -2.1529293373458667, -1.8478630561976284, -2.4108996224448314, -2.4720188417590787, -2.016239726317623, -2.0545945983191003, -1.767249729595332, -2.3254797571774537, -2.292290723955506, -2.0609318994132244, -1.834556772298155, -2.2148612724813925, -2.359512509004053, -2.0949618831341654, -2.0662494303828285, -1.9261639073329766, -2.326228806568591, -2.095079804435209, -1.9301311563624595, -2.0402962253516908, -2.654331816626377, -2.2249510176059153, -1.9769802373870118, -1.9908008353177982, -2.2779923509880966, -2.335661403409832, -2.01803179792081, -1.918775279709828, -1.7971729517616115, -1.6607440962863804, -1.7564059524894873, -1.9349332660584875, -1.9756598509880003, -1.8185194753561982, -1.758568950250887, -2.1146635983465867, -1.8110289814448244, -2.1686355688510903, -1.8351375208652676, -1.760308427846566, -2.0718924905778495, -2.229516177457592, -1.811870485564949, -1.682759947829145, -1.9193161675554609, -1.7267301989690604, -1.731295912441869, -1.7128758301492428, -1.9017159981588247, -2.4287079533869718, -1.9263648718037694, -1.7213251958606537, -2.374403810203472, -1.7628146707095955, -1.9982492540231658, -2.1477026002418547, -1.879582225315016, -1.7570957644195369, -2.0412617406053073, -1.9976159114485454, -1.6759116544304982, -1.927843593846436, -2.110096224010383, -1.8666944789910789, -1.8375430046823351, -1.864774520906478, -1.9074232784051184, -1.8275562330883013, -1.626855839575145, -1.7466738466160179, -1.79782567107584, -1.7994555316874499, -1.8235053872679374, -1.7194030232915265, -1.6420328092785006, -1.6499634319895449, -1.848031910642785, -1.7447926420106337, -1.77747123654919, -2.0566767673952775, -1.7621730238180005, -2.1788581830472116, -1.7699192906922019, -1.7409089897720313, -1.986033603753065, -1.6203657390486825, -1.633983711645281, -1.5731534825617604, -1.861848079604518, -2.0821438930728173, -1.917873430886352, -2.0063559282540786, -1.6213683469181206, -1.943462906833989, -1.7220454569529446, -1.6244116022788613, -1.5914822173676624, -1.6431162458331612, -1.8193997329555391, -1.7330193350247296, -1.6714655231221285, -1.6655799768714399, -1.6493013011160784, -1.8129511540139511, -1.8126306073787195, -1.693572722151617, -1.6657903529014708, -1.6331416539040242, -1.9856311211903472, -1.7564065061106189, -1.6693440469456033, -1.6540868021781565, -1.6458782616590182, -1.9382965144333282, -1.7144370417405268, -1.654808170512711, -1.647079065893591, -1.6454381328593477, -1.6166841585231364, -1.848554528991073, -1.7535830383391475, -1.6923708106747808, -1.6330824164429365, -1.5943959253835944, -1.7639346462589458, -1.7816366819438076, -1.721326303102917, -1.6534468161499563, -1.6190863206134136, -1.7052270005942136, -1.625091449028541, -1.573952357854747, -1.7721442940203473, -1.6912895886046468, -1.7544245424592724, -1.614159646162762, -1.7341791712955597, -1.6039879651107538, -1.5962583068705023, -1.8986539196796075, -1.7420688260428614, -1.7225271073374897, -1.6901280914704222, -1.7727449729481997, -1.7444206086101572, -1.6641771009238109, -1.5960174816782295, -1.6913300029472582, -1.7738261950183336, -1.8191345484334736, -1.6943234324061494, -1.5707435697756398, -1.8099289362562136, -1.7296953937502368, -1.9754998544809501, -1.8509993199084882, -1.665659698314399, -1.8305330539132425, -1.9451154659119971, -1.7987767921800335, -1.636985445421147, -1.6864442964603497, -1.7597088561609768, -1.946345612066548, -1.7935893621763694, -1.7154390959888335, -1.7162800464878265, -1.8969327115812733, -1.7831990007773553, -1.6930113503241129, -1.6562902142821676, -1.6513137139296663, -1.8384625693820238, -1.7431107410126472, -1.5679859829188363, -1.6447654831843797, -1.5801014277641063, -1.7979757024025198, -1.734810853006785, -1.7165795555200551, -1.998967854252062, -1.808786815861597, -1.687265316598603, -1.727361327059154, -1.7015321331615079, -1.5761347323557549, -1.7256799796822992, -1.6926719805704045, -1.7057977839809564, -1.6335330640441088, -1.568505279540334, -1.7918471164750323, -1.6838406162781476, -1.8091173276771986, -1.7309366123274208, -1.6828202925324962, -1.8539606393417432, -1.7575469656418408, -1.6619515439745334, -1.7430221616315817, -1.8179165819438192, -1.7041457785240797, -1.6304383219181233, -1.837308822943642, -1.77304503560156, -1.7350926461628005, -1.7258909093334622, -1.8098691451739943, -1.6878355463642138, -1.5745126224399881, -1.5725317660309048, -1.8543210466984543, -1.7558047199405034, -1.666871574971605, -2.155991969446215, -1.8578348800211069, -1.7207256241750648, -1.6004630593654678, -1.8622500085461038, -1.7431904624556065, -1.5831042687822359, -1.6520029722385843, -1.9883964587429943, -1.6609533650741484, -1.61124593814683, -1.7794437886412982, -1.776829589657595, -1.676993430121764, -1.7246292067744067, -1.7651276997976755, -1.6730272883345443, -1.726131180904603, -1.66293698958889, -1.7300353171250769, -1.656629030414744, -1.5691663031715373, -1.6990391772056381, -1.6405928407150503, -1.637467095805692, -1.9300088060923626, -2.0026959389526673, -1.9705853596951952, -1.860626237766942, -1.7413884256720498, -1.7250211705356229, -1.6058713842006644, -1.9209260978063312, -1.773315756334942, -1.610796951409053, -2.1254176888291028, -2.0483757721471516, -1.5946367505758672, -1.611756930451353, -2.145416698589226, -1.97800609734398, -1.5794088477283983, -1.719162198099254, -1.98716188361939, -1.7624132953891412, -1.9664093954990758, -1.795270709553224, -1.6105068539360625, -1.6597830100018172, -1.7901657690981778, -2.1240602098142696, -1.8454304449451098, -1.7091909278969069, -2.0204156905137425, -2.08763083210871, -1.7565271955173212, -1.8325748086468088, -1.938748822897895, -1.813172048845484, -1.7777917831844217, -1.7454719351391816, -2.2381676148820593, -2.0592798939563477, -1.7726552863248706, -1.7292547113294348, -2.1733535281351055, -1.9572475193912175, -1.6902681576167324, -1.8086074426149388, -2.069488114003046, -2.1161046741523006, -1.7039049533318071, -1.9487793305613301, -1.8806008881972727, -1.810828570595163, -1.7228626017432764, -2.2190062338941385, -1.6896381367689022, -1.6732991163101896, -1.9653270661866786, -1.902280691713119, -1.792567931188455, -1.5967150443041227, -2.300699121703174, -1.9970921858579942, -1.5717207110730214, -1.6040682401748447, -1.7321374165619938, -1.7184120414658532, -1.697296931504301, -1.6280959509100656, -1.7953781120527665, -1.938690692679071, -1.9405824160859566, -1.5790185448305774, -1.6881190003836242, -1.9105130379409188, -1.9282067693088056, -1.6010875440019814, -1.9607358861418136, -1.8683293221928738, -1.764935593264989, -1.7288350665116357, -1.6792151117231195, -1.84374743670486, -1.6775935554284844, -1.8683758263679333, -1.93451417486182, -1.7617406457141733, -1.9061582541192728, -1.9001426069026441, -1.799656496158243, -1.7685701159943439, -1.7158880827266105, -1.8200806869474822, -1.7728651087337701, -1.7596474042153627, -1.9701330512306283, -1.6178539599743362, -1.6643310075984126, -1.5771578242070645, -1.8256074867048544, -1.7758685033730313, -1.7328106198580935, -2.0699116341687662, -2.017469872472174, -1.8065036823146268, -1.7501577843975609, -1.7219734862058287, -2.1462637389206676, -1.729793384690541, -1.5850253341090996, -1.8197778561884637, -1.8627565718815735, -1.7828845439745715, -1.8488662176881983, -1.7633444861325953, -1.6043699636915998, -1.6594524981862155, -1.5814810516242057, -1.779893329000207, -1.931959213339204, -1.7411476004797772, -1.7620523344112982, -1.734900539630114, -1.6086328464053898, -1.7675791341686704, -1.712073633129466, -1.5933158105557237, -2.027441142674521, -1.8316856931093612, -1.7207245169328012, -1.6107354994634386, -1.7885121027779063, -1.584905751944661, -1.6214580335414497, -1.7501804828639589, -1.8099422231633735, -1.6452360611462913, -1.8197202795907708, -1.5969796752050567, -1.8474428577586977, -1.803680768164287, -1.5825628273154713, -1.579679014840649, -1.6015448350567336, -1.6607750990697536, -1.7784516995733617, -1.913788814176957, -1.8599081911591777, -1.7621730238180005, -1.5873073604138064, -1.9969272067607593, -1.6761519260016393, -1.6908095990834968, -1.8326047041879183, -1.6013765342327086, -1.8835356338162077, -1.701141830263687, -1.5791270545723828, -1.9148722507316178, -1.7139371218586368, -1.813952654641126, -1.7895047454669744, -1.7504445601437613, -1.7935295710941501, -1.9165519372450772, -1.6975366494543103, -1.642962892779691, -1.883394460427634, -1.7928082027595957, -1.9102805170656212, -2.025470805066939, -1.8924760614714018, -2.184828986952176, -2.1848489173129155, -2.160943556847792, -2.3438893206685782, -1.644147088380314, -1.9900545540323193, -1.8820978797372838, -2.1870622945972964, -2.2072943788538493, -2.3486964129547916, -2.2065979234702198, -1.8399745086925903, -2.3613621572049324, -2.599140218768824, -2.393126169633985, -2.1066145007133668, -2.0082210778466445, -1.9803717204395674, -1.576051135564874, -1.9476477289682148, -2.86080703216389, -2.417752344812532, -2.1753371526498473, -1.986186956806535, -1.8853891573650088, -1.9725136220967705, -2.453794187725929, -2.422027407191218, -2.3778417974310866, -2.111061739264, -2.0286198020638273, -1.8965368724721359, -1.7984778367689367, -2.5097099220236943, -2.3792097952474216, -2.1987614163515574, -2.056876071002675, -2.043372144359199, -2.014829099674151, -1.6619997090129879, -2.5202342597365712, -2.4354134125336504, -2.2420352121078433, -2.0764576504295262, -1.937073565353489, -1.7654166900284025, -1.8979059775307334, -2.3368278831342417, -2.1677636155687243, -2.1665888315273394, -2.1398921133163804, -1.9786660137329197, -1.6415517125150871, -2.343098196071435, -2.4446400623139133, -2.4395212813305753, -2.2118346257546015, -2.1019308659395146, -2.065069663751259, -1.7218062926240671, -2.4401834122040422, -2.4493762910952737, -2.2164540404771813, -2.1271555055613867, -2.107066255556802, -2.4238156034464833, -2.5146703673633772, -2.2370852855696617, -2.0903961696613567, -1.9549350439242692, -2.391737134214648, -2.379212009731948, -2.252856844368422, -2.0952043691898328, -1.8580757052133796, -1.8245655717350684, -2.3119348625702347, -2.3779309304332843, -2.1133016903627007, -1.9164727694232497, -2.285786782900752, -2.2842604494407626, -2.3684413106154825, -2.1480635612196974, -2.097484181010013, -1.9513210051767858, -1.8466318028008142, -1.7407888539864609, -1.567978232222993, -1.92484186007057, -2.473404555451627, -2.4906094393602567, -2.115458598291652, -1.9742209896668135, -1.8834631094479601, -1.7495814647995016, -1.6152408682328963, -1.7555173905731714, -1.6451806990331255, -1.9152071915162725, -2.170528953121371, -2.1852364521050784, -2.05478449036726, -1.8992745289681996, -1.7880265770454395, -1.7837996797052074, -1.7857445507407326, -1.7081085985845095, -1.899974306078619, -1.8197440852994322, -2.2342031339582347, -2.2108729858489062, -1.892573498790574, -1.762651906096887, -1.6705049904586964, -1.642635149069748, -1.724448726285485, -2.240905271378123, -2.538254073951006, -2.3879575627487974, -2.2120959349287457, -1.8551381914887861, -1.7581116591961348, -1.7942492785653095, -1.651235653350102, 1.6816488169036559, -2.1098819726324303, -2.5963809710486254, -2.5815068321042887, -2.296918442995061, -1.9832073678759352, -1.8647966657517445, -1.8117437063257986, -1.6724277166489554, -1.680237096332166, -1.6531572722980976, -1.8884158040917998, -1.8996127914796443, -2.2632300435123542, -2.1240812474172728, -2.0586758933017055, -2.0159551650559493, -1.9708577412919726, -1.9462747485616956, -1.8718132599744168, -1.6430237911041738, -1.971747410450552, -2.2920144670108074, -2.4057631255852803, -2.162360273323712, -1.9247189561793412, -1.8442047277596123, -1.6429938955630643, -1.7222154186403646, -2.403362624358398, -2.4896201183979785, -2.0683515298197457, -1.9397414655869634, -1.8295946660950773, -1.947043174692441, -1.8752822499854047, -1.7202672258780491, -2.3583100439060853, -2.3803519156420383, -2.041741176505326, -1.9849595787576426, -2.0122569758964532, -2.069459879325331, -1.944004901921885, -2.290669167660871, -1.9613659069896439, -1.9328533114668367, -2.1424581472616295, -2.3108508723944423, -1.991562064373832, -1.6052707052728123, -2.3771093566738997, -2.2963144423404183, -2.179902312501524, -2.0016125023980065, -1.921537849156817, -1.6275257211444547, -1.9192552692309781, -2.118228364813352, -2.3380652263635042, -2.059682930140197, -1.9804946243307961, -1.9220781833813179, -1.8884130359861415, -1.9841324687869408, -2.4066660816510193, -2.095621799523105, -2.007378466484256, -1.872581686105162, -2.340609669084618, -2.35506527045342, -2.082106800456996, -2.0249171839352784, -1.9094661403809474, -2.179538029796891, -2.162718466195897, -2.209846018649675, -2.0908744983191117, -1.9342107904816694, -1.672067309292244, -2.156110444368391, -2.37344659926683, -2.504247342317595, -2.257873759063534, 1.9482544844142697, -1.8939641950733068, -1.7828369325572488, -1.732017834397555, -1.7239681831432034, -1.7349010932512456, -1.707629162684491, -1.5725904498708612, -1.6772093423631116, -1.6378031438326102, -1.6319391888060566, -2.4204805897493573, 1.7359490847392343, 1.8729398656631011, 1.544985779689732, -2.783244157997046, -1.6122136678849734, -1.706860182932614, -1.5840044567423166, -1.5926060682649343, -1.5969796752050567, -1.6152170625242346, -1.6187735246740251, -1.5784776569849444, -1.711761390811209, -1.668942671625149, -1.9014856917680538, -1.8710509236761195, -1.7589537169373914, -1.611227668649485, -1.7764929880095448, -1.6924909464603515, -1.67754539039003, -1.5767957559869583, -1.6515473420472273, -1.6027943579508925, -1.6040195215152584, -1.6283362224812064, -1.6096659034370693, -1.659381081060231, -1.7894205950549618, -1.6107947369245261, -1.638259327645099, -1.5772519397994471, -2.000339727416318, -2.009924016447634, -1.7601783268806257, -1.5789582001272262, -1.6701451367231166, -2.1403040074383366, -1.7645995452380707, -1.6874457970875243, -2.842853652485254, -3.064913302879025, -2.7493049681416974, 1.7981240595515595, 1.9793524906219333, 1.912152296797521, 1.8228011678742189, 1.7039137979556678, -1.5999437627439697, -1.8815902091595509, -1.946587544501084, -2.023237497421819, -1.8119701373686479, -1.6062301306939808, 1.7390449341074827, 1.943010585055176, 2.5581921720724012, 2.097151441395639, -1.6067710185396138, -2.1605327699680994, -1.8757057701511255, -1.7022224987126895, -1.6486402774848752, -1.6768727407150619, -1.6281203102398587, -1.7422299297921746, -1.7072432887557234, -1.64078273276321, -2.2210147713598047, -1.92431204464757, -1.675310975502646, -1.6157203041329147, -1.6184607287346369, -1.5958021230580135, -2.3294735800212565, -1.9300315045587604, -1.8385328792657447, -1.606061829869956, -2.3632367183567373, -2.0037489263450867, -1.7951876663834752, -1.7675774733052754, -1.7458805075343473, -1.6989788325022874, -1.607984002439083, -1.6204786777595412, -1.8589576236761156, -1.9313269780068474, -1.9376487777092848, -1.747034253972729, -1.6671893535011784, -1.66603671430506, -1.6723070272422533, -1.625163419775657, -1.5873920644469506, -2.3481438990653936, -2.256935371245368, -1.8175578354505029, -1.6612550885909039, -1.630860181220449, -1.5876334432603547, -2.3133023067654377, -2.0696088034097477, -1.8046778398224086, -1.6770897601986727, -1.6705055440798282, -1.7154390959888335, -1.6209116094845002, -2.268323357923636, -2.0317638164705305, -1.9455074296732133, -1.9060541733465206, -1.682231239648409, -1.6705049904586964, -1.6015437278144702, -1.8876235722523929, -2.0651410808772432, -1.647053045700403, -1.6235307910583885, -1.695327147517851, -1.9403410372725522, -1.832912517537122, -2.4015838396623703, -2.264213828263316, -2.0823492865126636, -1.9186684308314175, -1.7132993503149634, -1.5778542795906942, -1.5695161917267473, -2.4702815786479264, -2.334398593608513, -1.9995713012855725, -1.831901051729577, -1.7695483645339887, -1.745592070924752, -1.7042421086009887, -1.6766313619016575, -1.8856742722478144, -1.7464595952380648, -2.0641606178530716, -2.294251650003849, -1.9895263994727146, -1.758328678679746, -1.6457808243398457, -1.6688474487905032, -1.884018391443016, -2.5943104280162133, -2.267577076638157, -1.9660273969182298, -1.8127512967854216, -1.6893906681230497, -1.6842491886733135, -2.401271597344114, -2.175912365005643, -1.8293776466114662, -1.7067904266700245, -1.6864836035606976, -1.6284093004705857, -1.7844706685167806, -1.5775874342052336, -1.769358472485829, -2.3436999822415503, -2.2522246090360643, -1.9507684912873882, -1.7804580225545013, -1.7516724918137854, -1.72956640002656, -1.7108722752737615, -1.5784056862378286, -1.7055879615720568, -2.2075567952702566, -2.3892558043025427, -2.1554167570904195, -2.0138674597684556, -1.7362231405136523, -1.5880647141219189, -1.6049573557122923, -2.1032512523385263, -2.1580364922854396, -2.826736080479206, -2.411891711512768, -2.164601885285808, 1.8271199663223066, 2.171921296953253, 2.0097961166519744, -1.6218483364392706, -1.6122972646758544, -1.5937509567652093, -1.6723491024482595, -1.6640375883986323, -1.6557260743490048, -1.647414006678246, -1.6391024926286186, -1.6307904249578598, -1.6224789109082325, -1.6141673968586054, -1.6058553291878466, -1.5975438151382193, -1.5892317474674602, -1.5809202334178332, -1.5726087193682057, 1.636296173797983, 1.555681186332292, -1.7087098311334934, -1.6345982311014244, -1.9590800053370154, 1.671513674846337, 1.6030224365428913, -2.150224898117702, 1.7345550667297116, 1.5909905884885016, 8.57529264417191, 8.644737218064076, 7.427466076551147, 3.745150895763493, 1.9815786011923429, 1.7227363628110117, 2.9624313746407402, 3.963710553362904, 3.86231041413013, 2.274900917274655, 1.549642840649265, 1.9296135072901106, 2.9562452121155594, -2.124155986270047, -2.5613445041103247, -2.3191407952199348, -2.0734835977102435, 3.0651242192159422, 4.873172221020214, 5.356679450840913, 7.71735261989037, 9.306300629870732, 10.571691966526508, 11.881459358611707, 16.05092182816073, 17.832088755917198, 17.93216075805512, 18.31339146639162, 19.49940349794758, 21.020417212482943, 20.686163471652403, 18.658186707190122, 12.043144410113314, 11.522105542913918, 16.689565325116618, 13.686853854331927, 8.926409684672846, 4.829814274851917, -1.9707359446430068, -1.8553995006629302, 4.009394815526441, 4.529329762189306, 3.185078417055204, -3.0089588151020434, -3.3986034573975346, 5.936512882222713, 6.9104846986256945, 8.082997232507223, 8.886206271712753, 9.785003535510876, 7.391304651473312, 3.63789123047322, 4.367560560275685, 2.3491442791360595, 2.5885859722005926, 3.826991600414682, 3.7731065484278496, -3.8929201398139153, -2.221830808907873, 3.164174790365946, 2.7605384812099856, 2.328299336286758, 1.9763330409698545, -1.5693202098461392, -2.1748959166079134, -2.0748377549982866, -1.7100850260245393, -1.7920347940386654, -1.7183882357571918, -1.8009392363203016, -1.954878020947708, -1.99619089065565, -1.706810910651896, -1.6733384234105377, -1.7422288225499112, -1.7681593291146511, -1.7352050312525276, 1.6057169105906854, 1.9845216511282529, 1.8710774841761932, 1.588598945199726, -1.8360576391860883, 1.8103181185975254, 1.7549333069650228, 1.6288455406080888, -1.6755866788262133, 1.6807143044334116, 1.5888386631497349, 1.604606900221705, 1.5688368852839532, 1.675277191299369, 1.6681316033530196, 1.5784483017507205, 2.0393052302117716, 1.9313014981205452, 1.551147029263988, 1.6260242873211441, 1.5830416962801122, 1.6523323634976768, 1.6026559393537316, 1.56258982443429, 1.7304560558708932, 1.7242372296989448, 1.545978975999932, 1.546969404204474, 1.6179713143400025, 1.5856558952638156, 1.6804463518056878, 1.5511736030783074, 1.7584177983676978, 1.7691785323037934, 1.5642711718111446, 1.7599812244435082, 1.6069160539618632, -1.6951051454440549, -2.0662317145066154, -1.6074724565134284, 1.676225544297904, 1.739191090086241, 1.6063203576241958, 1.9927755885801874, 1.9602525615796276, 1.843956692178382, 1.7222962340113412, 1.6653762309807425, 1.6612035885114136, -2.137663788261445, -1.702461663041567, -1.6906479417130518, -1.7622926059824393, -1.77713131317435, -2.4736415052959773, -2.095378759846306, -1.7829471031624493, 1.6405590565117731, 1.685530808278863, 2.1279704225529454, 2.3121939439456063, 2.164891415823421, 1.88764791826794, -1.8128105342465093, -1.57959929339769, -1.9775609859541243, -2.110096224010383, -1.9777038202060928, -1.7435270641036562, 1.6141086997044034, 2.520179991551422, 2.8055224126419724, 2.6404137680621727, 2.5641131500755163, 2.7063245782709466, 3.0109889304775987, 4.456030324357384, 7.421573886846879, 7.798867795316142, 7.658944483257868, 7.702480141809428, 11.174249330878466, 14.109393557028453, 16.647176215928724, 18.088689382336437, 18.786021148217447, 18.520816695791066, 16.593451160448943, 16.12491329240723, 16.534843720209043, 18.53309878059697, 20.492228328368146, 22.035249036508166, 23.032153501047947, 21.961355009580842, 20.742404181554452, 19.325915797540087, 15.707615274585269, 12.676163669992658, 10.539958956880827, 11.134413522349796, 12.075567785310174, 13.16899775501845, 14.343998815886795, 15.649138488932438, 17.24859921058191, 19.45372587923762, 21.30438942127263, 22.772261597000988, 23.4308481879827, 23.05575879885971, 23.566206340189296, 25.487075685172513, 26.622913587187153, 26.498510489933864, 24.693785322161823, 22.857320501290523, 19.728696208426502, 16.107617614633003, 15.346533053714435, 16.327591220602677, 17.808368858531182, 18.10631501830513, 20.328070804892537, 22.637295408555605, 23.24138464257887, 22.543265073827502, 20.927844008573373, 17.56175500370598, 15.209200688552333, 12.853089357627763, 10.267006576716852, 7.984034687117155, 6.249525287473681, 5.246299576852597, 5.042632881316001, 4.677488188581038, 4.1716993690743776, 3.5486973299513087, 2.8384772641252276, 2.08228007055696, -1.9069316628402035, -2.3706120590727253, -2.591237830735494, -2.5034407163287646, -3.1712539570907414, -3.578018225640587, -3.6367181206094754, -3.229768942601656, -2.2929046897905176, 1.9838207667755698, 2.5171727215642394, 3.5767985849732913, 4.526447056956746, 4.674880079429783, 4.611551358179076, 4.700195512917247, 5.257002734191, 5.160238064693625, 4.925956120576173, 4.65355791516499, 3.9384178183418372, 3.0884665469901664, 2.0587683347164467, -2.1632588004203983, -3.6883787228892944, -3.998036737703529, -3.926981679939361, -4.4887548827641135, -3.881145725585748, -2.919147073397199, -2.2405581509285715, -1.6324750940615043, 1.5396389068001497, 3.2818486227638957, 4.516255445543998, 5.073590821377355, 4.134365928060816, 4.220859818323615, 5.208306773071228, 6.985735650946722, 7.026171584782114, 6.35805274515546, 5.60738788755588, 5.367750212610739, 5.433246360591898, 5.750549883234372, 5.774816758298471, 5.233456673840324, 3.400131438406673, 2.791645345355757, 2.4830635700214705, 2.3021678652512247, 2.9553084851607894, 2.9293646916888894, 1.9979746446276163, 1.8949535027213391, 2.163311934734792, 2.7153469418536265, 3.2982302720497465, 3.7126943032987336, 4.160982924828814, 5.216421751619114, 4.785475312038315, 3.768771141345812, 2.77405514113949, 1.5911262256657583, -1.683446438032405, -2.289780605744555, -3.08169632748533, -4.402373931212172, -4.36651699775675, -3.7644883415855275, -2.40756294788431, 2.026161157303875, 2.9060223639146647, 4.365292928120402, 5.240005458206745, 5.969902326294322, 7.233842621964015, 7.688173464525043, 7.591729341662901, 6.9279547670563915, 7.185421810546675, 8.093949519354874, 10.246279001547464, 10.298596198489433, 10.354500860364563, 10.881858205539606, 9.384080523521186, 8.346703586151328, 7.923196153716658, 7.237361437876852, 6.015275453381865, 4.588691788031661, 4.348255237793533, 4.554351222855857, 5.115795574728404, 6.737646395805643, 8.039913328799097, 9.05623716177415, 9.677286025544719, 10.174183136055772, 10.451624276355256, 10.23215335837313, 11.943785471992973, 14.332575951077231, 17.19511110494648, 18.214464352753982, 19.16403144243108, 20.02055142850991, 21.98493151909376, 23.60613571068922, 24.746637870738105, 24.547221878250404, 23.210881225466608, 21.1910803378767, 17.799138333403, 14.539359533585081, 11.707647789842195, 9.813939651199403, 7.85196781253828, 5.985445793186837, 4.385991161369812, 3.1732619276210303, 2.364934107432164, 2.0098708555047486, 1.5510014269063608, 1.9732615509313989, 3.0836112896654995, 3.3103662008768877, 3.0081865003091304, 1.6530271580179114, -2.7069296994820977, -2.401571659997474, -1.7763601189379463, 4.213601845287538, 11.009995477325951, 12.680856162704616, 18.265745724558613, 23.106678656065366, 27.190101758300685, 27.444735368839126, 25.532900013482358, 24.191602237085668, 22.570819904792533, 21.200927043324423, 20.928441365774432, 19.42388625386222, 18.711593984140332, 18.899789183531528, 18.149153114230796, 16.339997870163202, 14.574829485869472, 13.099904730544887, 11.259974241389388, 9.77214956007597, 7.594065069217378, 6.193248592198074, 5.721887810006017, 6.1449407194915935, 7.573792016997083, 9.670559528795037, 9.988168096681056, 11.788370179807428, 12.34982283599695, 11.92219978406951, 9.875032296699333, 7.054318236736892, 4.710312939098355, 3.128197167503821, 3.093297444985041, 2.563684093698478, -1.8620412933794677, -1.635244306962073, 2.7506258948475946, 3.8812365061370944, 3.967795170072298, 3.4536677090805585, 2.969098633929334, 2.2429115810450164, 1.9601318721729255, 2.732469889834771, 4.18167562186691, 6.043368404086874, 6.892018112158008, 6.34732744297179, 5.317977458389884, 5.077964428317478, 5.97076818974424, 7.03787568912656, 7.576859631687618, 7.164627800841487, 7.361876366598736, 7.638814818910672, 7.25566913507975, 7.476428883056382, 8.494325553666483, 8.57999510206424, 8.557900082699646, 9.534760694167636, 9.863790465999822, 10.22386066744198, 12.153384217955319, 15.106588672662353, 17.099819067659322, 17.735527818996275, 19.43481694948574, 21.668831015170383, 22.616365208052024, 21.30493861343524, 18.79574494977394, 15.649169491715812, 12.22358393107107, 10.532266944877529, 8.842911991974596, 6.732917364098996, 5.0620993075474665, 4.418442217623257, 4.934568250900292, 6.034280713210657, 6.632082472041648, 6.308587804283809, 6.779006323309777, 8.453234686032335, 9.332669604371747, 10.588539211184084, 12.630521483035125, 14.246570354652558, 13.875320328077638, 12.072448130233264, 12.787177440176725, 15.780227114971666, 20.334337796102943, 23.561460146227567, 24.96453429022179, 25.65653025563585, 26.05298111612398, 25.854230576236535, 23.812551688765645, 22.583751387185874, 21.120902215985083, 18.38781918408987, 14.957609226132368, 11.688524055091227, 8.381594450732, 5.324526242756304, 1.6481431123943977, 1.6621840515355852, 1.6249862476992796, 1.7682645038154212, 1.8104238602336726, 1.689124363044475, 1.709534159684291, 1.7820258642851197, 1.7701307606502503, 1.6933579038382867, 1.623482612705688, -1.7789438687594084, -1.567977678601861, -1.7288937503515918, 1.7863557351558406, 1.9127972654159064, 2.0268232881773414, 2.065542442883452, 1.8272943569787794, 1.7935782764394905, 1.8247604330591674, 1.8814517905623895, 1.9441499373441344, 1.7807503211977722, 1.5902598085947088, 1.8792771667572252, 2.19006512230118, 2.186687479776916, 2.035819077945702, 1.8558523494343828, 1.9839619401641435, 1.9525522452593542, 1.9408719466235693, 2.0320860106549112, 2.072365823331174, 1.7971402748005976, 1.628355032285437, 1.6699956457033223, 2.2292282811548825, 2.1254913071253676, 1.9475967825098564, 1.8884667239216666, 1.5699142320061656, 1.6345904670913354, 1.5485328302802843, -1.6673820136549966, -2.292512726029302, -2.533591476780157, 2.310700827753516, 1.9932278970447543, 1.8205999702547342, 2.0201427419815876, 2.0013893797677014, 1.9925170475117016, 1.982943830903019, 2.055044125363763, 2.2090028403519097, 2.2987558982167977, 2.3693154650681296, 2.515986865100221, 2.5230195143357115, 2.119334486520165, -1.596258860491634, -2.1401894078640824, -2.3586693440205333, -1.5723756448717765, -3.0339182702018497, -1.856242112025318, 5.869070202342632, 1.8330747152144526, -3.0552415417089063, -3.9834443919152074, -3.638470331491183, -4.419413836023567, -5.681629601868136, -5.320905573869486, -4.773690945944024, -5.443789534737498, -5.552906598924495, -4.66762765591927, -4.053470267995618, -3.5887856030302627, -2.8551235576262575, -2.2481399923266694, -1.8281292309595707, -1.8493074537301322, 4.749209806187728, 6.296380458330683, 6.439549651083886, 7.230428994066193, 8.252999334269774, 7.855985441090744, 6.32748621523419, 5.87843470378468, 6.679176807227527, 7.383659697266203, 5.965972723501792, 5.935080664355104, 6.424954537189906, 5.930605191126757, 2.9732059491051275, 1.7545197519796722, 2.109525427309395, 1.787506713488564, 1.5928169846018516, -2.449977523644258, -3.0475517441901343, -3.5901059894292744, -6.0729987739887505, -6.238426857961518, -4.18627013695281, -1.840296716191217, -1.6480539927064461, -2.2139859974722365, -2.6003299505807638, 1.6309337995167141, 3.089040098482567, 3.5773699219811657, 2.620493372502745, 1.5790456589517827, 1.853146249342824, 1.9283794857876377, 2.921254142110055, 1.9434169429658155, -3.2769656976968915, -4.158967757223815, -5.026860782210356, -6.434785200939057, -5.037703452073938, -5.204516696118121, -5.484534942785487, -4.061518812007706, -2.72147554109536, 3.5371482395237277, 5.915718318896392, 7.258999166186692, 7.298192774202636, 5.6624864770633145, 2.7817704052303185, -4.236610906454749, -5.395472250471781, -2.7845064141772333, -1.6028320041878454, 1.7076468652464583, 1.590715438786066, -2.1547895043482477, -4.215743265139049, -4.350651876986739, -3.587084325292668, -2.514520336036697, 1.6489530601100177, 1.8546504379575468, 2.804718001137669, 4.9624646661035605, 4.35926344037548, 3.365230055024497, 3.310815741235796, 2.9280575921970375, 1.797823996898199, -1.8237694645477398, -2.883409722106215, -3.2944435168234305, 2.2066582548593248, 1.7007326909331437, -2.9075365310240033, -3.882524795824716, -3.5716881216211744, -3.3340573232783046, -3.9958897949549477, -4.379219281001581, -3.8802975780120432, -3.8653763812715147, -2.527587455607293, -1.9080211892273122, -1.7597990964054377, 2.0287343883238353, 3.002295971468257, 2.6151664299739026, 2.4575111866896555, 2.650096601654924, 3.559200630061182, 3.0762320736015893, 4.437781864615571, 5.249017856609052, 6.395580507186234, 6.208188612057077, 5.918544554773522, 5.404123120960869, 4.918457322347824, 3.4484442937033366, -2.1371821378769, -4.162517022298894, -6.074780880411568, -6.3102204463153235, -1.801366631833944, -2.2386132798930465, -2.193414543461975, -1.7724515537484193, 1.767832679332725, 1.579885502208513, -1.6058697233372696, -1.5966187142272137, -1.5971955874464043, -1.621656783527716, -1.5803527717578802, -1.6095142112469942, -1.6714904360730531, -1.6263741891905998, -1.5843648640990282, -1.619806028084573, -1.5748265256216398, -1.622617316191148, -1.5722793147948673, -1.5910121930268821, -1.5912369632063366, -1.5783575211993741, -1.6920109569392012, -1.5718220237401153, -1.6865090701327539, -1.659993386031848, -1.6757317275627082, -1.6835045682512293, -1.7490295045312354, -1.6464180422623877, -1.6196388345028114, -1.5959228124647156, -1.5910692160034434, -1.5731922360409767, -1.6126183649322177, 1.6138102979144382, 1.9216850990635925, 1.6816244575738628, 1.5472213018193794, 1.553695900954155, -1.5736722255621265, -1.856804037473954, -1.9075411997061622, -1.86886799555398, -1.839061587446481, -1.7655606315226344, -1.6459042818522063, 1.9752667666702752, 2.224830314884967, 2.110366377808388, 1.96119316388232, 1.967792881392851, 1.9729880620923586, 1.9746699630903448, 2.009955005916761, 2.07044143627752, 2.0314565434282126, 1.9526828998464263, 2.082194812902684, 2.173181892270045, 2.0330188622617604, 1.943554794627599, 1.9216889744115142, 1.9124379653014583, 1.912648894952621, 1.9531656574732343, 2.003735072502549, 2.0743129088512258, 2.126728096733498, 2.1337363866391956, 2.163540580262168, 2.210441148051965, 2.173532888067518, 2.1031012076976, 2.098375497717741, 2.0896703590435033, 2.057084772855066, 2.068545283901581, 2.1387344782158313, 2.216990486039515, 2.3012975728322536, 2.4096594977956647, 2.5220313006156965, 2.4766858545847357, 2.4254249667619763, 2.359374090406892, 2.319769141890124, 2.315423769627717, 2.32005093504614, 2.328267779882253, 2.4188258028725764, 2.490281682336067, 2.364780754378694, 2.2573173565119684, 2.1949475070612987, 2.1510774613462145, 2.121082268432819, 2.145186378884209, 2.1783073167069626, 2.1173359142348684, 2.088442427373479, 2.139743175917718, 2.184074388035476, 2.219112515837172, 2.2336052098217944, 2.2398799517280406, 2.208159121747258, 2.1645260258765244, 2.087414906553116, 2.0602686479832486, 2.158032603623272, 2.2404839523826827, 2.311450984386917, 2.3779796357786247, 2.4427328242010953, 2.3120577531472173, 2.223967773161839, 2.391393875798772, 2.4813268605314502, 2.4679353189777014, 2.413699271193395, 2.3288291517097575, 2.3906215743201047, 2.4768574771355505, 2.3343803107969228, 2.2097657302713385, 2.129807891088929, 2.149533965631144, 2.3021734014625412, 2.3281636991095005, 2.303494341482685, 2.3844857913179056, 2.4324614913453884, 2.2823476751166276, 2.1955149687212514, 2.1930563372755447, 2.1897606306787663, 2.185837117718685, 2.2144416143493473, 2.2484682763434987, 2.301097715603724, 2.3411865289895633, 2.349922670447175, 2.3541335127745886, 2.3523093311457655, 2.4081608453922585, 2.48708285943733, 2.417144455495722, 2.3382135835125437, 2.35419053575115, 2.3820016933001424, 2.4393978105039693, 2.386478827391885, 2.2508228270164525, 2.2700334802850914, 2.3511904628386784, 2.3694981600415774, 2.3836182670045925, 2.3726133861494345, 2.3677941141983245, 2.3712215826244383, 2.3598767783944403, 2.3374529080776414, 2.2861925738760136, 2.251970483622386, 2.3488143209415893, 2.397283851018514, 2.3248170593686095, 2.308769243625151, 2.335034690974546, 2.454170083160081, 2.6104534532800723, 2.489090843281865, 2.403697551828807, 2.5341201716466473, 2.5594632861906947, 2.4447009473241503, 2.3453403483404163, 2.2575305006476585, 2.34401830107801, 2.4595557095288796, 2.3920665254737403, 2.341956062362572, 2.3352921248007683, 2.3927856793237674, 2.535822556626505, 2.5533103409334137, 2.520578598766218, 2.503766785861067, 2.494597712678497, 2.515363487705971, 2.4945943909517068, 2.3699886683642295, 2.2486792059946614, 2.1298422155990915, 2.2315966723561282, 2.4215883723195653, 2.5373654987204444, 2.5757043157091033, 2.420446251924948, 2.35025761123183, 2.393495975235689, 2.4281227625365602, 2.4593049191562373, 2.439192417064123, 2.4209273486883616, 2.4650448630492985, 2.486665982725189, 2.452045838877898, 2.3874155543466555, 2.3002772490866024, 2.3181293160981444, 2.37797797491523, 2.3534592022362255, 2.3460196414689642, 2.441051476824241, 2.475699301728116, 2.429834559075656, 2.278329492943032, 2.0475951530372636, 2.117854657235235, 2.056888237353326, 1.820953180536734, 1.5542877219439009, 4.68467474449113, 5.603488733925591, 4.241391965233529, 5.135464072672925, 2.7093661727682923, -2.760056290518555, 1.8593960782981453, 2.1811905755606538, 3.4026542899036527, 1.9027075202913837, -2.2641601270135454, -2.5060814891267875, -2.4144953916949694, -2.056935308463763, -1.8474317853360644, -1.956279789653074, -2.2720492281397147, -2.244256893709199, -2.737591452238013, -2.7739953633715166, 2.7364753387223386, 2.5999191503868255, -3.9720735674920213, 3.67709701815406, 6.381769874435818, 4.600734708508684, 4.716666848826428, 2.7349185561001077, 3.2676194524379443, 2.01779704924674, 2.3567958767967467, 2.001659546879952, -2.5714342492348474, -2.448092443690952, -2.804750124477551, -3.8486088580568967, 3.44114258459786, 2.1534375482304857, 3.42139491883151, 3.0057140283351322, -1.6475994697573524, -2.072371926477868, -1.7520395426240767, 2.6398878279870943, 4.858990108490453, 7.188285139039627, 7.792465720549614, 7.605888202105131, 9.37927509209837, 4.238714099819684, 2.2737360984136403, 1.8425139555092735, 5.59439550683806, 8.475848448397295, 5.709638942468017, 4.756556912226001, 3.1120779346343785, 5.5734691816824045, 8.143634247815795, 7.40872267951763, 6.867758987789753, 4.1424399386449595, 3.288521418263806, 6.12722152155165, 5.67764683813272, 6.506355113041424, 7.278884683614825, 6.642545911430041, 9.527507150100613, 10.82673857842917, 9.525431070856884, 7.419290199678776, 3.8267474534956194, 2.253635222365291, -2.2546289856108683, -3.7635499537673622, -4.477262815313093, -3.648975292464451, -3.525031147129308, -4.045836939832275, -4.248717493361913, -4.37349982109039, -3.0761850291196438, -2.95708672954993, -2.5710793780894523, 3.5516708290494603, 6.512790958696984, 4.928553710925928, 3.4772204128848143, -2.9731865856797652, 2.914167238003662, 3.856365630418354, 4.260398885925715, 7.577778089145041, 6.948336882639624, 4.495929799316195, 3.2635929659473724, 1.9804049243932211, 4.420722029443437, 4.474846799380278, 2.96240147909963, 3.421820099860626, -2.439160873973864, -3.250710769148998, -2.502417624477455, -3.3188288668097043, -1.7945199992986918, 2.543652420291587, 1.580126327400785, 1.550612784871935, 1.601182753522381, 1.6250814705339254, 1.5750435317910052, 1.565230597232313, 1.635551553375899, 1.707175180042283, 1.7350289664184133, 1.7300552341715705, 1.7741566935196895, 1.8137228885572407, 1.7769989844096374, 1.7696192147245957, 1.8013655112774347, 1.8472640248189254, 1.8988233144316498, 1.9844590919403753, 2.0561408488255837, 2.0100175651046386, 1.977532737962164, 1.9791421145919024, 1.9729941519248066, 1.9610281847850846, 2.069741105545969, 2.226725360018643, 2.1224430691744423, 2.0165591523963458, 1.9010654800148772, 1.8742148551293167, 1.9655551447786772, 1.9835168287742881, 1.9464441433137378, 1.94869129148715, 1.9574910993749024, 2.010400670927748, 2.0361606621839368, 1.9940489171830078, 2.010351952268162, 2.104540622639919, 2.0976120541771808, 2.0502359258352874, 2.041438886053193, 2.0267806593502034, 1.9769519893950513, 1.9141276169952879, 1.8339749031745334, 1.852244400519348, 1.9443298642119242, 1.995193252062151, 2.039186755289596, 1.8993730602153893, 1.8368221766546662, 1.9674308131727445, 2.011910395753788, 1.9415512397521175, 2.0674646154525784, 2.2718870038338923, 2.312684452268258, 2.3053700098767527, 2.1730108233403618, 2.0788885875044043, 2.080360112472359, 2.0642453085719694, 2.034941034830887, 2.0061942575693874, 1.9776705896239477, 2.035377288282636, 2.086030853723963, 2.0943689415879105, 2.1201211821482557, 2.1690911857282016, 2.1268454644134103, 2.0161871189958696, 2.027291098033595, 2.0470503898437094, 1.9969797874540214, 1.9562493271765866, 1.9388683917480882, 1.9989202295204933, 2.1170463703830102, 2.1147538252768014, 2.0642929199892928, 1.9461031126966346, 1.856049992178386, 1.9348203140333824, 2.004258244471969, 2.061254093597605, 2.0987347978321895, 2.1215799738301824, 2.139481313122442, 2.156558310549659, 2.074281906067853, 2.019136258764228, 2.0318163971637926, 2.0057834706896953, 1.9281320171417857, 1.9158349845653302, 1.9296788345836464, 1.9386259056924209, 1.9477855673157527, 1.9631186581782367, 2.024769353778879, 2.202215445277745, 2.2208913005331987, 2.1204893402008103, 2.128147581315077, 2.1790292386626486, 2.116342717924669, 2.061399695955232, 2.05291988108158, 2.14442681069157, 2.3692490305323304, 2.4024795853391527, 2.359072920511269, 2.2899167832286973, 2.2071847485555343, 2.068745694751242, 1.9986937984776436, 2.0996117337047404, 2.069299869504035, 1.9405663477588926, 1.9184525052758237, 1.9389868666702637, 1.9930684541588357, 2.019460680747381, 1.8797189564202907, 1.7903019465823204, 1.7679832642805373, 1.7964227818139649, 1.862930949223801, 1.9425200767325246, 2.0242888106365973, 2.1221219689180786, 2.172225788575666, 2.1030059848629543, 2.0613188672700096, 2.0563418132963767, 2.036900853636967, 2.0116745531517, 2.14839295247879, 2.275887470131275, 2.1860967660294337, 2.0948683078486687, 2.0000468485234237, 1.9974857971683595, 2.0641201901962143, 2.0453635062555384, 1.9924500593547705, 2.065265632317621, 2.0713095142119644, 1.9104238916244756, 1.891834401265561, 2.0629736408325443, 2.003513624049885, 1.8518136832789154, 1.8498455601558608, 1.879760478005165, 1.9512434849041076, 1.9859439038154902, 1.9286856382734465, 1.9271028354580275, 1.9672763528770112, 1.9958249337733764, 2.01972365078492, 2.0167457227177157, 2.0182582156494133, 2.046712680953396, 2.0330022536278105, 1.9630716003820459, 2.00021902469537, 2.1176747303674452, 2.1119430907913586, 2.085680411547622, 2.0960497353436334, 2.0900567865934025, 2.0431589869092637, 2.0347710731434674, 2.077729304854706, 2.0850132980839704, 2.0780277066446713, 2.052278787811116, 2.010892840113795, 1.8944502611126592, 1.8265951334894917, 1.8802094647429421, 1.9218882780189124, 1.9546155912170546, 2.0014320085948394, 2.05059688681313, 2.072323194504036, 2.118080534656953, 2.223915732775463, 2.2410209648803945, 2.139819575633887, 2.155034745195328, 2.2168155417619104, 2.105199985407727, 1.6849794016317285, 1.7955392024878338, 1.8643055904937154, 2.012635639436264, 1.7384752579630036, 1.5643896467333203, 1.6996481471362195, 1.5936141990314432, 1.5499290627743336, 1.542402583489402, 1.7793396945542999, 1.5849051850092835, 1.5427059678695518, 1.6011777709321964, 1.8036287144636651, 2.1169970981022925, 1.8223687897703915, 1.7023514791221206, 1.6076961061363735, 1.5606405244297112, 1.6395957557426828, 1.540661445030328, 1.7908522459871916, 1.9243756977634656, 1.8888869223605975, 2.1936608915513185, 2.3583017262748647, 2.4166655732168354, 2.4679657681399423, 2.4819236641113807, 2.462016001837981, 2.4052515663453797, -12.920870866954665, -11.066212394833586, 4.1504071003506935, 4.509355665380107, 4.3724811448938885, 6.71252805144105, 1.6158099774419976, 1.8474710791221665, 2.3279998272545295, 3.1724054757303506, 5.904624305039037, 7.393702384594536, 9.354632308285872, 11.176142715148748, 10.477583571218842, 6.296474020301933, 4.3555497498242985, 3.4261615967751116, 7.972752442075032, 11.886618000316522, 18.316152374975218, 24.682573940624554, 24.048352769268373, 18.68183352658676, 14.83535694697558, 7.290573286567584, 1.6160508026342704, -1.6580889293389343, 1.7773582845240854, 1.8383097566354394, 3.893428904319666, 6.511047052132253, 5.098121773721257, 3.08552460429652, 1.981557009968208, -3.347871277755511, -2.6121934978111288, -3.2339819994135963, -3.4812303040556816, -1.6229317729939314, -2.299168359274131, -1.6338630222385786, -2.2151397439106177, 1.730422284981862, 4.006232531622394, 4.5232388224987705, 3.5222818512752343, 1.6146080659651616, 2.1904399238073142, 2.8702744938221794, 7.074785609974401, 16.715682402002727, 20.872221139854258, 20.913182460143595, 23.844378260382573, 20.40416436857595, 20.46794650553349, 18.175166110344154, 16.247962785993607, 13.378509582463124, 14.808139271279726, 16.83444963613571, 16.024555621765373, 16.204977426846916, 16.907387559368658, 13.559034914696287, 13.318282246791982, 11.478212245111303, 11.364525592103575, 2.2698529997961696, 4.751864973135174, 4.530533334529536, 4.172875260358026, 4.9829696855780234, 4.477029173881287, 2.5005247805140605, -2.0077405347043626, -4.51341427521056, -3.6337163868336098, 5.084215918136193, 9.934106993174355, 11.805941560905218, 10.40421493074546, 6.920014179164977, 7.135760334173285, 8.041470665042459, 7.467330673378664, 8.462249852540305, 6.969881048978213, 7.737220975063422, 8.676812919190255, 5.890268355473934, 5.516334927273852, 6.609370165115252, 7.502374891012808, 5.0280621267518155, 4.342750582881427, 6.085321259823017, 6.129069508889135, 5.942491990444652, 5.6573217455260485, 4.977364271619954, 2.5632367678240966, -1.6364257344570377, 2.2824700253867247, -1.642472938078171, -2.7785998303235417, -2.9117949847687403, -3.6250649494091425, 1.7470430985965897, 3.3950868426549774, 3.8480164701317734, 4.27943847026467, 3.998831170713217, 2.235332507752577, 2.349668558347742, 1.5689238038016242, 1.937952148775189, 1.8676239955568916, -1.7412682898864795, -1.7566799949496594, -1.5965843897170504, -1.6362651843288558, -1.7688192455035912, 2.13759069695782, 2.6928959441013762, 3.388358685041901, 4.1335498905127475, 4.4374258862279135, 4.532454399856399, 4.685980183119588, 4.339175851234291, 3.6595145646336364, 3.1030572319150935, 2.386747333640741, 2.472635008764372, 1.853689351672983, 1.563460670474393, 1.722013887234194, 1.6768395101329163, 2.88448982361984, 3.4500043980523585, 4.161973353033356, 4.677163212976754, 4.977084139327335, 4.890846022027362, 3.8525639141072374, 2.4194270354215606, -1.6086339536476533, -2.0903961696613567, -2.478367768896968, -3.086494561833436, -3.4996409747890698, -3.716856993901938, -4.149942625535476, -4.175286293700656, -3.5168596992259915, -3.205777217239993, -2.0528772655686875, 1.6256417351191665, 1.5736417630856392, 2.557710521687856, 3.1620726909290293, 3.1149218863877213, 3.134024029914554, 1.946375494293412, 1.7468033806465804, 1.8119147619412357, 2.0551626002859384, 2.4402509406678585, 2.689506121912215, 2.4507005395279613, -1.9151927973668494, -2.275826031499906, -1.922321223058117, 2.3219138701541793, 4.164236556219587, 5.802792894944699, 6.416629736233119, 7.084013920618059, 7.478604060482678, 9.181499479023778, 8.349809954321078, 5.018906894097535, 2.932236324498815, 2.6599493969350956, 2.918397457070684, 3.0213300195958954, 2.839359736209095, 3.679887822278763, 5.946676812578878, 8.262724243068533, 9.98041407911101, 10.767053791467056, 13.060091066861485, 12.791747582618585, 12.33914126988268, 11.896897637489205, 9.945229241709425, 7.169190192587505, 4.4006693184335415, 2.525901665947139, -1.6220891616315432, -2.0686338765968926, -2.7569488151065413, -3.10612043095082, -3.2671677109087542, -3.252063265573646, -3.2472290458519817, -3.0328968392139357, -3.1174165165212315, -3.9695883622319945, -4.694973771717667, -5.010603144057998, -5.001888593824521, -4.79678082248221, -4.987577487571083, -5.153563068023434, -5.260455682503417, -5.421365110799567, -5.622903133084927, -5.639819026762831, -5.398939579619374, -5.142436944140442, -4.609949745559427, -4.019235444455962, -3.4980775487132587, -3.0431991748530156, -2.4345968213644507, -1.9921627433016844, -2.1188716725683423, -2.2059972445423677, -2.4680239116730127, -2.6435328828321962, -2.274808475859914, -2.063303058720128, -1.9953504937777886, -2.1356879144425465, -2.527587455607293, -2.933018604472098, -2.96020970635363, -2.650234466630953, -2.0294956306941154, 2.1831393219441004, 2.6692601971273713, 2.7142529864974643, 1.792254568313689, 1.977789064546123, 2.8475361667025973, 3.5030136214089027, 4.040119127470234, 4.683049312848574, 4.759998774801537, 4.786045541803927, 4.864973645681446, 5.06576981565038, 5.074126173011672, 4.960462772091475, 4.5795027844883505, 3.3143290209373175, 2.2933459125182063, -1.6648829678666786, -1.6504550475544602, -1.6288571799660994, -1.7539788774482852, -1.6616553566690946, 1.6741013000157206, 2.668917505646873, 3.4719034355363423, 3.933436889020282, 4.317483868053548, 4.0825287206399965, 3.784940753738236, 3.9497736949944686, 3.9824893821488465, 3.2378639774745572, 1.9636634213717912, -1.7638277973805352, -2.6576048247567567, -3.1298497398960756, -3.4507695157705593, -3.649137503456028, -3.477013925516951, -3.408597979687411, -3.3287608299117033, -3.2144757124606507, -3.123142619886002, -2.8168567113847147, -2.483964324916929, -2.230239206655541, 1.6926171587641246, 2.0703821988164326, 2.6144395254280313, 3.250315470346746, 3.8095719115069677, 4.67307250643491, 5.557317285166192, 6.281762645970304, 6.2871250202515725, 5.889254675181863, 5.427877896478182, 5.096883876870863, 5.17104862453157, 3.9729488291869313, 2.523336185623022, 1.7172056877057178, -1.7644317980351776, -1.912781223717334, -1.6868047038170608, -1.986126612103184, -2.358104096845108, -2.3388469394014098, -2.367718281417533, -2.198341217912627, -2.0054169868147818, -1.9518740726873152, -2.1628779090818155, -2.524344896639154, -2.7491510614670958, -2.350188421904618, -2.3535832266839636, -2.4161667738914545, -2.477712281477081, -2.5684441415027464, -2.676271822074104, -2.8350675248895727, -2.994885212314088, -2.7758898548840607, -2.626020739195494, -2.6777870831114603, -2.9615334144794314, -3.1768239392963835, -2.819645301024891, -2.0896371550898496, 2.1891926153976824, 2.4177711546167626, 2.412781367357101, 2.436536142874413, 2.564876039994945, 3.0162034879167137, 4.021738352277956, 5.022792760820666, 5.7255001878901055, 5.41290521297241, 5.21411370512122, 4.998947745058892, 4.701254036520983, 3.2295325330641904, 2.828083580999423, 2.683736282478044, 2.1118705664231108, 1.786607079149615, 2.5488177054499843, 3.063286197058827, 2.663166489331178, 3.9816124462762947, 5.029317739478421, 5.753264287642907, 7.041914355282027, 9.099261828021186, 11.464198433405567, 14.05059234939247, 16.529948048541765, 18.08461473080741, 18.459375268978196, 17.754095718131055, 13.972483051168677, 11.246365680352028, 8.998480637213612, 6.89067890264052, 5.447979879768794, 4.656626637097787, 4.140727588484732, 3.0921907563428506, 1.8875687504461123, -1.6129184275855781, -1.9186795032540507, -1.6022180383528333, -1.9307805539498977, -1.8578044308588657, -2.1163200327725167, -2.429909311242676, -2.6503673357025526, -2.5347330435536417, -2.254306778112242, -2.490751166369962, -3.0403574375841993, -3.0194261298383585, -3.338074398209637, -3.747607879660051, -4.1498258114766955, -4.2338433544175755, -4.192970613509304, -3.9592007689386386, -3.5348429744457373, -3.2011611242442033, -2.8904102613160694, -2.7067680421116527, -2.8179667217536952, -2.7221780863114375, -2.241252391827674, 2.0300304153930537, 2.5390490605818252, 3.2906052482033785, 2.9389390155398356, 2.159445998372403, 1.7519431992329215, 2.624133985064548, 3.3526523365342906, 4.226450284511128, 5.213576692623508, 5.526869230167097, 5.570327381760228, 5.461678127429484, 5.294132442628112, 4.850008159250383, 4.613606953440934, 4.570337033032572, 4.8021703108846845, 3.2331510007807274, 2.169805356988044, -2.366525227878803, -3.5024406368518797, -2.0961632409898696, -1.9192192838574202, -2.865045001926755, -3.1088387107072752, -3.283939663092425, -3.40228503792308, -3.3693966209756243, -2.7915578865312, -2.7132963424961996, -3.038374920311721, -3.63479982338827, -3.4604335262448345, -3.5926271800628586, -3.2546470153951077, -2.600351541804899, -2.2667615927112204, -2.1842415949314837, -2.158357038920671, -1.9733396248252089, -1.7513059946246259, -1.7528013253012422, -1.9331915739782817, -1.960963424426926, -1.6906080809915722, 2.682469043707672, 3.837203695809302, 4.718549714295207, 6.220353329183067, 6.716744983600913, 6.656455642363026, 6.256208048153963, 5.7366556536930755, 5.223123889039004, 6.358911965151796, 8.003326169071014, 9.279037003620951, 8.843640003762728, 6.301702418269339, 5.284208783843087, 4.441815548180855, 3.3755656079314775, 2.0256640055276436, -2.0839885586835116, -3.2644488775311666, -3.9274212551178995, -3.9141830666176207, -3.4810166062988603, -3.134613649734019, -3.1284468639484464, -3.0550820988229885, -2.902845145554308, -2.7836466405597635, -2.721067522321326, -2.3278603280435965, -1.7813548887877921, -1.9666779017479317, -2.43611983309765, -2.728808806605342, -2.8304735767390494, -3.41770670816663, -3.6989816748028668, -3.5577507096316077, -3.0561516948493574, -2.534364885501087, -2.4241455616409535, 1.5570237175765698, 1.5615683934463755, 1.9992950310266275, 2.2414594328166695, 1.604474584771238, 1.6360426153196823, 1.5680535113826528, -7.613142866728665, -5.884363999419015, -3.511295806852798, 2.431373072200542, 2.8530269810864115, 1.7285012196549983, -1.7350206754156843, -1.9897583667268806, 1.75589550049185, 2.1283446704379485, -2.7407753273661957, -4.864253951524532, -6.557970331702693, -6.474150985126947, -4.199995512048951, -2.7767557183339786, 1.645284766491632, 1.9780315506017905, 2.3234900295160186, 2.947537305335663, 3.5416275880999972, 3.6976147709145497, 3.2296521152286295, 2.3203648382277917, 2.88989593397051, 2.9682936688038986, 2.978828525318277, 2.8082141185841083, 2.722303744994079, 3.1369078423893764, 3.649717685087763, 4.4752531572909175, 4.896280367055747, 4.287530196725028, 2.097333582747955, 1.77835978515126, 2.8601570676410737, 2.6157654480383594, -2.0627350434390443, -4.588953664141182, -5.4664963054525755, -4.788556780571386, -3.026886728208623, -3.678753465894235, -2.8079533763453415, -2.3589904442768965, -2.563628744899558, -3.135494460954492, -2.0576732854322675, 1.5827693146833353, 2.272691415338196, 1.9294535107830604, 2.141807629117682, 3.2272482922749575, 4.972513443264339, 5.768001128546593, 4.773298415247431, 4.202573158723719, 4.509146950213471, 5.579191963320384, 6.196922422027777, 5.684809034713019, 4.287980290705068, 2.2828293255011727, -2.4568230489372467, -3.7041796236080318, -4.710333436394471, -5.5625407138576595, -6.757387985053789, -6.903732194997071, -6.759164555265291, -6.262705359069382, -5.552355192277361, -5.676821955960791, -5.478989319909639, -4.969433662223156, -4.096735759434928, -3.1635431219689667, -3.224468573887133, -3.293881037753663, -2.236305787016283, 2.1890287435427105, 4.104713426627918, 5.550881439510633, 5.868853736480153, 5.450606812038526, 5.320929366263902, 4.924521134602908, 4.403463444285036, 3.8997440605685236, 3.489809757418787, 2.9275593331785426, 2.719550033485197, 2.724502728129037, 2.699789634432819, 2.008188954506762, -1.8097479021461607, -1.8434473740514998, -1.6891265908432473, -2.6687780064359403, -3.3733062934074143, -4.712093951593153, -7.1149264770608625, -9.947548927565332, -8.901931339650698, -8.316996289540642, -7.460150220615267, -5.994969750829048, -4.5292434106070125, -3.0818203386188214, -2.1907798604964004, 1.6084805872799373, 2.3093527602979216, 3.456403151092096, 4.843656464006838, 5.849192989231475, 5.325633485019625, 5.916790129407288, 7.355640378171706, 8.559314031069908, 7.835689136782919, 5.893510360820942, 5.32766804267848, 4.773369278752283, 3.726889149114522, 3.246592921857457, 2.5520336906038033, -4.820739884197105, -6.512937127989988, -6.596894879848648, -5.831440587337878, -4.747418301519917, -5.62521394768848, -6.2328280874570305, -5.835805889961024, -4.897071504967136, -4.285115314662969, -4.538253040903664, -3.8705156462367243, -3.090083687629994, -2.2754241025583206, 2.7089653510689695, 3.922222185756225, 4.428868010774697, 4.745823305725357, 4.6771787143684405, 3.707771504196003, 2.4856118880905065, 1.6724631350871357, 2.0742641901916397, 3.1273329649172985, 4.011005299398444, 3.8521924343278924, 2.9116449401278146, 2.345659787733385, 2.4242728811869894, 2.3473981580868, 2.005542091876291, -1.647593379924904, -2.2272180961400667, -2.2448442857298914, -1.7950055250311585, -1.614399917733903, -1.6499014264227991, -1.690592579599886, -1.583203920585935, -4.788746118998414, -5.457923482228804, -4.745431908899517, -3.0071833521328064, 3.6739900963631777, 3.4550368141391563, 2.866708066492019, 3.1829215091262517, 3.0494739034450165, 1.6008527953279112, 2.1506445296212555, 1.7099997550560175, 5.222700922494415, 5.157298336484506, 4.931231576339772, 5.333432345901334, 6.47812043532671, 7.196734504751038, 6.544949149371779, 5.917766163462405, 6.4504825611919285, 5.731523032181445, 2.5128971055644214, 4.558105881370783, 3.5874330932913683, 2.714069184281753, 3.2900815226128266, 4.57083639929333, 4.828478387061219, 6.122450968260127, 6.858261063654976, 6.0767727959290365, 6.5357939167175, 9.809760365276494, 8.921862794318512, 8.636313872545854, 8.425254120417055, 9.625217958111996, 7.329333962858569, 3.8053034925818605, 1.9410297286460927, 1.596645828348419, 2.5245502767647543, 1.58487418222591, 2.284118709116812, -2.1859373364577612, 3.458097785376111, 2.4745721291040534, -2.9433906963737675, -3.1883580819534094, -2.9988967510341036, -3.555176371369384, -2.759275131101781, 2.9270488944951514, 5.167574651930398, 5.26089247626205, 6.661728883642097, 5.7854003334724355, 4.198582103985575, 2.0576583243474666, 2.9968223193395245, 3.5972227757625306, -2.0014923666124362, 2.714404125066408, 3.137748239267238, -3.1628865273068163, 1.9040279066903956, 2.6546036312877765, 4.646526373171763, 3.949444844042261, 1.5473303651823167, 4.112110912189173, 7.09228668118847, 11.3514518290794, 10.604826191256421, 8.360496503025532, 10.869246162539238, 10.150927726799218, 7.001230399179652, 5.1632802128121025, 6.290432352892116, 4.148818761323958, 6.315812560051985, 6.078298575767896, 8.335614554884156, 11.575185629775314, 4.390756178450019, -6.757216362502976, -12.090810095621313, -10.463355521449401, -7.029719202308044, -4.947305425590663, -3.4463881581345936, 1.7443608042136922, 2.6136937977636836, 2.8353039077985462, 2.6657546681216933, 2.1430250419862045, 2.9521068941563935, 3.104147311923334, 4.394130499247493, 5.414898249046389, 7.144749480488065, 7.660520088998575, 6.847891186237834, 6.670697545975005, 7.5424016988319025, 7.547807809182571, 5.50301923181514, 3.337721728234523, 1.9560461482212672, 4.019455218730985, 5.050475478267111, 3.5763783865343615, 2.682555408604211, 4.098746498070875, 4.206352176568437, 1.976228960197102, 2.352988070653182, -2.242732774733736, -3.7237268785247206, -5.284482839617506, -5.440384764777783, -3.228074861938773, -1.8600859035424409, -4.736425600329655, -7.298591948352808, -8.814445360319962, -10.753389328009646, -9.71320054891208, -7.546065023174348, -6.951587759238983, -5.486318156450567, -3.9779198066423618, -2.417777257763457, -2.5206179191808116, 2.2712154614011877, 3.0340035145418796, 3.607352381608533, 4.238188713365737, 3.541117149416605, 2.5704903118911195, 3.7021638757534086, 3.3065644845657713, 4.179243010614392, 4.118893324673152, 3.9072854876240104, 3.733043201614066, 3.393803548871787, 3.2032820334853502, 2.5393740361861106, 1.8646682123349534, 3.498487768657574, 4.0129291328309655, 4.0808468196420105, 5.5118926713134035, 6.935926911352309, 7.570885506055863, 4.741619106851522, 3.222645486186327, 1.676264851398252, -2.76197790946655, -5.51883564723981, -7.736566054578914, -8.449968888290915, -7.841752408731116, -3.4923104773847453, 2.2704066209278304, -3.262892094908936, -1.8742021351575344, 1.6108046887906502, -2.109282954567973, -2.766845346456114, 1.940327183430015, -1.6106275433427646, 2.760085619124287, 5.503183103670112, 5.110887169775097, 4.707666076467882, 4.992899987816627, -2.8537256642688136, -4.909287155237236, -4.896273183295281, -4.349629338756561, -3.9105801002927705, -4.290485993261212, -5.0394794686643065, -5.771911921534892, -4.593354952137887, -3.9803712410133567, 1.5726795695588125, 1.5647971118862227, 1.6053000338785446, 2.1300110700442483, 2.3237983964863536, 2.065213591931245, 2.0885620095379176, 2.0959600487203045, 2.0500770365705003, 1.9554482373990734, 1.8294933401137372, 1.8817994646330731, 1.904505681727019, 1.796858481644582, 1.677359360375546, 1.6607009005238649, 1.58082444364781, 1.541344059885666, -1.6049568020911604, -1.897569929503815, -1.743359316900763, -1.7598898902710303, -3.7964527648642417, -5.292854698370485, -6.838580399359804, -7.052819597647731, -7.400820304798548, -7.368372016650761, -6.9071519127273415, -6.129147029161814, -5.227522975865429, -6.225715716778581, -6.913726163665816, -6.174924299675471, -6.107138928314892, -5.694012999341131, -5.044478667483206, -4.451435835899974, -5.363076556331502, -6.754475384280123, -7.840584821764445, -7.836026858987479, -7.2934371819959125, -6.275843895765961, -4.801168269950624, -3.5724216696206255, -2.7731544128725236, -2.0271183815547626, -1.7454968480901063, -1.7291013582759647, 1.9541123496083748, 1.626921153554435, 1.8030130877652581, 2.3892253418260556, 2.6708490897752384, 2.5345348338742615, 1.8340075668213014, -1.9152426232686988, -1.908591972614055, -1.6390177885954746, -2.199409153075601, -2.5026656467444393, -2.3615487275263023, -1.9381165875655384, -1.8630904054239652, -2.15966303117026, -3.1179989259517393, -3.202317638788243, -2.791449930410526, -3.342545996090063, -4.623071673622057, -6.252546964924533, -8.024966125179628, -7.8630230862306645, -6.9876235123199315, -6.262947291503917, -5.111247036824922, -4.305909877989288, -4.057284717592762, -4.5458913516571915, -5.421125946470689, -6.648033971022443, -6.59160558355676, -6.321471134952939, -5.8577541997257265, -5.194217682205831, -4.083136056335675, -2.883139554993965, -3.1636073420202395, -3.218632299917162, -2.928515450187167, -2.0009891250037564, -1.6480634042656845, -3.380005662721645, -4.217556374345239, -3.633533691860161, -5.515618001222597, -6.6802812946994345, -6.340359027101818, 3.888843260486117, 6.087049664996061, 2.8365988276255014, 3.0336918258447545, 3.1025423642626486, 3.059628975863075, 2.923220604369715, 2.78915681836894, 2.6751075435199754, 2.608747746573424, 2.5012444879852196, 2.4096251732855016, 2.398860564001484, 2.3448448574275798, 2.2916097566493168, 2.2490268800653443, 2.1737427104764175, 2.074914695021341, 1.9519604242696085, 1.9307678073496235, 1.8889118353115224, 1.8331118078302742, 1.786629223994881, 1.7088947272772226, 1.6109779722048603, 1.5515938015172384, 1.5827599031240966, 1.5469782621425803, 1.6669230484226039, 1.6404782278265506, -3.989690899143739, -1.5749533048607902, 2.746209105459203, 4.934084386031221, 5.757202194752411, 4.822944390229135, 5.427754992586952, 6.78112392413838, 8.420458654174608, 7.968589764786074, 7.167898040866209, 5.327443272499025, 3.734902261374184, 3.8845371953240577, 5.229022722196852, 5.567084822792087, 3.794914792046241, 1.8251623620007533, -2.2846623783823485, -3.189319168237973, -3.8481997320405994, -3.0212004855653327, -3.0653728084183034, -4.112234936636911, -4.958415494460838, -5.590321422244411, -5.864298555123092, -6.805901251200117, -7.6827125589965855, -7.087085977591891, -6.690203292621065, -5.777378930210044, -4.476810506848525, -2.262316568645114, 3.6641400691886643, 5.083007916826911, 4.340418177053739, 3.7392282568969835, 2.805876730166235, 3.0395912126237348, 3.682680840887993, 4.1629848188409015, 4.727664532606874, 4.1853068228694745, 3.146716901600147, -2.095684358710983, -2.4308111600661526, 2.3566558106504365, 4.970477778363222, 8.171847887927504, 9.815677467931689, 10.43749420421187, 10.629240883162673, 9.636833483075378, 8.020854921341666, 10.175923167272583, 14.17412515422679, 12.819919701145423, 11.022616378264427, 12.400391697405132, 13.9243728212062, 9.833905443691627, 10.134469677797197, 10.77087100916986, 10.442819485877319, 11.110642138198534, 13.000081857916218, 15.243190811551795, 12.391064288578907, 7.998890002943015, 4.41956330041487, -1.8550080905228459, -2.3390877645936823, -3.209503641077203, -3.020583751624662, -1.9799482002738467, -2.5420048571180094, -3.2348877235849938, -3.0944069150471356, -1.9459863119521001, -2.516732606078815, -2.8274530198447074, -3.9040340840320105, -4.16805876982682, -5.103668517153615, -4.458239285986956, -3.01949976144887, -2.668110892972289, -1.8937444074840373, 6.292394386182722, 8.806048575301812, 10.226968142853993, 10.778095764938035, 10.295344781583186, 8.024591863980378, 4.8584182178614475, -1.7383850310327886, -3.5599906607303082, -4.7784122269548295, -2.425227890953351, 3.116640880001529, 3.983414483059852, 4.510707608183623, 4.740071735788531, 5.758904026111138, 6.143622547577109, 3.5665970083801737, -3.069419225269615, -5.375750051277487, -5.7762174330758205, -5.690018069255064, -4.411202527398771, -1.9041779513313213, 2.3110390902649613, 3.28131327112958, 4.144018866112457, 5.246268574069224, 5.163567542179434, -2.6075491701376237, -2.8298230719093476, -2.4272690920657847, -2.131495895233609, -2.1169472855146885, -1.9598517531945507, -1.6818951916214906, 1.8580845498372405, 1.7486862461153598, 1.8686803046761011, 2.268952811836089, 2.5499731127517613, 2.5674647724065918, 2.3574585612913452, 2.0036813712527786, 1.6537485263524658, -1.6845021935304827, -1.7771423855969832, -1.7314420684206275, -1.8055326308496933, 1.5727897401640132, 2.385887006402139, 3.2578402887682834, 3.0556689239083035, 2.369090694888675, 1.5661673241870835, 1.7134809247319025, 2.0025292856777916, 2.202862628380657, 2.24387598905637, 1.7281900845790048, -1.6791553206409002, -1.6975366494543103, 1.6350787609294604, 1.628964015530264, 1.659852199329029, 2.0502359258352874, 2.459792105752099, 2.2723398659195913, 2.042453119966396, 1.8318600704515886, 1.9279842002996321, 1.573221011025577, 1.757334361813037, 2.2578975514579493, 2.802432653106172, 3.061289285636926, 2.9828372959326344, 2.5967524375137243, 1.8827622117810314, 1.6992711311455584, 2.1000717928651507, 2.57588645706142, 2.603047663401842, 2.6806703286509053, 2.650309192169482, 2.2995270924532014, 2.5049814306239315, 2.609707171994593, 2.5896777130722275, 2.27439269307579, 2.4159425440188858, 2.5841642002220158, 2.3622302218251314, 2.1757595522590587, 1.9433366679017248, 1.641763182473136, -2.276853552320269, -3.1136319624651967, -3.5189844971293063, -3.634847434805593, -3.4605962908575427, -3.433683106784105, -3.2821138206002076, -2.9861839489877715, -2.385050498186445, -1.83359513239246, -1.5827792931779507, -1.9896448743948898, -2.5101638913516564, -3.0392369084137174, -3.476042320430886, -3.678936714488815, -3.7567420747113265, -3.7197408063767607, -3.366272536929661, -3.2011865908162593, -3.13434071451611, -2.809219507873451, -2.514850847852299, -2.1709358646531416, -1.6724033573191623, 2.1138137765952414, 2.516861586488246, 2.5295981942432397, 1.893813596811249, 1.5855086320427938, 2.0783388417206647, 2.441366487248156, 2.625349183448544, 2.548821027176775, 2.0030231157272333, -1.6007044381788722, -2.8535274679036786, -2.595104874340147, -1.6250925562708043, -1.568361891667234, -1.5836839101070848, -1.8178147156555937, -2.00161360964027, -1.8354414588665495, -1.7123150119428703, -1.7275728103314485, -1.7366621620710594, -1.9995092957188263, -2.167886519459953, -2.2086147652528605, -2.1347030224493215, -1.956078271561149, -1.9080222964695759, -1.827216863334593, -1.777838840980613, -1.73381931755998, -1.734420550108964, -1.8010017955081792, -1.700156938270462, -1.7945393760383, -1.7721686533501406, -1.6529651657654112, -1.6309797633848877, -1.6123919338893684, -1.6011545321589125, -1.5816709436723655, -1.5879384885039, -1.6289374550301903, -2.0152686748526896, 1.9988283284126374, 2.202802283677306, 2.479900732496291, 2.740967974205768, 2.7303417702046655, 2.343581494005129, 1.6747208020620494, -1.6345605848644718, -2.593470031138352, -3.1833500251964035, -3.2910343178946615, -2.755789532456843, -2.2803701537485805, -2.047317248543416, -2.39525428926409, -2.690276775841734, -2.9316589109727387, -2.9781918743311127, -2.900425267587817, -2.6569244243859456, -2.791336991699667, -2.856320486512909, -2.5902678865128244, -2.304555646506325, -2.0109803255668433, 1.919054845067071, 2.5871205370650854, 2.7762629822125544, 2.732941021417814, 2.5966328553492852, 2.9705662835493674, 3.4074071273189626, 3.9281260015042587, 4.583374257062057, 5.24567675307948, 5.869559603423021, 5.83995249892292, 5.320229035532351, 5.144926565055276, 5.069910348094073, 5.128608582199567, 4.989344079287967, 4.754319729232958, 4.142696265228919, 3.0284944306607207, -1.5763152128446765, -1.590754205579528, 1.9166122686341824, 2.2635843477223716, 2.530754155166148, 2.7716812137269278, 3.0466797775935226, 2.541336069476717, 2.051274519078283, 2.596274662477101, 3.0672241041683326, 4.150443639345384, 5.3779645224898855, 6.001846819212296, 6.492626416218494, 6.883578711626968, 6.145760632387584, 5.777908178697667, 6.334967297586325, 6.992046378226527, 7.561477268544414, 7.36497055510359, 7.386452162254303, 7.571425286659232, 7.8899423468223056, 8.159059793407266, 8.30467543794128, 8.713916053813044, 9.186044708514714, 9.402804543815094, 9.162034160034574, 8.578116111943382, 8.798240856481998, 9.369228529422115, 10.48235633899489, 11.035225653159138, 11.411705738564862, 12.07446940098496, 12.670587597954567, 13.216720450188763, 13.967355412247233, 14.492945045148883, 14.370713249973967, 13.589505114540648, 12.730456187132393, 12.985902513492114, 12.052829458190592, 9.535064078547785, 8.803489738431276, 8.872639785881399, 10.19935684253353, 10.860019512758974, 10.927516447509957, 9.034542410487747, 7.198320075672115, 5.437766677131911, 4.071114713768541, 3.289950314404624, 3.808377750725975, 3.4584199928747372, 2.7611081573544647, 2.2856478106824594, 1.8375130958269794, 2.044592865640266, 2.6118701697559925, 3.07125280514343, 3.3867769894687454, 2.4183491350782162, 2.280904938447519, 3.095970881429832, 3.8136559745952314, 4.401499196509902, 3.8214526209924133, 3.0485831270441737, 2.2802754712208206, 1.6146966453462275, 1.6428743000843795, 2.3648239368269635, 2.951026225707391, 2.6127996996360516, 2.360024595236594, 2.171337780280482, 2.581203434409892, 3.207518896005952, 4.1224337318101245, 4.8567484965283585, 5.543199392687704, 6.37591477734737, 6.796026851381564, 6.906685196799105, 7.391134689785892, 8.262899740967269, 9.651085905488861, 10.640610046722465, 11.278840542314134, 10.766092151561361, 9.85029761177898, 8.632218737034956, 8.015638703039155, 7.287683937881445, 6.281290960766128, 5.6703351638468735, 5.194950663269904, 4.58394891579672, 4.515012566103419, 4.852625126339747, 4.586806708078355, 4.798898409996568, 6.205767626848325, 8.135431797129105, 10.246702521713184, 12.192902247954414, 13.600400932032871, 14.603873557678675, 15.676808473092859, 16.56934317464963, 16.981935966473607, 17.706421187999197, 18.238595590640823, 16.868357269586554, 15.822198240205156, 15.208144933054255, 15.190270167576315, 15.150227858365536, 14.806361593825965, 13.534289157353303, 12.07240660864839, 11.699355652532175, 11.430775218444927, 11.301488629189254, 10.045445738962707, 8.778446686540589, 7.953539020700736, 8.156630503881537, 8.795987618476136, 9.585739235213248, 9.870686924436924, 9.777030837593825, 8.552134672234528, 7.813180562432976, 7.722148639753951, 6.6613778878446235, 5.847579737253815, 5.363079311122914, 4.687097390563279, 3.6838899494395405, 2.24438255239184, 1.8536998704744847, 2.5666005698200687, 4.257040066519927, 5.522166772274769, 6.220208834067702, 7.179080080483499, 8.28936061657614, 9.601519098328982, 9.01322855053993, 8.607144128739764, 8.444001392798492, 7.876490460565207, 7.872730265838965, 8.29178326264829, 9.879217672454688, 10.731627575252066, 11.032768682576826, 10.655169175242888, 10.08068261675067, 9.348677559393726, 8.557554623113491, 7.015025530538382, 5.2658601186764455, 3.7515081272183566, 3.1197511235192006, 2.502133049901535, 1.7072344175033711, 1.7415456407591956, 2.0445513440553915, -1.7297341472294532, 28.006522412192172, 30.04921331909174, 31.253053611950573, 31.35054906134174, 31.95673541221174, 31.580261970259592, 31.108620502153784, 30.707164353014306, 29.503121434821285, 26.928617086257933, 24.596686819122056, 23.64238848325378, 22.710184613128966, 22.24726323146795, 21.358221325630826, 19.84917357823518, 18.61863767440765, 18.53943774255449, 17.97588298692805, 15.624279792878596, 13.890018969123238, 10.833239197757134, 9.036088674308477, 7.6133803568799, 4.831167324897695, 2.0359668947878555, -1.9714102551813704, 2.5634144802073595, 3.1015087536098376, 3.6017286981531207, 4.879735953157189, 5.050982041602582, 3.834557386799962, 4.679954017101456, 5.650323974421852, 5.984594877507473, 7.191814473753966, 8.952357907113798, 10.098143273622128, 10.538651303767844, 9.999566048539693, 9.119656123269317, 9.497414519868045, 10.802782838441065, 11.238082400980115, 10.6265940205322, 10.017939626657261, 9.904102942322853, 9.1399446768813, 7.542526263586524, 9.058027572513941, 8.88942170324544, 8.26058006842561, 8.031217048062965, 8.037795727970494, 8.173540307726993, 7.220713496826671, 8.51550931264836, 9.024659719666467, 6.839716416607726, 4.80698127851882, 5.359494060674278, 7.3235104221746266, 7.24945639874025, 7.817316112286483, 7.481559843704616, 5.653548263892646, 3.8654250866168547, 2.510555288177495, 1.7828203106090532, 3.027577080445558, 5.351746686557813, 5.514160303468688, 3.5415373478555363, 1.541247176187625, 2.773347613333227, 3.007196072104589, 2.332929269810839, 1.6545368828439513, 1.8737830306466208, 3.2246075194769337, 6.6575894584406665, 11.36355011166959, 14.541293885819105, 15.422508142475674, 14.160568633575805, 11.56679826963065, 10.63646563893085, 10.856052817350623, 11.047965582640924, 8.823503142340822, 1.8139238530280337, 1.7603095217745834, 1.7576167085901844, 1.7653873347941786, 1.798507165374669, 1.8437634784034325, 1.770911920067024, 1.7741816064706144, 1.7759410144270333, 1.7812419367626877, 1.785193130779352, 1.7779993777945486, 1.7630504999974372, 1.7598300858745648, 1.7533051072168078, 1.7437462847575482, 1.7415954666610454, 1.7426224338602765, 1.7402141819375507, -1.698739114552278, -1.6736141267341047, -1.6302190879499856, -1.7135296567057345, -1.8592859210071908, -1.9178739845074837, -2.171955634777661, -2.7843652407886594, -3.0282087754710294, -2.977242414090314, -2.9922887292065976, -3.0293957391773105, -2.9471525519634043, -2.9327500982232424, -2.9926092758418297, -3.0736234241434484, -3.049551977338826, -2.99749553594987, -3.02508579866733, -3.0897498540876027, -3.092950891470867, -3.119773281678713, -3.110708289268895, -3.0245388209892483, -2.98186404329742, -3.1367373403950705, -3.0243234623690323, -2.930897128295573, -2.850456531486355, -2.738430188252479, -2.5607427179402094, -2.5733569754251064, -2.4960266221335594, -2.492083178812738, -2.5079228330106926, -2.4574774291148698, -2.3813224134858397, -2.317261805099077, -2.2699471287027975, -2.2273969157655933, -2.1823299411638577, -2.172423444633915, -2.096282269533177, -2.063664573319103, -2.029724829842623, -1.9545292396347613, -1.9697593569667569, -1.9382156857481057, -1.8398421932421232, -1.7398665211811137, -1.6890335824931282, -1.5916671268256373, -1.5876688750127812, -1.6672214635268148, -1.7825484959476536, -1.8620567947711542, -1.8678150081615605, -1.8077775645385787, -1.8241902166078021, -1.716439489373745, -1.7750037471653768, -1.6957838849514713, -1.737015372353059, -1.6815585899734409, -1.633983158024149, -1.7086865790459635, -1.6520046331019793, -1.6970090485158373, -1.6706976506125144, -1.7064278048287864, -1.6163464496328233, -1.6725240467258642, -1.6329617270362342, -1.5823463614529918, -1.5865998326075437, -1.6315798886916084, -1.5942885228840524, -1.6306193560281765, -1.5946721823282934, -1.5994820427201646, -1.5745857004293673, -1.580880926317485, -1.6014003399413699, -1.5981804794396295, -1.5681941444643406, -1.5852047073557578, -1.5762908535148834, -1.6120376163651051, -1.6451557860822006, -1.6142078112012166, -1.5899304173356164, -1.631820713883881, -1.586334648085478, -1.573216041749638, -1.8141934798333985, -1.7290736772193815, -1.7280926605740783, -1.7183815923036116, -1.6652439288445215, -1.7680596773109523, -1.7739064700824245, -1.8005212523658973, -1.7568067741888098, -1.6944131190294784, -1.7722040851025667, -1.7539235153351191, -1.7892041291924825, -1.859149730208802, -1.7761093285653038, -1.7149375152435484, -1.7762045513999494, -1.7292940184297825, -1.7158786711673724, -1.8623701443316742, -1.754043097499558, -1.7466744002371495, -1.805863142665295, -1.7413878720509182, -1.809548044917631, -1.7672585875334386, -1.7631335564814323, -1.7197230163056265, -1.8960070570491359, -1.8067843682283788, -1.7783919084911424, -1.7814750245733626, -1.6775935554284844, -1.815114151775351, -1.8945255669008112, -1.8159955166169555, -1.8019584528236896, -1.8871192234014498, -1.8545120459888775, -1.889821448145087, -1.9011324814860537, -1.817797553400512, -1.805763490861596, -1.836299571620624, -1.9319082801950915, -1.8638920488226105, -1.8137118294488535, -1.8174133403351393, -1.7330985028465575, -1.786240595274701, -1.8270884232320477, -1.7812552369840933, -1.8338963022880834, -1.8886809886138656, -1.8623457850018812, -1.8026598907975042, -1.7664779817377967, -1.9287836425279965, -1.942984024555102, -1.9398610477514022, -1.8911634257682335, -1.8691387162873623, -1.7839779457096023, -1.782116117843826, -1.8055437032723265, -1.8952054136504908, -1.8989877532219992, -1.8433062006629262, -1.8833130781212801, -1.8406239062800287, -1.7743067381606155, -1.8426678754981212, -1.8523988741293271, -1.9012946924776306, -1.8706788902756433, -1.8891382796686176, -1.8748648196521323, -1.8169161885589076, -1.8081861369337449, -1.8646128635360333, -1.9002760295953744, -1.904699462437346, -1.8666944789910789, -1.899810987844779, -1.8509976590450932, -1.876186866914539, -1.9511936723165038, -1.9021356429766236, -1.909321645265584, -1.927123332754145, -1.8978484009330407, -1.8216424521598982, -1.837160452480357, -1.854080221506182, -1.9151330062846301, -1.8681366620390558, -1.910306537258809, -1.9547789227651409, -1.8821333114897103, -1.878587921762553, -1.852577693754854, -1.9091837936038005, -1.9572801830379851, -1.9410026145248873, -1.8870948640716567, -1.7405474751730565, -1.8814700733739804, -1.8657344999487786, -1.9290477198077989, -1.8971674469410975, -1.9322520789178528, -1.9067816315135233, -1.8693978109769793, -1.778655432149813, -1.8200801333263508, -1.8871159016746597, -1.8861326705448296, -1.9467087875289177, -1.9892994148087333, -1.8373802400696266, -1.8982115763954102, -1.9119264326900494, -1.894806252814563, -1.7461938570948676, -1.9485905457554336, -1.9787141787713745, -2.0031344068889427, -2.023539220938574, -2.0189148236258094, -2.0098238110228035, -1.9758436532037118, -2.036852148291627, -2.0273232213734773, -2.0257780647950114, -2.0334097320949587, -2.064903023790629, -2.07335571122883, 1.8421563162582206, -1.969176393915118, -2.494789832525429, -2.1088970806392053, 2.6143863777993923, 3.6378768363237968, 3.665523014775554, 2.982854458187716, 2.0755845765906513, 2.2627959912308864, 3.1864004643176105, 3.336095742970835, 3.599325982441711, 4.689433671738889, 5.962359791996572, 6.99142078634775, 7.023326525786508, 5.024325184113104, 4.256074551266311, 3.548296508251986, 2.9313898377885055, 3.5049081129214468, 5.108379819669803, 6.747351374243662, 6.17872932439913, 5.014289693859483, 3.6152237668584895, 2.3076393028954305, 1.6768406173751793, 2.0841446665283945, 2.5455757001029773, 3.17511157582191, 4.239376230693151, 5.240958793795463, 5.052827260834407, 4.5451871322634725, 4.174126997736711, 3.9127547107836893, 4.507166647425519, 5.646892077026686, 6.009643465609479, 4.642023772507963, 2.845788938411075, 2.380952027634513, 3.0874240783992493, 4.865484084364837, 7.356192892061105, 10.41638296959824, 13.98675927929082, 15.742436936524484, 17.45149692636663, 19.101879719706286, 20.503473480794444, 20.844204588865416, 19.466954656178658, 19.12623849587824, 19.003923103912445, 19.40335632143683, 22.024269068603935, 25.121968638674502, 27.061982756011687, 29.55044054018662, 30.133994859194313, 28.358371339829162, 26.231552719383515, 23.05287277190036, 19.551315997842302, 17.46572831117711, 16.69666551613017, 16.600369210110184, 15.3868671212616, 14.258628776521267, 14.103429950198201, 14.744222050766066, 14.547456242635624, 14.674543295135207, 15.000605657701689, 18.30605764726051, 22.78324211852635, 26.50902043349732, 28.95120600986689, 30.56298812342261, 31.718490094412722, 31.58655221355753, 33.835047347183036, 36.36684923699797, 39.12255655005964, 40.770517250948274, 39.57611232303635, 36.217371531449494, 36.31399502755829, 35.74014070439843, 36.45342949215731, 38.41894450606107, 38.60620463936088, 38.70503874464841, 40.07729889007551, 39.65875356384391, 40.52552938138677, 40.25228081391735, 41.556442792044486, 45.371044081379154, 46.726424872123026, 45.355987247461364, 41.764528491453994, 33.95564928174634, 30.01469338066928, 27.921460186175846, 26.21336626520845, 23.850061181299075, 22.441654004943565, 22.006861005739985, 21.1516619596813, 19.32143146637363, 18.77951277819364, 20.941357346776087, 21.863191339483762, 22.661853488334955, 22.684928970723718, 21.95993884672605, 20.627804607300618, 18.132718317316307, 14.940551605444758, 13.448149030993633, 11.979149129020087, 9.677713974679493, 8.025276693320244, 7.2808467169054305, 6.242744535853097, 4.103176574366427, 3.1670586028407683, 2.4408737644409775, 2.5464443316585537, 3.0200129549236734, 7.390504115316928, 11.946731290034544, 16.055686291619807, 19.609464486164057, 22.22428906174628, 26.139794999400884, 28.96785062919028, 31.723659254919042, 32.47640406711027, 31.173503237921064, 29.240429868711516, 27.942807263391565, 29.4974999658504, 25.350381645175215, 22.107696451418466, 18.901111230793937, 17.09106853205229, 16.28962665149902, 16.25134651835032, 17.93703483849826, 17.05516287993728, 16.54310817646248, 14.716210482367412, 13.481906079496667, 12.317591567332775, 11.927268185529867, 12.94011970676714, 14.47562943701392, 17.399833555981154, 16.565483328119694, 16.46665697352801, 16.438061334835457, 15.786938110329663, 14.535007517869094, 13.533172503530743, 14.123655944622305, 17.524273745850266, 16.577060099603855, 13.39057686226994, 10.432646697583047, 8.395919397513733, 6.900091569121022, 5.457917932703242, 4.4363275019026975, 5.743935771574418, 10.416461030177805, 14.020828016490977, 16.03713389387671, 19.12041550881543, 23.053290755854764, 27.18928405988922, 32.18746034055827, 31.83900621770062, 28.165412784221154, 22.17155111274425, 16.775818390187144, 13.21187294355994, 12.239029960644414, 13.033138022066566, 14.203167011551464, 21.378742953739234, 24.257933245733373, 24.515890797546312, 23.946310983144006, 24.386109824620064, 26.401077599730574, 28.788735923600587, 28.79711940839733, 26.336451744168386, 23.679828219524623, 23.47715305943483, 20.576779562079945, 16.666248463914453, 13.99501155587936, 12.825862270372673, 12.690164748412366, 13.925574732683037, 15.974937327840252, 21.219627257909668, 26.287326173050445, -1.6806572947710967, -1.6943655076121555, -1.6103141937822443, -1.5781654146666877, -1.5801601116040624, -1.576716034543999, -1.5715701261252097, -1.6478951034416593, -1.6327818001684447, -1.5771965776862809, -1.6561612205584906, -1.7057468508368436, -1.6200064389342343, -1.686604846588531, -1.7292547113294348, -1.6342826670563777, -1.6872448326167315, -1.6392696862103804, -1.673288597508688, -1.6683032392180805, -1.694966186540008, -1.7975139823787147, -1.8206808122542029, -1.6813985934663906, -1.6884672280754391, -2.947085010185342, -4.108502422967252, -4.774489821237011, -4.77630957389678, -4.4477747393563, -3.871472857173366, -2.7732280444830346, -2.0490013640259286, -1.8234660801675893, 1.6365497322762839, 1.8801302969211147, 2.1050549366712317, 2.315988463182011, 1.6303596944031815, 1.9188937413177578, 1.941571723733989, 1.947757332638038, 2.308536169128722, 2.51929585860416, 2.6175409110075964, 2.573963177250029, 2.7833648340895025, 3.3300723450583627, 3.7012703312469077, 4.000342556402651, 4.2878806389013695, 4.504209203340184, 4.667129383586529, 4.607880296455033, 4.59733104579123, 4.651715464038822, 4.197395693900425, 3.5024273366304737, 2.5844587266640593, 1.7906928031012732, 1.5492935057151869, 2.0606440031105144, 2.6220385290812107, 2.788934262674012, 2.791059614198459, 2.6696073175769226, 2.5694262520760667, 2.280740512971416, 1.6471764898985175, 1.5498869875683272, -1.9583708166673575, -1.9681549629272033, -1.9485916529976968, -1.913910057204791, -1.9748914248572547, -1.8967295326259537, -1.8777076641632118, -1.8575636056665932, -1.9132673030709324, -2.02476106277615, -2.0012515414201637, -2.063525614415056, -2.093999135986207, -2.0825364104551647, -2.004016878972811, -1.979227385560424, -1.9087198590954686, -1.8333747911820588, -1.827208559017618, -1.764814903858287, -1.813872933198167, -1.7859604629820804, -1.7268115812754146, -1.6127180167359167, -1.6152203842510247, -1.5729032458102494, -1.5761236599331219, -1.610795290545658, -1.7230076504797713, -1.5771567169648013, -1.6268713409668312, -1.8965130667634742, -1.7244481726643537, -2.2451371513085396, -1.6409504799661034, -1.9088615861051736, -1.6366261453066988, -1.7136957430452326, -1.6118294548196008, -1.6564972685854087, -1.6415035474766326, -1.6049080834315743, -1.5856138333720553, -1.6091615545861262, -1.6684626821039987, -1.7637109833217548, -1.7124340404861773, -1.6856437603039676, -1.6403259953295897, -1.6824233461810953, -1.6393898219959508, -1.5772762991292402, -1.6333581197665037, -1.5987341005712905, -1.5854709991200866, -1.6359053305932763, -1.585253426015344, -1.6332379839809334, -1.6478231326945434, -1.5990939543068703, -1.6109165335734916, -1.5742009337428629, -1.5975792468906456, -1.5980614508963222, -1.6159611293251872, -1.5926542333033888, -1.6283356688600745, -1.590179546844864, -1.5739601085505903, -1.6799481061014387, -1.5837403794625142, -1.574553590403731, -1.5943366879225067, -1.5919134882292265, -1.5703482842876337, -1.588450034429555, -1.585045818090971, -1.6256926815775248, -1.6445955214969594, -1.604508368974515, -1.674711403817057, -1.6274476605648907, -1.6786753311197502, -1.5925335438966866, -1.6273147914932917, -1.620887250154707, -1.6622161748754671, -1.6911694528190766, -1.61091597995236, -1.6226898405593952, -1.7037039888610142, -1.6253328278419452, -1.6449553752325394, -1.6543265201281658, -1.59533763492855, -1.6623961017432571, -1.6384038227604623, -1.6580114223805016, -1.5921974958697684, -1.6086926374876092, -1.6061105485295422, -1.6613547403946027, -1.6533056427613828, -1.6675420101620464, -1.6545867220600465, -1.587440229485405, -1.7135158161774429, -1.6595128428895662, -1.5981572273520996, -1.61864508457148, -1.613458761810079, -1.6602940023063402, -1.6568499252462767, -1.620407260633557, -1.6445955214969594, -1.6497214995550091, -1.6703854082942577, -1.6195065190523443, -1.591933418589966, -1.5905316498846005, -1.5931347764456707, -1.6078323102490082, -1.6439555354687594, -1.589210709864457, -1.7380246236760775, -1.641671294679526, -1.7518402390166785, -1.785335424724435, -1.6693517976414467, -1.5726153628217858, -1.7541947896896333, -1.6846826740194043, -1.7104875085872568, 1.761380225043216, 1.8464657031470701, 1.7282017106227694, 1.638050045543085, -1.5728019331431553, -2.104453717436494, -1.6115161052590805, -1.65801086875937, -1.6229301121305364, -1.6419121198717985, -1.8107095420518557, -1.5751741996923232, -1.580340592092984, -1.5719903245641405, -1.5773964349148104, -1.7299749724217257, -1.6330613788399335, -1.6475585017936096, -1.620887250154707, -1.6123576093792054, -1.676295867495871, -1.7656364776176716, -1.796581130771866, -1.6480628506445527, -1.7691408993810862, -2.2832700212362207, -2.227500996538345, -2.079534123058167, -2.0525749884308007, -1.8552810257407546, -1.785575696295576, -1.745713313952586, -1.832742555849702, -1.8966332025490444, -1.7189224801492446, -1.7639030898544412, -1.7644794094525003, -1.7391052921250796, -1.7502070566782786, -1.7412682898864795, -1.700300326143562, -1.6148810144973165, -1.6034908133345223, -1.7017414019492758, -1.6445074957370254, -1.5702353455767748, -1.592774922710091, -1.7197623234059747, -1.626092949655716, -1.6881660581798155, -1.8754643913377214, -1.7744030682375245, -1.7319143072459344, -1.5973057580516048, -1.5843648640990282, -1.6569290930681042, -1.8264473299615842, -1.8110998449496767, -1.709122278876581, -1.5710641164108714, -1.5679654989369647, -1.5928945048745298, -1.6166830512808732, -1.571164321835702, -1.6107963977879212, -1.698739114552278, -1.7657776510062453, -1.7099111889891978, -1.7184264356152763, -1.7102715963459092, -1.7770875771049488, -1.7532652598095742, -1.6903595051034563, -1.6396810267112045, -1.5936330354641655, -1.5964133207873674, -1.6389081716114058, -1.6876401181047374, -1.7704961639113925, -1.7734652340404908, -1.7185615191714017, -1.6911700064402082, -1.6938478718540528, -1.6878920157196433, -1.6508198838802248, -1.682564519569669, -1.7488368443774176, -1.752303619903879, -1.7246203488363003, -1.6151041238133759, -1.5894111207141184, -1.5954173563715093, -1.6756890987355704, -1.7258565848232994, -1.7024029792016109, -1.617266567953644, -1.5710297919007086, -1.5870593381468225, -1.5801938824930937, -1.6020259318201469, -1.5683170483555693, -1.5834032241933327, -1.6677723165528175, -1.6310993455493266, -1.6131813976231169, -1.575744429457934, -1.586527308239296, -1.7660173689562546, -1.6002233414154585, -1.8164915611509238, -2.0060730278557997, -2.065046411663729, -2.009360430135603, -1.887048359896597, -1.8082719482091523, -1.7465027776863347, -1.679095529558681, -1.6144514044991474, -1.6388400762122113, -1.7232302061746994, -1.7706124243490415, -1.7195746458423413, -1.6530166525306556, -1.745438717871282, -1.6590771430589493, -1.5757139802956925, -1.6345838369520012, -1.6161333054971336, -1.5709605892592509, -1.5731573579096818, -1.5709091024940065, -1.5679654989369647, -1.5699303003332297, -1.568686867271519, -1.597237109031279, -1.5680081277641025, -1.5761956306802376, -1.5746333118466902, -1.5692266478748884, -1.5711836985753105, -1.5714195411773977, -1.570411397096643, -1.571809844075219, -1.5705481415161635, -1.6000733100887785, -1.636591820796536, -1.5706677236806021, -1.586304752544368, -1.6260530889342362, -1.5931796197573351, -1.5881405602169565, -1.5763606097774727, -1.6304477334773617, -1.6153311084773567, -1.6565692393325246, -1.5846815353863384, -1.5836136002233638, -1.5983011688463313, -1.638398286549146, -1.6345146343105437, -1.586698930790111, -1.5731573579096818, -1.5934780215473003, -1.6460570812845448, -1.6973318096355956, -1.6984296403396795, -1.650133393676965, -1.7666878041466962, -1.6726342173310649, -1.6578907329737997, -1.5740935312433206, -1.6121859868283903, -1.6518673350613273, -1.5749599483143701, -1.572095512579156, -1.5904923427842526, -1.5906119249486912, -1.9330808497519496, -2.4526337978339674, -2.8367582838256657, -2.8558094942083856, -2.6561703924046234, -2.4227609551906686, -1.9076596746283379, -1.6935721685304856, -1.7104969201464952, -2.0061959317470284, -2.128871177448404, -2.1072162868834825, -1.9900479105787392, -1.9607823903168733, -2.010503657772483, -1.9805693631835704, -1.8135612445010418, -1.7503814473347519, -1.9252548614347889, -1.8180079294305433, -1.841059052489514, -1.879427211398151, -1.5788386179627873, -1.7090857398818913, -1.6222690884993332, -1.6161870067469049, -1.5864675171570766, -1.5693772328227003, -1.6215482737859106, -1.7429950341961302, -1.8386114934664406, -1.9237451366087492, -1.7495576590908402, -1.6215183782448006, -1.732197761265345, -1.7098513979069785, -1.712509886581215, -1.7700416409622988, -1.5767514662964255, -1.587368812359421, -1.6782877963275873, -1.625423068086406, -1.6119374109402747, -1.5971446543022916, -1.5900117996419707, -1.7410617892043698, -1.9478171370345032, -2.1515458381378454, -2.6648140791332473, -2.857009744821827, -2.7016105076490984, -2.285676612295551, -1.8148799700366585, -1.8196444334957333, -1.970564322092192, -2.0181010005622677, -1.8349437534691861, -2.0573588286294835, -2.1372513405183575, -2.2435737252327295, -2.083052385349873, -1.812871432570992, -1.6391191012625685, -1.6544665862744758, -1.8754145654358718, -1.8249470166947825, -1.6572391209018345, -1.6816338824473467, -1.7241226434389367, -1.7418988643554412, -2.2092148905595814, -2.139610320160365, -1.8895230463551218, -1.831853993933386, -1.6434738850842143, -1.6688535386229515, -1.765604921213167, -1.8475618863020047, -1.890448700887259, -2.053358915953233, -1.9446050272286057, -1.7747867276817655, -1.889054129256605, -1.8511083832714255, -1.7062921676515297, -1.6262933605053773, -1.8890436104551036, -1.833220884507457, -2.031713436947549, -1.7955408766654748, -1.7867836976048606, -1.7695013067377976, -1.8311691645935213, -1.7382660024894816, -1.6730627200869705, -1.8025696505530435, -1.7747352409165211, -1.7273618806802857, -1.8396284954853022, -1.9994782929354535, -1.722165592738515, -1.9426252780617856, -1.8894305916261347, -1.6604307467258606, -1.7799536737035582, -1.7028575021507044, -1.662050088535969, -1.8428201213093278, -1.862970269638395, -1.7618718539223768, -1.7940776560144946, -1.8421408281807798, -1.8425289165940741, -1.8434169248892585, -1.6398698115171009, -1.888139547147101, -2.1122636507408363, -1.8904824717762907, -1.7952413676332462, -2.1018932197025615, -1.7199726994360056, -1.699733418104741, -1.6604733755529983, -1.6298121764182147, -1.7377240074015854, -1.805577474161358, -1.7494375233052697, -1.7418689688143316, -1.8228737055567121, -1.8048400508139852, -1.8013832404678938, -1.6906889096767947, -1.9607619063350015, -1.872355255062313, -1.7713725461628118, -1.7939243029610246, -1.8937554799066705, -1.68296478764786, -1.6354840249120821, -1.7000766632063713, -1.5990668268714188, -1.6754316649093481, -1.6790014139662985, -1.8149746392501724, -1.6631772611600308, -1.5766756202013879, -1.6393206193544931, -1.8649848969365095, -1.5753901119336708, -1.574839258907668, -1.6033474254614217, -1.6215183782448006, -1.680065473781351, -1.7761685660263917, -1.6321805676194607, -1.6091659835551795, -1.5844855535057303, -1.6143141064584954, -1.6226892869382639, -1.6500968546822754, -1.5799713267981659, -1.720723409690538, -1.6468205248251053, -1.5816316365720176, -1.6871451808130327, -1.658285464840674, -1.5785075525260543, -1.5727116928986948, -1.6495111235249782, -1.6321805676194607, -1.5908217473575907, -1.577365985752569, -1.5764347950091153, -1.6319746205584829, -1.630919418681537, -1.655368435097952, -1.5732819226643056, -1.6906883560556631, -1.6385477642546944, -1.6109154263312282, -1.5803400384718522, -1.7184430442492262, -1.6863640213962587, -1.6295774410583903, -1.6602336576029892, -1.591152812794324, -1.6056300053872605, -1.6184247433610788, -1.5914135683473365, -1.6129582883070577, -1.6559685604046723, -1.6678221424546669, 1.6630250020345783, 1.8628285293144438, 1.7885691124402214, 1.9359115012838863, 1.9430714833796587, 1.7995618136304832, -1.627614854146652, -1.5818763371122115, -1.6737154394011988, -1.6250028696474754, -1.6070411856518643, -1.62665432148322, -1.5819449861325376, -1.6382781507635755, -1.6802880294762788, -1.6493300894149248, -1.5907658316232929, -1.5836440493856052, -1.7242084547143444, -1.6069952350979364, -1.7162783856244315, -1.6679223478794976, -1.676993430121764, -1.5773061946703495, -1.6554016523658517, -1.5951770848003681, -1.5874197455035337, -1.6147902206317242, -1.611311265440366, -1.695374758935174, -1.6564324949130043, -1.5996221088664746, -1.672668541841228, -1.6302279458880922, -1.583162952622192, -1.6340423954852368, -1.5955070429948381, -1.705617303492035, -2.048782130057791, -2.055673605904708, -1.890780873566256, -1.7129145836284592, -2.0898840701145702, -1.8474721996786756, -1.6597730448214472, -2.006114549440674, -1.8018189402985112, -2.151665420302284, -2.2835806026910825, -2.3821749900285982, -1.7275722567103167, -2.3008203647310075, -1.8057363634261445, -1.8558025368467794, -1.7087901061975843, -1.730214690371735, -1.710072292738511, -1.7365232031670124, -1.7223660035881763, -1.656449657168086, -1.669305293466387, -1.7725445620985383, -1.7763008814768586, -1.7072482713459083, -1.6814140948580774, -1.5980808276359306, -1.5855662219547324, -1.7995169836330642, -1.838581597925331, -2.052553397206666, -2.0533517188785213, -2.3104544796641733, -2.1830413443180423, -1.7467341913193688, -1.657610600681179, -1.7693213798700078, -1.9135518643326062, -2.121033009466347, -2.2322798541468436, -2.1055338322643644, -1.6088050225773363, -1.5710286846584454, -1.830573468255854, -2.049748752553671, -2.159751056930194, -1.8275279984105866, -1.741729456289153, -1.6280439105236892, -1.6838804769996274, -2.1001277219136942, -1.918234945485327, -1.9620634696155368, -2.0151175362837463, -1.7124340404861773, -1.7017818162918872, -1.9736679221562838, -2.009467832635145, -1.5730233815958201, -1.6925512911637026, -1.9180671982824335, -1.824476438732871, -1.605269598030549, -1.913643765440462, -1.7641173412323938, -1.7378319635222592, -1.752801878922374, -1.6157452170838393, -1.790309156971278, -1.6951106816553716, -1.598901294153052, -2.4573777773111707, -2.1109172441486366, -1.6491457335780817, -2.009278494208117, -2.3950428059917956, -2.2481715487311744, -2.0636856109221062, -2.2696448515649106, -2.076096135830552, -2.169389047211281, -1.6852827993261246, -1.8799127371306177, -1.647438366008039, -2.103008212661727, -1.9029361791330057]\n"
     ]
    }
   ],
   "source": [
    "merged_final_columns = merged_final.columns\n",
    "# Define the function to detect outliers\n",
    "def detect_outliers_iqr(merged_final_columns):\n",
    "    outliers = []\n",
    "    data = sorted(merged_final_columns)\n",
    "    q1 = np.percentile(data, 25)\n",
    "    q3 = np.percentile(data, 75)\n",
    "    IQR = q3 - q1\n",
    "    lwr_bound = q1 - (1.5 * IQR)\n",
    "    upr_bound = q3 + (1.5 * IQR)\n",
    "    for i in merged_final_columns:\n",
    "        if (i < lwr_bound or i > upr_bound):\n",
    "            outliers.append(i)\n",
    "    return outliers\n",
    "\n",
    "# Driver code\n",
    "sample_outliers = detect_outliers_iqr(merged_final['FRN_FURNACE_PRESSURE'])\n",
    "print(\"Outliers from IQR method: \", sample_outliers)"
   ]
  },
  {
   "cell_type": "code",
   "execution_count": 55,
   "metadata": {},
   "outputs": [
    {
     "data": {
      "text/plain": [
       "Text(0.5, 0, 'Sample')"
      ]
     },
     "execution_count": 55,
     "metadata": {},
     "output_type": "execute_result"
    },
    {
     "data": {
      "image/png": "[encoded data removed]",
      "text/plain": [
       "<Figure size 640x480 with 1 Axes>"
      ]
     },
     "metadata": {},
     "output_type": "display_data"
    }
   ],
   "source": [
    "# plot outliers using boxplot\n",
    "plt.boxplot(detect_outliers_iqr(merged_final['FRN_FURNACE_PRESSURE']))\n",
    "plt.title(\"Boxplot of the sample after treating the outliers\")\n",
    "plt.xlabel(\"Sample\")"
   ]
  },
  {
   "cell_type": "markdown",
   "metadata": {},
   "source": [
    "## 5. Normalization"
   ]
  },
  {
   "cell_type": "code",
   "execution_count": 16,
   "metadata": {},
   "outputs": [],
   "source": [
    "# Create a StandardScaler object\n",
    "scaler = StandardScaler()\n",
    "\n",
    "# Fit the scaler to your data and transform it\n",
    "# You might want to select only numeric columns for scaling\n",
    "numeric_cols = merged_final.select_dtypes(include=['float64', 'int64']).columns\n",
    "merged_final[numeric_cols] = scaler.fit_transform(merged_final[numeric_cols])"
   ]
  },
  {
   "cell_type": "markdown",
   "metadata": {},
   "source": [
    "'merged_final' now contains the normalized data"
   ]
  },
  {
   "cell_type": "markdown",
   "metadata": {},
   "source": [
    "## 6. Feature Selection"
   ]
  },
  {
   "cell_type": "markdown",
   "metadata": {},
   "source": [
    "The number of features is definetely too high. We should approach this problem by eliminating  redundant or irrelevant information, and focusing on the most important features that contribute to our target variable. \n",
    "We followed a simple strategy, i.e. we set a threshold for correlation (0.65) and deleted the features whose correlation exceeded this threshold."
   ]
  },
  {
   "cell_type": "code",
   "execution_count": 17,
   "metadata": {},
   "outputs": [],
   "source": [
    "# Assuming merged_final is your DataFrame\n",
    "numeric_data = merged_final.select_dtypes(include=[np.number])\n",
    "\n",
    "# Calculate the correlation matrix\n",
    "corr_matrix = numeric_data.corr().abs()\n",
    "\n",
    "# Select upper triangle of correlation matrix\n",
    "upper = corr_matrix.where(np.triu(np.ones(corr_matrix.shape), k=1).astype(bool))\n",
    "\n",
    "# Find index of feature columns with correlation greater than 0.90\n",
    "to_drop = [column for column in upper.columns if any(upper[column] > 0.65)]\n",
    "\n",
    "# Drop highly correlated features\n",
    "df_reduced = merged_final.drop(to_drop, axis=1)"
   ]
  },
  {
   "cell_type": "code",
   "execution_count": 18,
   "metadata": {},
   "outputs": [
    {
     "data": {
      "text/plain": [
       "(299384, 45)"
      ]
     },
     "execution_count": 18,
     "metadata": {},
     "output_type": "execute_result"
    }
   ],
   "source": [
    "df_reduced.shape"
   ]
  },
  {
   "cell_type": "code",
   "execution_count": 19,
   "metadata": {},
   "outputs": [
    {
     "name": "stdout",
     "output_type": "stream",
     "text": [
      "['COIL', 'DATE', 'TIME_START_PROCESS', 'SPEED_PROCESS', 'TEMP_Z1', 'PYRO_2_FRST_3_ZONE', 'LASER_FRN_1', 'LASER_FRN_2', 'LASER_FRN_8', 'LASER_FRN_9', 'AIR_CH4_1', 'AIR_CH4_2', 'AIR_CH4_3', 'AIR_CH4_4', 'AIR_CH4_5', 'AIR_CH4_6', 'AIR_Z1_1', 'FRN_FURNACE_PRESSURE', 'PRES_ZONA1_MEASURED', 'PRES_ZONA1_SET', 'PRES_ZONA3_MEASURED', 'EXT_1', 'TOUT_RAFF_H2O', 'N_RAMPE_H2O', 'ELET_TEMP', 'ELET_H2SO4', 'ELET_FE2', 'DEC_TEMP', 'DEC_H2SO4', 'DEC_FE2', 'DEC_FE3', 'SPZ2_R1', 'SPZ2_R3', 'SPZ1_R1_ASS', 'FILL_FORZA', 'FILL_TIRO', 'FILL_ALL', 'FILL_BENDING_POS', 'MT_ADJUSTED', 'DIF_TIPO_1', 'DIF_TIPO_2', 'DIF_TIPO_3', 'DIF_TIPO_4', 'DIF_TIPO_5', 'DIF_TIPO_6']\n"
     ]
    }
   ],
   "source": [
    "prod_columns = list(df_reduced.columns)\n",
    "print(prod_columns) "
   ]
  },
  {
   "cell_type": "markdown",
   "metadata": {},
   "source": [
    "## 5. ML Algorithm TBD"
   ]
  }
 ],
 "metadata": {
  "kernelspec": {
   "display_name": "base",
   "language": "python",
   "name": "python3"
  },
  "language_info": {
   "codemirror_mode": {
    "name": "ipython",
    "version": 3
   },
   "file_extension": ".py",
   "mimetype": "text/x-python",
   "name": "python",
   "nbconvert_exporter": "python",
   "pygments_lexer": "ipython3",
   "version": "3.11.5"
  }
 },
 "nbformat": 4,
 "nbformat_minor": 2
}
